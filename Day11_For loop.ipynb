{
 "cells": [
  {
   "cell_type": "markdown",
   "id": "b7a241ce-a202-402f-af17-ca5f8a06c2f9",
   "metadata": {},
   "source": [
    "- for loop\n",
    "- While loop"
   ]
  },
  {
   "cell_type": "markdown",
   "id": "307dce6d-9ee5-47f7-807a-2273797464f6",
   "metadata": {},
   "source": [
    "## Looping, repating something\n"
   ]
  },
  {
   "cell_type": "markdown",
   "id": "50d9fe6a-e26e-4627-99ba-9d7798c2471d",
   "metadata": {},
   "source": [
    "- string ,list,tuple,set dict====> literable object\n",
    "- ordered===> string,list tuple\n",
    "- unordered set ===> set"
   ]
  },
  {
   "cell_type": "code",
   "execution_count": null,
   "id": "93aa46a7-0ff6-439d-95e3-a48df8432396",
   "metadata": {},
   "outputs": [],
   "source": [
    "a=123 #we can apply for the loop\n"
   ]
  },
  {
   "cell_type": "markdown",
   "id": "ace39e16-e8f1-4366-94ec-998aca3fb2d9",
   "metadata": {},
   "source": [
    "# For loop: limit"
   ]
  },
  {
   "cell_type": "markdown",
   "id": "3f1cffdc-13a2-43b8-8f1f-c97883511cda",
   "metadata": {},
   "source": [
    "## print first 20 numbers"
   ]
  },
  {
   "cell_type": "code",
   "execution_count": 6,
   "id": "03220d2b-c31f-41f6-9a03-848ea6ff7a2f",
   "metadata": {},
   "outputs": [
    {
     "name": "stdout",
     "output_type": "stream",
     "text": [
      "1\n",
      "2\n",
      "3\n",
      "4\n",
      "5\n",
      "6\n",
      "7\n",
      "8\n",
      "9\n",
      "10\n",
      "11\n",
      "12\n",
      "13\n",
      "14\n",
      "15\n",
      "16\n",
      "17\n",
      "18\n",
      "19\n",
      "20\n"
     ]
    }
   ],
   "source": [
    "#syntax\n",
    "#if conditition\n",
    "#   statment\n",
    "# syntax of for looop\n",
    "# for variablein range (start,stop,step): #vslicing: l[start:stop:step]\n",
    "\n",
    "\n",
    "\n",
    "for num in range (1,21):\n",
    "    print(num)#first for loop num=1\n",
    "\n",
    "    \n",
    "\n"
   ]
  },
  {
   "cell_type": "code",
   "execution_count": 8,
   "id": "e96bb9b8-261f-4498-8a4f-e7ed1e0af8c1",
   "metadata": {},
   "outputs": [
    {
     "name": "stdout",
     "output_type": "stream",
     "text": [
      "[1, 2, 3, 4, 5, 6, 7, 8, 9, 10, 11, 12, 13, 14, 15, 16, 17, 18, 19]\n"
     ]
    }
   ],
   "source": [
    "#initilization\n",
    "list1=[]\n",
    "for num in range (1,20):\n",
    "   # print(num)\n",
    "    list1.append(num)\n",
    "print(list1)\n",
    "\n",
    "    \n"
   ]
  },
  {
   "cell_type": "code",
   "execution_count": 9,
   "id": "bf1bd55c-0c2a-4fa2-981b-9bab0a5075f7",
   "metadata": {},
   "outputs": [
    {
     "name": "stdout",
     "output_type": "stream",
     "text": [
      "[0, 3, 6, 9, 12, 15, 18]\n"
     ]
    }
   ],
   "source": [
    "#initilization\n",
    "list1=[]\n",
    "for num in range (0,21,3):\n",
    "   # print(num)\n",
    "    list1.append(num)\n",
    "print(list1)\n"
   ]
  },
  {
   "cell_type": "code",
   "execution_count": 11,
   "id": "ed28256d-2b72-40f2-b538-d8ef3029e004",
   "metadata": {},
   "outputs": [
    {
     "data": {
      "text/plain": [
       "'pythonpythonpythonpythonpythonpythonpythonpythonpythonpythonpythonpythonpythonpythonpythonpythonpythonpythonpythonpythonpythonpythonpythonpythonpythonpythonpythonpythonpythonpythonpythonpythonpythonpythonpythonpythonpythonpythonpythonpythonpythonpythonpythonpythonpythonpythonpythonpythonpythonpythonpythonpythonpythonpythonpythonpythonpythonpythonpythonpythonpythonpythonpythonpythonpythonpythonpythonpythonpythonpythonpythonpythonpythonpythonpythonpythonpythonpythonpythonpythonpythonpythonpythonpythonpythonpythonpythonpythonpythonpythonpythonpythonpythonpythonpythonpythonpythonpythonpythonpython'"
      ]
     },
     "execution_count": 11,
     "metadata": {},
     "output_type": "execute_result"
    }
   ],
   "source": [
    "#repeat python word 100 times\n",
    "\"python\"*100"
   ]
  },
  {
   "cell_type": "code",
   "execution_count": 19,
   "id": "83c3c68c-96b1-4fa1-ab23-f3ddfc57281b",
   "metadata": {},
   "outputs": [
    {
     "name": "stdout",
     "output_type": "stream",
     "text": [
      "18\n",
      "pythonpythonpythonpython\n",
      "18\n",
      "pythonpythonpythonpython\n",
      "18\n",
      "pythonpythonpythonpython\n",
      "18\n",
      "pythonpythonpythonpython\n",
      "18\n",
      "pythonpythonpythonpython\n",
      "18\n",
      "pythonpythonpythonpython\n",
      "18\n",
      "pythonpythonpythonpython\n",
      "18\n",
      "pythonpythonpythonpython\n",
      "18\n",
      "pythonpythonpythonpython\n",
      "18\n",
      "pythonpythonpythonpython\n",
      "18\n",
      "pythonpythonpythonpython\n",
      "18\n",
      "pythonpythonpythonpython\n",
      "18\n",
      "pythonpythonpythonpython\n",
      "18\n",
      "pythonpythonpythonpython\n",
      "18\n",
      "pythonpythonpythonpython\n",
      "18\n",
      "pythonpythonpythonpython\n",
      "18\n",
      "pythonpythonpythonpython\n",
      "18\n",
      "pythonpythonpythonpython\n",
      "18\n",
      "pythonpythonpythonpython\n",
      "18\n",
      "pythonpythonpythonpython\n",
      "18\n",
      "pythonpythonpythonpython\n",
      "18\n",
      "pythonpythonpythonpython\n",
      "18\n",
      "pythonpythonpythonpython\n",
      "18\n",
      "pythonpythonpythonpython\n",
      "18\n",
      "pythonpythonpythonpython\n",
      "18\n",
      "pythonpythonpythonpython\n",
      "18\n",
      "pythonpythonpythonpython\n",
      "18\n",
      "pythonpythonpythonpython\n",
      "18\n",
      "pythonpythonpythonpython\n",
      "18\n",
      "pythonpythonpythonpython\n",
      "18\n",
      "pythonpythonpythonpython\n",
      "18\n",
      "pythonpythonpythonpython\n",
      "18\n",
      "pythonpythonpythonpython\n",
      "18\n",
      "pythonpythonpythonpython\n",
      "18\n",
      "pythonpythonpythonpython\n",
      "18\n",
      "pythonpythonpythonpython\n",
      "18\n",
      "pythonpythonpythonpython\n",
      "18\n",
      "pythonpythonpythonpython\n",
      "18\n",
      "pythonpythonpythonpython\n",
      "18\n",
      "pythonpythonpythonpython\n",
      "18\n",
      "pythonpythonpythonpython\n",
      "18\n",
      "pythonpythonpythonpython\n",
      "18\n",
      "pythonpythonpythonpython\n",
      "18\n",
      "pythonpythonpythonpython\n",
      "18\n",
      "pythonpythonpythonpython\n",
      "18\n",
      "pythonpythonpythonpython\n",
      "18\n",
      "pythonpythonpythonpython\n",
      "18\n",
      "pythonpythonpythonpython\n",
      "18\n",
      "pythonpythonpythonpython\n"
     ]
    }
   ],
   "source": [
    "for word in range(1,50):\n",
    "    print(num)\n",
    "    print(\"python\"*4)\n",
    "#first for loop\n",
    "#num=1\n",
    "#1\n",
    "#pythonpythonpythonpython"
   ]
  },
  {
   "cell_type": "code",
   "execution_count": 22,
   "id": "c8b63887-f8a2-43e8-8870-66b8e25b5eb8",
   "metadata": {},
   "outputs": [
    {
     "name": "stdout",
     "output_type": "stream",
     "text": [
      "data\n",
      "data\n",
      "data\n",
      "data\n",
      "data\n"
     ]
    }
   ],
   "source": [
    "for data in range(0,10,2):\n",
    "    print(\"data\")\n",
    "#result data "
   ]
  },
  {
   "cell_type": "markdown",
   "id": "ce2968a6-e684-4509-adf8-ee98e513faf3",
   "metadata": {},
   "source": [
    "# sum of first 10 numbers"
   ]
  },
  {
   "cell_type": "code",
   "execution_count": 30,
   "id": "a1be6c22-d76b-4ad2-ab70-ef4ceb45ba75",
   "metadata": {},
   "outputs": [
    {
     "name": "stdout",
     "output_type": "stream",
     "text": [
      "55\n"
     ]
    }
   ],
   "source": [
    "#initilization\n",
    "total=0\n",
    "for i in range (1,11):\n",
    "    total=total+i\n",
    "print(total)\n",
    "    \n",
    "    "
   ]
  },
  {
   "cell_type": "code",
   "execution_count": 32,
   "id": "ac408b5f-2bae-41b7-ba8e-e949e2ecc5d6",
   "metadata": {},
   "outputs": [
    {
     "data": {
      "text/plain": [
       "10"
      ]
     },
     "execution_count": 32,
     "metadata": {},
     "output_type": "execute_result"
    }
   ],
   "source": [
    "a=0\n",
    "a=a+10\n",
    "a"
   ]
  },
  {
   "cell_type": "code",
   "execution_count": 33,
   "id": "342900ad-bd8c-4129-87ed-132f11957062",
   "metadata": {},
   "outputs": [
    {
     "data": {
      "text/plain": [
       "10"
      ]
     },
     "execution_count": 33,
     "metadata": {},
     "output_type": "execute_result"
    }
   ],
   "source": [
    "a=0\n",
    "a+=10\n",
    "a"
   ]
  },
  {
   "cell_type": "code",
   "execution_count": 1,
   "id": "c4022bff-245c-44e1-8055-7d276b9cbe21",
   "metadata": {},
   "outputs": [
    {
     "data": {
      "text/plain": [
       "5"
      ]
     },
     "execution_count": 1,
     "metadata": {},
     "output_type": "execute_result"
    }
   ],
   "source": [
    "a=10\n",
    "a=a-5\n",
    "a"
   ]
  },
  {
   "cell_type": "code",
   "execution_count": 2,
   "id": "281c5340-e673-4f8f-b0b1-4f1fe6ff91ac",
   "metadata": {},
   "outputs": [
    {
     "data": {
      "text/plain": [
       "95"
      ]
     },
     "execution_count": 2,
     "metadata": {},
     "output_type": "execute_result"
    }
   ],
   "source": [
    "a=100\n",
    "a-=5\n",
    "a"
   ]
  },
  {
   "cell_type": "code",
   "execution_count": 22,
   "id": "05b5620d-c1b4-461c-82e8-7ab43a249078",
   "metadata": {},
   "outputs": [
    {
     "name": "stdin",
     "output_type": "stream",
     "text": [
      "enter a range: 101\n"
     ]
    },
    {
     "name": "stdout",
     "output_type": "stream",
     "text": [
      "5151\n"
     ]
    }
   ],
   "source": [
    "range1=int(input(\"enter a range:\")) #100\n",
    "total=0\n",
    "for i in range(1,range1+1):\n",
    "    #total=total+1\n",
    "    total+=i\n",
    "\n",
    "print(total)\n"
   ]
  },
  {
   "cell_type": "code",
   "execution_count": 23,
   "id": "c2611f63-b3c3-4edf-8458-955b67f6f34a",
   "metadata": {},
   "outputs": [
    {
     "name": "stdout",
     "output_type": "stream",
     "text": [
      "Aniket\n"
     ]
    }
   ],
   "source": [
    "print(\"Aniket\")"
   ]
  },
  {
   "cell_type": "code",
   "execution_count": 24,
   "id": "2715b318-6aba-4d29-a81c-9851d2882567",
   "metadata": {},
   "outputs": [
    {
     "name": "stdout",
     "output_type": "stream",
     "text": [
      "35\n"
     ]
    }
   ],
   "source": [
    "print(12+23)"
   ]
  },
  {
   "cell_type": "code",
   "execution_count": 26,
   "id": "580c58b7-c0f3-4011-8a1d-773518c6f580",
   "metadata": {},
   "outputs": [
    {
     "name": "stdout",
     "output_type": "stream",
     "text": [
      "10\n",
      "9\n",
      "8\n",
      "7\n",
      "6\n",
      "5\n",
      "4\n",
      "3\n",
      "2\n",
      "1\n"
     ]
    }
   ],
   "source": [
    "for i in range(10,0,-1):\n",
    "    print(i)\n"
   ]
  },
  {
   "cell_type": "code",
   "execution_count": 29,
   "id": "2e8239ac-f232-4640-b6cf-9830d8284cab",
   "metadata": {},
   "outputs": [
    {
     "name": "stdout",
     "output_type": "stream",
     "text": [
      "10\n",
      "8\n",
      "6\n",
      "4\n",
      "2\n"
     ]
    }
   ],
   "source": [
    "for i in range(10,0,-2):\n",
    "    print(i)\n"
   ]
  },
  {
   "cell_type": "code",
   "execution_count": 30,
   "id": "83c90fe3-e4db-4371-8488-48309393fb9a",
   "metadata": {},
   "outputs": [
    {
     "data": {
      "text/plain": [
       "55"
      ]
     },
     "execution_count": 30,
     "metadata": {},
     "output_type": "execute_result"
    }
   ],
   "source": [
    "#Multiplication of fitrst 100 numbers\n",
    "1+2+3+4+5+6+7+8+9+10"
   ]
  },
  {
   "cell_type": "code",
   "execution_count": 31,
   "id": "0bb08c79-3878-4290-8596-b58796807b4e",
   "metadata": {},
   "outputs": [
    {
     "data": {
      "text/plain": [
       "3628800"
      ]
     },
     "execution_count": 31,
     "metadata": {},
     "output_type": "execute_result"
    }
   ],
   "source": [
    "1*2*3*4*5*6*7*8*9*10"
   ]
  },
  {
   "cell_type": "code",
   "execution_count": 39,
   "id": "3fa7b2e4-47b9-43c0-b302-85646839f0e4",
   "metadata": {},
   "outputs": [
    {
     "data": {
      "text/plain": [
       "3628800"
      ]
     },
     "execution_count": 39,
     "metadata": {},
     "output_type": "execute_result"
    }
   ],
   "source": [
    "#initilization\n",
    "mult=1\n",
    "for i in range(1,11):\n",
    "    mult=mult*i\n",
    "#i=3\n",
    "#2*3\n",
    "mult"
   ]
  },
  {
   "cell_type": "code",
   "execution_count": 41,
   "id": "017a927d-87de-4bc3-8741-996edb2e08c7",
   "metadata": {},
   "outputs": [
    {
     "name": "stdin",
     "output_type": "stream",
     "text": [
      "plz enter your range: 50\n"
     ]
    },
    {
     "data": {
      "text/plain": [
       "30414093201713378043612608166064768844377641568960512000000000000"
      ]
     },
     "execution_count": 41,
     "metadata": {},
     "output_type": "execute_result"
    }
   ],
   "source": [
    "range1=int(input(\"plz enter your range:\"))\n",
    "mult=1\n",
    "for i in range(1,range1+1):\n",
    "    mult=mult*i\n",
    "#i=3\n",
    "#2*3\n",
    "mult"
   ]
  },
  {
   "cell_type": "markdown",
   "id": "d161929b-e218-434d-9022-34f5f9944fac",
   "metadata": {},
   "source": [
    "# calculate square and square root of first 10 numbers"
   ]
  },
  {
   "cell_type": "code",
   "execution_count": 48,
   "id": "6f66cb71-2f95-42eb-91c6-7b735563830d",
   "metadata": {},
   "outputs": [
    {
     "name": "stdout",
     "output_type": "stream",
     "text": [
      "[1, 4, 9, 16, 25, 36, 49, 64, 81, 100]\n",
      "[1.0, 1.4142135623730951, 1.7320508075688772, 2.0, 2.23606797749979, 2.449489742783178, 2.6457513110645907, 2.8284271247461903, 3.0, 3.1622776601683795]\n"
     ]
    }
   ],
   "source": [
    "square=[]\n",
    "squareroot=[]\n",
    "for i in range(1,11):\n",
    "    square.append(i**2)\n",
    "    squareroot.append(i**0.5)\n",
    "\n",
    "print(square)\n",
    "print(squareroot)"
   ]
  },
  {
   "cell_type": "markdown",
   "id": "846c3307-c70f-44e1-bb23-24ff862d66e3",
   "metadata": {},
   "source": [
    "# string,list,tuple,set,dict"
   ]
  },
  {
   "cell_type": "markdown",
   "id": "d3b92aac-59a6-477f-b65c-9f78f19c9564",
   "metadata": {},
   "source": [
    "### appling for loop on a list"
   ]
  },
  {
   "cell_type": "code",
   "execution_count": 52,
   "id": "4f763283-ab90-467b-a976-68493c7d4d4a",
   "metadata": {},
   "outputs": [
    {
     "name": "stdout",
     "output_type": "stream",
     "text": [
      "1\n",
      "9\n",
      "25\n",
      "49\n",
      "9604\n",
      "25\n",
      "4\n",
      "64\n",
      "81\n",
      "0\n",
      "36\n",
      "36\n"
     ]
    }
   ],
   "source": [
    "l=[1,3,5,7,98,5,2,8,9,0,6,6]\n",
    "#square\n",
    "for num in l:\n",
    "    print(num*num)"
   ]
  },
  {
   "cell_type": "code",
   "execution_count": 58,
   "id": "389b24a9-cb25-467f-9027-806ad3c7ba9b",
   "metadata": {},
   "outputs": [
    {
     "name": "stdout",
     "output_type": "stream",
     "text": [
      "[1.0, 4.0, 9.0, 16.0, 25.0, 36.0, 49.0, 64.0, 81.0, 100.0]\n",
      "[1.0, 1.4142135623730951, 1.7320508075688772, 2.0, 2.23606797749979, 2.449489742783178, 2.6457513110645907, 2.8284271247461903, 3.0, 3.1622776601683795]\n"
     ]
    }
   ],
   "source": [
    "import math\n",
    "#form math imput sqrt\n",
    "square=[]\n",
    "squareroot=[]\n",
    "for i in range(1,11):\n",
    "    square.append(math.pow(i,2))\n",
    "    squareroot.append(math.sqrt(i))\n",
    "\n",
    "print(square)\n",
    "print(squareroot)"
   ]
  },
  {
   "cell_type": "code",
   "execution_count": 64,
   "id": "294c28c6-1f07-49c9-be2a-5c006d97dcfd",
   "metadata": {},
   "outputs": [
    {
     "name": "stdout",
     "output_type": "stream",
     "text": [
      "[1, 9, 25, 49, 9604, 25, 4, 64, 81, 0, 36, 36]\n"
     ]
    }
   ],
   "source": [
    "l=[1,3,5,7,98,5,2,8,9,0,6,6]\n",
    "sqr=[]\n",
    "#square\n",
    "for num in l:\n",
    "    sqr.append(num*num)\n",
    "print(sqr)"
   ]
  },
  {
   "cell_type": "markdown",
   "id": "b707ff73-a8a7-4eb6-854e-d1217c787696",
   "metadata": {},
   "source": [
    "# Task"
   ]
  },
  {
   "cell_type": "code",
   "execution_count": null,
   "id": "56a7ce9f-e7b8-4ab4-bbb9-2d92b13ddbdb",
   "metadata": {},
   "outputs": [],
   "source": [
    "l=[1,3,5,7,98,5,2,8,9,0,6,6,0,1,2,3,5,9,8,6,7,17,13]\n",
    "#seprate even and odd\n",
    "l1=[1,4,3,4,6,6,,\"data\",\"python\",\"science\"]\n",
    "#seprate text data \n"
   ]
  },
  {
   "cell_type": "code",
   "execution_count": 67,
   "id": "37dd3584-8a6c-491d-ac65-d706ac38656f",
   "metadata": {},
   "outputs": [
    {
     "name": "stdout",
     "output_type": "stream",
     "text": [
      "[98, 2, 8, 0, 6, 6, 0, 2, 8, 6]\n",
      "[1, 3, 5, 7, 5, 9, 1, 3, 5, 9, 7, 17, 13]\n"
     ]
    }
   ],
   "source": [
    "l=[1,3,5,7,98,5,2,8,9,0,6,6,0,1,2,3,5,9,8,6,7,17,13]\n",
    "#seprate even and odd number\n",
    "even=[]\n",
    "odd=[]\n",
    "for num in l:\n",
    "    if num%2==0:\n",
    "        even.append(num)\n",
    "    else:\n",
    "        odd.append(num)\n",
    "print(even)\n",
    "print(odd)"
   ]
  },
  {
   "cell_type": "code",
   "execution_count": 73,
   "id": "5a48d70e-09c6-437d-8911-0799f591b572",
   "metadata": {},
   "outputs": [
    {
     "name": "stdout",
     "output_type": "stream",
     "text": [
      "data\n",
      "python\n",
      "science\n"
     ]
    }
   ],
   "source": [
    "l1=[1,4,3,4,6,6,\"data\",\"python\",\"science\"]\n",
    "#seprate text data \n",
    "for i in l1:\n",
    "    if type(i)==str:\n",
    "        print(i)\n",
    "       \n"
   ]
  },
  {
   "cell_type": "code",
   "execution_count": 79,
   "id": "66ffb35c-4ec0-4509-ae4a-dda9506921c8",
   "metadata": {},
   "outputs": [
    {
     "name": "stdout",
     "output_type": "stream",
     "text": [
      "data\n",
      "python\n",
      "science\n"
     ]
    }
   ],
   "source": [
    "l1=[1,4,3,4,6,6,\"data\",\"python\",\"science\"]\n",
    "#seprate text data \n",
    "for i in l1:\n",
    "    if str(i).isalpha()==True:\n",
    "        print(i)\n",
    "       \n"
   ]
  },
  {
   "cell_type": "code",
   "execution_count": 4,
   "id": "f31f9fde-826b-4cce-96b8-e27365cd12cc",
   "metadata": {},
   "outputs": [
    {
     "data": {
      "text/plain": [
       "True"
      ]
     },
     "execution_count": 4,
     "metadata": {},
     "output_type": "execute_result"
    }
   ],
   "source": [
    "\"data\".isalpha()"
   ]
  },
  {
   "cell_type": "code",
   "execution_count": 5,
   "id": "52ebc74e-d210-499a-80e8-192ce1c05af3",
   "metadata": {},
   "outputs": [
    {
     "data": {
      "text/plain": [
       "['data analysis']"
      ]
     },
     "execution_count": 5,
     "metadata": {},
     "output_type": "execute_result"
    }
   ],
   "source": [
    "s=\"data analysis\"\n",
    "s.split(\",\")  #string to list"
   ]
  },
  {
   "cell_type": "markdown",
   "id": "28f8d704-506f-4f52-b58c-b6d912a8ec22",
   "metadata": {},
   "source": [
    "# Homework"
   ]
  },
  {
   "cell_type": "code",
   "execution_count": 6,
   "id": "73e858d4-6814-48df-a666-cf06bd7421ee",
   "metadata": {},
   "outputs": [],
   "source": [
    "l=[-1.2,4,6,3,23,-5,-6,2,-5,-10]\n",
    "#seprate positive numbers and negative numbers \n",
    "#factorial of a given number using for lopp\n"
   ]
  },
  {
   "cell_type": "code",
   "execution_count": 25,
   "id": "a32153d5-f544-4951-9b82-9db82e72f0ea",
   "metadata": {},
   "outputs": [
    {
     "name": "stdout",
     "output_type": "stream",
     "text": [
      "[2, 4, 6, 3, 23, 2]\n",
      "[-1, -5, -6, -5, -10]\n"
     ]
    }
   ],
   "source": [
    "l=[-1,2,4,6,3,23,-5,-6,2,-5,-10]\n",
    "#seprate positive numbers and negative numbers \n",
    "positive=[]\n",
    "negative=[]\n",
    "\n",
    "for i in l:\n",
    "    if i > 0:\n",
    "        positive.append(i)\n",
    "    elif i==0:\n",
    "        print(\"0 is present in list which is nutral\")\n",
    "    else:\n",
    "        negative.append(i)\n",
    "print(positive)\n",
    "print(negative)\n",
    "\n",
    "\n",
    "    "
   ]
  },
  {
   "cell_type": "code",
   "execution_count": 26,
   "id": "d05bfff1-1620-4f8b-b224-567158b45bb0",
   "metadata": {},
   "outputs": [
    {
     "name": "stdout",
     "output_type": "stream",
     "text": [
      "40320\n"
     ]
    }
   ],
   "source": [
    "num=8\n",
    "factorial = 1\n",
    "for i in range(1,num+1):\n",
    "    factorial*=i\n",
    "print( factorial)"
   ]
  },
  {
   "cell_type": "code",
   "execution_count": 27,
   "id": "08b3bb9a-15d7-43c0-8f32-ad70e02db47d",
   "metadata": {},
   "outputs": [
    {
     "data": {
      "text/plain": [
       "40320"
      ]
     },
     "execution_count": 27,
     "metadata": {},
     "output_type": "execute_result"
    }
   ],
   "source": [
    "8*7*6*5*4*3*2*1"
   ]
  },
  {
   "cell_type": "code",
   "execution_count": 29,
   "id": "3bf63551-4724-4559-a781-27fe416e19df",
   "metadata": {},
   "outputs": [],
   "source": [
    "import math\n"
   ]
  },
  {
   "cell_type": "code",
   "execution_count": 30,
   "id": "ac1273c7-f304-4f46-a20d-d1e6bd237c26",
   "metadata": {},
   "outputs": [
    {
     "name": "stdout",
     "output_type": "stream",
     "text": [
      "['__doc__', '__loader__', '__name__', '__package__', '__spec__', 'acos', 'acosh', 'asin', 'asinh', 'atan', 'atan2', 'atanh', 'cbrt', 'ceil', 'comb', 'copysign', 'cos', 'cosh', 'degrees', 'dist', 'e', 'erf', 'erfc', 'exp', 'exp2', 'expm1', 'fabs', 'factorial', 'floor', 'fmod', 'frexp', 'fsum', 'gamma', 'gcd', 'hypot', 'inf', 'isclose', 'isfinite', 'isinf', 'isnan', 'isqrt', 'lcm', 'ldexp', 'lgamma', 'log', 'log10', 'log1p', 'log2', 'modf', 'nan', 'nextafter', 'perm', 'pi', 'pow', 'prod', 'radians', 'remainder', 'sin', 'sinh', 'sqrt', 'sumprod', 'tan', 'tanh', 'tau', 'trunc', 'ulp']\n"
     ]
    }
   ],
   "source": [
    "print(dir(math))"
   ]
  },
  {
   "cell_type": "code",
   "execution_count": 33,
   "id": "cfa4ad87-71c8-4738-b2d4-b1dab5a205d3",
   "metadata": {},
   "outputs": [
    {
     "data": {
      "text/plain": [
       "265252859812191058636308480000000"
      ]
     },
     "execution_count": 33,
     "metadata": {},
     "output_type": "execute_result"
    }
   ],
   "source": [
    "#from math import factorial<sqrt\n",
    "math.factorial(30)"
   ]
  },
  {
   "cell_type": "markdown",
   "id": "108e156d-690d-4e38-b09d-72f0753a48c0",
   "metadata": {},
   "source": [
    "## Table of a number"
   ]
  },
  {
   "cell_type": "code",
   "execution_count": 36,
   "id": "fa05dd69-1907-4c5a-81d9-a2a5e70f6c59",
   "metadata": {},
   "outputs": [
    {
     "name": "stdin",
     "output_type": "stream",
     "text": [
      "enter a number: 4\n"
     ]
    },
    {
     "name": "stdout",
     "output_type": "stream",
     "text": [
      "4\n",
      "8\n",
      "12\n",
      "16\n",
      "20\n",
      "24\n",
      "28\n",
      "32\n",
      "36\n",
      "40\n"
     ]
    }
   ],
   "source": [
    "#10\n",
    "num=int(input(\"enter a number:\"))\n",
    "for i in range (1,11):\n",
    "    print(num*i)\n",
    "#1st for loop :5 *1=5\n",
    "#2st for loop :5 *2=10\n",
    "\n",
    "\n"
   ]
  },
  {
   "cell_type": "code",
   "execution_count": 38,
   "id": "ee8f5727-420a-42d3-ba9b-746b59f85aa6",
   "metadata": {},
   "outputs": [
    {
     "name": "stdin",
     "output_type": "stream",
     "text": [
      "enter a number: 5\n"
     ]
    },
    {
     "name": "stdout",
     "output_type": "stream",
     "text": [
      "5 x 1 = 5\n",
      "5 x 2 = 10\n",
      "5 x 3 = 15\n",
      "5 x 4 = 20\n",
      "5 x 5 = 25\n",
      "5 x 6 = 30\n",
      "5 x 7 = 35\n",
      "5 x 8 = 40\n",
      "5 x 9 = 45\n",
      "5 x 10 = 50\n"
     ]
    }
   ],
   "source": [
    "#5  x  1=5\n",
    "#5  x  2=10\n",
    "num=int(input(\"enter a number:\"))\n",
    "for i in range (1,11):\n",
    "    print(num,\"x\",i,\"=\",num*i)\n"
   ]
  },
  {
   "cell_type": "markdown",
   "id": "c1534679-018f-4c10-9cf0-e04ac34d78e6",
   "metadata": {},
   "source": [
    "# f-string"
   ]
  },
  {
   "cell_type": "markdown",
   "id": "6cc6768e-8a9a-4047-bf5e-cec805707862",
   "metadata": {},
   "source": [
    "- formated string \n",
    "- output format\n",
    "- syntax : print(f\"student name is {variable}\")"
   ]
  },
  {
   "cell_type": "code",
   "execution_count": 43,
   "id": "0874a4b3-ecf4-4a38-bbc0-d08dce508294",
   "metadata": {},
   "outputs": [
    {
     "name": "stdin",
     "output_type": "stream",
     "text": [
      "enter your name: aniket\n",
      "enter your sirname: unde\n"
     ]
    },
    {
     "name": "stdout",
     "output_type": "stream",
     "text": [
      "student full name is : aniket unde\n",
      " student name is aniket unde\n"
     ]
    }
   ],
   "source": [
    "name=input(\"enter your name:\")\n",
    "sirname=input(\"enter your sirname:\")\n",
    "print(\"student full name is :\",name+\" \"+sirname)\n",
    "print(f\" student name is {name} {sirname}\")"
   ]
  },
  {
   "cell_type": "code",
   "execution_count": 46,
   "id": "36f4022f-9de4-4f21-afa2-0068386074ca",
   "metadata": {},
   "outputs": [
    {
     "name": "stdin",
     "output_type": "stream",
     "text": [
      "enter num: 5\n"
     ]
    },
    {
     "name": "stdout",
     "output_type": "stream",
     "text": [
      "5 * 1 = 5\n",
      "5 * 2 = 10\n",
      "5 * 3 = 15\n",
      "5 * 4 = 20\n",
      "5 * 5 = 25\n",
      "5 * 6 = 30\n",
      "5 * 7 = 35\n",
      "5 * 8 = 40\n",
      "5 * 9 = 45\n",
      "5 * 10 = 50\n"
     ]
    }
   ],
   "source": [
    "num=int(input(\"enter num:\"))\n",
    "for i in range(1,11):\n",
    "    #print(num,\"*\",i,\"=\",num*i)\n",
    "    print(f\"{num} * {i} = {num*i}\")"
   ]
  },
  {
   "cell_type": "markdown",
   "id": "74941829-bab8-4d54-a0af-99851911252f",
   "metadata": {},
   "source": [
    "## counting of element from list"
   ]
  },
  {
   "cell_type": "code",
   "execution_count": 50,
   "id": "cc689146-7d8f-441a-927b-73277606a731",
   "metadata": {},
   "outputs": [
    {
     "data": {
      "text/plain": [
       "2"
      ]
     },
     "execution_count": 50,
     "metadata": {},
     "output_type": "execute_result"
    }
   ],
   "source": [
    "l=[1,2,3,4,5,6,7,8,6,22]\n",
    "l.count(6)"
   ]
  },
  {
   "cell_type": "code",
   "execution_count": 60,
   "id": "e2d26935-1ef4-4bc7-a7dc-2921a24c560f",
   "metadata": {},
   "outputs": [
    {
     "name": "stdin",
     "output_type": "stream",
     "text": [
      "enter elemnt: 12\n"
     ]
    },
    {
     "name": "stdout",
     "output_type": "stream",
     "text": [
      "1\n"
     ]
    }
   ],
   "source": [
    "#using for loop\n",
    "l=[12,1,2,2,3,1,1,2,3,3]\n",
    "\n",
    "#initilization\n",
    "count_of_element=0\n",
    "target_element=int(input(\"enter elemnt:\"))\n",
    "for item in l:\n",
    "    if item==target_element:\n",
    "        count_of_element=count_of_element+1\n",
    "print(count_of_element)\n",
    "    \n"
   ]
  },
  {
   "cell_type": "code",
   "execution_count": null,
   "id": "fe8980b4-d476-48e3-a9e5-eae107eebe1e",
   "metadata": {},
   "outputs": [],
   "source": []
  },
  {
   "cell_type": "code",
   "execution_count": null,
   "id": "2c772584-f301-4f53-b1c5-8a802138fb24",
   "metadata": {},
   "outputs": [],
   "source": []
  },
  {
   "cell_type": "markdown",
   "id": "04096935-7d2c-4972-bfdb-398421a1c850",
   "metadata": {},
   "source": [
    "## counting character from string"
   ]
  },
  {
   "cell_type": "code",
   "execution_count": null,
   "id": "fbb84f86-6e59-4ad5-976a-9979bbebe088",
   "metadata": {},
   "outputs": [],
   "source": []
  },
  {
   "cell_type": "code",
   "execution_count": 64,
   "id": "08e8254c-75a9-4d46-9bd3-a0cb3c1f178c",
   "metadata": {},
   "outputs": [
    {
     "data": {
      "text/plain": [
       "2"
      ]
     },
     "execution_count": 64,
     "metadata": {},
     "output_type": "execute_result"
    }
   ],
   "source": [
    "s=\"data science\" #character by character\n",
    "s.count(\"a\")"
   ]
  },
  {
   "cell_type": "code",
   "execution_count": 69,
   "id": "a362aa56-f49d-4ffa-aeb5-fb485b2cb3b6",
   "metadata": {},
   "outputs": [
    {
     "data": {
      "text/plain": [
       "1"
      ]
     },
     "execution_count": 69,
     "metadata": {},
     "output_type": "execute_result"
    }
   ],
   "source": [
    "s.count(\"data\")"
   ]
  },
  {
   "cell_type": "code",
   "execution_count": 67,
   "id": "dd4105f1-581b-40ab-bcff-8d00e5dc73fe",
   "metadata": {},
   "outputs": [
    {
     "name": "stdin",
     "output_type": "stream",
     "text": [
      "enter elemnt: D\n"
     ]
    },
    {
     "name": "stdout",
     "output_type": "stream",
     "text": [
      "0\n"
     ]
    }
   ],
   "source": [
    "count_of_character=0\n",
    "target_character=(input(\"enter elemnt:\"))\n",
    "for character in s:\n",
    "    if character==target_character:\n",
    "        count_of_character=count_of_character+1\n",
    "print(count_of_character)\n",
    "    \n"
   ]
  },
  {
   "cell_type": "markdown",
   "id": "61a6ddb7-1bda-4d0c-bc20-ae18c935fdfd",
   "metadata": {},
   "source": [
    "# Counting single character + word"
   ]
  },
  {
   "cell_type": "code",
   "execution_count": 1,
   "id": "b51e6c18-7c33-44c6-90d5-dc70a28de08a",
   "metadata": {},
   "outputs": [
    {
     "data": {
      "text/plain": [
       "['data', 'science']"
      ]
     },
     "execution_count": 1,
     "metadata": {},
     "output_type": "execute_result"
    }
   ],
   "source": [
    "s=\"data science\"\n",
    "s.split()"
   ]
  },
  {
   "cell_type": "code",
   "execution_count": 10,
   "id": "802e7d26-a136-497b-8002-e3bfa307b1f8",
   "metadata": {},
   "outputs": [
    {
     "name": "stdin",
     "output_type": "stream",
     "text": [
      "enter elemnt: a\n"
     ]
    },
    {
     "name": "stdout",
     "output_type": "stream",
     "text": [
      "2\n"
     ]
    }
   ],
   "source": [
    "s=\"data science\"   #string to list\n",
    "count_of_character=0\n",
    "target_character=(input(\"enter elemnt:\"))   #data\n",
    "for character in s:\n",
    "    if character==target_character:\n",
    "        count_of_character=count_of_character+1\n",
    "else:\n",
    "    s_list=s.split()\n",
    "    for j in s_list:\n",
    "        if j==target_character:\n",
    "            count_of_character=count_of_character+1\n",
    "print(count_of_character)\n",
    "\n",
    "    \n"
   ]
  },
  {
   "cell_type": "markdown",
   "id": "3d6b2be4-3f8d-4c0a-ad96-92808087eb37",
   "metadata": {},
   "source": [
    "# calculate average"
   ]
  },
  {
   "cell_type": "code",
   "execution_count": 12,
   "id": "36dd7e55-47b4-4a96-a425-af74f3f0a134",
   "metadata": {},
   "outputs": [
    {
     "name": "stdout",
     "output_type": "stream",
     "text": [
      "['Counter', 'Decimal', 'Fraction', 'LinearRegression', 'NormalDist', 'StatisticsError', '_SQRT2', '__all__', '__annotations__', '__builtins__', '__cached__', '__doc__', '__file__', '__loader__', '__name__', '__package__', '__spec__', '_coerce', '_convert', '_decimal_sqrt_of_frac', '_exact_ratio', '_fail_neg', '_float_sqrt_of_frac', '_integer_sqrt_of_frac_rto', '_isfinite', '_mean_stdev', '_normal_dist_inv_cdf', '_rank', '_sqrt_bit_width', '_ss', '_sum', 'bisect_left', 'bisect_right', 'correlation', 'count', 'covariance', 'defaultdict', 'erf', 'exp', 'fabs', 'fmean', 'fsum', 'geometric_mean', 'groupby', 'harmonic_mean', 'hypot', 'itemgetter', 'linear_regression', 'log', 'math', 'mean', 'median', 'median_grouped', 'median_high', 'median_low', 'mode', 'multimode', 'namedtuple', 'numbers', 'pstdev', 'pvariance', 'quantiles', 'random', 'reduce', 'repeat', 'sqrt', 'stdev', 'sumprod', 'sys', 'tau', 'variance']\n"
     ]
    }
   ],
   "source": [
    "l=[1,2,4,6,67,4,4,56,7]\n",
    "#sum,min,max,len\n",
    "import statistics\n",
    "print(dir(statistics))\n"
   ]
  },
  {
   "cell_type": "code",
   "execution_count": 13,
   "id": "2f817dca-6e24-45c6-989e-ddee37b65069",
   "metadata": {},
   "outputs": [
    {
     "data": {
      "text/plain": [
       "16.77777777777778"
      ]
     },
     "execution_count": 13,
     "metadata": {},
     "output_type": "execute_result"
    }
   ],
   "source": [
    "statistics.mean(l)\n"
   ]
  },
  {
   "cell_type": "code",
   "execution_count": 15,
   "id": "b521f327-60e7-478b-94d4-e8e1bc52bf3d",
   "metadata": {},
   "outputs": [
    {
     "data": {
      "text/plain": [
       "151"
      ]
     },
     "execution_count": 15,
     "metadata": {},
     "output_type": "execute_result"
    }
   ],
   "source": [
    "sum(l)"
   ]
  },
  {
   "cell_type": "code",
   "execution_count": 19,
   "id": "6e128436-5d37-4f2c-b754-632f796795af",
   "metadata": {},
   "outputs": [
    {
     "data": {
      "text/plain": [
       "16.77777777777778"
      ]
     },
     "execution_count": 19,
     "metadata": {},
     "output_type": "execute_result"
    }
   ],
   "source": [
    "#average=total/len\n",
    "total=0\n",
    "for i in l:\n",
    "    total=total+i\n",
    "average=total/len(l)\n",
    "average\n",
    "    "
   ]
  },
  {
   "cell_type": "markdown",
   "id": "521e590f-3125-44ba-bfd8-7e2e1c6c1ede",
   "metadata": {},
   "source": [
    "# Reverse each word in list"
   ]
  },
  {
   "cell_type": "code",
   "execution_count": 20,
   "id": "e57f57fa-4eca-4fc9-ae00-c862a5e3aa97",
   "metadata": {},
   "outputs": [
    {
     "data": {
      "text/plain": [
       "'atad'"
      ]
     },
     "execution_count": 20,
     "metadata": {},
     "output_type": "execute_result"
    }
   ],
   "source": [
    "a=\"data\"\n",
    "a[::-1]"
   ]
  },
  {
   "cell_type": "code",
   "execution_count": 24,
   "id": "68a0dce7-3c8b-4bc6-9da6-45f0813278fc",
   "metadata": {},
   "outputs": [
    {
     "data": {
      "text/plain": [
       "['analysis', 'science', 'data']"
      ]
     },
     "execution_count": 24,
     "metadata": {},
     "output_type": "execute_result"
    }
   ],
   "source": [
    "l=[\"data\",\"science\",\"analysis\"]\n",
    "l[::-1]"
   ]
  },
  {
   "cell_type": "code",
   "execution_count": 29,
   "id": "2bb650bd-2b09-4167-9199-d561cd0d240c",
   "metadata": {},
   "outputs": [
    {
     "data": {
      "text/plain": [
       "['atad', 'ecneics', 'sisylana']"
      ]
     },
     "execution_count": 29,
     "metadata": {},
     "output_type": "execute_result"
    }
   ],
   "source": [
    "l=[\"data\",\"science\",\"analysis\"]\n",
    "reverse=[]\n",
    "for i in l:\n",
    "    r=i[::-1]\n",
    "    reverse.append(r)\n",
    "reverse"
   ]
  },
  {
   "cell_type": "markdown",
   "id": "12370aef-0749-4e97-812f-a3d41ad45e74",
   "metadata": {},
   "source": [
    "# Task"
   ]
  },
  {
   "cell_type": "code",
   "execution_count": null,
   "id": "c7175a35-27d9-437f-ab94-61fa6d25b802",
   "metadata": {},
   "outputs": [],
   "source": [
    "# 1.find colours startwith letters \"b\"\n",
    "colors=[\"red\",\"blue\",\"green\",\"black\"]  #startwith()\n",
    "# 2. find palindromes  : nayan\n",
    "list1[\"python\",\"radar\",\"nayan\",\"data\",\"level\"]\n"
   ]
  },
  {
   "cell_type": "code",
   "execution_count": 6,
   "id": "7dcee542-f785-4523-9093-ed9038f7b931",
   "metadata": {},
   "outputs": [
    {
     "name": "stdout",
     "output_type": "stream",
     "text": [
      "blue\n",
      "black\n"
     ]
    }
   ],
   "source": [
    "colors=[\"red\",\"blue\",\"green\",\"black\"] \n",
    "for word in colors:\n",
    "    if word.startswith(\"b\"):\n",
    "         print(word)\n"
   ]
  },
  {
   "cell_type": "code",
   "execution_count": 8,
   "id": "ce36bdb4-5f19-421a-9625-cf5e6a0216c6",
   "metadata": {},
   "outputs": [
    {
     "data": {
      "text/plain": [
       "['radar', 'nayan', 'level']"
      ]
     },
     "execution_count": 8,
     "metadata": {},
     "output_type": "execute_result"
    }
   ],
   "source": [
    "list1=[\"python\",\"radar\",\"nayan\",\"data\",\"level\"]\n",
    "palindromes=[]\n",
    "for i in list1:\n",
    "    if i ==i[::-1]:\n",
    "        palindromes.append(i)\n",
    "palindromes"
   ]
  },
  {
   "cell_type": "code",
   "execution_count": null,
   "id": "7939470a-dd19-4e42-a6a9-2eb5d1513fd2",
   "metadata": {},
   "outputs": [],
   "source": []
  },
  {
   "cell_type": "markdown",
   "id": "081822a7-b2e2-4993-ba9a-91ca8b575ecf",
   "metadata": {},
   "source": [
    "# Homework"
   ]
  },
  {
   "cell_type": "code",
   "execution_count": null,
   "id": "ba4399b3-5544-4d7c-b72a-67bac42bc824",
   "metadata": {},
   "outputs": [],
   "source": [
    "#1.reverse digits in a given tuple\n",
    "t=(123,345,678,213,567,890)"
   ]
  },
  {
   "cell_type": "code",
   "execution_count": 14,
   "id": "6dd254c5-d093-4388-93e4-76a3e0974367",
   "metadata": {},
   "outputs": [
    {
     "data": {
      "text/plain": [
       "[321, 543, 876, 312, 765, 98]"
      ]
     },
     "execution_count": 14,
     "metadata": {},
     "output_type": "execute_result"
    }
   ],
   "source": [
    "t=(123,345,678,213,567,890)\n",
    "reverse_digits=[]\n",
    "for i in t:\n",
    "    integer=str(i)\n",
    "    reverse_int=integer[::-1]\n",
    "    reverse_digits.append(int(reverse_int))\n",
    "reverse_digits"
   ]
  },
  {
   "cell_type": "code",
   "execution_count": 2,
   "id": "60527c60-d5dc-44f9-ac5b-18be69ebaf02",
   "metadata": {},
   "outputs": [
    {
     "name": "stdout",
     "output_type": "stream",
     "text": [
      "5566\n",
      "0\n"
     ]
    }
   ],
   "source": [
    "#2. find minimum and maximun numbers from the list without using function\n",
    "l=[0,12,3,4,5,2,2,34,4,5566,7,7,89,9]\n",
    "print(max(l))\n",
    "print(min(l))\n",
    "    "
   ]
  },
  {
   "cell_type": "code",
   "execution_count": null,
   "id": "6bdc39dc-3431-4ba3-93f6-b2e33c7d85de",
   "metadata": {},
   "outputs": [],
   "source": [
    "\n",
    "l=eval(input(\"plz enter elements\"))\n",
    "maximum=l[-1]\n",
    "minimum=l[-1]\n",
    "for num in l:\n",
    "    if num>maximum:\n",
    "        maximum=num\n",
    "    if num<minimum:\n",
    "        minimum=num\n",
    "print(\"maximum:\",maximum)\n",
    "print(\"minimum:\",minimum)\n",
    "        "
   ]
  },
  {
   "cell_type": "code",
   "execution_count": null,
   "id": "f435178f-964d-4bdc-9e87-6ce4767b2580",
   "metadata": {},
   "outputs": [],
   "source": []
  }
 ],
 "metadata": {
  "kernelspec": {
   "display_name": "Python 3 (ipykernel)",
   "language": "python",
   "name": "python3"
  },
  "language_info": {
   "codemirror_mode": {
    "name": "ipython",
    "version": 3
   },
   "file_extension": ".py",
   "mimetype": "text/x-python",
   "name": "python",
   "nbconvert_exporter": "python",
   "pygments_lexer": "ipython3",
   "version": "3.12.7"
  }
 },
 "nbformat": 4,
 "nbformat_minor": 5
}
