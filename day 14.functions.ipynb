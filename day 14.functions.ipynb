{
 "cells": [
  {
   "cell_type": "markdown",
   "id": "405af839-1ba0-4859-ab08-9c37a5ce6485",
   "metadata": {},
   "source": [
    "- To do specific job \n",
    "- 2 types of function \n",
    "  - Built-in function \n",
    "  - user define "
   ]
  },
  {
   "cell_type": "markdown",
   "id": "2e5c66ce-6452-4806-a190-fde8604073e8",
   "metadata": {},
   "source": [
    "# Functions in python"
   ]
  },
  {
   "cell_type": "markdown",
   "id": "0ef7cb1b-437a-413e-b1f4-cc8fc1a15bf8",
   "metadata": {},
   "source": [
    "- To do specific job\n",
    "- 2 types of function   \n",
    "   - Built_in function \n",
    "   - user define function eg.factorial\n",
    " "
   ]
  },
  {
   "cell_type": "markdown",
   "id": "0ebe35b1-6f7c-43d0-95ca-93e0e4d5924c",
   "metadata": {},
   "source": [
    "# Built in function list in pytrhon "
   ]
  },
  {
   "cell_type": "markdown",
   "id": "953b55ce-8d98-47f5-95d9-f6f6863fc234",
   "metadata": {},
   "source": [
    "- print()\n",
    "- type()\n",
    "- int()\n",
    "- string()\n",
    "- float()\n",
    "- len()\n",
    "- min()\n",
    "- max()\n",
    "- sum()\n",
    "- sort()\n",
    "- round()\n",
    "- abs()\n",
    "- dir()\n",
    "- id()\n"
   ]
  },
  {
   "cell_type": "code",
   "execution_count": 43,
   "id": "e4f7d3de-b50c-442b-8a94-53f60dcd3a20",
   "metadata": {},
   "outputs": [
    {
     "data": {
      "text/plain": [
       "8.0"
      ]
     },
     "execution_count": 43,
     "metadata": {},
     "output_type": "execute_result"
    }
   ],
   "source": [
    "#syntax of function\n",
    "#def function _name(parameters):\n",
    "   #statment ,logics\n",
    "#sqrt===>math===>redymade \n",
    "import math\n",
    "math.sqrt(64)\n"
   ]
  },
  {
   "cell_type": "code",
   "execution_count": 3,
   "id": "4e0bf8fa-17b3-4bba-9117-093d65d385e2",
   "metadata": {},
   "outputs": [
    {
     "name": "stdout",
     "output_type": "stream",
     "text": [
      "8.0\n"
     ]
    }
   ],
   "source": [
    "def squareroot(num):\n",
    "    print(num**0.5)\n",
    "#calling function ====>name\n",
    "squareroot(64)"
   ]
  },
  {
   "cell_type": "markdown",
   "id": "5de1a4c3-0448-4407-a12d-567917be7d8b",
   "metadata": {},
   "source": [
    "# sum()"
   ]
  },
  {
   "cell_type": "code",
   "execution_count": 5,
   "id": "11c52e6b-8d01-4784-8dfb-a8269354c35d",
   "metadata": {},
   "outputs": [
    {
     "data": {
      "text/plain": [
       "101"
      ]
     },
     "execution_count": 5,
     "metadata": {},
     "output_type": "execute_result"
    }
   ],
   "source": [
    "sum([45,56])    #built_in function \n"
   ]
  },
  {
   "cell_type": "code",
   "execution_count": 7,
   "id": "7f4302b7-d2d4-4e74-851c-e13ab7bcbf3f",
   "metadata": {},
   "outputs": [
    {
     "name": "stdout",
     "output_type": "stream",
     "text": [
      "24\n"
     ]
    }
   ],
   "source": [
    "l=[1,2,3,5,1,3,4,5]\n",
    "total=0\n",
    "for num in l:\n",
    "    total=total+num\n",
    "print(total)"
   ]
  },
  {
   "cell_type": "code",
   "execution_count": 6,
   "id": "bc93d5f6-8117-4111-a1e0-686f837a71fc",
   "metadata": {},
   "outputs": [
    {
     "name": "stdout",
     "output_type": "stream",
     "text": [
      "179\n"
     ]
    }
   ],
   "source": [
    " #sum=====>sequance data type ====> list,tuple and set \n",
    "def addition(l):   \n",
    "    total=0\n",
    "    for num in l:\n",
    "        total=total+num\n",
    "    print(total)\n",
    "\n",
    "addition({45,78,56})\n",
    "    "
   ]
  },
  {
   "cell_type": "code",
   "execution_count": 14,
   "id": "6168145e-8599-467f-8c46-e26f0fb33380",
   "metadata": {},
   "outputs": [
    {
     "name": "stdout",
     "output_type": "stream",
     "text": [
      "58\n"
     ]
    }
   ],
   "source": [
    "addition((8,9,0,5,36))"
   ]
  },
  {
   "cell_type": "code",
   "execution_count": 15,
   "id": "a8d75490-ae52-445c-b2a3-b605e30305b8",
   "metadata": {},
   "outputs": [
    {
     "data": {
      "text/plain": [
       "58"
      ]
     },
     "execution_count": 15,
     "metadata": {},
     "output_type": "execute_result"
    }
   ],
   "source": [
    "sum((8,9,0,5,36))"
   ]
  },
  {
   "cell_type": "code",
   "execution_count": null,
   "id": "7292f63f-9130-4544-af5b-d3a661b8e80e",
   "metadata": {},
   "outputs": [],
   "source": [
    "#data cleaning : missing values / duplicate /extra space \n",
    "#def data_cleaning (data):"
   ]
  },
  {
   "cell_type": "markdown",
   "id": "5071d81e-da4f-4640-9005-c8d13e1ce4ab",
   "metadata": {},
   "source": [
    "# Airthmatic Opperation"
   ]
  },
  {
   "cell_type": "code",
   "execution_count": 3,
   "id": "67b94406-3b30-43c6-9f3d-fe6d67425965",
   "metadata": {},
   "outputs": [
    {
     "name": "stdout",
     "output_type": "stream",
     "text": [
      "136\n",
      "20\n",
      "4524\n",
      "1.3448275862068966\n",
      "136 20 4524 1.3448275862068966\n"
     ]
    }
   ],
   "source": [
    "def airthmatic_operation(num1,num2):\n",
    "    addition=num1+num2\n",
    "    sub=num1-num2\n",
    "    mult=num1*num2\n",
    "    div=num1/num2\n",
    "    print(addition)\n",
    "    print(sub)\n",
    "    print(mult)\n",
    "    print(div)\n",
    "    print(addition,sub,mult,div)\n",
    "\n",
    "airthmatic_operation(78,58)\n",
    "    \n",
    "    "
   ]
  },
  {
   "cell_type": "code",
   "execution_count": 8,
   "id": "b2d25c5c-99fe-4f10-92aa-c07f2b1b29ef",
   "metadata": {},
   "outputs": [
    {
     "data": {
      "text/plain": [
       "4"
      ]
     },
     "execution_count": 8,
     "metadata": {},
     "output_type": "execute_result"
    }
   ],
   "source": [
    "min((4,5,8,9))"
   ]
  },
  {
   "cell_type": "code",
   "execution_count": 9,
   "id": "e315a47a-412b-45a6-aaa8-5df62476b4d2",
   "metadata": {},
   "outputs": [
    {
     "data": {
      "text/plain": [
       "9"
      ]
     },
     "execution_count": 9,
     "metadata": {},
     "output_type": "execute_result"
    }
   ],
   "source": [
    "max({4,5,8,9})   #list,set,tuple"
   ]
  },
  {
   "cell_type": "code",
   "execution_count": 23,
   "id": "fcebbb34-572c-4798-b750-92d889e62ea8",
   "metadata": {},
   "outputs": [
    {
     "name": "stdout",
     "output_type": "stream",
     "text": [
      "800\n"
     ]
    }
   ],
   "source": [
    "#without using function\n",
    "sequence=[1,5,700,800,6,81]\n",
    "maximum=sequence[-1]\n",
    "for i in sequence:\n",
    "    #logic\n",
    "    #initilization\n",
    "\n",
    "    if i>maximum:\n",
    "        maximum=i\n",
    "\n",
    "print(maximum)\n",
    "    "
   ]
  },
  {
   "cell_type": "code",
   "execution_count": 21,
   "id": "68d4ec5b-806d-429a-83a8-3499b52b5fde",
   "metadata": {},
   "outputs": [
    {
     "name": "stdout",
     "output_type": "stream",
     "text": [
      "78\n"
     ]
    }
   ],
   "source": [
    "#max\n",
    "def maximum(sequence):\n",
    "    sequence2=list(sequence)\n",
    "    max1=sequence2[-1]\n",
    "    for num in sequence:\n",
    "        if num>max1:\n",
    "            max1=num\n",
    "    print(max1)\n",
    "\n",
    "maximum({4,78,9,56})"
   ]
  },
  {
   "cell_type": "code",
   "execution_count": 22,
   "id": "70884877-9e03-4dc4-b2a8-0d0db62e292a",
   "metadata": {},
   "outputs": [
    {
     "data": {
      "text/plain": [
       "78"
      ]
     },
     "execution_count": 22,
     "metadata": {},
     "output_type": "execute_result"
    }
   ],
   "source": [
    "max({4,78,9,56})"
   ]
  },
  {
   "cell_type": "code",
   "execution_count": 28,
   "id": "d5f829b8-42aa-4b71-a241-18fad61c7a82",
   "metadata": {},
   "outputs": [
    {
     "name": "stdout",
     "output_type": "stream",
     "text": [
      "4\n"
     ]
    }
   ],
   "source": [
    "def minimum(sequence):\n",
    "    sequence2=list(sequence)\n",
    "    min1=sequence2[-1]\n",
    "    for num in sequence2:\n",
    "        if num<min1:\n",
    "            min1=num\n",
    "    print(min1)\n",
    "\n",
    "minimum({4,78,9,56})"
   ]
  },
  {
   "cell_type": "markdown",
   "id": "64cc0a13-3ffa-435d-a237-240ead8704f3",
   "metadata": {},
   "source": [
    "# Task"
   ]
  },
  {
   "cell_type": "code",
   "execution_count": 31,
   "id": "16b2af55-6c83-4547-8318-797112971f47",
   "metadata": {},
   "outputs": [
    {
     "name": "stdout",
     "output_type": "stream",
     "text": [
      "64\n"
     ]
    }
   ],
   "source": [
    "#sqr\n",
    "#cube\n",
    "def sqr(num):\n",
    "    print(num**2)\n",
    "sqr(8)"
   ]
  },
  {
   "cell_type": "code",
   "execution_count": 32,
   "id": "517f77f9-2c1c-4237-b321-9f02d0a9cb07",
   "metadata": {},
   "outputs": [
    {
     "name": "stdout",
     "output_type": "stream",
     "text": [
      "81\n"
     ]
    }
   ],
   "source": [
    "sqr(9)"
   ]
  },
  {
   "cell_type": "code",
   "execution_count": 36,
   "id": "2bf31074-fc15-44d7-a48f-9c04cb88b151",
   "metadata": {},
   "outputs": [
    {
     "name": "stdout",
     "output_type": "stream",
     "text": [
      "343\n"
     ]
    }
   ],
   "source": [
    "def cube(num):\n",
    "    print(num**3)\n",
    "cube(7)"
   ]
  },
  {
   "cell_type": "markdown",
   "id": "f03f05f5-87ed-4bc1-a330-315d8eade649",
   "metadata": {},
   "source": [
    "# Output display using return keyword "
   ]
  },
  {
   "cell_type": "code",
   "execution_count": 37,
   "id": "d8b8ce28-256c-47f9-a1f1-5bc1f8b88901",
   "metadata": {},
   "outputs": [
    {
     "data": {
      "text/plain": [
       "343"
      ]
     },
     "execution_count": 37,
     "metadata": {},
     "output_type": "execute_result"
    }
   ],
   "source": [
    "def cube(num):\n",
    "    return num**3\n",
    "cube(7)"
   ]
  },
  {
   "cell_type": "markdown",
   "id": "ffecbe80-29ff-4021-acfd-8abcf6b5ce18",
   "metadata": {},
   "source": [
    "# difference between print and return"
   ]
  },
  {
   "cell_type": "code",
   "execution_count": 41,
   "id": "63de6158-6e01-4ba7-9bf0-83c1dbca5883",
   "metadata": {},
   "outputs": [
    {
     "name": "stdout",
     "output_type": "stream",
     "text": [
      "data science\n"
     ]
    }
   ],
   "source": [
    "print(\"data science\")\n"
   ]
  },
  {
   "cell_type": "code",
   "execution_count": 42,
   "id": "0ea3dfc5-2be1-48a5-bfba-5acbe563e7b2",
   "metadata": {},
   "outputs": [
    {
     "ename": "SyntaxError",
     "evalue": "'return' outside function (574560363.py, line 1)",
     "output_type": "error",
     "traceback": [
      "\u001b[1;36m  Cell \u001b[1;32mIn[42], line 1\u001b[1;36m\u001b[0m\n\u001b[1;33m    return \"Data science\"\u001b[0m\n\u001b[1;37m    ^\u001b[0m\n\u001b[1;31mSyntaxError\u001b[0m\u001b[1;31m:\u001b[0m 'return' outside function\n"
     ]
    }
   ],
   "source": [
    "return \"Data science\"\n",
    "#return====>outside "
   ]
  },
  {
   "cell_type": "code",
   "execution_count": 43,
   "id": "d22ea9a9-9594-416c-9f55-bd7eae40c0cd",
   "metadata": {},
   "outputs": [
    {
     "name": "stdout",
     "output_type": "stream",
     "text": [
      "64\n"
     ]
    }
   ],
   "source": [
    "#function inside another fun===>return \n",
    "def sqr(num):\n",
    "    print(num**2)\n",
    "\n",
    "sqr(8)"
   ]
  },
  {
   "cell_type": "code",
   "execution_count": 44,
   "id": "9a4faf0b-e9db-4af3-8348-697c2a0c7bbc",
   "metadata": {
    "scrolled": true
   },
   "outputs": [
    {
     "name": "stdout",
     "output_type": "stream",
     "text": [
      "4\n"
     ]
    },
    {
     "ename": "TypeError",
     "evalue": "unsupported operand type(s) for *: 'NoneType' and 'int'",
     "output_type": "error",
     "traceback": [
      "\u001b[1;31m---------------------------------------------------------------------------\u001b[0m",
      "\u001b[1;31mTypeError\u001b[0m                                 Traceback (most recent call last)",
      "Cell \u001b[1;32mIn[44], line 4\u001b[0m\n\u001b[0;32m      1\u001b[0m \u001b[38;5;28;01mdef\u001b[39;00m \u001b[38;5;21mcube\u001b[39m(num):\n\u001b[0;32m      2\u001b[0m     \u001b[38;5;28mprint\u001b[39m(sqr(num)\u001b[38;5;241m*\u001b[39mnum)\n\u001b[1;32m----> 4\u001b[0m cube(\u001b[38;5;241m2\u001b[39m)\n",
      "Cell \u001b[1;32mIn[44], line 2\u001b[0m, in \u001b[0;36mcube\u001b[1;34m(num)\u001b[0m\n\u001b[0;32m      1\u001b[0m \u001b[38;5;28;01mdef\u001b[39;00m \u001b[38;5;21mcube\u001b[39m(num):\n\u001b[1;32m----> 2\u001b[0m     \u001b[38;5;28mprint\u001b[39m(sqr(num)\u001b[38;5;241m*\u001b[39mnum)\n",
      "\u001b[1;31mTypeError\u001b[0m: unsupported operand type(s) for *: 'NoneType' and 'int'"
     ]
    }
   ],
   "source": [
    "def cube(num):\n",
    "    print(sqr(num)*num)\n",
    "\n",
    "cube(2)"
   ]
  },
  {
   "cell_type": "code",
   "execution_count": 45,
   "id": "3f8fe7da-a92e-40bb-994b-3302a1ab0798",
   "metadata": {},
   "outputs": [
    {
     "data": {
      "text/plain": [
       "64"
      ]
     },
     "execution_count": 45,
     "metadata": {},
     "output_type": "execute_result"
    }
   ],
   "source": [
    "def sqr(num):\n",
    "    return num**2\n",
    "\n",
    "sqr(8)"
   ]
  },
  {
   "cell_type": "code",
   "execution_count": 46,
   "id": "8da957ff-41f1-4034-b66d-c19949be7cb4",
   "metadata": {},
   "outputs": [
    {
     "name": "stdout",
     "output_type": "stream",
     "text": [
      "64\n"
     ]
    }
   ],
   "source": [
    "def cube(num):\n",
    "    print(sqr(num)*num)\n",
    "\n",
    "cube(4)"
   ]
  },
  {
   "cell_type": "code",
   "execution_count": 49,
   "id": "7b9fa067-8cb4-4375-aebd-f9b4279437ca",
   "metadata": {},
   "outputs": [
    {
     "name": "stdout",
     "output_type": "stream",
     "text": [
      "your total bill is : 2500\n",
      "None\n"
     ]
    }
   ],
   "source": [
    "def calculate_sales(price,qty):\n",
    "    total=price*qty\n",
    "    print(\"your total bill is :\",total)\n",
    "fn=calculate_sales(500,5)\n",
    "print(fn)"
   ]
  },
  {
   "cell_type": "code",
   "execution_count": 50,
   "id": "e4956993-5dfd-4c28-8d23-7170697ae48f",
   "metadata": {},
   "outputs": [
    {
     "name": "stdout",
     "output_type": "stream",
     "text": [
      "your total bill is : 2500\n"
     ]
    }
   ],
   "source": [
    "def calculate_sales(price,qty):\n",
    "    total=price*qty\n",
    "    print(\"your total bill is :\",total)\n",
    "fn=calculate_sales(500,5)\n"
   ]
  },
  {
   "cell_type": "markdown",
   "id": "4b5d5625-c117-4c79-9162-d1cf4b509395",
   "metadata": {},
   "source": [
    "# Task"
   ]
  },
  {
   "cell_type": "code",
   "execution_count": 1,
   "id": "e5e20128-e6f3-47ae-b916-e5ea55b87cb1",
   "metadata": {},
   "outputs": [],
   "source": [
    "#factorial function\n",
    "#length(),countelement()\n"
   ]
  },
  {
   "cell_type": "code",
   "execution_count": 3,
   "id": "0d1c5e58-2352-4c5f-b112-841e80438c75",
   "metadata": {},
   "outputs": [
    {
     "data": {
      "text/plain": [
       "120"
      ]
     },
     "execution_count": 3,
     "metadata": {},
     "output_type": "execute_result"
    }
   ],
   "source": [
    "import math\n",
    "#bult-in\n",
    "math.factorial(5)"
   ]
  },
  {
   "cell_type": "code",
   "execution_count": 4,
   "id": "f18006f9-eab2-47d6-be9e-f8d6a0f45ec8",
   "metadata": {},
   "outputs": [
    {
     "data": {
      "text/plain": [
       "125.0"
      ]
     },
     "execution_count": 4,
     "metadata": {},
     "output_type": "execute_result"
    }
   ],
   "source": [
    "math.pow(5,3)\n"
   ]
  },
  {
   "cell_type": "code",
   "execution_count": 6,
   "id": "c8ff3dd8-db3b-4d8d-89cf-5950a548617d",
   "metadata": {},
   "outputs": [
    {
     "data": {
      "text/plain": [
       "120"
      ]
     },
     "execution_count": 6,
     "metadata": {},
     "output_type": "execute_result"
    }
   ],
   "source": [
    "def fact(num):\n",
    "    f=1\n",
    "    for i in range(1,num+1):\n",
    "        f=f*i\n",
    "    return f\n",
    "\n",
    "fact(5)"
   ]
  },
  {
   "cell_type": "code",
   "execution_count": 8,
   "id": "69dbbaa6-8b0d-4e7e-8977-eda340f88362",
   "metadata": {},
   "outputs": [
    {
     "name": "stdout",
     "output_type": "stream",
     "text": [
      "6\n",
      "4\n",
      "6\n",
      "8\n",
      "2\n"
     ]
    }
   ],
   "source": [
    "print(len(\"python\"))\n",
    "print(len([1,2,3,4]))\n",
    "print(len((1,2,3,4,5,6)))\n",
    "print(len({1,2,3,4,5,6,7,8}))\n",
    "print(len({\"name\":\"chetna\",\"city\":\"ratnagiri\"}))\n"
   ]
  },
  {
   "cell_type": "code",
   "execution_count": null,
   "id": "e1f1782c-1e13-4635-94ab-34568c8f775c",
   "metadata": {},
   "outputs": [],
   "source": []
  },
  {
   "cell_type": "code",
   "execution_count": 1,
   "id": "9847f4ca-ed0d-4bc6-81ac-dfcf57550f3a",
   "metadata": {},
   "outputs": [
    {
     "data": {
      "text/plain": [
       "4"
      ]
     },
     "execution_count": 1,
     "metadata": {},
     "output_type": "execute_result"
    }
   ],
   "source": [
    "def length(iterable):\n",
    "    l=0\n",
    "    for i in iterable:\n",
    "        l=l+1\n",
    "    return l\n",
    "length(\"data\")"
   ]
  },
  {
   "cell_type": "code",
   "execution_count": 2,
   "id": "955de4de-fa1b-4cde-aace-4c326a13b77e",
   "metadata": {},
   "outputs": [
    {
     "data": {
      "text/plain": [
       "5"
      ]
     },
     "execution_count": 2,
     "metadata": {},
     "output_type": "execute_result"
    }
   ],
   "source": [
    "length([1,2,3,5,8])\n"
   ]
  },
  {
   "cell_type": "code",
   "execution_count": 4,
   "id": "9b7e381e-3f93-423d-ae3f-b590b7eec5e7",
   "metadata": {},
   "outputs": [
    {
     "ename": "SyntaxError",
     "evalue": "invalid syntax (465448550.py, line 1)",
     "output_type": "error",
     "traceback": [
      "\u001b[1;36m  Cell \u001b[1;32mIn[4], line 1\u001b[1;36m\u001b[0m\n\u001b[1;33m    importh math\u001b[0m\n\u001b[1;37m            ^\u001b[0m\n\u001b[1;31mSyntaxError\u001b[0m\u001b[1;31m:\u001b[0m invalid syntax\n"
     ]
    }
   ],
   "source": [
    "importh math\n",
    "math.pow(15)\n"
   ]
  },
  {
   "cell_type": "code",
   "execution_count": 7,
   "id": "a7a6288b-ee2e-496f-bee6-de671cacfbe1",
   "metadata": {},
   "outputs": [
    {
     "data": {
      "text/plain": [
       "1"
      ]
     },
     "execution_count": 7,
     "metadata": {},
     "output_type": "execute_result"
    }
   ],
   "source": [
    "s=\"python\"\n",
    "l=[1,2,3,4]\n",
    "t=(1,2,3,4,5,6)\n",
    "s1=(1,2,3,4,5,6,7,8)\n",
    "d={\"name\",\"chetna\",\"city\"<\"ratnagiri\"}\n",
    "s.count(\"p\")"
   ]
  },
  {
   "cell_type": "code",
   "execution_count": 8,
   "id": "46f820d2-5005-4390-8428-a423cec2c25b",
   "metadata": {},
   "outputs": [
    {
     "data": {
      "text/plain": [
       "1"
      ]
     },
     "execution_count": 8,
     "metadata": {},
     "output_type": "execute_result"
    }
   ],
   "source": [
    "l.count(2)"
   ]
  },
  {
   "cell_type": "code",
   "execution_count": 9,
   "id": "ae8422a8-47d9-4064-b5d3-80c3f427774e",
   "metadata": {},
   "outputs": [
    {
     "data": {
      "text/plain": [
       "0"
      ]
     },
     "execution_count": 9,
     "metadata": {},
     "output_type": "execute_result"
    }
   ],
   "source": [
    "t.count(10)"
   ]
  },
  {
   "cell_type": "code",
   "execution_count": 11,
   "id": "1ccf43dc-0565-41af-bbfb-64001b35f113",
   "metadata": {},
   "outputs": [
    {
     "data": {
      "text/plain": [
       "1"
      ]
     },
     "execution_count": 11,
     "metadata": {},
     "output_type": "execute_result"
    }
   ],
   "source": [
    "s1.count(8)"
   ]
  },
  {
   "cell_type": "code",
   "execution_count": 12,
   "id": "a5e8438c-4cf3-4ec8-a9f9-953abb9bd3c0",
   "metadata": {},
   "outputs": [
    {
     "ename": "AttributeError",
     "evalue": "'set' object has no attribute 'count'",
     "output_type": "error",
     "traceback": [
      "\u001b[1;31m---------------------------------------------------------------------------\u001b[0m",
      "\u001b[1;31mAttributeError\u001b[0m                            Traceback (most recent call last)",
      "Cell \u001b[1;32mIn[12], line 1\u001b[0m\n\u001b[1;32m----> 1\u001b[0m d\u001b[38;5;241m.\u001b[39mcount(\u001b[38;5;124m\"\u001b[39m\u001b[38;5;124mname\u001b[39m\u001b[38;5;124m\"\u001b[39m)\n",
      "\u001b[1;31mAttributeError\u001b[0m: 'set' object has no attribute 'count'"
     ]
    }
   ],
   "source": [
    "d.count(\"name\")"
   ]
  },
  {
   "cell_type": "code",
   "execution_count": 4,
   "id": "ab360ca7-eb34-4046-8d1f-5a856f78b921",
   "metadata": {},
   "outputs": [
    {
     "name": "stdin",
     "output_type": "stream",
     "text": [
      "enter iterable 1\n"
     ]
    },
    {
     "ename": "NameError",
     "evalue": "name 'element' is not defined",
     "output_type": "error",
     "traceback": [
      "\u001b[1;31m---------------------------------------------------------------------------\u001b[0m",
      "\u001b[1;31mNameError\u001b[0m                                 Traceback (most recent call last)",
      "Cell \u001b[1;32mIn[4], line 11\u001b[0m\n\u001b[0;32m      7\u001b[0m             c\u001b[38;5;241m=\u001b[39mc\u001b[38;5;241m+\u001b[39m\u001b[38;5;241m1\u001b[39m\n\u001b[0;32m      8\u001b[0m     \u001b[38;5;28;01mreturn\u001b[39;00m c\n\u001b[1;32m---> 11\u001b[0m countelement(element)\n",
      "\u001b[1;31mNameError\u001b[0m: name 'element' is not defined"
     ]
    }
   ],
   "source": [
    "#### element=input(\"enter target element\")\n",
    "iterable=eval(input(\"enter iterable\"))\n",
    "def countelement(element):\n",
    "    c=0\n",
    "    for i in iterable:\n",
    "        if i==element:\n",
    "            c=c+1\n",
    "    return c\n",
    "\n",
    "\n",
    "countelement(element)"
   ]
  },
  {
   "cell_type": "code",
   "execution_count": 10,
   "id": "1f3f3dd3-8633-46d5-8dc1-04d7effea744",
   "metadata": {},
   "outputs": [
    {
     "name": "stdin",
     "output_type": "stream",
     "text": [
      "enter iterable \"chetna\"\n"
     ]
    },
    {
     "data": {
      "text/plain": [
       "1"
      ]
     },
     "execution_count": 10,
     "metadata": {},
     "output_type": "execute_result"
    }
   ],
   "source": [
    "def countelement(element):\n",
    "    c=0\n",
    "    iterable=eval(input(\"enter iterable\"))\n",
    "    for i in iterable:\n",
    "\n",
    "        if i==element:\n",
    "            c=c+1\n",
    "    return c\n",
    "\n",
    "countelement(\"c\")"
   ]
  },
  {
   "cell_type": "code",
   "execution_count": 11,
   "id": "35daf2ce-a2b4-4bfd-a3ea-4f73d3286e46",
   "metadata": {},
   "outputs": [],
   "source": [
    "#abs====>absoulate value \n",
    "#round====>roundup\n"
   ]
  },
  {
   "cell_type": "code",
   "execution_count": 12,
   "id": "a0521b21-0760-4efc-b9e0-c4a3532fb80f",
   "metadata": {},
   "outputs": [
    {
     "data": {
      "text/plain": [
       "78"
      ]
     },
     "execution_count": 12,
     "metadata": {},
     "output_type": "execute_result"
    }
   ],
   "source": [
    "#inbuilt\n",
    "abs(-78)"
   ]
  },
  {
   "cell_type": "code",
   "execution_count": 13,
   "id": "ab26a1ce-e52c-4c85-b1d8-e557cff83702",
   "metadata": {},
   "outputs": [
    {
     "data": {
      "text/plain": [
       "78"
      ]
     },
     "execution_count": 13,
     "metadata": {},
     "output_type": "execute_result"
    }
   ],
   "source": [
    "abs(78)"
   ]
  },
  {
   "cell_type": "code",
   "execution_count": 14,
   "id": "05a2f484-0500-4845-a9f5-c5d5a887bdc2",
   "metadata": {},
   "outputs": [
    {
     "data": {
      "text/plain": [
       "45.6"
      ]
     },
     "execution_count": 14,
     "metadata": {},
     "output_type": "execute_result"
    }
   ],
   "source": [
    "abs(45.6)"
   ]
  },
  {
   "cell_type": "code",
   "execution_count": 25,
   "id": "f6435eae-f743-4468-9313-cfeaeb835d9f",
   "metadata": {},
   "outputs": [
    {
     "data": {
      "text/plain": [
       "789"
      ]
     },
     "execution_count": 25,
     "metadata": {},
     "output_type": "execute_result"
    }
   ],
   "source": [
    "#by user defined \n",
    "def absoulate(num):\n",
    "    str_num=str(num)\n",
    "    if str_num[0]==\"-\":\n",
    "        return int(str_num[1:])\n",
    "\n",
    "    else:\n",
    "        return int(str_num)\n",
    "\n",
    "absoulate(789)"
   ]
  },
  {
   "cell_type": "code",
   "execution_count": 26,
   "id": "36f6e636-a4fe-486d-986c-2586dd63a311",
   "metadata": {},
   "outputs": [
    {
     "data": {
      "text/plain": [
       "78.3"
      ]
     },
     "execution_count": 26,
     "metadata": {},
     "output_type": "execute_result"
    }
   ],
   "source": [
    "abs(78.3)"
   ]
  },
  {
   "cell_type": "code",
   "execution_count": 29,
   "id": "5c9a1b00-5949-4f04-8bcd-9037dff5da15",
   "metadata": {},
   "outputs": [
    {
     "data": {
      "text/plain": [
       "45.0"
      ]
     },
     "execution_count": 29,
     "metadata": {},
     "output_type": "execute_result"
    }
   ],
   "source": [
    "def my_abs(num):   #same at it is cell ni 25\n",
    "    if num<0:\n",
    "        return -num\n",
    "\n",
    "    else:\n",
    "        return num\n",
    "\n",
    "my_abs(45.0)\n"
   ]
  },
  {
   "cell_type": "code",
   "execution_count": 30,
   "id": "dc68c4b4-d3e1-49ea-acf7-928b37b6a593",
   "metadata": {},
   "outputs": [
    {
     "data": {
      "text/plain": [
       "78"
      ]
     },
     "execution_count": 30,
     "metadata": {},
     "output_type": "execute_result"
    }
   ],
   "source": [
    "#built in \n",
    "round(78)"
   ]
  },
  {
   "cell_type": "code",
   "execution_count": 31,
   "id": "7b42c98d-075d-44f7-8222-130145fa256a",
   "metadata": {},
   "outputs": [
    {
     "data": {
      "text/plain": [
       "78"
      ]
     },
     "execution_count": 31,
     "metadata": {},
     "output_type": "execute_result"
    }
   ],
   "source": [
    "round(78.3)\n"
   ]
  },
  {
   "cell_type": "code",
   "execution_count": 33,
   "id": "8d03aaf3-8b1a-4f92-990f-bb6224100544",
   "metadata": {},
   "outputs": [
    {
     "data": {
      "text/plain": [
       "79"
      ]
     },
     "execution_count": 33,
     "metadata": {},
     "output_type": "execute_result"
    }
   ],
   "source": [
    "round(78.55)\n",
    "#decimal>=0.5\n",
    "#78+1=79\n"
   ]
  },
  {
   "cell_type": "code",
   "execution_count": 36,
   "id": "84db10e5-3075-4015-a904-97aa7542ad68",
   "metadata": {},
   "outputs": [
    {
     "data": {
      "text/plain": [
       "0.5999999999999943"
      ]
     },
     "execution_count": 36,
     "metadata": {},
     "output_type": "execute_result"
    }
   ],
   "source": [
    "#extract decimal_part \n",
    "num=123.6\n",
    "#type casting\n",
    "num-int(num)\n",
    "#123.6-123\n"
   ]
  },
  {
   "cell_type": "code",
   "execution_count": 42,
   "id": "8e239e5a-f8e7-4cc9-9b5c-b979a1dfec49",
   "metadata": {},
   "outputs": [
    {
     "data": {
      "text/plain": [
       "124"
      ]
     },
     "execution_count": 42,
     "metadata": {},
     "output_type": "execute_result"
    }
   ],
   "source": [
    "def round_up(num):\n",
    "    decimal_part=num-int(num)\n",
    "    if decimal_part>0.5:\n",
    "        return int(num)+1\n",
    "\n",
    "    else:\n",
    "        return int(num)\n",
    "round_up(123.8)              "
   ]
  },
  {
   "cell_type": "code",
   "execution_count": 44,
   "id": "3eb363bf-b665-4dc3-92ac-84150d3eb5f4",
   "metadata": {},
   "outputs": [],
   "source": [
    "#aata analusis\n",
    "#data cleanna ==›extra spaces, upper, mussinavalues, duplacats remove\n",
    "#def data_cleaning(data):\n",
    "\n",
    "#    remove extra spaces=trim(data)\n",
    "#    upper\n"
   ]
  },
  {
   "cell_type": "code",
   "execution_count": 45,
   "id": "e02908b6-6593-462e-a832-9ce758025175",
   "metadata": {},
   "outputs": [],
   "source": [
    "a=1234\n",
    "b=\"python\""
   ]
  },
  {
   "cell_type": "code",
   "execution_count": 46,
   "id": "a8ed4ba3-7b70-45bf-aa43-300f10c3b44d",
   "metadata": {},
   "outputs": [
    {
     "data": {
      "text/plain": [
       "2702374858864"
      ]
     },
     "execution_count": 46,
     "metadata": {},
     "output_type": "execute_result"
    }
   ],
   "source": [
    "#memory location\n",
    "id(a)"
   ]
  },
  {
   "cell_type": "code",
   "execution_count": 47,
   "id": "c2b8cd0e-ccb1-4c02-b68e-d215a8c8849e",
   "metadata": {},
   "outputs": [
    {
     "data": {
      "text/plain": [
       "2702264663280"
      ]
     },
     "execution_count": 47,
     "metadata": {},
     "output_type": "execute_result"
    }
   ],
   "source": [
    "id(b)"
   ]
  },
  {
   "cell_type": "code",
   "execution_count": 48,
   "id": "2a29a139-091f-4b26-aef6-2c5fcc4df957",
   "metadata": {},
   "outputs": [
    {
     "data": {
      "text/plain": [
       "2702375660384"
      ]
     },
     "execution_count": 48,
     "metadata": {},
     "output_type": "execute_result"
    }
   ],
   "source": [
    "id(round_up)"
   ]
  },
  {
   "cell_type": "code",
   "execution_count": 49,
   "id": "dd427b5f-1d0c-4c92-b3ed-2265893e0a25",
   "metadata": {},
   "outputs": [
    {
     "name": "stdout",
     "output_type": "stream",
     "text": [
      "Help on built-in module math:\n",
      "\n",
      "NAME\n",
      "    math\n",
      "\n",
      "DESCRIPTION\n",
      "    This module provides access to the mathematical functions\n",
      "    defined by the C standard.\n",
      "\n",
      "FUNCTIONS\n",
      "    acos(x, /)\n",
      "        Return the arc cosine (measured in radians) of x.\n",
      "\n",
      "        The result is between 0 and pi.\n",
      "\n",
      "    acosh(x, /)\n",
      "        Return the inverse hyperbolic cosine of x.\n",
      "\n",
      "    asin(x, /)\n",
      "        Return the arc sine (measured in radians) of x.\n",
      "\n",
      "        The result is between -pi/2 and pi/2.\n",
      "\n",
      "    asinh(x, /)\n",
      "        Return the inverse hyperbolic sine of x.\n",
      "\n",
      "    atan(x, /)\n",
      "        Return the arc tangent (measured in radians) of x.\n",
      "\n",
      "        The result is between -pi/2 and pi/2.\n",
      "\n",
      "    atan2(y, x, /)\n",
      "        Return the arc tangent (measured in radians) of y/x.\n",
      "\n",
      "        Unlike atan(y/x), the signs of both x and y are considered.\n",
      "\n",
      "    atanh(x, /)\n",
      "        Return the inverse hyperbolic tangent of x.\n",
      "\n",
      "    cbrt(x, /)\n",
      "        Return the cube root of x.\n",
      "\n",
      "    ceil(x, /)\n",
      "        Return the ceiling of x as an Integral.\n",
      "\n",
      "        This is the smallest integer >= x.\n",
      "\n",
      "    comb(n, k, /)\n",
      "        Number of ways to choose k items from n items without repetition and without order.\n",
      "\n",
      "        Evaluates to n! / (k! * (n - k)!) when k <= n and evaluates\n",
      "        to zero when k > n.\n",
      "\n",
      "        Also called the binomial coefficient because it is equivalent\n",
      "        to the coefficient of k-th term in polynomial expansion of the\n",
      "        expression (1 + x)**n.\n",
      "\n",
      "        Raises TypeError if either of the arguments are not integers.\n",
      "        Raises ValueError if either of the arguments are negative.\n",
      "\n",
      "    copysign(x, y, /)\n",
      "        Return a float with the magnitude (absolute value) of x but the sign of y.\n",
      "\n",
      "        On platforms that support signed zeros, copysign(1.0, -0.0)\n",
      "        returns -1.0.\n",
      "\n",
      "    cos(x, /)\n",
      "        Return the cosine of x (measured in radians).\n",
      "\n",
      "    cosh(x, /)\n",
      "        Return the hyperbolic cosine of x.\n",
      "\n",
      "    degrees(x, /)\n",
      "        Convert angle x from radians to degrees.\n",
      "\n",
      "    dist(p, q, /)\n",
      "        Return the Euclidean distance between two points p and q.\n",
      "\n",
      "        The points should be specified as sequences (or iterables) of\n",
      "        coordinates.  Both inputs must have the same dimension.\n",
      "\n",
      "        Roughly equivalent to:\n",
      "            sqrt(sum((px - qx) ** 2.0 for px, qx in zip(p, q)))\n",
      "\n",
      "    erf(x, /)\n",
      "        Error function at x.\n",
      "\n",
      "    erfc(x, /)\n",
      "        Complementary error function at x.\n",
      "\n",
      "    exp(x, /)\n",
      "        Return e raised to the power of x.\n",
      "\n",
      "    exp2(x, /)\n",
      "        Return 2 raised to the power of x.\n",
      "\n",
      "    expm1(x, /)\n",
      "        Return exp(x)-1.\n",
      "\n",
      "        This function avoids the loss of precision involved in the direct evaluation of exp(x)-1 for small x.\n",
      "\n",
      "    fabs(x, /)\n",
      "        Return the absolute value of the float x.\n",
      "\n",
      "    factorial(n, /)\n",
      "        Find n!.\n",
      "\n",
      "        Raise a ValueError if x is negative or non-integral.\n",
      "\n",
      "    floor(x, /)\n",
      "        Return the floor of x as an Integral.\n",
      "\n",
      "        This is the largest integer <= x.\n",
      "\n",
      "    fmod(x, y, /)\n",
      "        Return fmod(x, y), according to platform C.\n",
      "\n",
      "        x % y may differ.\n",
      "\n",
      "    frexp(x, /)\n",
      "        Return the mantissa and exponent of x, as pair (m, e).\n",
      "\n",
      "        m is a float and e is an int, such that x = m * 2.**e.\n",
      "        If x is 0, m and e are both 0.  Else 0.5 <= abs(m) < 1.0.\n",
      "\n",
      "    fsum(seq, /)\n",
      "        Return an accurate floating-point sum of values in the iterable seq.\n",
      "\n",
      "        Assumes IEEE-754 floating-point arithmetic.\n",
      "\n",
      "    gamma(x, /)\n",
      "        Gamma function at x.\n",
      "\n",
      "    gcd(*integers)\n",
      "        Greatest Common Divisor.\n",
      "\n",
      "    hypot(...)\n",
      "        hypot(*coordinates) -> value\n",
      "\n",
      "        Multidimensional Euclidean distance from the origin to a point.\n",
      "\n",
      "        Roughly equivalent to:\n",
      "            sqrt(sum(x**2 for x in coordinates))\n",
      "\n",
      "        For a two dimensional point (x, y), gives the hypotenuse\n",
      "        using the Pythagorean theorem:  sqrt(x*x + y*y).\n",
      "\n",
      "        For example, the hypotenuse of a 3/4/5 right triangle is:\n",
      "\n",
      "            >>> hypot(3.0, 4.0)\n",
      "            5.0\n",
      "\n",
      "    isclose(a, b, *, rel_tol=1e-09, abs_tol=0.0)\n",
      "        Determine whether two floating-point numbers are close in value.\n",
      "\n",
      "          rel_tol\n",
      "            maximum difference for being considered \"close\", relative to the\n",
      "            magnitude of the input values\n",
      "          abs_tol\n",
      "            maximum difference for being considered \"close\", regardless of the\n",
      "            magnitude of the input values\n",
      "\n",
      "        Return True if a is close in value to b, and False otherwise.\n",
      "\n",
      "        For the values to be considered close, the difference between them\n",
      "        must be smaller than at least one of the tolerances.\n",
      "\n",
      "        -inf, inf and NaN behave similarly to the IEEE 754 Standard.  That\n",
      "        is, NaN is not close to anything, even itself.  inf and -inf are\n",
      "        only close to themselves.\n",
      "\n",
      "    isfinite(x, /)\n",
      "        Return True if x is neither an infinity nor a NaN, and False otherwise.\n",
      "\n",
      "    isinf(x, /)\n",
      "        Return True if x is a positive or negative infinity, and False otherwise.\n",
      "\n",
      "    isnan(x, /)\n",
      "        Return True if x is a NaN (not a number), and False otherwise.\n",
      "\n",
      "    isqrt(n, /)\n",
      "        Return the integer part of the square root of the input.\n",
      "\n",
      "    lcm(*integers)\n",
      "        Least Common Multiple.\n",
      "\n",
      "    ldexp(x, i, /)\n",
      "        Return x * (2**i).\n",
      "\n",
      "        This is essentially the inverse of frexp().\n",
      "\n",
      "    lgamma(x, /)\n",
      "        Natural logarithm of absolute value of Gamma function at x.\n",
      "\n",
      "    log(...)\n",
      "        log(x, [base=math.e])\n",
      "        Return the logarithm of x to the given base.\n",
      "\n",
      "        If the base is not specified, returns the natural logarithm (base e) of x.\n",
      "\n",
      "    log10(x, /)\n",
      "        Return the base 10 logarithm of x.\n",
      "\n",
      "    log1p(x, /)\n",
      "        Return the natural logarithm of 1+x (base e).\n",
      "\n",
      "        The result is computed in a way which is accurate for x near zero.\n",
      "\n",
      "    log2(x, /)\n",
      "        Return the base 2 logarithm of x.\n",
      "\n",
      "    modf(x, /)\n",
      "        Return the fractional and integer parts of x.\n",
      "\n",
      "        Both results carry the sign of x and are floats.\n",
      "\n",
      "    nextafter(x, y, /, *, steps=None)\n",
      "        Return the floating-point value the given number of steps after x towards y.\n",
      "\n",
      "        If steps is not specified or is None, it defaults to 1.\n",
      "\n",
      "        Raises a TypeError, if x or y is not a double, or if steps is not an integer.\n",
      "        Raises ValueError if steps is negative.\n",
      "\n",
      "    perm(n, k=None, /)\n",
      "        Number of ways to choose k items from n items without repetition and with order.\n",
      "\n",
      "        Evaluates to n! / (n - k)! when k <= n and evaluates\n",
      "        to zero when k > n.\n",
      "\n",
      "        If k is not specified or is None, then k defaults to n\n",
      "        and the function returns n!.\n",
      "\n",
      "        Raises TypeError if either of the arguments are not integers.\n",
      "        Raises ValueError if either of the arguments are negative.\n",
      "\n",
      "    pow(x, y, /)\n",
      "        Return x**y (x to the power of y).\n",
      "\n",
      "    prod(iterable, /, *, start=1)\n",
      "        Calculate the product of all the elements in the input iterable.\n",
      "\n",
      "        The default start value for the product is 1.\n",
      "\n",
      "        When the iterable is empty, return the start value.  This function is\n",
      "        intended specifically for use with numeric values and may reject\n",
      "        non-numeric types.\n",
      "\n",
      "    radians(x, /)\n",
      "        Convert angle x from degrees to radians.\n",
      "\n",
      "    remainder(x, y, /)\n",
      "        Difference between x and the closest integer multiple of y.\n",
      "\n",
      "        Return x - n*y where n*y is the closest integer multiple of y.\n",
      "        In the case where x is exactly halfway between two multiples of\n",
      "        y, the nearest even value of n is used. The result is always exact.\n",
      "\n",
      "    sin(x, /)\n",
      "        Return the sine of x (measured in radians).\n",
      "\n",
      "    sinh(x, /)\n",
      "        Return the hyperbolic sine of x.\n",
      "\n",
      "    sqrt(x, /)\n",
      "        Return the square root of x.\n",
      "\n",
      "    sumprod(p, q, /)\n",
      "        Return the sum of products of values from two iterables p and q.\n",
      "\n",
      "        Roughly equivalent to:\n",
      "\n",
      "            sum(itertools.starmap(operator.mul, zip(p, q, strict=True)))\n",
      "\n",
      "        For float and mixed int/float inputs, the intermediate products\n",
      "        and sums are computed with extended precision.\n",
      "\n",
      "    tan(x, /)\n",
      "        Return the tangent of x (measured in radians).\n",
      "\n",
      "    tanh(x, /)\n",
      "        Return the hyperbolic tangent of x.\n",
      "\n",
      "    trunc(x, /)\n",
      "        Truncates the Real x to the nearest Integral toward 0.\n",
      "\n",
      "        Uses the __trunc__ magic method.\n",
      "\n",
      "    ulp(x, /)\n",
      "        Return the value of the least significant bit of the float x.\n",
      "\n",
      "DATA\n",
      "    e = 2.718281828459045\n",
      "    inf = inf\n",
      "    nan = nan\n",
      "    pi = 3.141592653589793\n",
      "    tau = 6.283185307179586\n",
      "\n",
      "FILE\n",
      "    (built-in)\n",
      "\n",
      "\n"
     ]
    }
   ],
   "source": [
    "help(math)"
   ]
  },
  {
   "cell_type": "code",
   "execution_count": 52,
   "id": "8823b5df-3a43-4fb2-8453-a53178173124",
   "metadata": {},
   "outputs": [
    {
     "name": "stdout",
     "output_type": "stream",
     "text": [
      "[0, 1, 1, 2, 3, 5, 8, 13, 21, 34]\n"
     ]
    }
   ],
   "source": [
    "#fibonacci series\n",
    "#0,1,1,2,3,5,8,13.......\n",
    "#using for looop \n",
    "fib=[0,1]   #initilization\n",
    "for i in range(0,8):\n",
    "   \n",
    "    next_term=fib[-1]+fib[-2]\n",
    "    fib.append(next_term)\n",
    "\n",
    "print(fib)\n",
    "#first 10 num in fibonacci"
   ]
  },
  {
   "cell_type": "code",
   "execution_count": 5,
   "id": "7f0753a0-90fd-4c8c-8107-7fa61f99b41e",
   "metadata": {},
   "outputs": [
    {
     "data": {
      "text/plain": [
       "[0,\n",
       " 1,\n",
       " 1,\n",
       " 2,\n",
       " 3,\n",
       " 5,\n",
       " 8,\n",
       " 13,\n",
       " 21,\n",
       " 34,\n",
       " 55,\n",
       " 89,\n",
       " 144,\n",
       " 233,\n",
       " 377,\n",
       " 610,\n",
       " 987,\n",
       " 1597,\n",
       " 2584,\n",
       " 4181]"
      ]
     },
     "execution_count": 5,
     "metadata": {},
     "output_type": "execute_result"
    }
   ],
   "source": [
    "#write function to print fibonacci \n",
    "def fibonacci(n):\n",
    "    fib=[0,1]   #initilization\n",
    "    for i in range(0,n-2):\n",
    "   \n",
    "        next_term=fib[-1]+fib[-2]\n",
    "        fib.append(next_term)\n",
    "\n",
    "    return fib\n",
    "    \n",
    "fibonacci(20)\n",
    "    "
   ]
  },
  {
   "cell_type": "markdown",
   "id": "0e6bd3c5-0ddf-461f-a312-e4cf971c1a44",
   "metadata": {},
   "source": [
    "# 4 Types of functions"
   ]
  },
  {
   "cell_type": "markdown",
   "id": "1696cea2-e848-41c1-8f4c-099fb63fa5e1",
   "metadata": {},
   "source": [
    "### 1. function with parameter and with return "
   ]
  },
  {
   "cell_type": "code",
   "execution_count": 14,
   "id": "5d7b1456-6bad-4eec-9f31-aca4d6616bfa",
   "metadata": {},
   "outputs": [
    {
     "data": {
      "text/plain": [
       "20"
      ]
     },
     "execution_count": 14,
     "metadata": {},
     "output_type": "execute_result"
    }
   ],
   "source": [
    "#addition\n",
    "def add(a,b,c,d):\n",
    "    return a+b+c+d\n",
    "\n",
    "add(1,4,7,8)"
   ]
  },
  {
   "cell_type": "code",
   "execution_count": 17,
   "id": "abdcddfb-33a9-4a92-bdd6-64104ff7029e",
   "metadata": {},
   "outputs": [
    {
     "data": {
      "text/plain": [
       "52"
      ]
     },
     "execution_count": 17,
     "metadata": {},
     "output_type": "execute_result"
    }
   ],
   "source": [
    "def add(a,b,c,d=40):\n",
    "    return a+b+c+d\n",
    "\n",
    "add(1,4,7)"
   ]
  },
  {
   "cell_type": "code",
   "execution_count": 18,
   "id": "f3021f67-2d67-42c0-b759-a5c40cf6f472",
   "metadata": {},
   "outputs": [
    {
     "ename": "TypeError",
     "evalue": "add() missing 1 required positional argument: 'd'",
     "output_type": "error",
     "traceback": [
      "\u001b[1;31m---------------------------------------------------------------------------\u001b[0m",
      "\u001b[1;31mTypeError\u001b[0m                                 Traceback (most recent call last)",
      "Cell \u001b[1;32mIn[18], line 4\u001b[0m\n\u001b[0;32m      1\u001b[0m \u001b[38;5;28;01mdef\u001b[39;00m \u001b[38;5;21madd\u001b[39m(a,b,c,d):\n\u001b[0;32m      2\u001b[0m     \u001b[38;5;28;01mreturn\u001b[39;00m a\u001b[38;5;241m+\u001b[39mb\u001b[38;5;241m+\u001b[39mc\u001b[38;5;241m+\u001b[39md\n\u001b[1;32m----> 4\u001b[0m add(\u001b[38;5;241m1\u001b[39m,\u001b[38;5;241m4\u001b[39m,\u001b[38;5;241m7\u001b[39m)\n",
      "\u001b[1;31mTypeError\u001b[0m: add() missing 1 required positional argument: 'd'"
     ]
    }
   ],
   "source": [
    "def add(a,b,c,d):\n",
    "    return a+b+c+d\n",
    "\n",
    "add(1,4,7)"
   ]
  },
  {
   "cell_type": "markdown",
   "id": "d69478e6-47bc-4096-857c-c01366e0b457",
   "metadata": {},
   "source": [
    "### 2.function with parameter and without return "
   ]
  },
  {
   "cell_type": "code",
   "execution_count": 11,
   "id": "f59660ee-e960-4882-be3f-1d5ad6b0f9d5",
   "metadata": {},
   "outputs": [
    {
     "name": "stdout",
     "output_type": "stream",
     "text": [
      "12\n"
     ]
    }
   ],
   "source": [
    "def adding_10(n):  #parameter pass===>n\n",
    "    print(n+10)\n",
    "\n",
    "adding_10(2)\n",
    "    "
   ]
  },
  {
   "cell_type": "markdown",
   "id": "eefff8f4-95cc-49cc-a1c2-9c5f1152d0eb",
   "metadata": {},
   "source": [
    "### 3.function without parameter and with return"
   ]
  },
  {
   "cell_type": "code",
   "execution_count": 13,
   "id": "a8496778-9670-4d7a-b8bc-0ba12bf00d53",
   "metadata": {},
   "outputs": [
    {
     "name": "stdin",
     "output_type": "stream",
     "text": [
      "enter num1: 5\n",
      "enter num2: 6\n",
      "enter numm3: 6\n"
     ]
    },
    {
     "data": {
      "text/plain": [
       "180.0"
      ]
     },
     "execution_count": 13,
     "metadata": {},
     "output_type": "execute_result"
    }
   ],
   "source": [
    "def mult():\n",
    "    #a=5\n",
    "    #b=8\n",
    "    #c=2\n",
    "    a=float(input(\"enter num1:\"))\n",
    "    b=float(input(\"enter num2:\"))\n",
    "    c=float(input(\"enter numm3:\"))\n",
    "    return a*b*c\n",
    "\n",
    "mult()"
   ]
  },
  {
   "cell_type": "code",
   "execution_count": 12,
   "id": "9431a30e-1561-4087-9447-2a7fe18539fc",
   "metadata": {},
   "outputs": [
    {
     "data": {
      "text/plain": [
       "80"
      ]
     },
     "execution_count": 12,
     "metadata": {},
     "output_type": "execute_result"
    }
   ],
   "source": [
    "def mult():\n",
    "    a=5\n",
    "    b=8\n",
    "    c=2\n",
    "    return a*b*c\n",
    "\n",
    "mult()"
   ]
  },
  {
   "cell_type": "markdown",
   "id": "37ba4c33-9e0e-48cd-85a3-25e96df3166a",
   "metadata": {},
   "source": [
    "### 4.function without parameter and without return"
   ]
  },
  {
   "cell_type": "code",
   "execution_count": 22,
   "id": "a769b8c3-3b0b-405c-a05b-ad58a5a02c08",
   "metadata": {},
   "outputs": [
    {
     "name": "stdin",
     "output_type": "stream",
     "text": [
      "enter num1: 4\n",
      "enter num2: 5\n",
      "enter numm3: 5\n"
     ]
    },
    {
     "name": "stdout",
     "output_type": "stream",
     "text": [
      "100.0\n"
     ]
    }
   ],
   "source": [
    "def mult():\n",
    "    #a=5\n",
    "    #b=8\n",
    "    #c=2\n",
    "    a=float(input(\"enter num1:\"))\n",
    "    b=float(input(\"enter num2:\"))\n",
    "    c=float(input(\"enter numm3:\"))\n",
    "    print (a*b*c)\n",
    "\n",
    "mult()"
   ]
  },
  {
   "cell_type": "markdown",
   "id": "8a86e59e-7bdf-4a17-9eb1-c70ada301994",
   "metadata": {},
   "source": [
    "# non keyword argument and keyword arguments"
   ]
  },
  {
   "cell_type": "code",
   "execution_count": 25,
   "id": "658371ca-f4b7-4641-8a9c-6cb96d80174c",
   "metadata": {
    "scrolled": true
   },
   "outputs": [
    {
     "name": "stdout",
     "output_type": "stream",
     "text": [
      "['__doc__', '__loader__', '__name__', '__package__', '__spec__', 'acos', 'acosh', 'asin', 'asinh', 'atan', 'atan2', 'atanh', 'cbrt', 'ceil', 'comb', 'copysign', 'cos', 'cosh', 'degrees', 'dist', 'e', 'erf', 'erfc', 'exp', 'exp2', 'expm1', 'fabs', 'factorial', 'floor', 'fmod', 'frexp', 'fsum', 'gamma', 'gcd', 'hypot', 'inf', 'isclose', 'isfinite', 'isinf', 'isnan', 'isqrt', 'lcm', 'ldexp', 'lgamma', 'log', 'log10', 'log1p', 'log2', 'modf', 'nan', 'nextafter', 'perm', 'pi', 'pow', 'prod', 'radians', 'remainder', 'sin', 'sinh', 'sqrt', 'sumprod', 'tan', 'tanh', 'tau', 'trunc', 'ulp']\n"
     ]
    }
   ],
   "source": [
    "import math\n",
    "print(dir(math))"
   ]
  },
  {
   "cell_type": "code",
   "execution_count": 26,
   "id": "a3fe5b80-8119-4cf4-b705-38fe00b01c28",
   "metadata": {},
   "outputs": [],
   "source": [
    "from math import *"
   ]
  },
  {
   "cell_type": "code",
   "execution_count": 2,
   "id": "5b728644-eaae-4dea-8929-18dd7f638e69",
   "metadata": {},
   "outputs": [
    {
     "data": {
      "text/plain": [
       "15"
      ]
     },
     "execution_count": 2,
     "metadata": {},
     "output_type": "execute_result"
    }
   ],
   "source": [
    "#non keyword arguments   #variablenames \n",
    "#allows a functions any numbers of positional arrguments \n",
    "#10 numbers addition\n",
    "def total(*args):    #collectersd as tuple \n",
    "    t=0\n",
    "    for num in args:\n",
    "        t=t+num\n",
    "    return t \n",
    "total(1,2,3,4,5)"
   ]
  },
  {
   "cell_type": "code",
   "execution_count": 3,
   "id": "b4a18593-18f9-493e-850e-51e65bfe813f",
   "metadata": {},
   "outputs": [
    {
     "ename": "NameError",
     "evalue": "name 'Key' is not defined",
     "output_type": "error",
     "traceback": [
      "\u001b[1;31m---------------------------------------------------------------------------\u001b[0m",
      "\u001b[1;31mNameError\u001b[0m                                 Traceback (most recent call last)",
      "Cell \u001b[1;32mIn[3], line 7\u001b[0m\n\u001b[0;32m      5\u001b[0m     \u001b[38;5;28;01mfor\u001b[39;00m key,value \u001b[38;5;129;01min\u001b[39;00m details\u001b[38;5;241m.\u001b[39mitems():\n\u001b[0;32m      6\u001b[0m         \u001b[38;5;28mprint\u001b[39m(\u001b[38;5;124mf\u001b[39m\u001b[38;5;124m\"\u001b[39m\u001b[38;5;132;01m{\u001b[39;00mKey\u001b[38;5;132;01m}\u001b[39;00m\u001b[38;5;124m=\u001b[39m\u001b[38;5;132;01m{\u001b[39;00mvalue\u001b[38;5;132;01m}\u001b[39;00m\u001b[38;5;124m\"\u001b[39m)\n\u001b[1;32m----> 7\u001b[0m my_func(name\u001b[38;5;241m=\u001b[39m\u001b[38;5;124m\"\u001b[39m\u001b[38;5;124mchetna\u001b[39m\u001b[38;5;124m\"\u001b[39m,city\u001b[38;5;241m=\u001b[39m\u001b[38;5;124m\"\u001b[39m\u001b[38;5;124mpune\u001b[39m\u001b[38;5;124m\"\u001b[39m,course\u001b[38;5;241m=\u001b[39m\u001b[38;5;124m\"\u001b[39m\u001b[38;5;124mAI\u001b[39m\u001b[38;5;124m\"\u001b[39m,age\u001b[38;5;241m=\u001b[39m\u001b[38;5;241m29\u001b[39m)\n",
      "Cell \u001b[1;32mIn[3], line 6\u001b[0m, in \u001b[0;36mmy_func\u001b[1;34m(**details)\u001b[0m\n\u001b[0;32m      4\u001b[0m \u001b[38;5;28;01mdef\u001b[39;00m \u001b[38;5;21mmy_func\u001b[39m(\u001b[38;5;241m*\u001b[39m\u001b[38;5;241m*\u001b[39mdetails):\n\u001b[0;32m      5\u001b[0m     \u001b[38;5;28;01mfor\u001b[39;00m key,value \u001b[38;5;129;01min\u001b[39;00m details\u001b[38;5;241m.\u001b[39mitems():\n\u001b[1;32m----> 6\u001b[0m         \u001b[38;5;28mprint\u001b[39m(\u001b[38;5;124mf\u001b[39m\u001b[38;5;124m\"\u001b[39m\u001b[38;5;132;01m{\u001b[39;00mKey\u001b[38;5;132;01m}\u001b[39;00m\u001b[38;5;124m=\u001b[39m\u001b[38;5;132;01m{\u001b[39;00mvalue\u001b[38;5;132;01m}\u001b[39;00m\u001b[38;5;124m\"\u001b[39m)\n",
      "\u001b[1;31mNameError\u001b[0m: name 'Key' is not defined"
     ]
    }
   ],
   "source": [
    "#Keyword arrguments   **variablename \n",
    "#allows afun to acess daily number of keyword arguments \n",
    "#collected as a dictionary \n",
    "def my_func(**details):\n",
    "    for key,value in details.items():\n",
    "        print(f\"{Key}={value}\")\n",
    "my_func(name=\"chetna\",city=\"pune\",course=\"AI\",age=29)\n"
   ]
  },
  {
   "cell_type": "markdown",
   "id": "cf67379e-43e6-4913-9995-c1fc201af843",
   "metadata": {},
   "source": [
    "# Scope of variables"
   ]
  },
  {
   "cell_type": "code",
   "execution_count": 4,
   "id": "078a961c-c629-4a1a-981b-7115ac5d3a53",
   "metadata": {},
   "outputs": [],
   "source": [
    "#limit"
   ]
  },
  {
   "cell_type": "markdown",
   "id": "7b11f107-feae-434b-8bb8-700a349eff4d",
   "metadata": {},
   "source": [
    "### Local scope"
   ]
  },
  {
   "cell_type": "code",
   "execution_count": 5,
   "id": "fc0f4bff-4798-4d7a-b0db-5621a3c27d4b",
   "metadata": {},
   "outputs": [
    {
     "data": {
      "text/plain": [
       "21"
      ]
     },
     "execution_count": 5,
     "metadata": {},
     "output_type": "execute_result"
    }
   ],
   "source": [
    "#variables scope inside only in a function\n",
    "def add(p,q): #with parameter \n",
    "    l=10  # p,q,r:local variables \n",
    "    return p+q+l\n",
    "\n",
    "add(5,6)"
   ]
  },
  {
   "cell_type": "code",
   "execution_count": 6,
   "id": "194a93cf-2e0f-42c2-a13c-22cc4ed1573f",
   "metadata": {},
   "outputs": [
    {
     "ename": "NameError",
     "evalue": "name 'p' is not defined",
     "output_type": "error",
     "traceback": [
      "\u001b[1;31m---------------------------------------------------------------------------\u001b[0m",
      "\u001b[1;31mNameError\u001b[0m                                 Traceback (most recent call last)",
      "Cell \u001b[1;32mIn[6], line 1\u001b[0m\n\u001b[1;32m----> 1\u001b[0m \u001b[38;5;28mprint\u001b[39m(p)\n",
      "\u001b[1;31mNameError\u001b[0m: name 'p' is not defined"
     ]
    }
   ],
   "source": [
    "print(p)"
   ]
  },
  {
   "cell_type": "code",
   "execution_count": 7,
   "id": "d24910a1-3643-4fbe-a84d-fefa40355e61",
   "metadata": {},
   "outputs": [
    {
     "ename": "NameError",
     "evalue": "name 'l' is not defined",
     "output_type": "error",
     "traceback": [
      "\u001b[1;31m---------------------------------------------------------------------------\u001b[0m",
      "\u001b[1;31mNameError\u001b[0m                                 Traceback (most recent call last)",
      "Cell \u001b[1;32mIn[7], line 1\u001b[0m\n\u001b[1;32m----> 1\u001b[0m \u001b[38;5;28mprint\u001b[39m(l)\n",
      "\u001b[1;31mNameError\u001b[0m: name 'l' is not defined"
     ]
    }
   ],
   "source": [
    "print(l)"
   ]
  },
  {
   "cell_type": "code",
   "execution_count": 8,
   "id": "b69324a9-f46b-471d-b70b-57052b2771e6",
   "metadata": {},
   "outputs": [
    {
     "data": {
      "text/plain": [
       "80"
      ]
     },
     "execution_count": 8,
     "metadata": {},
     "output_type": "execute_result"
    }
   ],
   "source": [
    "v=55 #global variable\n",
    "def add(m):\n",
    "    return v+m\n",
    "\n",
    "add(25)"
   ]
  },
  {
   "cell_type": "code",
   "execution_count": 10,
   "id": "61f5ebe4-a21b-4730-add4-9f053f0d3f90",
   "metadata": {},
   "outputs": [
    {
     "ename": "NameError",
     "evalue": "name 'm' is not defined",
     "output_type": "error",
     "traceback": [
      "\u001b[1;31m---------------------------------------------------------------------------\u001b[0m",
      "\u001b[1;31mNameError\u001b[0m                                 Traceback (most recent call last)",
      "Cell \u001b[1;32mIn[10], line 1\u001b[0m\n\u001b[1;32m----> 1\u001b[0m \u001b[38;5;28mprint\u001b[39m(m)\n",
      "\u001b[1;31mNameError\u001b[0m: name 'm' is not defined"
     ]
    }
   ],
   "source": [
    "print(m)   #local cvariable"
   ]
  },
  {
   "cell_type": "code",
   "execution_count": 11,
   "id": "fa3ed443-e798-4b93-9513-d67a22054dcd",
   "metadata": {},
   "outputs": [
    {
     "name": "stdout",
     "output_type": "stream",
     "text": [
      "55\n"
     ]
    }
   ],
   "source": [
    "print(v)"
   ]
  },
  {
   "cell_type": "markdown",
   "id": "44f46d75-8ec3-4fa2-99e1-e3c616d548c4",
   "metadata": {},
   "source": [
    "# Nested Function"
   ]
  },
  {
   "cell_type": "code",
   "execution_count": 14,
   "id": "8afe6b4a-f49f-45f0-8eb9-dc7e2acd8f0c",
   "metadata": {},
   "outputs": [],
   "source": [
    "g=40 #global:outside fun\n",
    "def airthmatic(n,h): #n,h: local variables main fun\n",
    "    print(n,h,g)\n",
    "    def inner_fn(e,r): # local\n",
    "        return e+r+g+n+h\n",
    "\n",
    "    return inner_fn(4,5)  #bottom to top "
   ]
  },
  {
   "cell_type": "code",
   "execution_count": 21,
   "id": "90558899-2002-42d2-b0c1-592055760719",
   "metadata": {},
   "outputs": [
    {
     "name": "stdout",
     "output_type": "stream",
     "text": [
      "2 3 40\n"
     ]
    },
    {
     "data": {
      "text/plain": [
       "54"
      ]
     },
     "execution_count": 21,
     "metadata": {},
     "output_type": "execute_result"
    }
   ],
   "source": [
    "airthmatic(2,3)"
   ]
  },
  {
   "cell_type": "code",
   "execution_count": 22,
   "id": "696de5aa-440b-4326-a1e6-1769fe24f249",
   "metadata": {},
   "outputs": [],
   "source": [
    "#step 1: n=2,h=3\n",
    "#step 2: 2,3,40\n",
    "#step3: bottom:last line:inner fun call\n"
   ]
  },
  {
   "cell_type": "code",
   "execution_count": 23,
   "id": "b412cc98-bfcd-403d-af34-beaf41cf8704",
   "metadata": {},
   "outputs": [
    {
     "name": "stdout",
     "output_type": "stream",
     "text": [
      "5 6 40\n"
     ]
    },
    {
     "data": {
      "text/plain": [
       "60"
      ]
     },
     "execution_count": 23,
     "metadata": {},
     "output_type": "execute_result"
    }
   ],
   "source": [
    "def airthmetic(n,h): # n,h:local variable main function \n",
    "    print(n,h,g)\n",
    "    def inner_fn(e,r):\n",
    "        return e+r+g+n+h \n",
    "    def inner2(a,b):\n",
    "        return a+b+n+h+g\n",
    "        return inner_fn(4,5),inner2(1,2)\n",
    "\n",
    "airthmatic(5,6)"
   ]
  },
  {
   "cell_type": "code",
   "execution_count": 27,
   "id": "04ac2dff-092f-42a0-b81c-342f29d151a4",
   "metadata": {},
   "outputs": [
    {
     "name": "stdout",
     "output_type": "stream",
     "text": [
      "start making tea\n"
     ]
    },
    {
     "data": {
      "text/plain": [
       "('Boiling water', 'adding tead powder', 'adding milk and suger')"
      ]
     },
     "execution_count": 27,
     "metadata": {},
     "output_type": "execute_result"
    }
   ],
   "source": [
    "def make_tea():\n",
    "    print( \"start making tea\")\n",
    "    def boil_water():\n",
    "        return \"Boiling water\"\n",
    "    def add_tea_powder():\n",
    "        return \"adding tead powder\"\n",
    "    def add_milk_suger():\n",
    "        return \"adding milk and suger\"\n",
    "    return boil_water(),add_tea_powder(),add_milk_suger()\n",
    "\n",
    "make_tea()\n",
    "#in one function we can only one retutrn \n",
    "#we can use multiple print\n",
    "\n",
    "\n",
    "\n",
    "    "
   ]
  },
  {
   "cell_type": "code",
   "execution_count": 28,
   "id": "36ac9c9d-9184-4558-81ca-542d79a5a55e",
   "metadata": {},
   "outputs": [
    {
     "data": {
      "text/plain": [
       "(10, 7)"
      ]
     },
     "execution_count": 28,
     "metadata": {},
     "output_type": "execute_result"
    }
   ],
   "source": [
    "def add_mult(a,b):\n",
    "    #first return\n",
    "    return a*b,a+b\n",
    "\n",
    "add_mult(2,5)"
   ]
  },
  {
   "cell_type": "code",
   "execution_count": 30,
   "id": "dd5ecea2-f885-4642-ba11-aa67f297e2ff",
   "metadata": {},
   "outputs": [
    {
     "name": "stdout",
     "output_type": "stream",
     "text": [
      "start making tea\n",
      "Boiling water\n",
      "adding tea powder\n",
      "adding milk and suger\n"
     ]
    }
   ],
   "source": [
    "def make_tea():\n",
    "    print( \"start making tea\")\n",
    "    def boil_water():\n",
    "        return \"Boiling water\"\n",
    "    def add_tea_powder():\n",
    "        return \"adding tea powder\"\n",
    "    def add_milk_suger():\n",
    "        return \"adding milk and suger\"\n",
    "    print(boil_water())\n",
    "    print(add_tea_powder())\n",
    "    print(add_milk_suger())\n",
    "    \n",
    "make_tea()"
   ]
  },
  {
   "cell_type": "code",
   "execution_count": null,
   "id": "45fdcd4b-70a2-4ca8-8334-ee73e509ef88",
   "metadata": {},
   "outputs": [],
   "source": [
    "#lamda function\n",
    "#list comprension \n",
    "#one liner of python "
   ]
  }
 ],
 "metadata": {
  "kernelspec": {
   "display_name": "Python 3 (ipykernel)",
   "language": "python",
   "name": "python3"
  },
  "language_info": {
   "codemirror_mode": {
    "name": "ipython",
    "version": 3
   },
   "file_extension": ".py",
   "mimetype": "text/x-python",
   "name": "python",
   "nbconvert_exporter": "python",
   "pygments_lexer": "ipython3",
   "version": "3.12.7"
  }
 },
 "nbformat": 4,
 "nbformat_minor": 5
}
