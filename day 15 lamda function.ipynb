{
 "cells": [
  {
   "cell_type": "markdown",
   "id": "189b2af5-bf6c-474a-9106-38af6d2a0773",
   "metadata": {},
   "source": [
    "- Anonymous fn - Hide ===> no need to declare or given game to this function  \n",
    "   - def addition ():\n",
    "- lamda function will take any no. of argument /parametr /variables but it will take only one expression \n",
    "- immediate answer ,when we have only one expression "
   ]
  },
  {
   "cell_type": "code",
   "execution_count": null,
   "id": "930ea8a1-73f0-4c1d-97be-d74bdf432934",
   "metadata": {},
   "outputs": [],
   "source": [
    "#syntax \n",
    "#variable===.lamda argument /parameter /variables: expression "
   ]
  },
  {
   "cell_type": "code",
   "execution_count": 5,
   "id": "dc63ddda-b7f4-48e6-b9d2-545dbbb8735b",
   "metadata": {},
   "outputs": [
    {
     "data": {
      "text/plain": [
       "(7, -5)"
      ]
     },
     "execution_count": 5,
     "metadata": {},
     "output_type": "execute_result"
    }
   ],
   "source": [
    "#addition of 3 numbers \n",
    "def add(a,b,c):\n",
    "    return a+b+c, a-b-c\n",
    "\n",
    "add(1,2,4)"
   ]
  },
  {
   "cell_type": "code",
   "execution_count": 9,
   "id": "2ad1262b-78e5-4b49-a074-209955cbf368",
   "metadata": {},
   "outputs": [
    {
     "data": {
      "text/plain": [
       "7"
      ]
     },
     "execution_count": 9,
     "metadata": {},
     "output_type": "execute_result"
    }
   ],
   "source": [
    "x=lambda a,b,c : a+b+c\n",
    "x(1,2,4)"
   ]
  },
  {
   "cell_type": "code",
   "execution_count": 10,
   "id": "1796b97a-e83b-4437-ade3-76b99e17a4e9",
   "metadata": {},
   "outputs": [],
   "source": [
    "#square of a number\n",
    "def sqr(num):\n",
    "    return num*num   #num**2\n",
    "    \n"
   ]
  },
  {
   "cell_type": "code",
   "execution_count": 11,
   "id": "f3cd648e-028b-4f32-9961-12f12c4670b9",
   "metadata": {},
   "outputs": [
    {
     "data": {
      "text/plain": [
       "100"
      ]
     },
     "execution_count": 11,
     "metadata": {},
     "output_type": "execute_result"
    }
   ],
   "source": [
    "sqr(10)"
   ]
  },
  {
   "cell_type": "code",
   "execution_count": 13,
   "id": "e1a79f41-cec1-4d66-9a25-c5f445fc0c74",
   "metadata": {},
   "outputs": [
    {
     "data": {
      "text/plain": [
       "100"
      ]
     },
     "execution_count": 13,
     "metadata": {},
     "output_type": "execute_result"
    }
   ],
   "source": [
    "sqr= lambda num:num**2\n",
    "sqr(10)   #variable name (parameter value)"
   ]
  },
  {
   "cell_type": "code",
   "execution_count": 17,
   "id": "236b0f6b-4d21-402a-8afe-913bcc297b24",
   "metadata": {},
   "outputs": [
    {
     "data": {
      "text/plain": [
       "40"
      ]
     },
     "execution_count": 17,
     "metadata": {},
     "output_type": "execute_result"
    }
   ],
   "source": [
    "#adding 20 to any number\n",
    "def adding_20(n):\n",
    "    return  n+20\n",
    "adding_20(20)"
   ]
  },
  {
   "cell_type": "code",
   "execution_count": 18,
   "id": "0d99d354-69e2-4cff-bb1d-00d44272d3a3",
   "metadata": {},
   "outputs": [
    {
     "data": {
      "text/plain": [
       "40"
      ]
     },
     "execution_count": 18,
     "metadata": {},
     "output_type": "execute_result"
    }
   ],
   "source": [
    "a=lambda n:n+20\n",
    "a(20)"
   ]
  },
  {
   "cell_type": "markdown",
   "id": "eff6e0ca-cb2c-4108-91a4-3e4afb1183ea",
   "metadata": {},
   "source": [
    "# conditional value with lambda"
   ]
  },
  {
   "cell_type": "code",
   "execution_count": 24,
   "id": "91694d50-2a01-47bd-b104-1cfc50d0b429",
   "metadata": {},
   "outputs": [
    {
     "name": "stdout",
     "output_type": "stream",
     "text": [
      "pass\n"
     ]
    }
   ],
   "source": [
    "#check score , if score<35,   \"fail\"  ,otherwise \"pass\"\n",
    "#regular def function \n",
    "def score_ckecking(score):\n",
    "    if score<35:\n",
    "        print(\"fail\")\n",
    "    else:\n",
    "        print(\"pass\")\n",
    "\n",
    "score_ckecking(55)\n",
    "\n"
   ]
  },
  {
   "cell_type": "code",
   "execution_count": 30,
   "id": "eff842d6-bdb4-442f-9bfc-6393a0370629",
   "metadata": {},
   "outputs": [
    {
     "data": {
      "text/plain": [
       "'Fail'"
      ]
     },
     "execution_count": 30,
     "metadata": {},
     "output_type": "execute_result"
    }
   ],
   "source": [
    "score_checking=lambda score: \"Pass\" if score>35 else \"Fail\"\n",
    "score_checking(34)"
   ]
  },
  {
   "cell_type": "markdown",
   "id": "747cd50f-2c47-419c-958f-f1bbc12f2383",
   "metadata": {},
   "source": [
    "## lamda function with map(),filter(),reduce() and sorted()"
   ]
  },
  {
   "cell_type": "code",
   "execution_count": 36,
   "id": "8ee5a8ae-d6b4-4638-b229-f15e73718812",
   "metadata": {},
   "outputs": [
    {
     "name": "stdout",
     "output_type": "stream",
     "text": [
      "[1, 2, 45, 6]\n",
      "[-4, -5, -7]\n"
     ]
    }
   ],
   "source": [
    "#filter\n",
    "#list:filter values from any list\n",
    "#l=[1,2,45,-4,-5,6,-7]====>filter positive number and negative numbers \n",
    "#regular function \n",
    "def filter_numbers(sequence):\n",
    "    positive=[]\n",
    "    negative=[]\n",
    "    for num in sequence:\n",
    "        if num>0:\n",
    "            positive.append(num)\n",
    "        else:\n",
    "            negative.append(num)\n",
    "    #return positive,negative\n",
    "    print(positive)\n",
    "    print(negative)\n",
    "          \n",
    "\n",
    "\n",
    "filter_numbers([1,2,45,-4,-5,6,-7])\n",
    "            \n",
    "            "
   ]
  },
  {
   "cell_type": "code",
   "execution_count": 46,
   "id": "6939b8c4-7453-41b5-a3fb-4d50c3e0f749",
   "metadata": {},
   "outputs": [
    {
     "name": "stdout",
     "output_type": "stream",
     "text": [
      "[1, 2, 45, 6]\n",
      "[-4, -5, -7]\n"
     ]
    }
   ],
   "source": [
    "#using filter()fun and lambda\n",
    "#filter():===>syntax==> list(filter(fn name,sequence())\n",
    "\n",
    "l=[1,2,45,-4,-5,6,-7]\n",
    "positive=list(filter(lambda x:x>0,l))\n",
    "negative=list(filter(lambda x:x<0,l))\n",
    "\n",
    "print(positive)\n",
    "print(negative)\n",
    "          \n",
    "         "
   ]
  },
  {
   "cell_type": "code",
   "execution_count": 52,
   "id": "649a254f-36f6-4f8c-b84a-8dc49e28a142",
   "metadata": {},
   "outputs": [
    {
     "data": {
      "text/plain": [
       "[2, 4, 6, 6, 2, 4, 6, 8, 10]"
      ]
     },
     "execution_count": 52,
     "metadata": {},
     "output_type": "execute_result"
    }
   ],
   "source": [
    "list1=[1,2,3,1,3,4,6,7,9,5,6,81,2,4,6,8,9,10]\n",
    "#filter even\n",
    "def even(sequence):\n",
    "    e=[]\n",
    "    for i in sequence:\n",
    "        if i%2==0:\n",
    "            e.append(i)\n",
    "\n",
    "    return e\n",
    "\n",
    "even(list1)"
   ]
  },
  {
   "cell_type": "code",
   "execution_count": 54,
   "id": "bab4a354-284c-481d-84d9-648535ed56ad",
   "metadata": {},
   "outputs": [
    {
     "data": {
      "text/plain": [
       "[2, 4, 6, 6, 2, 4, 6, 8, 10]"
      ]
     },
     "execution_count": 54,
     "metadata": {},
     "output_type": "execute_result"
    }
   ],
   "source": [
    "even=list(filter(lambda i:i%2==0,list1))\n",
    "even"
   ]
  },
  {
   "cell_type": "markdown",
   "id": "8e3165d6-fa9c-4ea5-b31e-4d23aa6217f6",
   "metadata": {},
   "source": [
    "# Task"
   ]
  },
  {
   "cell_type": "code",
   "execution_count": null,
   "id": "f83ca99b-2559-40d0-9568-7e9211529cef",
   "metadata": {},
   "outputs": [],
   "source": [
    "# 1 filter strings staring with \"A\"\n",
    "name=[\"Aniket\",\"Adity\",\"chetna\",\"Alok\",\"Anil\"]\n",
    "#2filter student who passed marks>50)\n",
    "student=[\n",
    "    {\"name\":\"neha\",\"Marks\":78},\n",
    "    \"name\":\"Ravi\",\"Marks\":45},\n",
    "    \"name\":\"sneha\",\"Marks\":60},\n",
    "]\n",
    "#3 filter non empty strings \n",
    "words=[\"apple\",\"\",\"banana\",\"\",\"kiwi\"]\n"
   ]
  },
  {
   "cell_type": "code",
   "execution_count": 6,
   "id": "7cef4e34-dc52-4f3f-a8e8-d75d2e6f3545",
   "metadata": {},
   "outputs": [
    {
     "name": "stdout",
     "output_type": "stream",
     "text": [
      "Aniket\n",
      "Adity\n",
      "Alok\n",
      "Anil\n"
     ]
    }
   ],
   "source": [
    "# 1 filter strings staring with \"A\"\n",
    "name=[\"Aniket\",\"Adity\",\"chetna\",\"Alok\",\"Anil\"]\n",
    "def filter_string(l):\n",
    "    for word in l:\n",
    "        if word.startswith(\"A\"):\n",
    "            print(word)\n",
    "\n",
    "filter_string(name)\n",
    "\n",
    "\n",
    "\n",
    "\n",
    "\n"
   ]
  },
  {
   "cell_type": "code",
   "execution_count": 8,
   "id": "14a62d44-6c84-4234-9b4b-16d803e3d06d",
   "metadata": {},
   "outputs": [
    {
     "data": {
      "text/plain": [
       "['Aniket', 'Adity', 'Alok', 'Anil']"
      ]
     },
     "execution_count": 8,
     "metadata": {},
     "output_type": "execute_result"
    }
   ],
   "source": [
    "words=list(filter(lambda i:i.startswith(\"A\"),name))\n",
    "words"
   ]
  },
  {
   "cell_type": "code",
   "execution_count": 14,
   "id": "70c5c1f0-a3cc-4fc5-8c6b-b4470a0e6e8f",
   "metadata": {},
   "outputs": [
    {
     "name": "stdout",
     "output_type": "stream",
     "text": [
      "{'name': 'neha', 'Marks': 78}\n",
      "{'name': 'sneha', 'Marks': 60}\n"
     ]
    }
   ],
   "source": [
    "#2filter student who passed marks>50)\n",
    "students=[\n",
    "    {\"name\":\"neha\",\"Marks\":78},\n",
    "    {\"name\":\"Ravi\",\"Marks\":45},\n",
    "    {\"name\":\"sneha\",\"Marks\":60},\n",
    "]\n",
    "def filter_student(sequence):\n",
    "    for i in sequence:\n",
    "        if i [\"Marks\"]>50:\n",
    "            print(i)\n",
    "\n",
    "filter_student(students)"
   ]
  },
  {
   "cell_type": "code",
   "execution_count": 17,
   "id": "319cc7cf-1cf2-4613-ab48-87925de4d5a0",
   "metadata": {},
   "outputs": [
    {
     "data": {
      "text/plain": [
       "[{'name': 'neha', 'Marks': 78}, {'name': 'sneha', 'Marks': 60}]"
      ]
     },
     "execution_count": 17,
     "metadata": {},
     "output_type": "execute_result"
    }
   ],
   "source": [
    "passed=list(filter(lambda i:i[\"Marks\"]>50,students))\n",
    "passed"
   ]
  },
  {
   "cell_type": "code",
   "execution_count": 19,
   "id": "1047bb01-6ea0-4658-b49b-e034e950e89c",
   "metadata": {},
   "outputs": [
    {
     "name": "stdout",
     "output_type": "stream",
     "text": [
      "apple\n",
      "banana\n",
      "kiwi\n"
     ]
    }
   ],
   "source": [
    "#3 filter non empty strings \n",
    "words=[\"apple\",\"\",\"banana\",\"\",\"kiwi\"]\n",
    "def non_empty_str(l):\n",
    "    for i in l:\n",
    "        if i!=\"\":\n",
    "            print(i)\n",
    "\n",
    "non_empty_str(words)"
   ]
  },
  {
   "cell_type": "code",
   "execution_count": 20,
   "id": "b23fe2f4-cd0b-42bd-a36c-d58fd35a5c30",
   "metadata": {},
   "outputs": [
    {
     "data": {
      "text/plain": [
       "['apple', 'banana', 'kiwi']"
      ]
     },
     "execution_count": 20,
     "metadata": {},
     "output_type": "execute_result"
    }
   ],
   "source": [
    "non_empty_str=list(filter(lambda i:i!=\"\",words))\n",
    "non_empty_str\n"
   ]
  },
  {
   "cell_type": "code",
   "execution_count": 22,
   "id": "829651d9-59ed-457d-be3b-6cf35bba772e",
   "metadata": {},
   "outputs": [
    {
     "name": "stdout",
     "output_type": "stream",
     "text": [
      "elephant\n",
      "fantastic\n",
      "python\n"
     ]
    }
   ],
   "source": [
    "#4 filter words with length>5\n",
    "words=[\"hello\",\"elephant\",\"fantastic\",\"python\"]\n",
    "def len_greater_than(l):\n",
    "    for i in l:\n",
    "        if len(i)>5:\n",
    "            print(i)\n",
    "\n",
    "len_greater_than(words)\n"
   ]
  },
  {
   "cell_type": "code",
   "execution_count": 23,
   "id": "95733238-58b8-4077-a5c3-6bb9e08abd10",
   "metadata": {},
   "outputs": [
    {
     "data": {
      "text/plain": [
       "['elephant', 'fantastic', 'python']"
      ]
     },
     "execution_count": 23,
     "metadata": {},
     "output_type": "execute_result"
    }
   ],
   "source": [
    "len_greater_than5=list(filter(lambda i:len(i)>5,words))\n",
    "len_greater_than5\n"
   ]
  },
  {
   "cell_type": "code",
   "execution_count": 25,
   "id": "332830e2-e0f6-457a-b3fc-3c3f064ad12d",
   "metadata": {},
   "outputs": [
    {
     "data": {
      "text/plain": [
       "[4, 1156, 36, 49, 9, 9, 25, 4489, 64]"
      ]
     },
     "execution_count": 25,
     "metadata": {},
     "output_type": "execute_result"
    }
   ],
   "source": [
    "#lambda with map(): if applies given formula on every elements present in sequence \n",
    "\n",
    "num=[2,34,6,7,3,3,5,67,8]\n",
    "#square of every number presentt in a list \n",
    "def sqr(s):\n",
    "    l=[]\n",
    "    for i in s:\n",
    "        l.append(i*i)\n",
    "\n",
    "    return l\n",
    "\n",
    "sqr(num)\n",
    "        \n",
    "        "
   ]
  },
  {
   "cell_type": "code",
   "execution_count": 26,
   "id": "d63f9cf2-7bc1-4bf6-8dbe-ebf1cf64db60",
   "metadata": {},
   "outputs": [
    {
     "data": {
      "text/plain": [
       "[8, 39304, 216, 343, 27, 27, 125, 300763, 512]"
      ]
     },
     "execution_count": 26,
     "metadata": {},
     "output_type": "execute_result"
    }
   ],
   "source": [
    "num=[2,34,6,7,3,3,5,67,8]\n",
    "sqr=list(map(lambda i:i*i*i,num))\n",
    "sqr"
   ]
  },
  {
   "cell_type": "code",
   "execution_count": null,
   "id": "9b47165d-7ed0-4d60-bbe5-5a98fe8cccf5",
   "metadata": {},
   "outputs": [],
   "source": []
  }
 ],
 "metadata": {
  "kernelspec": {
   "display_name": "Python 3 (ipykernel)",
   "language": "python",
   "name": "python3"
  },
  "language_info": {
   "codemirror_mode": {
    "name": "ipython",
    "version": 3
   },
   "file_extension": ".py",
   "mimetype": "text/x-python",
   "name": "python",
   "nbconvert_exporter": "python",
   "pygments_lexer": "ipython3",
   "version": "3.12.7"
  }
 },
 "nbformat": 4,
 "nbformat_minor": 5
}
