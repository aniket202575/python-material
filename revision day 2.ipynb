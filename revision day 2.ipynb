{
 "cells": [
  {
   "cell_type": "markdown",
   "id": "21226d69-f1b4-48c1-9993-a46f84787242",
   "metadata": {
    "scrolled": true
   },
   "source": [
    "# Data types"
   ]
  },
  {
   "cell_type": "code",
   "execution_count": null,
   "id": "38b4ef56-9a65-4490-9787-22b3ac291096",
   "metadata": {},
   "outputs": [],
   "source": [
    "#why? #Numeric, text,dates\n",
    "• int,float,complex\n",
    "• text==>string\n",
    "• boolean==>True ,False\n",
    "• sequence==> multiple data\n",
    "•list\n",
    "• tuple\n",
    "•set\n",
    "• dict\n",
    "[ ]:\n",
    "string\n",
    "- upper\n",
    "- lower\n"
   ]
  },
  {
   "cell_type": "markdown",
   "id": "cd480f3d-0914-4c1c-8fea-b5ca556289ba",
   "metadata": {},
   "source": [
    "# Mutable and immutable"
   ]
  },
  {
   "cell_type": "markdown",
   "id": "d1c9e48e-91c9-468c-b350-9868a49eee48",
   "metadata": {},
   "source": [
    "- mutable :LSD(list,det,dicitionary)\n",
    "- immutable:int,string tuple"
   ]
  },
  {
   "cell_type": "code",
   "execution_count": null,
   "id": "0225c639-3d5d-4520-83c3-4228bccfab3e",
   "metadata": {},
   "outputs": [],
   "source": []
  },
  {
   "cell_type": "code",
   "execution_count": null,
   "id": "1e937210-8fc3-4460-a6a1-33f5ef997d72",
   "metadata": {},
   "outputs": [],
   "source": []
  },
  {
   "cell_type": "code",
   "execution_count": null,
   "id": "6b571999-dca0-4785-900f-59bde9f9830a",
   "metadata": {},
   "outputs": [],
   "source": []
  },
  {
   "cell_type": "code",
   "execution_count": null,
   "id": "879a3ddd-edcb-4e9e-aee4-22f3fcfc1e6c",
   "metadata": {},
   "outputs": [],
   "source": []
  },
  {
   "cell_type": "code",
   "execution_count": null,
   "id": "3fb7a85a-7c10-4d06-92f9-9b75e806e904",
   "metadata": {},
   "outputs": [],
   "source": []
  }
 ],
 "metadata": {
  "kernelspec": {
   "display_name": "Python 3 (ipykernel)",
   "language": "python",
   "name": "python3"
  },
  "language_info": {
   "codemirror_mode": {
    "name": "ipython",
    "version": 3
   },
   "file_extension": ".py",
   "mimetype": "text/x-python",
   "name": "python",
   "nbconvert_exporter": "python",
   "pygments_lexer": "ipython3",
   "version": "3.12.7"
  }
 },
 "nbformat": 4,
 "nbformat_minor": 5
}
