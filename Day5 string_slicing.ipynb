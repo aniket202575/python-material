{
 "cells": [
  {
   "cell_type": "markdown",
   "id": "b9208cf8-2f9a-4995-9ec7-58e70a7614a8",
   "metadata": {},
   "source": [
    "# string slicing"
   ]
  },
  {
   "cell_type": "markdown",
   "id": "30ad2698-cc6c-44db-af60-851e606e4a41",
   "metadata": {},
   "source": [
    "## slicing :extract part of the string using index"
   ]
  },
  {
   "cell_type": "code",
   "execution_count": 5,
   "id": "6f9ae950-df89-4bea-a5ce-df89591be192",
   "metadata": {},
   "outputs": [
    {
     "data": {
      "text/plain": [
       "'S'"
      ]
     },
     "execution_count": 5,
     "metadata": {},
     "output_type": "execute_result"
    }
   ],
   "source": [
    "s=\"Data Science\"\n",
    "#only one character ====>stringname[index]\n",
    "s[5] #postive"
   ]
  },
  {
   "cell_type": "code",
   "execution_count": 6,
   "id": "a68753f8-34b6-457e-897a-072078efd2c2",
   "metadata": {},
   "outputs": [
    {
     "data": {
      "text/plain": [
       "'S'"
      ]
     },
     "execution_count": 6,
     "metadata": {},
     "output_type": "execute_result"
    }
   ],
   "source": [
    "s[-7]"
   ]
  },
  {
   "cell_type": "code",
   "execution_count": 7,
   "id": "fcd647b9-6d0c-425f-8315-8471d85490da",
   "metadata": {},
   "outputs": [
    {
     "name": "stdout",
     "output_type": "stream",
     "text": [
      "Science\n"
     ]
    }
   ],
   "source": [
    "# part of the string===>stringnmae[startnum:stopvalue(1 extra):stepsize]\n",
    "#staertnum: bydefault 0\n",
    "#stop value :bydefault:last char\n",
    "# stepwise bydefault=1\n",
    "#1 vhar skip: stepwise:2\n",
    "#2 char skip:stepwise:3\n",
    "print(s[5:12:1])#positive slicing "
   ]
  },
  {
   "cell_type": "code",
   "execution_count": 8,
   "id": "7594ac33-4767-4106-bac5-9a2fc95eeb0d",
   "metadata": {},
   "outputs": [
    {
     "name": "stdout",
     "output_type": "stream",
     "text": [
      "Science\n"
     ]
    }
   ],
   "source": [
    "print(s[5:12])"
   ]
  },
  {
   "cell_type": "raw",
   "id": "39a78cc8-b97b-4a83-877b-fc8abdcd8550",
   "metadata": {},
   "source": [
    "print(s[12:1])"
   ]
  },
  {
   "cell_type": "code",
   "execution_count": 9,
   "id": "ab83d95a-4e15-439e-bbca-b1edd0de5db0",
   "metadata": {},
   "outputs": [
    {
     "data": {
      "text/plain": [
       "'Science'"
      ]
     },
     "execution_count": 9,
     "metadata": {},
     "output_type": "execute_result"
    }
   ],
   "source": [
    "#extract science using negatibve slicing\n",
    "#e stop character===>-1\n",
    "s[-7::1]"
   ]
  },
  {
   "cell_type": "code",
   "execution_count": 10,
   "id": "7316b100-5138-40ef-917c-1571665c380c",
   "metadata": {},
   "outputs": [
    {
     "data": {
      "text/plain": [
       "'Scien'"
      ]
     },
     "execution_count": 10,
     "metadata": {},
     "output_type": "execute_result"
    }
   ],
   "source": [
    "s[-7:-2:1]"
   ]
  },
  {
   "cell_type": "code",
   "execution_count": 11,
   "id": "ef1fc812-ce58-491c-8c63-59f04f283142",
   "metadata": {},
   "outputs": [
    {
     "data": {
      "text/plain": [
       "'ecneicS ataD'"
      ]
     },
     "execution_count": 11,
     "metadata": {},
     "output_type": "execute_result"
    }
   ],
   "source": [
    "#reverse whole string\n",
    "s[::-1]"
   ]
  },
  {
   "cell_type": "code",
   "execution_count": 12,
   "id": "bf82ab1f-71d9-478d-a9fd-66b66ad40c2e",
   "metadata": {},
   "outputs": [
    {
     "data": {
      "text/plain": [
       "'Dt ce'"
      ]
     },
     "execution_count": 12,
     "metadata": {},
     "output_type": "execute_result"
    }
   ],
   "source": [
    "s=\"Data Science\"\n",
    "#extract: Dt ce\n",
    "s[0:9:2]"
   ]
  },
  {
   "cell_type": "code",
   "execution_count": 13,
   "id": "8746f077-9e7c-4cc3-b674-799794341e53",
   "metadata": {},
   "outputs": [
    {
     "data": {
      "text/plain": [
       "'ataD'"
      ]
     },
     "execution_count": 13,
     "metadata": {},
     "output_type": "execute_result"
    }
   ],
   "source": [
    "#reverse \"Data\" word===>\"ataD\n",
    "s=\"Data Science\"\n",
    "#positive\n",
    "s[3::-1]"
   ]
  },
  {
   "cell_type": "code",
   "execution_count": 14,
   "id": "8b9a95e9-e204-4351-bb98-197af2e32f5a",
   "metadata": {
    "scrolled": true
   },
   "outputs": [
    {
     "data": {
      "text/plain": [
       "'ecneicS'"
      ]
     },
     "execution_count": 14,
     "metadata": {},
     "output_type": "execute_result"
    }
   ],
   "source": [
    "#reverse \"science\"\n",
    "s[11:4:-1]"
   ]
  },
  {
   "cell_type": "code",
   "execution_count": 15,
   "id": "6b11526c-cf56-4346-b697-2f24a825f99d",
   "metadata": {},
   "outputs": [],
   "source": [
    "s=\"Data Science and data analysis\""
   ]
  },
  {
   "cell_type": "code",
   "execution_count": 16,
   "id": "33d7a298-a7f5-418f-bc89-ad950673d467",
   "metadata": {},
   "outputs": [
    {
     "data": {
      "text/plain": [
       "'Science'"
      ]
     },
     "execution_count": 16,
     "metadata": {},
     "output_type": "execute_result"
    }
   ],
   "source": [
    "#extract sciennce word using the +ve and -ve\n",
    "#+ve \n",
    "s[5:12]"
   ]
  },
  {
   "cell_type": "code",
   "execution_count": 17,
   "id": "073b5486-3673-43b7-9529-0faa7aae14fd",
   "metadata": {},
   "outputs": [
    {
     "data": {
      "text/plain": [
       "'Science'"
      ]
     },
     "execution_count": 17,
     "metadata": {},
     "output_type": "execute_result"
    }
   ],
   "source": [
    "#-ve \n",
    "s[-25:-18]"
   ]
  },
  {
   "cell_type": "code",
   "execution_count": 18,
   "id": "3c03b1bb-8fd8-44d0-ad50-844c9f2e65c3",
   "metadata": {},
   "outputs": [
    {
     "data": {
      "text/plain": [
       "'ecneicS'"
      ]
     },
     "execution_count": 18,
     "metadata": {},
     "output_type": "execute_result"
    }
   ],
   "source": [
    "#revers esciencce word\n",
    "#+ve \n",
    "s[11:4:-1]\n"
   ]
  },
  {
   "cell_type": "code",
   "execution_count": 19,
   "id": "a8e80193-2400-4f92-8d4c-d7846ac37a77",
   "metadata": {},
   "outputs": [
    {
     "data": {
      "text/plain": [
       "'ecneicS'"
      ]
     },
     "execution_count": 19,
     "metadata": {},
     "output_type": "execute_result"
    }
   ],
   "source": [
    "#-ve \n",
    "s[-19:-26:-1]"
   ]
  },
  {
   "cell_type": "code",
   "execution_count": 20,
   "id": "efc5247f-ec1e-4c40-855f-982f6d05d8ae",
   "metadata": {},
   "outputs": [
    {
     "data": {
      "text/plain": [
       "'analysis'"
      ]
     },
     "execution_count": 20,
     "metadata": {},
     "output_type": "execute_result"
    }
   ],
   "source": [
    "#extract analyusis word \n",
    "#+ve \n",
    "s[22:]"
   ]
  },
  {
   "cell_type": "code",
   "execution_count": 21,
   "id": "1ba95d2f-4374-49d0-bba2-cd31e6a378bf",
   "metadata": {},
   "outputs": [
    {
     "data": {
      "text/plain": [
       "'and data analysis'"
      ]
     },
     "execution_count": 21,
     "metadata": {},
     "output_type": "execute_result"
    }
   ],
   "source": [
    "s[13:]"
   ]
  },
  {
   "cell_type": "code",
   "execution_count": 22,
   "id": "2e3b1a9c-fc73-4c89-8856-0e6ced47cee0",
   "metadata": {},
   "outputs": [
    {
     "data": {
      "text/plain": [
       "'analysis'"
      ]
     },
     "execution_count": 22,
     "metadata": {},
     "output_type": "execute_result"
    }
   ],
   "source": [
    "#-ve \n",
    "s[-8:]"
   ]
  },
  {
   "cell_type": "code",
   "execution_count": 23,
   "id": "bda62a9c-4382-436c-b18a-e6eb28805cc2",
   "metadata": {},
   "outputs": [
    {
     "data": {
      "text/plain": [
       "'sisylana'"
      ]
     },
     "execution_count": 23,
     "metadata": {},
     "output_type": "execute_result"
    }
   ],
   "source": [
    "#reverse  analyusis word \n",
    "#+ve \n",
    "s[29:21:-1]"
   ]
  },
  {
   "cell_type": "code",
   "execution_count": 24,
   "id": "2c017eac-ff99-419d-8ce3-13312971b668",
   "metadata": {},
   "outputs": [
    {
     "data": {
      "text/plain": [
       "'sisylana'"
      ]
     },
     "execution_count": 24,
     "metadata": {},
     "output_type": "execute_result"
    }
   ],
   "source": [
    "#-ve  slicing\n",
    "s[-1:-9:-1]"
   ]
  },
  {
   "cell_type": "code",
   "execution_count": 25,
   "id": "f4137601-bcef-4e26-a6d0-ce8eb839d435",
   "metadata": {},
   "outputs": [
    {
     "data": {
      "text/plain": [
       "'sisylana atad dna ecneicS ataD'"
      ]
     },
     "execution_count": 25,
     "metadata": {},
     "output_type": "execute_result"
    }
   ],
   "source": [
    "s[::-1]"
   ]
  },
  {
   "cell_type": "code",
   "execution_count": 26,
   "id": "f8b94624-9dbd-4679-8b82-6d37b69ad704",
   "metadata": {},
   "outputs": [
    {
     "data": {
      "text/plain": [
       "[4, 5]"
      ]
     },
     "execution_count": 26,
     "metadata": {},
     "output_type": "execute_result"
    }
   ],
   "source": [
    "l=[1,2,3,4,5]\n",
    "l[3:]"
   ]
  },
  {
   "cell_type": "code",
   "execution_count": 27,
   "id": "8615ca8e-e5d8-461a-8370-c22e213e9f8e",
   "metadata": {},
   "outputs": [
    {
     "data": {
      "text/plain": [
       "[5, 4]"
      ]
     },
     "execution_count": 27,
     "metadata": {},
     "output_type": "execute_result"
    }
   ],
   "source": [
    "l[-1:-3:-1]"
   ]
  },
  {
   "cell_type": "code",
   "execution_count": 28,
   "id": "80b4d84c-5524-45c1-93dd-b3ae99ca6950",
   "metadata": {},
   "outputs": [
    {
     "data": {
      "text/plain": [
       "[5, 4, 3, 2, 1]"
      ]
     },
     "execution_count": 28,
     "metadata": {},
     "output_type": "execute_result"
    }
   ],
   "source": [
    "l[::-1]"
   ]
  },
  {
   "cell_type": "code",
   "execution_count": 29,
   "id": "9e0434ef-5322-4df9-9b76-22e4e1ab8747",
   "metadata": {},
   "outputs": [
    {
     "data": {
      "text/plain": [
       "[5, 3, 1]"
      ]
     },
     "execution_count": 29,
     "metadata": {},
     "output_type": "execute_result"
    }
   ],
   "source": [
    "#1,3,5\n",
    "l[::-2]"
   ]
  },
  {
   "cell_type": "code",
   "execution_count": 30,
   "id": "5a16ef55-4a62-4511-9d7b-b779dc02969a",
   "metadata": {},
   "outputs": [
    {
     "data": {
      "text/plain": [
       "[1, 3, 5]"
      ]
     },
     "execution_count": 30,
     "metadata": {},
     "output_type": "execute_result"
    }
   ],
   "source": [
    "l[::2]"
   ]
  },
  {
   "cell_type": "code",
   "execution_count": 31,
   "id": "ed01691e-2916-4920-997a-9cce7749420c",
   "metadata": {},
   "outputs": [
    {
     "data": {
      "text/plain": [
       "[1, 3, 5]"
      ]
     },
     "execution_count": 31,
     "metadata": {},
     "output_type": "execute_result"
    }
   ],
   "source": [
    "l[::2]"
   ]
  },
  {
   "cell_type": "code",
   "execution_count": 33,
   "id": "6cd292a0-7274-42fb-9685-cc89e0fdf43d",
   "metadata": {},
   "outputs": [],
   "source": [
    "s=\"I am learning python from Spedup\"\n",
    "#extrcat speedup\n"
   ]
  },
  {
   "cell_type": "code",
   "execution_count": 34,
   "id": "26ec393e-935f-4844-9753-e03f42d49701",
   "metadata": {},
   "outputs": [
    {
     "data": {
      "text/plain": [
       "26"
      ]
     },
     "execution_count": 34,
     "metadata": {},
     "output_type": "execute_result"
    }
   ],
   "source": [
    "s.find(\"S\")"
   ]
  },
  {
   "cell_type": "code",
   "execution_count": 36,
   "id": "df655795-3529-46e9-95bd-4d18b8ba9818",
   "metadata": {},
   "outputs": [
    {
     "data": {
      "text/plain": [
       "'Speddup'"
      ]
     },
     "execution_count": 36,
     "metadata": {},
     "output_type": "execute_result"
    }
   ],
   "source": [
    "#+ve\n",
    "s[26:33]"
   ]
  },
  {
   "cell_type": "code",
   "execution_count": 37,
   "id": "bb65720c-990c-493b-af7a-11f559882683",
   "metadata": {},
   "outputs": [
    {
     "data": {
      "text/plain": [
       "'Speddup'"
      ]
     },
     "execution_count": 37,
     "metadata": {},
     "output_type": "execute_result"
    }
   ],
   "source": [
    "#-ve \n",
    "s[-7::]"
   ]
  },
  {
   "cell_type": "code",
   "execution_count": 40,
   "id": "161ff490-95dc-4ab8-b13e-65a814cf84fa",
   "metadata": {},
   "outputs": [
    {
     "data": {
      "text/plain": [
       "'S'"
      ]
     },
     "execution_count": 40,
     "metadata": {},
     "output_type": "execute_result"
    }
   ],
   "source": [
    "#ecteract and reverse Speedup word\n",
    "#positive slicing\n",
    "s[26:25:-1]"
   ]
  },
  {
   "cell_type": "code",
   "execution_count": 42,
   "id": "5892d3ac-ce1b-433a-bb1f-ff4a7ef49cae",
   "metadata": {},
   "outputs": [
    {
     "data": {
      "text/plain": [
       "'puddepS'"
      ]
     },
     "execution_count": 42,
     "metadata": {},
     "output_type": "execute_result"
    }
   ],
   "source": [
    "#negative\n",
    "s[-1:-8:-1]"
   ]
  },
  {
   "cell_type": "code",
   "execution_count": 43,
   "id": "2225e647-845e-4e93-a506-fe3456304bef",
   "metadata": {},
   "outputs": [
    {
     "data": {
      "text/plain": [
       "'pdeS'"
      ]
     },
     "execution_count": 43,
     "metadata": {},
     "output_type": "execute_result"
    }
   ],
   "source": [
    "s[-1:-8:-2]"
   ]
  },
  {
   "cell_type": "code",
   "execution_count": null,
   "id": "eceea9a5-e113-4c20-b54b-ed859a2467ac",
   "metadata": {},
   "outputs": [],
   "source": []
  }
 ],
 "metadata": {
  "kernelspec": {
   "display_name": "Python 3 (ipykernel)",
   "language": "python",
   "name": "python3"
  },
  "language_info": {
   "codemirror_mode": {
    "name": "ipython",
    "version": 3
   },
   "file_extension": ".py",
   "mimetype": "text/x-python",
   "name": "python",
   "nbconvert_exporter": "python",
   "pygments_lexer": "ipython3",
   "version": "3.12.7"
  }
 },
 "nbformat": 4,
 "nbformat_minor": 5
}
