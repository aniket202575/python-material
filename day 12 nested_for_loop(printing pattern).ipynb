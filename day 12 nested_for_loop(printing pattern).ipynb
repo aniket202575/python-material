{
 "cells": [
  {
   "cell_type": "markdown",
   "id": "d4fe2115-89e6-4257-86a0-f656f4d590bb",
   "metadata": {},
   "source": [
    "# Printing pattern"
   ]
  },
  {
   "cell_type": "markdown",
   "id": "0d89b471-034d-4190-9d79-cf01b4fb3a5d",
   "metadata": {},
   "source": [
    "### WE required 5 things"
   ]
  },
  {
   "cell_type": "markdown",
   "id": "92fe212f-7aba-4862-8ad1-323f6790685a",
   "metadata": {},
   "source": [
    "- 1. Input:hoew many rows \n",
    "- 2. Two for loops : one gor and one for columns \n",
    "- 3. range(start,stop,step)\n",
    "- 4. print() or \\n:empty print function/New line\n",
    "- 5. end=\" \"\n",
    "\n"
   ]
  },
  {
   "cell_type": "code",
   "execution_count": 1,
   "id": "7e9bfba5-2919-4972-b98d-27b3c0655b7e",
   "metadata": {},
   "outputs": [
    {
     "name": "stdout",
     "output_type": "stream",
     "text": [
      "Hello\n",
      "Everyone\n"
     ]
    }
   ],
   "source": [
    "print(\"Hello\")\n",
    "print(\"Everyone\")"
   ]
  },
  {
   "cell_type": "code",
   "execution_count": 3,
   "id": "b932de5f-2573-4ced-873d-8958d96dab3f",
   "metadata": {},
   "outputs": [
    {
     "name": "stdout",
     "output_type": "stream",
     "text": [
      "Hello Everyone\n"
     ]
    }
   ],
   "source": [
    "print(\"Hello\",end=\" \")\n",
    "print(\"Everyone\")"
   ]
  },
  {
   "cell_type": "code",
   "execution_count": 7,
   "id": "b5b378f4-079b-48fd-9ffe-6a11eba0d890",
   "metadata": {},
   "outputs": [
    {
     "name": "stdout",
     "output_type": "stream",
     "text": [
      "# \n",
      "# # \n",
      "# # # \n",
      "# # # # \n",
      "# # # # # \n"
     ]
    }
   ],
   "source": [
    "for row in  range(1,6):  #5 \n",
    "    for column in range (row): # Range(start,stop,step) (0,3) 1,2,3\n",
    "        print(\"#\",end=\" \")\n",
    "    print()   #new line\n",
    "#2nd for loop row===>3\n",
    "  #for"
   ]
  },
  {
   "cell_type": "code",
   "execution_count": 8,
   "id": "92907859-a4fe-4fea-b635-364523945e1b",
   "metadata": {},
   "outputs": [
    {
     "name": "stdout",
     "output_type": "stream",
     "text": [
      "# # # # # \n",
      "# # # # # \n",
      "# # # # # \n",
      "# # # # # \n",
      "# # # # # \n"
     ]
    }
   ],
   "source": [
    "for row in  range(1,6):  #5  #no of rows=5,   6\n",
    "for row in  range(1,6):  #1,5 \n",
    "    for column in range (1,6):\n",
    "        print(\"#\",end=\" \")\n",
    "    print()\n",
    "#first outer loop row=1\n",
    "#inner for loop"
   ]
  },
  {
   "cell_type": "code",
   "execution_count": 18,
   "id": "218fa077-ef76-48f1-a0f5-2c3e454561ce",
   "metadata": {},
   "outputs": [
    {
     "name": "stdout",
     "output_type": "stream",
     "text": [
      "# \n",
      "# \n",
      "# \n",
      "# \n",
      "# \n"
     ]
    }
   ],
   "source": [
    "for row in  range(1,6):  \n",
    "    for column in range (1,2):   \n",
    "        print(\"#\",end=\" \")\n",
    "    print()\n",
    "#outer for loop : row=1\n",
    "#inner for loop : column (1,2) #\n",
    "#outer frr loop:row=2\n",
    "#inner for loop: column(1,2)"
   ]
  },
  {
   "cell_type": "code",
   "execution_count": 15,
   "id": "8beff00f-61ce-451f-bdfc-21f528769b50",
   "metadata": {},
   "outputs": [
    {
     "name": "stdout",
     "output_type": "stream",
     "text": [
      "* \n",
      "* * \n",
      "* * * \n",
      "* * * * \n",
      "* * * * * \n"
     ]
    }
   ],
   "source": [
    "for row in  range(1,6):  \n",
    "    for column in range (0,row):   \n",
    "        print(\"*\",end=\" \")\n",
    "    print()\n",
    "#outer loop===>row=1  *\n",
    "#inner loop====> 0,1\n",
    "\n",
    "#outer loop===>row=2  * *\n",
    "#inner loop====> 0,2\n",
    "\n",
    "#outer loop===>row=3  * * *\n",
    "#inner loop====> 0,1,2\n",
    "\n",
    "#outer loop===>row=4   * * * * \n",
    "#inner loop====> 0,1,2,3\n"
   ]
  },
  {
   "cell_type": "code",
   "execution_count": 58,
   "id": "43974fac-f4aa-4d48-a0db-ec7ccbb679ce",
   "metadata": {},
   "outputs": [
    {
     "name": "stdout",
     "output_type": "stream",
     "text": [
      "hello$\n",
      "\n",
      "hello$\n",
      "\n",
      "hello$\n",
      "\n",
      "hello$\n",
      "\n",
      "hello$\n",
      "\n"
     ]
    }
   ],
   "source": [
    "for row in range(1,6):\n",
    "    print(\"hello\",end=\"$\")\n",
    "    print(\"\\n\")"
   ]
  },
  {
   "cell_type": "code",
   "execution_count": 14,
   "id": "28dc9ed5-98cb-4842-92a3-7ed8c0fd5b53",
   "metadata": {},
   "outputs": [
    {
     "name": "stdin",
     "output_type": "stream",
     "text": [
      "Enter number of rows: 5\n"
     ]
    },
    {
     "name": "stdout",
     "output_type": "stream",
     "text": [
      "+\n",
      "\n",
      "\n",
      "+\n",
      "\n",
      "\n",
      "+\n",
      "\n",
      "\n",
      "+\n",
      "\n",
      "\n",
      "+\n",
      "\n",
      "\n"
     ]
    }
   ],
   "source": [
    "no_of_rows=int(input(\"Enter number of rows:\"))\n",
    "for row in range(1,no_of_rows+1):\n",
    "    print(\"+\")\n",
    "    print(\"\\n\")"
   ]
  },
  {
   "cell_type": "code",
   "execution_count": null,
   "id": "28d75563-b6e9-4c09-9ed6-a805ea51cce9",
   "metadata": {},
   "outputs": [],
   "source": []
  },
  {
   "cell_type": "code",
   "execution_count": 18,
   "id": "462cd94a-affe-4150-8e20-ded19401916a",
   "metadata": {},
   "outputs": [
    {
     "name": "stdout",
     "output_type": "stream",
     "text": [
      "# \n",
      "# # \n",
      "# # # \n",
      "# # # # "
     ]
    }
   ],
   "source": [
    "for row in range (1):\n",
    "    print(\"#\",end=\" \")\n",
    "print()\n",
    "for row in range (2):\n",
    "    print(\"#\",end=\" \")\n",
    "print()\n",
    "for row in range (3):\n",
    "    print(\"#\",end=\" \")\n",
    "print()\n",
    "for row in range (4):\n",
    "    print(\"#\",end=\" \")\n"
   ]
  },
  {
   "cell_type": "code",
   "execution_count": 15,
   "id": "d35376f5-43cb-4315-a8bd-1366f1e916fb",
   "metadata": {},
   "outputs": [
    {
     "name": "stdout",
     "output_type": "stream",
     "text": [
      "# # # # \n",
      "# # # # \n",
      "# # # # \n",
      "# # # # "
     ]
    }
   ],
   "source": [
    "for row in range (4):\n",
    "    print(\"#\",end=\" \")\n",
    "print()\n",
    "for row in range (4):\n",
    "    print(\"#\",end=\" \")\n",
    "print()\n",
    "for row in range (4):\n",
    "    print(\"#\",end=\" \")\n",
    "print()\n",
    "for row in range (4):\n",
    "    print(\"#\",end=\" \")\n"
   ]
  },
  {
   "cell_type": "code",
   "execution_count": 21,
   "id": "3da81d38-3b22-4be9-8306-84ff88b63f8b",
   "metadata": {},
   "outputs": [
    {
     "name": "stdout",
     "output_type": "stream",
     "text": [
      "# # # # \n",
      "# # # # \n",
      "# # # # \n",
      "# # # # \n"
     ]
    }
   ],
   "source": [
    "#outer for loop and inner fotr loop \n",
    "for row in range(4):\n",
    "    for column in range(4):\n",
    "        print(\"#\",end=\" \")\n",
    "    print()\n",
    "#outer for loop :=0\n",
    "#inner for loop :col=0,4==>0,1,2,3\n",
    "\n"
   ]
  },
  {
   "cell_type": "code",
   "execution_count": null,
   "id": "563062f0-2b75-4314-b7b6-28e88aae0776",
   "metadata": {},
   "outputs": [],
   "source": []
  },
  {
   "cell_type": "code",
   "execution_count": 61,
   "id": "15ac8937-24a7-4c15-8832-27a7ba7c8b6d",
   "metadata": {},
   "outputs": [
    {
     "name": "stdout",
     "output_type": "stream",
     "text": [
      "# \n",
      "# # \n",
      "# # # \n",
      "# # # # \n"
     ]
    }
   ],
   "source": [
    "for row in range(1,5):\n",
    "    for column in range(row):\n",
    "        print(\"#\",end=\" \")\n",
    "    print()\n",
    "#outer for loop===> 0 \n",
    "#inner for loop:===>0,0 empty \n",
    "\n",
    "#outer for loop===> 1   #\n",
    "#inner for loop:===>0,1\n",
    "\n",
    "#outer for loop===> 2     # # 2times\n",
    "#inner for loop:===>0,2\n",
    "\n",
    "#outer for loop===> 3    # # # 3time \n",
    "#inner for loop:===>0,3\n"
   ]
  },
  {
   "cell_type": "code",
   "execution_count": 6,
   "id": "a48cd81a-1c7f-4f14-8bc4-ab7762867b79",
   "metadata": {},
   "outputs": [
    {
     "name": "stdout",
     "output_type": "stream",
     "text": [
      "\n",
      "# \n",
      "# # \n",
      "# # # \n",
      "# # # # \n",
      "# # # # # \n",
      "# # # # # # \n",
      "# # # # # # # \n",
      "# # # # # # # # \n"
     ]
    }
   ],
   "source": [
    "for row in range(1,10):\n",
    "    for column in range (0,row-1):\n",
    "        print(\"#\",end=\" \")\n",
    "    print()\n",
    "\n",
    "\n",
    "#outer row====1\n",
    "#inner column 0==>0,\n",
    "\n",
    "#outer row====2\n",
    "#inner column 0==>0,1 *\n",
    "\n",
    "#outer row====3\n",
    "#inner column 0==>0,0,2  * * \n",
    "\n",
    "\n"
   ]
  },
  {
   "cell_type": "code",
   "execution_count": 2,
   "id": "383f0faa-565d-4729-a4e3-e71d2d481883",
   "metadata": {},
   "outputs": [
    {
     "name": "stdout",
     "output_type": "stream",
     "text": [
      "# \n",
      "\n",
      "# # \n",
      "\n",
      "# # # \n",
      "\n",
      "# # # # \n",
      "\n"
     ]
    }
   ],
   "source": [
    "for row in range(1,5):\n",
    "    #for column in range(row):\n",
    "         print(\"# \" * row )\n",
    "         print()\n",
    "#row=1\n",
    "# #\n",
    "#row=2\n",
    "# # # \n",
    "    "
   ]
  },
  {
   "cell_type": "code",
   "execution_count": 63,
   "id": "4421a7d7-a857-4a13-9659-89495a3d5dbf",
   "metadata": {},
   "outputs": [
    {
     "name": "stdout",
     "output_type": "stream",
     "text": [
      "* * * * * * * * * * \n",
      "* * * * * * * * * \n",
      "* * * * * * * * \n",
      "* * * * * * * \n",
      "* * * * * * \n",
      "* * * * * \n",
      "* * * * \n",
      "* * * \n",
      "* * \n",
      "* \n"
     ]
    }
   ],
   "source": [
    "for row in range(1,11):\n",
    "    for column in range(0,11-row):\n",
    "        print(\"*\",end=\" \")\n",
    "    print()\n",
    "#outer row=1\n",
    "#inner column===>0,9 \n",
    "\n",
    "#outer row=2\n",
    "#inner column===>0,8\n",
    "\n",
    "#outer row=3\n",
    "#inner column===>0,7\n",
    "\n"
   ]
  },
  {
   "cell_type": "code",
   "execution_count": 69,
   "id": "36b949a1-c6f8-4f83-b1ac-0a9dac344b61",
   "metadata": {},
   "outputs": [
    {
     "name": "stdin",
     "output_type": "stream",
     "text": [
      "Enter no.of rows 4\n"
     ]
    },
    {
     "name": "stdout",
     "output_type": "stream",
     "text": [
      "* * * * \n",
      "* * * \n",
      "* * \n",
      "* \n"
     ]
    }
   ],
   "source": [
    "no_of_rows=int(input(\"Enter no.of rows\"))\n",
    "for row in range(1,no_of_rows+1):\n",
    "    for column in range(0,no_of_rows+1-row):\n",
    "        print(\"*\",end=\" \")\n",
    "    print()\n",
    "#outer row=1\n",
    "#inner 0+5+1-1 (0,5) * * * * * \n",
    "\n",
    "#outer row=2\n",
    "#inner 0+5+1-2 (0,4) * * * * \n",
    "\n",
    "#outer row=3\n",
    "#inner  (1,2) * "
   ]
  },
  {
   "cell_type": "code",
   "execution_count": 3,
   "id": "5d466605-05ef-4c54-a0de-cdb066d7d903",
   "metadata": {},
   "outputs": [
    {
     "name": "stdin",
     "output_type": "stream",
     "text": [
      "Enter no.of rows 5\n"
     ]
    },
    {
     "name": "stdout",
     "output_type": "stream",
     "text": [
      "* * * * * \n",
      "* * * * \n",
      "* * * \n",
      "* * \n",
      "* \n"
     ]
    }
   ],
   "source": [
    "no_of_rows=int(input(\"Enter no.of rows\"))\n",
    "for row in range(1,no_of_rows+1):\n",
    "    for column in range(0,no_of_rows+1-row):\n",
    "        print(\"*\",end=\" \")\n",
    "    print()\n",
    "#outer row=1\n",
    "#inner 0+5+1-1 (0,5) * * * * * \n",
    "\n",
    "#outer row=2\n",
    "#inner 0+5+1-2 (0,4) * * * * \n",
    "\n",
    "#outer row=3\n",
    "#inner  (1,2) * "
   ]
  },
  {
   "cell_type": "code",
   "execution_count": 8,
   "id": "6a4c8dfa-6882-4d5c-b4c9-794a1b6fdb94",
   "metadata": {},
   "outputs": [
    {
     "name": "stdin",
     "output_type": "stream",
     "text": [
      "Enter no.of rows 10\n"
     ]
    },
    {
     "name": "stdout",
     "output_type": "stream",
     "text": [
      "* * * * * * * * \n",
      "* * * * * * * \n",
      "* * * * * * \n",
      "* * * * * \n",
      "* * * * \n",
      "* * * \n",
      "* * \n",
      "* \n",
      "\n",
      "\n"
     ]
    }
   ],
   "source": [
    "no_of_rows=int(input(\"Enter no.of rows\"))\n",
    "for row in range(1,no_of_rows+1):\n",
    "    for column in range(1,no_of_rows-row):\n",
    "        print(\"*\",end=\" \")\n",
    "    print()\n",
    "\n",
    "\n",
    "#outer 1,6\n",
    "#inner 1,5-1====>1,4   * * * \n",
    "\n",
    "#outer row=2\n",
    "#inner colmn (1,3)  * *\n",
    "\n",
    "#outer row=3\n",
    "#inner c olumn (1,2)    *\n",
    "\n",
    "#outer row =4\n",
    "#inner columnn(,1)\n"
   ]
  },
  {
   "cell_type": "markdown",
   "id": "9b743c04-3725-4512-b44e-441b3787c369",
   "metadata": {},
   "source": [
    "# Homework"
   ]
  },
  {
   "cell_type": "code",
   "execution_count": null,
   "id": "fe6b86dc-5626-4b59-b358-917baf5e4384",
   "metadata": {},
   "outputs": [],
   "source": [
    "#pattern print\n",
    "# 1\n",
    "# 1 2 \n",
    "# 1 2 3 \n",
    "# 1 2 3 4 \n",
    "#1 2 3 4 5 "
   ]
  },
  {
   "cell_type": "code",
   "execution_count": 9,
   "id": "40d66dcd-b6f1-4ced-9448-cddcafbbfb47",
   "metadata": {},
   "outputs": [
    {
     "name": "stdout",
     "output_type": "stream",
     "text": [
      "1 \n",
      "1 2 \n",
      "1 2 3 \n",
      "1 2 3 4 \n",
      "1 2 3 4 5 \n"
     ]
    }
   ],
   "source": [
    "for row in range(1,6):\n",
    "    for column in range (1,row+1):\n",
    "        print(column,end=\" \")\n",
    "    print()\n",
    "\n",
    "\n",
    "\n"
   ]
  },
  {
   "cell_type": "code",
   "execution_count": 1,
   "id": "aeb77e70-dba0-4975-b365-9e9acc75f085",
   "metadata": {},
   "outputs": [
    {
     "name": "stdout",
     "output_type": "stream",
     "text": [
      "1 2 3 4 5 \n",
      "1 2 3 4 5 \n",
      "1 2 3 4 5 \n",
      "1 2 3 4 5 \n",
      "1 2 3 4 5 \n"
     ]
    }
   ],
   "source": [
    "for row in range(1,6):\n",
    "    for column in range (1,6):\n",
    "        print(column,end=\" \")\n",
    "    print()\n"
   ]
  },
  {
   "cell_type": "code",
   "execution_count": 2,
   "id": "b7918485-ead4-4f4d-95ef-867c473ef802",
   "metadata": {},
   "outputs": [
    {
     "name": "stdout",
     "output_type": "stream",
     "text": [
      "1 2 3 4 5 \n",
      "1 2 3 4 \n",
      "1 2 3 \n",
      "1 2 \n",
      "1 \n"
     ]
    }
   ],
   "source": [
    "for row in range(1,6):\n",
    "    for column in range (1,6-row+1):\n",
    "        print(column,end=\" \")\n",
    "    print()\n"
   ]
  },
  {
   "cell_type": "code",
   "execution_count": null,
   "id": "02d048e0-bce1-42ef-858c-389baf885d0c",
   "metadata": {},
   "outputs": [],
   "source": []
  }
 ],
 "metadata": {
  "kernelspec": {
   "display_name": "Python 3 (ipykernel)",
   "language": "python",
   "name": "python3"
  },
  "language_info": {
   "codemirror_mode": {
    "name": "ipython",
    "version": 3
   },
   "file_extension": ".py",
   "mimetype": "text/x-python",
   "name": "python",
   "nbconvert_exporter": "python",
   "pygments_lexer": "ipython3",
   "version": "3.12.7"
  }
 },
 "nbformat": 4,
 "nbformat_minor": 5
}
