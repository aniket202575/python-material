{
 "cells": [
  {
   "cell_type": "markdown",
   "id": "a6781580-7eb5-4c28-bd7d-f852c3391001",
   "metadata": {},
   "source": [
    "# for loop ===> limit\n",
    "- range (1,5)\n",
    "- list,set tuple dict"
   ]
  },
  {
   "cell_type": "markdown",
   "id": "c7768dd8-a7ec-4a7c-9e15-a9fb3653f80e",
   "metadata": {},
   "source": [
    "### while loop ====> limit,unlimited"
   ]
  },
  {
   "cell_type": "code",
   "execution_count": 1,
   "id": "ab87401d-cfac-48fa-b533-076d94d1d3a7",
   "metadata": {},
   "outputs": [
    {
     "name": "stdout",
     "output_type": "stream",
     "text": [
      "[10, 11, 12, 13, 14, 15, 16, 17, 18, 19, 20, 21, 22, 23, 24, 25, 26, 27, 28, 29, 30, 31, 32, 33, 34, 35, 36, 37, 38, 39, 40, 41, 42, 43, 44, 45, 46, 47, 48, 49, 50, 51, 52, 53, 54, 55, 56, 57, 58, 59, 60, 61, 62, 63, 64, 65, 66, 67, 68, 69, 70, 71, 72, 73, 74, 75, 76, 77, 78, 79, 80, 81, 82, 83, 84, 85, 86, 87, 88, 89, 90, 91, 92, 93, 94, 95, 96, 97, 98, 99, 100]\n"
     ]
    }
   ],
   "source": [
    "#numbers from 10 to 100\n",
    "l=[]\n",
    "for num in range  (10,101):\n",
    "    l.append(num)\n",
    "print(l)\n",
    "\n"
   ]
  },
  {
   "cell_type": "code",
   "execution_count": 2,
   "id": "31c34879-4ec1-482c-ae43-7fa48c89b16d",
   "metadata": {},
   "outputs": [
    {
     "name": "stdout",
     "output_type": "stream",
     "text": [
      "10\n",
      "20\n",
      "30\n",
      "40\n",
      "50\n",
      "60\n",
      "70\n",
      "80\n",
      "90\n",
      "100\n"
     ]
    }
   ],
   "source": [
    "#same using while loop \n",
    "#syntax\n",
    "#initilization\n",
    "# while condition\n",
    "#print statment\n",
    "# increment\n",
    "num=10\n",
    "while num<=100:\n",
    "    print(num)\n",
    "    num=num+10\n"
   ]
  },
  {
   "cell_type": "code",
   "execution_count": 3,
   "id": "7a9c7011-85ab-4f0a-a357-22a3a4df080c",
   "metadata": {},
   "outputs": [
    {
     "name": "stdout",
     "output_type": "stream",
     "text": [
      "15\n",
      "30\n",
      "45\n",
      "60\n",
      "75\n",
      "90\n"
     ]
    }
   ],
   "source": [
    "#print all numbers divisible ny 3 and 5 from  to 100\n",
    "for i in range (1,101):\n",
    "    if i %3==0 and i%5==0:\n",
    "        print(i)    "
   ]
  },
  {
   "cell_type": "code",
   "execution_count": 4,
   "id": "aacf188e-a17f-4faf-984e-84ebc8571f21",
   "metadata": {},
   "outputs": [
    {
     "name": "stdout",
     "output_type": "stream",
     "text": [
      "15\n",
      "30\n",
      "45\n",
      "60\n",
      "75\n",
      "90\n"
     ]
    }
   ],
   "source": [
    "i=1\n",
    "while i<=100:\n",
    "    if i%3==0 and i%5==0:\n",
    "        print(i)\n",
    "    i=i+1"
   ]
  },
  {
   "cell_type": "markdown",
   "id": "34bf59d9-f575-457b-bac9-cbf7e45bd556",
   "metadata": {},
   "source": [
    "# print sum of all bills entered by the user"
   ]
  },
  {
   "cell_type": "code",
   "execution_count": 6,
   "id": "50e4dcd9-5d67-4bf1-9e3a-c2ce2c159ea3",
   "metadata": {},
   "outputs": [
    {
     "name": "stdin",
     "output_type": "stream",
     "text": [
      "please enter bill: 101\n",
      "please enter bill: 101\n",
      "please enter bill: 101.\n",
      "please enter bill: 10\n",
      "please enter bill: 1\n"
     ]
    },
    {
     "name": "stdout",
     "output_type": "stream",
     "text": [
      "[101.0, 101.0, 101.0, 10.0, 1.0]\n",
      "5\n"
     ]
    }
   ],
   "source": [
    "#ushing while loop \n",
    "l=[]\n",
    "#bills=float(input(\"please enter bill:\"))+\n",
    "#l.append(bill)\n",
    "total=0\n",
    "for i in range (0,5):\n",
    "    bill=float(input(\"please enter bill:\"))\n",
    "    l.append(bill)\n",
    "print(l)\n",
    "for i in l:\n",
    "    total=total+1\n",
    "print(total)\n",
    "\n",
    "\n",
    "\n"
   ]
  },
  {
   "cell_type": "markdown",
   "id": "c0755a00-7e46-4797-89f0-56a397031541",
   "metadata": {},
   "source": [
    "# Questions\n",
    "- imagine 2 candidates there foe election .Mr>Alex and mr.Manu \n",
    "- use can cast the vote,either V or M and q foe Quit\n",
    "- find who is the winner and print the number of votes secured for each."
   ]
  },
  {
   "cell_type": "code",
   "execution_count": 8,
   "id": "6de28d13-d1d0-4e91-86fd-ceb5b6502951",
   "metadata": {},
   "outputs": [
    {
     "name": "stdin",
     "output_type": "stream",
     "text": [
      "Enter a vote: m\n"
     ]
    },
    {
     "name": "stdout",
     "output_type": "stream",
     "text": [
      "Wrong vote\n"
     ]
    },
    {
     "name": "stdin",
     "output_type": "stream",
     "text": [
      "Enter a vote: M\n",
      "Enter a vote: M\n",
      "Enter a vote: 4\n"
     ]
    },
    {
     "name": "stdout",
     "output_type": "stream",
     "text": [
      "Wrong vote\n"
     ]
    },
    {
     "name": "stdin",
     "output_type": "stream",
     "text": [
      "Enter a vote: A\n",
      "Enter a vote: A\n",
      "Enter a vote: A\n",
      "Enter a vote: A\n",
      "Enter a vote: Quit\n"
     ]
    },
    {
     "name": "stdout",
     "output_type": "stream",
     "text": [
      "Votting Quit!!!\n",
      "votes for alex: 4\n",
      "votes for manu: 2\n"
     ]
    }
   ],
   "source": [
    "vote=\"m\" #initilization #p \n",
    "manucount=0\n",
    "alexcount=0\n",
    "while vote !=\"Quit\":\n",
    "    vote=input(\"Enter a vote:\")\n",
    "    if vote ==\"M\":\n",
    "        manucount=manucount+1\n",
    "    elif  vote ==\"A\":\n",
    "        alexcount=alexcount+1\n",
    "    elif vote==\"Quit\":\n",
    "        print(\"Votting Quit!!!\")\n",
    "    else:\n",
    "        print(\"Wrong vote\")\n",
    "\n",
    "print(\"votes for alex:\",alexcount)\n",
    "print(\"votes for manu:\",manucount)"
   ]
  },
  {
   "cell_type": "markdown",
   "id": "eebf0ac7-b028-4034-866f-97c3e7b470ce",
   "metadata": {},
   "source": [
    "# Break and continue "
   ]
  },
  {
   "cell_type": "code",
   "execution_count": 9,
   "id": "883bdea3-8c4a-46dc-810e-7b077302c7fa",
   "metadata": {},
   "outputs": [],
   "source": [
    "#for loop and while loop in use \n"
   ]
  },
  {
   "cell_type": "markdown",
   "id": "d11562d8-0918-40a5-ae87-989b6d1ffe02",
   "metadata": {},
   "source": [
    "# calculate speed using time and distance ... if distance is negative break or continue \n"
   ]
  },
  {
   "cell_type": "code",
   "execution_count": 11,
   "id": "ce9a1060-14a1-4cb4-8d11-c33dd18d5bf8",
   "metadata": {},
   "outputs": [
    {
     "name": "stdin",
     "output_type": "stream",
     "text": [
      "plz enter distance : -8\n"
     ]
    },
    {
     "name": "stdout",
     "output_type": "stream",
     "text": [
      "please enter positive distance\n"
     ]
    },
    {
     "name": "stdin",
     "output_type": "stream",
     "text": [
      "plz enter distance : 6\n",
      "plz enter time: 4\n"
     ]
    },
    {
     "name": "stdout",
     "output_type": "stream",
     "text": [
      "The speed is : 1.5\n"
     ]
    },
    {
     "name": "stdin",
     "output_type": "stream",
     "text": [
      "Do you want continue? no\n"
     ]
    }
   ],
   "source": [
    "choice=\"yes\"   # initilization\n",
    "while choice!=\"no\":    # condition \n",
    "    distance=float(input(\"plz enter distance :\"))   #2\n",
    "    if distance<0:\n",
    "        print(\"please enter positive distance\")\n",
    "        continue\n",
    "    time=float(input(\"plz enter time:\"))\n",
    "    speed=distance/time\n",
    "    print(\"The speed is :\",speed)\n",
    "    choice=input(\"Do you want continue?\")   #yes \n",
    "        \n"
   ]
  },
  {
   "cell_type": "code",
   "execution_count": 14,
   "id": "4df351a8-02f3-44f0-8552-be3918c16b42",
   "metadata": {},
   "outputs": [
    {
     "name": "stdin",
     "output_type": "stream",
     "text": [
      "plz enter distance : 2\n",
      "plz enter time: 8\n"
     ]
    },
    {
     "name": "stdout",
     "output_type": "stream",
     "text": [
      "The speed is : 0.25\n"
     ]
    },
    {
     "name": "stdin",
     "output_type": "stream",
     "text": [
      "Do you want continue? \n",
      "plz enter distance : -4\n"
     ]
    },
    {
     "name": "stdout",
     "output_type": "stream",
     "text": [
      "please enter positive distance\n"
     ]
    }
   ],
   "source": [
    "choice=\"yes\"   #initilization\n",
    "while choice!=\"no\":   #condition\n",
    "    distance=float(input(\"plz enter distance :\"))   #2\n",
    "    if distance<0:\n",
    "        print(\"please enter positive distance\")\n",
    "        break\n",
    "    time=float(input(\"plz enter time:\"))\n",
    "    speed=distance/time\n",
    "    print(\"The speed is :\",speed)\n",
    "    choice=input(\"Do you want continue?\")    #yes yes\n",
    "    \n",
    "        \n"
   ]
  },
  {
   "cell_type": "code",
   "execution_count": 2,
   "id": "12401888-0774-4ce3-9964-49937a2bad3d",
   "metadata": {},
   "outputs": [
    {
     "name": "stdout",
     "output_type": "stream",
     "text": [
      "1\n",
      "2\n",
      "3\n",
      "4\n"
     ]
    }
   ],
   "source": [
    "#print numbers from 1 to 10\n",
    "#break if num =5\n",
    "for i in range(1,11):\n",
    "    if i==5:\n",
    "        break\n",
    "    print(i)"
   ]
  },
  {
   "cell_type": "code",
   "execution_count": 3,
   "id": "493b8af5-37c6-4bba-8404-78091eaea897",
   "metadata": {},
   "outputs": [
    {
     "name": "stdout",
     "output_type": "stream",
     "text": [
      "1\n",
      "2\n",
      "3\n",
      "4\n"
     ]
    }
   ],
   "source": [
    "i=1\n",
    "while i<=11:\n",
    "    if i==5:\n",
    "        break\n",
    "    else:\n",
    "        print(i)\n",
    "    i=i+1"
   ]
  },
  {
   "cell_type": "code",
   "execution_count": 5,
   "id": "9dcd3184-6c81-403a-88e5-c98132b1d2ca",
   "metadata": {},
   "outputs": [
    {
     "name": "stdout",
     "output_type": "stream",
     "text": [
      "1\n",
      "2\n",
      "4\n",
      "5\n",
      "6\n"
     ]
    }
   ],
   "source": [
    "for i in range (1,11):\n",
    "    if i==3:\n",
    "        continue\n",
    "    if i==7:\n",
    "        break\n",
    "    print(i)"
   ]
  },
  {
   "cell_type": "markdown",
   "id": "9b7cb1aa-c508-44d4-937f-ca12703e8768",
   "metadata": {},
   "source": [
    "# Quiz game using while loop "
   ]
  },
  {
   "cell_type": "code",
   "execution_count": 1,
   "id": "954bcf19-b418-4835-b736-29e951819373",
   "metadata": {},
   "outputs": [
    {
     "name": "stdout",
     "output_type": "stream",
     "text": [
      "In which year did indiag gain independence\n",
      "A.1974\n",
      "B.1875\n",
      "C.1947\n",
      "D.1948\n"
     ]
    },
    {
     "name": "stdin",
     "output_type": "stream",
     "text": [
      "Enter(A,B,C,D) C\n"
     ]
    },
    {
     "name": "stdout",
     "output_type": "stream",
     "text": [
      "Correct Answer!\n",
      "What is capital of india?\n",
      "A.Mumbai\n",
      "B.Delhi\n",
      "C.Kolkata\n",
      "D.Pune\n"
     ]
    },
    {
     "name": "stdin",
     "output_type": "stream",
     "text": [
      "Enter(A,B,C,D) B\n"
     ]
    },
    {
     "name": "stdout",
     "output_type": "stream",
     "text": [
      "Correct Answer!\n",
      "Which animal is known as the 'ship of the desert'?\n",
      "A.Camel\n",
      "B.Tiger\n",
      "C.Cat\n",
      "D.Dog\n"
     ]
    },
    {
     "name": "stdin",
     "output_type": "stream",
     "text": [
      "Enter(A,B,C,D) A\n"
     ]
    },
    {
     "name": "stdout",
     "output_type": "stream",
     "text": [
      "Correct Answer!\n",
      "All answers are correct\n"
     ]
    },
    {
     "name": "stdin",
     "output_type": "stream",
     "text": [
      "Do you want to continue? no\n"
     ]
    },
    {
     "name": "stdout",
     "output_type": "stream",
     "text": [
      "Quiz completed!\n",
      "your score is: 3\n"
     ]
    }
   ],
   "source": [
    "#question\n",
    "#answer \n",
    "#while loop\n",
    "#for loop \n",
    "questions=[\"In which year did indiag gain independence\",\n",
    "           \"What is capital of india?\",\n",
    "           \"Which animal is known as the 'ship of the desert'?\"\n",
    "          ]\n",
    "options=[[\"A.1974\",\"B.1875\",\"C.1947\",\"D.1948\"],\n",
    "         [\"A.Mumbai\",\"B.Delhi\",\"C.Kolkata\",\"D.Pune\"],\n",
    "         [\"A.Camel\",\"B.Tiger\",\"C.Cat\",\"D.Dog\"]]\n",
    "Answers=[\"C\",\"B\",\"A\"]\n",
    "score=0\n",
    "choice=\"yes\"\n",
    "while choice!=\"NO\":\n",
    "    for i in range(len(questions)):\n",
    "        print(questions[i])\n",
    "        for j in options[i]:\n",
    "            print(j)\n",
    "\n",
    "\n",
    "        guess=input(\"Enter(A,B,C,D)\")\n",
    "        if guess==Answers[i]:\n",
    "            print(\"Correct Answer!\")\n",
    "            score=score+1\n",
    "        else:\n",
    "            print(\"Wrong answer correct answer is\",Answers[i])\n",
    "            choice=input(\"Do you want continue?\")\n",
    "            break\n",
    "    if score==len(questions):\n",
    "        print(\"All answers are correct\")\n",
    "        choice=input(\"Do you want to continue?\")\n",
    "        break\n",
    "    \n",
    "print(\"Quiz completed!\")\n",
    "print(\"your score is:\",score)\n",
    "\n",
    "\n",
    "#outer for loop (3)\n",
    "         \n",
    "\n"
   ]
  },
  {
   "cell_type": "markdown",
   "id": "f98997c6-dd6a-475f-9aac-90492715617b",
   "metadata": {},
   "source": [
    "# Homework"
   ]
  },
  {
   "cell_type": "raw",
   "id": "f46621f9-1505-4822-93e0-b8f0c42bee23",
   "metadata": {},
   "source": [
    "Q1.calculate final frisse of an product after applying a discount \n",
    "discount depends on origional price :10% for price is below 50,\n",
    "20%for above 50\n"
   ]
  },
  {
   "cell_type": "code",
   "execution_count": 1,
   "id": "4a40c318-8faa-47f6-8c42-841142ee2c50",
   "metadata": {},
   "outputs": [
    {
     "name": "stdin",
     "output_type": "stream",
     "text": [
      "Enter first price: 20\n",
      "Enter next price: 50\n",
      "Enter next price: 0\n"
     ]
    },
    {
     "name": "stdout",
     "output_type": "stream",
     "text": [
      "56.0\n"
     ]
    }
   ],
   "source": [
    "price=float(input(\"Enter first price:\"))\n",
    "l=[]\n",
    "total=0\n",
    "while price!=0:\n",
    "    l.append(price)\n",
    "    price=float(input(\"Enter next price:\"))\n",
    "for i in l:\n",
    "    total=total+i\n",
    "\n",
    "if total>50:\n",
    "    d=total*0.2\n",
    "    pay=total-d\n",
    "\n",
    "else:\n",
    "    d=total*0.1\n",
    "    pay=total\n",
    "\n",
    "print(pay)\n",
    "\n",
    "    "
   ]
  },
  {
   "cell_type": "code",
   "execution_count": null,
   "id": "04d2222d-316f-4c30-af44-67808a59f988",
   "metadata": {},
   "outputs": [],
   "source": []
  },
  {
   "cell_type": "code",
   "execution_count": null,
   "id": "8181620f-7014-466b-9d4e-237ee47c8dc0",
   "metadata": {},
   "outputs": [],
   "source": []
  }
 ],
 "metadata": {
  "kernelspec": {
   "display_name": "Python 3 (ipykernel)",
   "language": "python",
   "name": "python3"
  },
  "language_info": {
   "codemirror_mode": {
    "name": "ipython",
    "version": 3
   },
   "file_extension": ".py",
   "mimetype": "text/x-python",
   "name": "python",
   "nbconvert_exporter": "python",
   "pygments_lexer": "ipython3",
   "version": "3.12.7"
  }
 },
 "nbformat": 4,
 "nbformat_minor": 5
}
