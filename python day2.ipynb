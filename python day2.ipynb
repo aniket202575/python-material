{
 "cells": [
  {
   "cell_type": "markdown",
   "id": "404780c5-7d8f-4587-b0f1-4196f21fa223",
   "metadata": {},
   "source": [
    "# Day 2\n"
   ]
  },
  {
   "cell_type": "markdown",
   "id": "c645d0b5-983f-4984-8800-951727044b1d",
   "metadata": {},
   "source": [
    "## python interpreted language / compiler"
   ]
  },
  {
   "cell_type": "code",
   "execution_count": 1,
   "id": "9153492d-b111-42b1-81db-8b333cbcd457",
   "metadata": {},
   "outputs": [
    {
     "name": "stdout",
     "output_type": "stream",
     "text": [
      "aniket\n",
      "nikhil\n"
     ]
    }
   ],
   "source": [
    "#shit+enter\n",
    "#heading===> select===>alt+m,====>1,2,3===>shift+enter\n",
    "print(\"aniket\")\n",
    "print(\"nikhil\")\n"
   ]
  },
  {
   "cell_type": "code",
   "execution_count": 5,
   "id": "6405c5a0-85ea-49f8-b254-0c135ef25e98",
   "metadata": {},
   "outputs": [
    {
     "name": "stdout",
     "output_type": "stream",
     "text": [
      "aniket\n",
      "nikhil\n"
     ]
    }
   ],
   "source": [
    "#shit+enter\n",
    "#heading===> select===>alt+m,====>1,2,3===>shift+enter\n",
    "print(\"aniket\")\n",
    "print(\"nikhil\")\n"
   ]
  },
  {
   "cell_type": "markdown",
   "id": "66885fce-3e93-4f3c-8cbd-7ceed7e2e28c",
   "metadata": {},
   "source": [
    "## python is a interpreted language because it run code line by line"
   ]
  },
  {
   "cell_type": "code",
   "execution_count": null,
   "id": "a6aa9bbf-4f17-460d-9204-5595c348dd78",
   "metadata": {},
   "outputs": [],
   "source": [
    "#c===>compiler based "
   ]
  },
  {
   "cell_type": "markdown",
   "id": "b5d9ae0d-95d6-4c32-9f86-ad82e83f0ae3",
   "metadata": {},
   "source": [
    " token = individuals unit in a program\n",
    " - keywords: predefine words \n",
    " - variables / identifires: data storing===>memory location name\n",
    " - literals: a data given to a variables \n",
    "   - e.g. a=90(numaric), name=\"chetana\"(text),1=[1,2,3](list)\n",
    " - operatotrs(= : assignment opperators),<,>,<=\n",
    " -  punctuators(\"\",,:)"
   ]
  },
  {
   "cell_type": "code",
   "execution_count": 7,
   "id": "61fcf12e-2904-4fed-b2c6-312cd8bc472b",
   "metadata": {},
   "outputs": [
    {
     "name": "stdin",
     "output_type": "stream",
     "text": [
      "Entaer your name: aniket\n",
      "enter your marks: 50\n"
     ]
    },
    {
     "name": "stdout",
     "output_type": "stream",
     "text": [
      "fail\n"
     ]
    }
   ],
   "source": [
    "name=str(input(\"Entaer your name:\"))\n",
    "marks=float(input(\"enter your marks:\"))\n",
    "if marks>60:\n",
    "    print(\"pass\")\n",
    "else:\n",
    "    print(\"fail\")         "
   ]
  },
  {
   "cell_type": "code",
   "execution_count": 8,
   "id": "27cc4cf8-137d-460f-b4a3-4af29dfa6c94",
   "metadata": {},
   "outputs": [
    {
     "name": "stdout",
     "output_type": "stream",
     "text": [
      "168\n"
     ]
    }
   ],
   "source": [
    "a=90\n",
    "b=78\n",
    "print(a+b)"
   ]
  },
  {
   "cell_type": "code",
   "execution_count": 9,
   "id": "04f67523-03f9-4a8e-bf4d-d3c9d73b6cea",
   "metadata": {},
   "outputs": [
    {
     "name": "stdout",
     "output_type": "stream",
     "text": [
      "266\n"
     ]
    }
   ],
   "source": [
    "a=188\n",
    "b=78\n",
    "print(a+b)"
   ]
  },
  {
   "cell_type": "markdown",
   "id": "2003b496-62d2-4a37-ad02-2bc3f943f5ed",
   "metadata": {},
   "source": [
    "# Variables"
   ]
  },
  {
   "cell_type": "markdown",
   "id": "f9447c60-441f-4c42-bc25-9a1e1ab0a626",
   "metadata": {},
   "source": [
    "## Rules of variables"
   ]
  },
  {
   "cell_type": "markdown",
   "id": "e561e54f-0b06-4759-bf96-c490d0497fce",
   "metadata": {},
   "source": [
    "- variables name start with letters (a-z,A-Z/ start with (_))\n",
    "\n",
    "_name=\"aniket\"\n",
    "radus_of_circle=4.5\n",
    "- in variable name dont use spaces or dashes\n",
    "- variable name  : both start with nmbers \n",
    "   1a=45(wron)\n",
    "   a1=45(right)\n",
    "- we cant use keywords as a variable name\n",
    "- variable name are case sensitive"
   ]
  },
  {
   "cell_type": "code",
   "execution_count": 10,
   "id": "8007ef02-14c7-498f-9b67-da64c8272276",
   "metadata": {},
   "outputs": [
    {
     "name": "stdout",
     "output_type": "stream",
     "text": [
      "aniket\n"
     ]
    }
   ],
   "source": [
    "print(\"aniket\")\n",
    "#display"
   ]
  },
  {
   "cell_type": "code",
   "execution_count": null,
   "id": "ae87d111-0999-4cc8-991f-f8284a41de29",
   "metadata": {},
   "outputs": [],
   "source": [
    "#print=90"
   ]
  },
  {
   "cell_type": "code",
   "execution_count": null,
   "id": "faebf761-beba-46ff-84dd-955441de26a5",
   "metadata": {},
   "outputs": [],
   "source": [
    "#kernal restart"
   ]
  },
  {
   "cell_type": "code",
   "execution_count": null,
   "id": "a8b29a7d-072a-47aa-aeb2-411b6625f079",
   "metadata": {},
   "outputs": [],
   "source": [
    "NAME=\"chetna\"\n",
    "Name=\"aniket\"\n",
    "name=\"nikhil\""
   ]
  },
  {
   "cell_type": "code",
   "execution_count": null,
   "id": "cf0bc2b7-bc59-496c-b423-0e2066d52d99",
   "metadata": {},
   "outputs": [],
   "source": [
    "myvar=\"john\"  #correct\n",
    "my_var=\"john\" #correct\n",
    "_my_var=\"john\" #correct\n",
    "myVar=\"john\" #correct\n",
    "MYVAR=\"john\" #correct\n",
    "myvar2=\"john\" #correct\n",
    "2myvar=\"john\" #incorrect\n",
    "my-var=\"john\"  #incorrect\n",
    "my var=\"john  #incorrect"
   ]
  },
  {
   "cell_type": "markdown",
   "id": "0e10440d-756b-469e-a8f8-850e54da9216",
   "metadata": {},
   "source": [
    "we cane name the variable in three ways \n",
    "- 1. complex way\n",
    "jhhlhgg=45\n",
    "hkhklhlh=78\n",
    "jhjgkhggkfgkg=bkjhjgjg*hggkggf\n",
    "print(khggg)\n"
   ]
  },
  {
   "cell_type": "markdown",
   "id": "70dd3cda-4f0e-422b-87f8-cd776c30f482",
   "metadata": {},
   "source": [
    "- 2.easier way\n",
    "x=450\n",
    "y=78\n",
    "z=x*y\n",
    "\n",
    "-3. understable way \n",
    "payment_per_day=450\n",
    "days_of_working=78\n",
    "total_salary=payment_per_day*days_of_working"
   ]
  },
  {
   "cell_type": "markdown",
   "id": "88490040-6e63-40c5-99e8-9b51cc11d59b",
   "metadata": {},
   "source": [
    "## More on variable "
   ]
  },
  {
   "cell_type": "code",
   "execution_count": null,
   "id": "7c031648-ab02-4f7b-9242-4bb54b7dd0ac",
   "metadata": {},
   "outputs": [],
   "source": [
    "a=1\n",
    "b=1\n",
    "c=1\n"
   ]
  },
  {
   "cell_type": "raw",
   "id": "c50c5db5-9fc6-4f05-9f34-c3dfb4119b0c",
   "metadata": {},
   "source": [
    "a=b=c=1\n",
    "name,sirname,age,course=\"aniket\",\"unde\",26,\"data science\""
   ]
  },
  {
   "cell_type": "markdown",
   "id": "e00e5005-6d5d-48f1-93c3-5a62801a6b34",
   "metadata": {},
   "source": [
    "### Literals:a data which is given in a variables or constant"
   ]
  },
  {
   "cell_type": "markdown",
   "id": "7ec69a77-514d-4bcb-b8bd-c3d2d2bd4363",
   "metadata": {},
   "source": [
    "- 1. float/numaric literals\n",
    "- 2. text/string literals \n",
    "- 3. Boolean literals e. g a=true \n",
    "- 4. collection literals : to store multiple values \n",
    "   - list: 1 =[ 1,2,3,\"aniket\"]\n",
    "   - tuple: t=(1,2,5)\n",
    "   - set:{1,2,3}\n",
    "- 5. special literals\n",
    "     - dict :key and value pair\n",
    "    - d={\"name\":\"aniket\"}\n"
   ]
  },
  {
   "cell_type": "markdown",
   "id": "00cc5e41-381e-4416-b5c1-d6bd00a93a0c",
   "metadata": {},
   "source": [
    "### Examples"
   ]
  },
  {
   "cell_type": "code",
   "execution_count": 11,
   "id": "574fd618-27d1-44f1-9d8a-3ebd6f9b5ed0",
   "metadata": {},
   "outputs": [
    {
     "name": "stdout",
     "output_type": "stream",
     "text": [
      "113.03999999999999\n"
     ]
    }
   ],
   "source": [
    "#calculate area of circle (r=6)\n",
    "#Required: formula ==>pie *radius*radius\n",
    "radius=6 #var1\n",
    "pie=3.14  #var2\n",
    "area_of_circle=pie*radius*radius\n",
    "print(area_of_circle)"
   ]
  },
  {
   "cell_type": "code",
   "execution_count": 12,
   "id": "2e66f7d5-7b59-4d3a-b174-46e9192abd4d",
   "metadata": {},
   "outputs": [
    {
     "name": "stdout",
     "output_type": "stream",
     "text": [
      "113.03999999999999\n"
     ]
    }
   ],
   "source": [
    "radius=5\n",
    "pie=3.14\n",
    "are_of_circle=pie*radius**2\n",
    "print(area_of_circle)"
   ]
  },
  {
   "cell_type": "code",
   "execution_count": 13,
   "id": "c82c702a-3a3d-48f8-88f7-84785473ffcd",
   "metadata": {},
   "outputs": [
    {
     "name": "stdout",
     "output_type": "stream",
     "text": [
      "4.0\n"
     ]
    }
   ],
   "source": [
    "#calculate are of triangle \n",
    "base=4\n",
    "height=2\n",
    "area_of_triangle=1/2*base*height\n",
    "print(area_of_triangle)"
   ]
  }
 ],
 "metadata": {
  "kernelspec": {
   "display_name": "Python 3 (ipykernel)",
   "language": "python",
   "name": "python3"
  },
  "language_info": {
   "codemirror_mode": {
    "name": "ipython",
    "version": 3
   },
   "file_extension": ".py",
   "mimetype": "text/x-python",
   "name": "python",
   "nbconvert_exporter": "python",
   "pygments_lexer": "ipython3",
   "version": "3.12.7"
  }
 },
 "nbformat": 4,
 "nbformat_minor": 5
}
