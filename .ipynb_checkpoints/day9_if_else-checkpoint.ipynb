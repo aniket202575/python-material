{
 "cells": [
  {
   "cell_type": "code",
   "execution_count": 6,
   "id": "c8191c44-7bcc-4cac-aad1-7f88cbdca807",
   "metadata": {},
   "outputs": [
    {
     "name": "stdin",
     "output_type": "stream",
     "text": [
      "Enter no1: 12\n",
      "Enter no2: 15\n"
     ]
    },
    {
     "name": "stdout",
     "output_type": "stream",
     "text": [
      "27\n"
     ]
    }
   ],
   "source": [
    "#adding\n",
    "a=int(input(\"Enter no1:\"))\n",
    "b=int(input(\"Enter no2:\"))\n",
    "#print(a+b)\n",
    "c=a+b\n",
    "print(c)"
   ]
  },
  {
   "cell_type": "markdown",
   "id": "2fbe1067-132b-46b8-b464-362b8f5b8311",
   "metadata": {},
   "source": [
    "# eval():function :expression"
   ]
  },
  {
   "cell_type": "code",
   "execution_count": 7,
   "id": "7d6e76c0-9bb2-4640-9dad-6fa852bc6437",
   "metadata": {},
   "outputs": [
    {
     "name": "stdin",
     "output_type": "stream",
     "text": [
      "Enter no1: 4\n",
      "Enter no2: 5\n"
     ]
    },
    {
     "name": "stdout",
     "output_type": "stream",
     "text": [
      "9\n"
     ]
    }
   ],
   "source": [
    "#addition\n",
    "a=int(input(\"Enter no1:\"))   #str\n",
    "b=int(input(\"Enter no2:\"))\n",
    "#print(a+b)\n",
    "c=a+b\n",
    "print(c)"
   ]
  },
  {
   "cell_type": "code",
   "execution_count": 5,
   "id": "f049653b-50e7-46ed-917d-cf8b92a1787b",
   "metadata": {},
   "outputs": [
    {
     "name": "stdin",
     "output_type": "stream",
     "text": [
      "Enter no1: 4.5\n",
      "Enter no2: 8.6\n"
     ]
    },
    {
     "name": "stdout",
     "output_type": "stream",
     "text": [
      "13.1\n"
     ]
    }
   ],
   "source": [
    "#addition\n",
    "a=eval(input(\"Enter no1:\"))   #str\n",
    "b=eval(input(\"Enter no2:\"))\n",
    "#print(a+b)\n",
    "c=a+b\n",
    "print(c)"
   ]
  },
  {
   "cell_type": "code",
   "execution_count": 6,
   "id": "a7408227-34a7-4aef-b200-1294c6534395",
   "metadata": {},
   "outputs": [
    {
     "name": "stdin",
     "output_type": "stream",
     "text": [
      "Enter no1: \"aniket\"\n",
      "Enter no2: \"unde\"\n"
     ]
    },
    {
     "name": "stdout",
     "output_type": "stream",
     "text": [
      "aniketunde\n"
     ]
    }
   ],
   "source": [
    "a=eval(input(\"Enter no1:\"))   #sany data type\n",
    "b=eval(input(\"Enter no2:\"))\n",
    "#print(a+b)\n",
    "c=a+b\n",
    "print(c)"
   ]
  },
  {
   "cell_type": "code",
   "execution_count": 8,
   "id": "afdbb493-414b-4e5e-9761-21c71264bb0f",
   "metadata": {},
   "outputs": [
    {
     "name": "stdin",
     "output_type": "stream",
     "text": [
      "Enter no1: [1,2,3]\n",
      "Enter no2: [3,4,5]\n"
     ]
    },
    {
     "name": "stdout",
     "output_type": "stream",
     "text": [
      "[1, 2, 3, 3, 4, 5]\n"
     ]
    }
   ],
   "source": [
    "a=eval(input(\"Enter no1:\"))   #any data type \n",
    "b=eval(input(\"Enter no2:\"))\n",
    "#print(a+b)\n",
    "c=a+b\n",
    "print(c)"
   ]
  },
  {
   "cell_type": "code",
   "execution_count": 16,
   "id": "939037c7-5255-43b7-91c5-903cfcb2fe27",
   "metadata": {},
   "outputs": [
    {
     "name": "stdin",
     "output_type": "stream",
     "text": [
      "Enter no1: {1,2,1,1}\n",
      "Enter no2: {1,1,1,2}\n"
     ]
    },
    {
     "name": "stdout",
     "output_type": "stream",
     "text": [
      "{1, 2}\n"
     ]
    }
   ],
   "source": [
    "a=eval(input(\"Enter no1:\"))   #str\n",
    "b=eval(input(\"Enter no2:\"))\n",
    "#print(a+b)\n",
    "c=a|b\n",
    "print(c)"
   ]
  },
  {
   "cell_type": "code",
   "execution_count": 18,
   "id": "4c97f4ca-a7ee-41e5-b9c5-2b3e5a791fc4",
   "metadata": {},
   "outputs": [
    {
     "data": {
      "text/plain": [
       "-41"
      ]
     },
     "execution_count": 18,
     "metadata": {},
     "output_type": "execute_result"
    }
   ],
   "source": [
    "# to solve mathematical expression \n",
    "#2*x+3*y-8*z\n",
    "expression=\"2*x+3*y-8*z\" #expression===>string format\n",
    "x=1\n",
    "y=7\n",
    "z=8\n",
    "solution=eval(expression)\n",
    "solution\n"
   ]
  },
  {
   "cell_type": "code",
   "execution_count": 19,
   "id": "51057386-7d1f-4f65-b19f-2b40b4bbf422",
   "metadata": {},
   "outputs": [
    {
     "data": {
      "text/plain": [
       "-41"
      ]
     },
     "execution_count": 19,
     "metadata": {},
     "output_type": "execute_result"
    }
   ],
   "source": [
    "x=1\n",
    "y=7\n",
    "z=8\n",
    "2*x+3*y-8*z"
   ]
  },
  {
   "cell_type": "code",
   "execution_count": 20,
   "id": "902d9d80-b03f-47ec-a76a-05940a13af35",
   "metadata": {},
   "outputs": [
    {
     "data": {
      "text/plain": [
       "57"
      ]
     },
     "execution_count": 20,
     "metadata": {},
     "output_type": "execute_result"
    }
   ],
   "source": [
    "a=2\n",
    "b=9\n",
    "c=10\n",
    "eval(\"a*a-3*b+8*c\")"
   ]
  },
  {
   "cell_type": "markdown",
   "id": "68fa7678-c5a6-4fc3-b953-8af4c121b95c",
   "metadata": {},
   "source": [
    "# Logical control statment"
   ]
  },
  {
   "cell_type": "markdown",
   "id": "915dc71e-c9de-4677-bce8-061112581df7",
   "metadata": {},
   "source": [
    "- only if \n",
    "- if-else\n",
    "- nested if\n",
    "- if-elif"
   ]
  },
  {
   "cell_type": "code",
   "execution_count": 16,
   "id": "79e6d1df-ff3c-41da-a135-0f0a798d7c28",
   "metadata": {},
   "outputs": [
    {
     "name": "stdin",
     "output_type": "stream",
     "text": [
      "Enter your age: 45\n"
     ]
    },
    {
     "name": "stdout",
     "output_type": "stream",
     "text": [
      "you are eligible\n"
     ]
    }
   ],
   "source": [
    "age=eval(input(\"Enter your age:\"))\n",
    "#syntax\n",
    "#if condition:(after enetring bydefault space(indentation))\n",
    "#statment\n",
    "if age>18:\n",
    "    print(\"you are eligible\")\n",
    "    \n",
    "         "
   ]
  },
  {
   "cell_type": "code",
   "execution_count": 17,
   "id": "82c006a2-49ee-4b7d-8d04-aee779f827b1",
   "metadata": {},
   "outputs": [
    {
     "name": "stdin",
     "output_type": "stream",
     "text": [
      "Enter your age: 4\n"
     ]
    },
    {
     "name": "stdout",
     "output_type": "stream",
     "text": [
      "you are not eligible\n"
     ]
    }
   ],
   "source": [
    "age=eval(input(\"Enter your age:\"))\n",
    "if age>18:\n",
    "    print(\"you are eligible\")\n",
    "else:\n",
    "    print(\"you are not eligible\")"
   ]
  },
  {
   "cell_type": "markdown",
   "id": "47909b76-d2a0-44cd-bfb9-909bd4a4946f",
   "metadata": {},
   "source": [
    "# Even and odd number"
   ]
  },
  {
   "cell_type": "code",
   "execution_count": 19,
   "id": "e213df04-36da-4532-aed5-2bd8e40dafef",
   "metadata": {},
   "outputs": [
    {
     "name": "stdin",
     "output_type": "stream",
     "text": [
      "Enter number: 7\n"
     ]
    },
    {
     "name": "stdout",
     "output_type": "stream",
     "text": [
      "odd\n"
     ]
    }
   ],
   "source": [
    "#8%2===0\n",
    "num=float(input(\"Enter number:\")) #8\n",
    "if num%2==0:\n",
    "    print(\"even\")\n",
    "else:\n",
    "    print(\"odd\")"
   ]
  },
  {
   "cell_type": "markdown",
   "id": "1e8586a7-a15a-4b0f-b8a6-a12f7a807482",
   "metadata": {},
   "source": [
    "## cheeck if given number is divisible by 5 or not"
   ]
  },
  {
   "cell_type": "code",
   "execution_count": 21,
   "id": "81741eea-a6d7-4f33-8c8b-d3e7416a9f42",
   "metadata": {},
   "outputs": [
    {
     "name": "stdin",
     "output_type": "stream",
     "text": [
      "enter number: 225\n"
     ]
    },
    {
     "name": "stdout",
     "output_type": "stream",
     "text": [
      "divisible by 5\n"
     ]
    }
   ],
   "source": [
    "num=eval(input(\"enter number:\"))\n",
    "if num%5==0:\n",
    "    print(\"divisible by 5\")\n",
    "else:\n",
    "    print(\"not divisible by 5\")\n",
    "         "
   ]
  },
  {
   "cell_type": "markdown",
   "id": "c1eaa3c5-7c0d-4d68-8994-9cbe41180e28",
   "metadata": {},
   "source": [
    "## check pass or fail"
   ]
  },
  {
   "cell_type": "code",
   "execution_count": 23,
   "id": "0838f9c1-aad2-43a9-922e-2eae56e32ec5",
   "metadata": {},
   "outputs": [
    {
     "name": "stdin",
     "output_type": "stream",
     "text": [
      "enter marks: 50\n"
     ]
    },
    {
     "name": "stdout",
     "output_type": "stream",
     "text": [
      "pass\n"
     ]
    }
   ],
   "source": [
    "marks=float(input(\"enter marks:\"))\n",
    "if marks>45:\n",
    "    print(\"pass\")\n",
    "else:\n",
    "    print(\"fail\")"
   ]
  },
  {
   "cell_type": "code",
   "execution_count": null,
   "id": "1f1c4b28-6fc0-4865-96b4-ace1465337ee",
   "metadata": {},
   "outputs": [],
   "source": []
  },
  {
   "cell_type": "markdown",
   "id": "43c4c92d-7301-49f1-afda-eb4b11855a68",
   "metadata": {},
   "source": [
    "## larger between two numbers"
   ]
  },
  {
   "cell_type": "code",
   "execution_count": 24,
   "id": "fb4ceccc-643c-419d-85f6-e9a37f1474e8",
   "metadata": {},
   "outputs": [
    {
     "name": "stdout",
     "output_type": "stream",
     "text": [
      "50 is greater\n"
     ]
    }
   ],
   "source": [
    "n1=45\n",
    "n2=50\n",
    "if n1>n2:\n",
    "    print(n1, \"is greater\")\n",
    "else:\n",
    "    print(n2,\"is greater\")"
   ]
  },
  {
   "cell_type": "code",
   "execution_count": 26,
   "id": "8a0f2e8a-87a0-42a7-a7cd-f536e81aabbb",
   "metadata": {},
   "outputs": [
    {
     "name": "stdout",
     "output_type": "stream",
     "text": [
      "45 is smaller\n"
     ]
    }
   ],
   "source": [
    "n1=45\n",
    "n2=50\n",
    "if n1<n2:\n",
    "    print(n1, \"is smaller\")\n",
    "else:\n",
    "    print(n2,\"is smaller\")"
   ]
  },
  {
   "cell_type": "markdown",
   "id": "cf17d4d0-ac8d-4fb4-bc99-f460ddb5dd78",
   "metadata": {},
   "source": [
    "# if-elief: more than two condition (independend)"
   ]
  },
  {
   "cell_type": "code",
   "execution_count": null,
   "id": "d7a2eb82-0321-4d27-ac6b-2bee4925395c",
   "metadata": {},
   "outputs": [],
   "source": []
  },
  {
   "cell_type": "markdown",
   "id": "28beb4fa-d144-4a9a-a2eb-3494d238b69c",
   "metadata": {},
   "source": [
    "## larger between 3 numbers "
   ]
  },
  {
   "cell_type": "code",
   "execution_count": 3,
   "id": "61ceffe2-6643-4874-b44e-e5cd502637ac",
   "metadata": {},
   "outputs": [
    {
     "name": "stdout",
     "output_type": "stream",
     "text": [
      "40  n3 is greater\n"
     ]
    }
   ],
   "source": [
    "n1=20\n",
    "n2=30\n",
    "n3=40\n",
    "if n1>n2 and n1>n3:   #f and f====>f\n",
    "    print(n1,\" n1 is greater\")\n",
    "elif n2>n1 and n2>n3: #t and f===f\n",
    "    print(n2,\"is greater\")\n",
    "else:\n",
    "    print(n3,\" n3 is greater\")"
   ]
  },
  {
   "cell_type": "code",
   "execution_count": 4,
   "id": "3370219c-0ee7-4768-8a21-5cdc7caaae85",
   "metadata": {},
   "outputs": [
    {
     "name": "stdin",
     "output_type": "stream",
     "text": [
      "enter num1: 7\n",
      "enter num2: 9\n",
      "enter num3: 2\n"
     ]
    },
    {
     "name": "stdout",
     "output_type": "stream",
     "text": [
      "9 n2 is greater\n"
     ]
    }
   ],
   "source": [
    "n1=int(input(\"enter num1:\"))\n",
    "n2=int(input(\"enter num2:\"))\n",
    "n3=int(input(\"enter num3:\"))\n",
    "if n1>n2 and n1>n3:   #f and t===>f\n",
    "    print(n1 ,\" n1 is greater\")\n",
    "elif n2>n1 and n2> n3:  #T and T=T\n",
    "    print(n2, \"n2 is greater\")\n",
    "else:\n",
    "    print(n3,\"n3 is greater\")"
   ]
  },
  {
   "cell_type": "code",
   "execution_count": null,
   "id": "008fd898-9bf7-4308-b31f-1104b7dee582",
   "metadata": {},
   "outputs": [],
   "source": [
    "n1"
   ]
  },
  {
   "cell_type": "markdown",
   "id": "b3d933ba-01c6-4f2f-a763-acddce3093ae",
   "metadata": {},
   "source": [
    "# Simple calculator using if-elif"
   ]
  },
  {
   "cell_type": "code",
   "execution_count": 22,
   "id": "1930493b-af2f-4ef2-84a6-1dc88fd321d6",
   "metadata": {},
   "outputs": [
    {
     "name": "stdin",
     "output_type": "stream",
     "text": [
      "Enter no1: 12\n",
      "Enter no2: 15\n",
      "Enter operator(+,-,*,/): +\n"
     ]
    },
    {
     "name": "stdout",
     "output_type": "stream",
     "text": [
      "Answer is:\n",
      "27\n"
     ]
    }
   ],
   "source": [
    "#0-9\n",
    "num1=eval(input(\"Enter no1:\")) #integer/folat\n",
    "num2=eval(input(\"Enter no2:\"))  #int/float\n",
    "operator=input(\"Enter operator(+,-,*,/):\")  #str\n",
    "if operator==\"+\":\n",
    "    result=num1+num2\n",
    "    #print(result)\n",
    "elif operator==\"-\":\n",
    "    result=num1-num2\n",
    "    #print(result)\n",
    "elif operator==\"*\":\n",
    "    result=num1*num2\n",
    "    #print(result)\n",
    "elif operator==\"/\":\n",
    "    result=num1/num2\n",
    "    #print(result)\n",
    "else:\n",
    "    print(\"Invalid Operator\")\n",
    "print(\"Answer is:\")\n",
    "print(result)\n"
   ]
  },
  {
   "cell_type": "code",
   "execution_count": 9,
   "id": "740040d6-f4cf-430c-8cfa-9a40c30e8410",
   "metadata": {},
   "outputs": [
    {
     "name": "stdin",
     "output_type": "stream",
     "text": [
      "Enter no1: 7\n",
      "Enter no2: 5\n",
      "Enter operator(+,-,*,/): *\n"
     ]
    },
    {
     "name": "stdout",
     "output_type": "stream",
     "text": [
      "Answer is:\n",
      "35\n"
     ]
    }
   ],
   "source": [
    "num1=eval(input(\"Enter no1:\")) #integer/folat\n",
    "num2=eval(input(\"Enter no2:\"))  #int/float\n",
    "operator=input(\"Enter operator(+,-,*,/):\")  #str\n",
    "if operator==\"+\":\n",
    "    result=num1+num2\n",
    "    #print(result)\n",
    "elif operator==\"-\":\n",
    "    result=num1-num2\n",
    "    #print(result)\n",
    "elif operator==\"*\":\n",
    "    result=num1*num2\n",
    "    #print(result)\n",
    "elif operator==\"/\":\n",
    "    result=num1/num2\n",
    "    #print(result)\n",
    "else:\n",
    "    print(\"Invalid Operator\")\n",
    "print(\"Answer is:\")\n",
    "print(result)"
   ]
  },
  {
   "cell_type": "code",
   "execution_count": 10,
   "id": "e09187fd-d51d-4045-96f4-cac0484f25a6",
   "metadata": {},
   "outputs": [
    {
     "name": "stdin",
     "output_type": "stream",
     "text": [
      "Enter no1: 7\n",
      "Enter no2: 5\n",
      "Enter operator(+,-,*,/): *\n"
     ]
    },
    {
     "name": "stdout",
     "output_type": "stream",
     "text": [
      "Multiplication is: 35\n",
      "Answer is:\n",
      "35\n"
     ]
    }
   ],
   "source": [
    "num1=eval(input(\"Enter no1:\")) #integer/folat\n",
    "num2=eval(input(\"Enter no2:\"))  #int/float\n",
    "operator=input(\"Enter operator(+,-,*,/):\")  #str\n",
    "if operator==\"+\":\n",
    "    result=num1+num2\n",
    "    print(\"Addition is:\",result)\n",
    "elif operator==\"-\":\n",
    "    result=num1-num2\n",
    "    print(\"substraction is:\",result)\n",
    "elif operator==\"*\":\n",
    "    result=num1*num2\n",
    "    print(\"Multiplication is:\",result)\n",
    "elif operator==\"/\":\n",
    "    result=num1/num2\n",
    "    print(\"Division is:\",result)\n",
    "else:\n",
    "    print(\"Invalid Operator\")\n",
    "print(\"Answer is:\")\n",
    "print(result)\n"
   ]
  },
  {
   "cell_type": "markdown",
   "id": "ca43acb0-c16e-4e69-872a-58c769b32fce",
   "metadata": {},
   "source": [
    "# classify senior,teenager,child using age "
   ]
  },
  {
   "cell_type": "code",
   "execution_count": 23,
   "id": "29eb8df7-1ba3-4a9a-bf81-6c1349bcd27a",
   "metadata": {},
   "outputs": [
    {
     "name": "stdin",
     "output_type": "stream",
     "text": [
      "enter your age : 39\n"
     ]
    },
    {
     "name": "stdout",
     "output_type": "stream",
     "text": [
      "Teenager\n"
     ]
    }
   ],
   "source": [
    "age=int(input(\"enter your age :\"))\n",
    "if age >40:\n",
    "    print(\"Senior\")\n",
    "elif age>18:\n",
    "    print(\"Teenager\")\n",
    "else:\n",
    "    print(\"Child\")\n",
    "    "
   ]
  },
  {
   "cell_type": "code",
   "execution_count": 28,
   "id": "c7654ec6-6faa-47e8-af8c-4ad9bdb6bba4",
   "metadata": {},
   "outputs": [
    {
     "name": "stdin",
     "output_type": "stream",
     "text": [
      "enter your age : 55\n"
     ]
    },
    {
     "name": "stdout",
     "output_type": "stream",
     "text": [
      "Good\n"
     ]
    }
   ],
   "source": [
    "age=int(input(\"enter your age :\"))\n",
    "if age >50:\n",
    "    print(\"Good\")\n",
    "elif age>18:\n",
    "    print(\"Better\")\n",
    "else:\n",
    "    print(\"Child\")\n",
    "    "
   ]
  },
  {
   "cell_type": "markdown",
   "id": "42e5216b-8a82-4a21-87ec-6d7334e78c5f",
   "metadata": {},
   "source": [
    "# leap yerar checker"
   ]
  },
  {
   "cell_type": "code",
   "execution_count": 4,
   "id": "4c56647f-c62b-4720-a14d-f46dc5408583",
   "metadata": {},
   "outputs": [
    {
     "name": "stdin",
     "output_type": "stream",
     "text": [
      "enter year 2024\n"
     ]
    },
    {
     "name": "stdout",
     "output_type": "stream",
     "text": [
      "leap year\n"
     ]
    }
   ],
   "source": [
    "#2025: not leap year\n",
    "#2024: leap year\n",
    "year=int(input(\"enter year\"))\n",
    "if year%4==0:\n",
    "    print(\"leap year\")\n",
    "else:\n",
    "    print(\"not leap year \")"
   ]
  },
  {
   "cell_type": "code",
   "execution_count": 5,
   "id": "c522d499-7192-40dd-b445-2b38056b821d",
   "metadata": {},
   "outputs": [
    {
     "name": "stdin",
     "output_type": "stream",
     "text": [
      "enter year 1800\n"
     ]
    },
    {
     "name": "stdout",
     "output_type": "stream",
     "text": [
      "not leap year\n"
     ]
    }
   ],
   "source": [
    "#year/4===>reminder : 0\n",
    "#year/100===> reminder not 0\n",
    "#year/400====> reminder0\n",
    "\n",
    "\n",
    "\n",
    "year=int(input(\"enter year\"))\n",
    "if (year%4==0 and year %  100!=0) or (year%400==0):\n",
    "    print(\"leap year\")\n",
    "else:\n",
    "    print(\"not leap year\")"
   ]
  },
  {
   "cell_type": "code",
   "execution_count": 6,
   "id": "94f1068c-2963-48f9-af1f-d40f626a382f",
   "metadata": {},
   "outputs": [
    {
     "data": {
      "text/plain": [
       "24"
      ]
     },
     "execution_count": 6,
     "metadata": {},
     "output_type": "execute_result"
    }
   ],
   "source": [
    "2024%400 #(F and T) or (F ===> for F ===F"
   ]
  },
  {
   "cell_type": "markdown",
   "id": "24adb783-b7ac-4727-85d2-d60ed07b57ae",
   "metadata": {},
   "source": [
    "# positive and negative number changer"
   ]
  },
  {
   "cell_type": "code",
   "execution_count": 17,
   "id": "2488c76e-c55b-4dfe-84d2-ad407febad52",
   "metadata": {},
   "outputs": [
    {
     "name": "stdin",
     "output_type": "stream",
     "text": [
      "Enter num : 0\n"
     ]
    },
    {
     "name": "stdout",
     "output_type": "stream",
     "text": [
      "0 is neutral\n"
     ]
    }
   ],
   "source": [
    "#positive > 0\n",
    "num=float(input(\"Enter num :\"))\n",
    "if num>0:\n",
    "    print(num, \"is positive\")\n",
    "elif num==0:\n",
    "    print(\"0 is neutral\")\n",
    "else:\n",
    "    print(num, \"is negative\")"
   ]
  },
  {
   "cell_type": "markdown",
   "id": "1e9d62bc-64df-47b5-86e8-3f14fa8e2542",
   "metadata": {},
   "source": [
    "## in which range does the given number fall :1-10,11-20,21-30 or above  30"
   ]
  },
  {
   "cell_type": "code",
   "execution_count": 24,
   "id": "905e8f06-5ebd-4265-9e67-c0ba8e8922d8",
   "metadata": {},
   "outputs": [
    {
     "name": "stdin",
     "output_type": "stream",
     "text": [
      " 40\n"
     ]
    },
    {
     "name": "stdout",
     "output_type": "stream",
     "text": [
      "above 30\n"
     ]
    }
   ],
   "source": [
    "n=int(input())\n",
    "if 1<=n<=10:\n",
    "   print(\"In range of 1-10\")\n",
    "elif 11<=n<=20:\n",
    "   print(\"In range of 11-20\")\n",
    "elif 21<=n<=30:\n",
    "   print(\"In range of 21-30\")\n",
    "else:\n",
    " print(\"above 30\")\n"
   ]
  },
  {
   "cell_type": "markdown",
   "id": "9472a675-cb6b-4cdb-83ba-922f23cd4019",
   "metadata": {},
   "source": [
    "# Homework"
   ]
  },
  {
   "cell_type": "code",
   "execution_count": null,
   "id": "770e8196-dce0-438e-965c-5dba0963323f",
   "metadata": {},
   "outputs": [],
   "source": [
    "# 1. classify temperature ranges: <=0:freezing, <10: cold,<30:warm >30:hot\n",
    "#2 . student grade checker \n",
    "#90-100: A+ grade \n",
    "#70-80:B+ grade \n",
    "#60-70 :B gradee\n",
    "#50-60 :C+ grade \n",
    "#40-50 :C grade \n",
    "#<40: fail\n",
    "\n",
    "#3 . check two numbers are equal or not \n"
   ]
  },
  {
   "cell_type": "code",
   "execution_count": 41,
   "id": "7d7203aa-2a30-4988-a0ed-96b9240eb758",
   "metadata": {},
   "outputs": [
    {
     "name": "stdin",
     "output_type": "stream",
     "text": [
      "Enter the temperature: 31\n"
     ]
    },
    {
     "name": "stdout",
     "output_type": "stream",
     "text": [
      "Hot\n"
     ]
    }
   ],
   "source": [
    "# 1. classify temperature ranges: <=0:freezing, <10: cold,<30:warm >30:hot\n",
    "temperature = float(input(\"Enter the temperature:\"))\n",
    "if temperature <= 0:\n",
    "    print(\"Freezing\")\n",
    "elif temperature < 10:\n",
    "    print(\"Cold\")\n",
    "elif temperature < 30:\n",
    "    print(\"Warm\")\n",
    "else:\n",
    "    print(\"Hot\")"
   ]
  },
  {
   "cell_type": "code",
   "execution_count": 50,
   "id": "b75aefcb-2ffb-4421-a394-12fda0e9f7f0",
   "metadata": {},
   "outputs": [
    {
     "name": "stdin",
     "output_type": "stream",
     "text": [
      "Enter students marks (0-100):  61\n"
     ]
    },
    {
     "name": "stdout",
     "output_type": "stream",
     "text": [
      "B grade\n"
     ]
    }
   ],
   "source": [
    "#2 . student grade checker \n",
    "#90-100: A+ grade \n",
    "#70-80:B+ grade \n",
    "#60-70 :B gradee\n",
    "#50-60 :C+ grade \n",
    "#40-50 :C grade \n",
    "#<40: fail\n",
    "marks = float(input(\"Enter students marks (0-100): \"))\n",
    "if  90 <= marks < 100:\n",
    "    print(\"A+ grade\")\n",
    "elif 70 <= marks < 90:\n",
    "    print(\"B+ grade\")\n",
    "elif 60 <= marks < 70:\n",
    "    print(\"B grade\")\n",
    "elif 50 <= marks < 60:\n",
    "    print(\"C+ grade\")\n",
    "elif 40 <= marks < 50:\n",
    "    print(\"C grade\")\n",
    "else:\n",
    "    print(\"Fail\")"
   ]
  },
  {
   "cell_type": "code",
   "execution_count": 56,
   "id": "932d04b9-5ded-47ce-8fe7-206cf050a545",
   "metadata": {},
   "outputs": [
    {
     "name": "stdin",
     "output_type": "stream",
     "text": [
      "enter first number: 14\n",
      "enter second number: 15\n"
     ]
    },
    {
     "name": "stdout",
     "output_type": "stream",
     "text": [
      "numbers are not equal\n"
     ]
    }
   ],
   "source": [
    "#3 . check two numbers are equal or not \n",
    "a= int(input(\"enter first number:\"))\n",
    "b =int(input(\"enter second number:\"))\n",
    "if a== b:\n",
    "    print(\" both numbers are equal\")\n",
    "else:\n",
    "    print(\"numbers are not equal\")"
   ]
  },
  {
   "cell_type": "code",
   "execution_count": null,
   "id": "467854da-2221-4193-b545-e527926c80d9",
   "metadata": {},
   "outputs": [],
   "source": []
  }
 ],
 "metadata": {
  "kernelspec": {
   "display_name": "Python 3 (ipykernel)",
   "language": "python",
   "name": "python3"
  },
  "language_info": {
   "codemirror_mode": {
    "name": "ipython",
    "version": 3
   },
   "file_extension": ".py",
   "mimetype": "text/x-python",
   "name": "python",
   "nbconvert_exporter": "python",
   "pygments_lexer": "ipython3",
   "version": "3.12.7"
  }
 },
 "nbformat": 4,
 "nbformat_minor": 5
}
