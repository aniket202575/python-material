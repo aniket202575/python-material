{
 "cells": [
  {
   "cell_type": "markdown",
   "id": "a54cdb0f-b176-4fee-af35-59a3f5d4f5d7",
   "metadata": {
    "jp-MarkdownHeadingCollapsed": true
   },
   "source": [
    "- 1. Airthmatic opperators(+,-,*,/)\n",
    "- 2. Assignment opperators \n",
    "- 3. Logical opperators\n",
    "- 4. Identity opperators (is,is not)\n",
    "- 5. Membership opperators (in,not in)\n",
    "- 6. Bitwise opperators \n",
    "- 7. Relational/Comparision opperators(<,>,<=,>=,==,!=)"
   ]
  },
  {
   "cell_type": "markdown",
   "id": "a62e8c75-7af9-4a42-8475-1f92223a768a",
   "metadata": {},
   "source": [
    "### Opperator precedence"
   ]
  },
  {
   "cell_type": "markdown",
   "id": "541c6575-9f67-416b-a332-530b475cfb6b",
   "metadata": {},
   "source": [
    "# Assignment opperators"
   ]
  },
  {
   "cell_type": "markdown",
   "id": "75e6a6f2-cc16-4b9e-bb60-71200937a96a",
   "metadata": {},
   "source": [
    "- ="
   ]
  },
  {
   "cell_type": "code",
   "execution_count": 20,
   "id": "71fa0eef-53ab-47b5-91a9-bc288763018c",
   "metadata": {},
   "outputs": [],
   "source": [
    "a=12"
   ]
  },
  {
   "cell_type": "code",
   "execution_count": 21,
   "id": "848d6ece-da28-459c-bff3-f96dbc4463d4",
   "metadata": {},
   "outputs": [
    {
     "data": {
      "text/plain": [
       "17"
      ]
     },
     "execution_count": 21,
     "metadata": {},
     "output_type": "execute_result"
    }
   ],
   "source": [
    "#a+5\n",
    "a=a+5\n",
    "a"
   ]
  },
  {
   "cell_type": "code",
   "execution_count": 23,
   "id": "4b775f42-0fe4-4da1-b95c-37f4f7a7be17",
   "metadata": {},
   "outputs": [
    {
     "data": {
      "text/plain": [
       "110"
      ]
     },
     "execution_count": 23,
     "metadata": {},
     "output_type": "execute_result"
    }
   ],
   "source": [
    "a=100\n",
    "#a=a+10\n",
    "a+=10\n",
    "a"
   ]
  },
  {
   "cell_type": "code",
   "execution_count": 24,
   "id": "e33351c6-1ef0-4015-ac60-47960e56265c",
   "metadata": {},
   "outputs": [
    {
     "data": {
      "text/plain": [
       "100"
      ]
     },
     "execution_count": 24,
     "metadata": {},
     "output_type": "execute_result"
    }
   ],
   "source": [
    "#a=a-10\n",
    "a-=10\n",
    "a"
   ]
  },
  {
   "cell_type": "markdown",
   "id": "59f8d07b-8c4a-47cf-b627-5314cef0ae27",
   "metadata": {},
   "source": [
    "- *=\n",
    "- /=\n"
   ]
  },
  {
   "cell_type": "code",
   "execution_count": null,
   "id": "96168246-5987-45ce-94ef-45562b27b877",
   "metadata": {},
   "outputs": [],
   "source": [
    "%====>"
   ]
  },
  {
   "cell_type": "code",
   "execution_count": 26,
   "id": "7684703d-992f-49fb-8957-4a0f1fe434a7",
   "metadata": {},
   "outputs": [
    {
     "data": {
      "text/plain": [
       "0"
      ]
     },
     "execution_count": 26,
     "metadata": {},
     "output_type": "execute_result"
    }
   ],
   "source": [
    "10%5 #modulus/reminder"
   ]
  },
  {
   "cell_type": "code",
   "execution_count": 27,
   "id": "f2d4018a-b6ca-47ec-b78e-d8fa4b69d765",
   "metadata": {},
   "outputs": [
    {
     "data": {
      "text/plain": [
       "2"
      ]
     },
     "execution_count": 27,
     "metadata": {},
     "output_type": "execute_result"
    }
   ],
   "source": [
    "12%5"
   ]
  },
  {
   "cell_type": "code",
   "execution_count": 28,
   "id": "d3335efb-f253-4926-b084-5b7f4e18504e",
   "metadata": {},
   "outputs": [
    {
     "data": {
      "text/plain": [
       "2.4"
      ]
     },
     "execution_count": 28,
     "metadata": {},
     "output_type": "execute_result"
    }
   ],
   "source": [
    "12/5   #division"
   ]
  },
  {
   "cell_type": "code",
   "execution_count": 29,
   "id": "5a6d8ff5-f950-4e04-9dce-4631acc96474",
   "metadata": {},
   "outputs": [
    {
     "data": {
      "text/plain": [
       "2"
      ]
     },
     "execution_count": 29,
     "metadata": {},
     "output_type": "execute_result"
    }
   ],
   "source": [
    "12//5   #//: floor division : qotient"
   ]
  },
  {
   "cell_type": "code",
   "execution_count": 30,
   "id": "5ca237b4-91a5-42ef-8fd1-fccea657af2f",
   "metadata": {},
   "outputs": [
    {
     "data": {
      "text/plain": [
       "2"
      ]
     },
     "execution_count": 30,
     "metadata": {},
     "output_type": "execute_result"
    }
   ],
   "source": [
    "8//4"
   ]
  },
  {
   "cell_type": "code",
   "execution_count": 31,
   "id": "08d373cd-69f4-4096-9601-96c2618b46d4",
   "metadata": {},
   "outputs": [
    {
     "data": {
      "text/plain": [
       "0"
      ]
     },
     "execution_count": 31,
     "metadata": {},
     "output_type": "execute_result"
    }
   ],
   "source": [
    "8%4"
   ]
  },
  {
   "cell_type": "markdown",
   "id": "91ff3bc9-6d54-483f-a4fe-de2dea455d5f",
   "metadata": {},
   "source": [
    "# Logical opperators"
   ]
  },
  {
   "cell_type": "markdown",
   "id": "9941fb81-2864-447e-ab62-9bfeae1660d6",
   "metadata": {},
   "source": [
    "- and\n",
    "- or\n",
    "\n",
    "\n"
   ]
  },
  {
   "cell_type": "code",
   "execution_count": 32,
   "id": "7d2c0f85-295e-4de5-afdb-322895083fe2",
   "metadata": {},
   "outputs": [
    {
     "data": {
      "text/plain": [
       "False"
      ]
     },
     "execution_count": 32,
     "metadata": {},
     "output_type": "execute_result"
    }
   ],
   "source": [
    "a=100\n",
    "b=50\n",
    "a >100 and b<50\n"
   ]
  },
  {
   "cell_type": "code",
   "execution_count": 33,
   "id": "576d1144-8910-4e73-8071-b0e3fb31b217",
   "metadata": {},
   "outputs": [
    {
     "data": {
      "text/plain": [
       "True"
      ]
     },
     "execution_count": 33,
     "metadata": {},
     "output_type": "execute_result"
    }
   ],
   "source": [
    "a<200 or b<50"
   ]
  },
  {
   "cell_type": "code",
   "execution_count": 41,
   "id": "f5a88a08-063b-4afe-9ba4-9ec876084c9a",
   "metadata": {},
   "outputs": [
    {
     "name": "stdin",
     "output_type": "stream",
     "text": [
      "Enter your Age: 45\n",
      "Do you have voter id card?(yes/no) yes\n"
     ]
    },
    {
     "name": "stdout",
     "output_type": "stream",
     "text": [
      "your are eligible\n"
     ]
    }
   ],
   "source": [
    "age=int(input(\"Enter your Age:\"))\n",
    "voter_id=input(\"Do you have voter id card?(yes/no)\")\n",
    "if age>18 and voter_id==\"yes\":\n",
    "     print(\"your are eligible\")\n",
    "else:\n",
    "    print(\"your are not eligible\")"
   ]
  },
  {
   "cell_type": "code",
   "execution_count": 6,
   "id": "64cc26d8-1826-482c-9fde-7a781a204918",
   "metadata": {},
   "outputs": [
    {
     "data": {
      "text/plain": [
       "False"
      ]
     },
     "execution_count": 6,
     "metadata": {},
     "output_type": "execute_result"
    }
   ],
   "source": [
    "l=[1,4,5,]\n",
    "1 not in l"
   ]
  },
  {
   "cell_type": "markdown",
   "id": "6c3fe6d7-920b-4ccb-88af-ed51d7897c23",
   "metadata": {},
   "source": [
    "- is \n",
    "- is not"
   ]
  },
  {
   "cell_type": "code",
   "execution_count": 13,
   "id": "4c498aca-d1d5-4482-bfd2-05443468823b",
   "metadata": {},
   "outputs": [
    {
     "name": "stdout",
     "output_type": "stream",
     "text": [
      "yes\n"
     ]
    }
   ],
   "source": [
    "a=123\n",
    "b=34.8\n",
    "if type(a) is int:\n",
    "    print(\"yes\")\n"
   ]
  },
  {
   "cell_type": "code",
   "execution_count": 14,
   "id": "9a75dc9e-4483-461e-860e-460d071dc2b1",
   "metadata": {},
   "outputs": [
    {
     "name": "stdout",
     "output_type": "stream",
     "text": [
      "yes\n"
     ]
    }
   ],
   "source": [
    "if type(b) is not int:\n",
    "    print(\"yes\")\n",
    "else:\n",
    "    print(\"no\")\n",
    "    \n",
    "    "
   ]
  },
  {
   "cell_type": "code",
   "execution_count": 15,
   "id": "f0616c4f-1a4e-40e8-82dd-6c77006bfa74",
   "metadata": {},
   "outputs": [
    {
     "name": "stdout",
     "output_type": "stream",
     "text": [
      "yes\n"
     ]
    }
   ],
   "source": [
    "a=100\n",
    "b=80\n",
    "if a!=50 or b<=100:\n",
    "    print(\"yes\")\n",
    "else:\n",
    "    print(\"no\")"
   ]
  },
  {
   "cell_type": "markdown",
   "id": "c2aa0507-c21b-4134-bb25-2995a18f2b36",
   "metadata": {},
   "source": [
    "# Bitwise opperators "
   ]
  },
  {
   "cell_type": "markdown",
   "id": "2e24191a-89b3-4181-9ec5-16f0b5961763",
   "metadata": {},
   "source": [
    "### & and opperator | or opperator "
   ]
  },
  {
   "cell_type": "code",
   "execution_count": 16,
   "id": "f3d47a02-afd1-4a0b-9e08-90a8e40b20da",
   "metadata": {},
   "outputs": [
    {
     "data": {
      "text/plain": [
       "8"
      ]
     },
     "execution_count": 16,
     "metadata": {},
     "output_type": "execute_result"
    }
   ],
   "source": [
    "12&10\n"
   ]
  },
  {
   "cell_type": "code",
   "execution_count": null,
   "id": "f183a494-6139-461e-9d06-4bcb68c4b6ab",
   "metadata": {},
   "outputs": [],
   "source": [
    "# int to binary:16 8 4 2 1 \n",
    "# 4 digit or 8 digit binary (1 and 0)\n",
    "#e.g20===>1 0 1 0 0====>0 0 0 1 0 1 0 0 \n",
    "#12======>1 1 0 0 \n",
    "#10======>1 0 1 0"
   ]
  },
  {
   "cell_type": "code",
   "execution_count": 17,
   "id": "9e3c16ed-7906-43cf-a6d3-c881c15aab9f",
   "metadata": {},
   "outputs": [
    {
     "data": {
      "text/plain": [
       "14"
      ]
     },
     "execution_count": 17,
     "metadata": {},
     "output_type": "execute_result"
    }
   ],
   "source": [
    "12|10"
   ]
  },
  {
   "cell_type": "code",
   "execution_count": 18,
   "id": "566651ea-087e-47c1-90a8-ea872448cbaa",
   "metadata": {},
   "outputs": [
    {
     "data": {
      "text/plain": [
       "4"
      ]
     },
     "execution_count": 18,
     "metadata": {},
     "output_type": "execute_result"
    }
   ],
   "source": [
    "5&4"
   ]
  },
  {
   "cell_type": "code",
   "execution_count": 19,
   "id": "dcf29b55-0a94-4224-bf33-d0d8d91b2fcb",
   "metadata": {},
   "outputs": [
    {
     "data": {
      "text/plain": [
       "5"
      ]
     },
     "execution_count": 19,
     "metadata": {},
     "output_type": "execute_result"
    }
   ],
   "source": [
    "5|4"
   ]
  },
  {
   "cell_type": "markdown",
   "id": "6d2cc805-437d-4961-9b27-c03a177032ae",
   "metadata": {},
   "source": [
    "# opperator precidence"
   ]
  },
  {
   "cell_type": "code",
   "execution_count": 20,
   "id": "60a4c93e-eba5-4b6a-a346-93a3d469f001",
   "metadata": {},
   "outputs": [
    {
     "data": {
      "text/plain": [
       "1"
      ]
     },
     "execution_count": 20,
     "metadata": {},
     "output_type": "execute_result"
    }
   ],
   "source": [
    "1**4"
   ]
  },
  {
   "cell_type": "markdown",
   "id": "96ce32e7-ac04-4c92-92f7-2850b89a8bce",
   "metadata": {},
   "source": [
    "- () : parenthesis\n",
    "- ** : power/raise to : exponent\n",
    "- +a,-b: unary plus.unary minus \n",
    "- +,-,%,//,/\n",
    "- & | : Bitiwise and /Bitwise or\n",
    "- <<,>> : Bitwise shift opperator\n",
    "- ==,<== \n",
    "- not in, in"
   ]
  },
  {
   "cell_type": "markdown",
   "id": "846b13d1-13b6-4e75-be84-cc07e1cfce4d",
   "metadata": {},
   "source": [
    "# <<,>> : Bitwise shift opperator "
   ]
  },
  {
   "cell_type": "code",
   "execution_count": 21,
   "id": "3cad6c2d-94d5-4f7b-963a-3dc3ec87c825",
   "metadata": {},
   "outputs": [
    {
     "name": "stdout",
     "output_type": "stream",
     "text": [
      "3\n"
     ]
    }
   ],
   "source": [
    "#left_right associativity\n",
    "print(5*2//3)"
   ]
  },
  {
   "cell_type": "code",
   "execution_count": 22,
   "id": "929a61fb-ef4b-403f-8c9b-093dfb25bd61",
   "metadata": {},
   "outputs": [
    {
     "data": {
      "text/plain": [
       "10"
      ]
     },
     "execution_count": 22,
     "metadata": {},
     "output_type": "execute_result"
    }
   ],
   "source": [
    "5*2"
   ]
  },
  {
   "cell_type": "code",
   "execution_count": 23,
   "id": "9c45231d-e774-4e9d-bead-030f4d55adb3",
   "metadata": {},
   "outputs": [
    {
     "data": {
      "text/plain": [
       "3"
      ]
     },
     "execution_count": 23,
     "metadata": {},
     "output_type": "execute_result"
    }
   ],
   "source": [
    "10//3"
   ]
  },
  {
   "cell_type": "code",
   "execution_count": 24,
   "id": "df1a5601-424f-42e4-8809-67e0892cffc7",
   "metadata": {},
   "outputs": [
    {
     "name": "stdout",
     "output_type": "stream",
     "text": [
      "0\n"
     ]
    }
   ],
   "source": [
    "print(5*(2//3))"
   ]
  },
  {
   "cell_type": "code",
   "execution_count": 25,
   "id": "81243ac9-014c-4c4e-be84-e233a1be92fe",
   "metadata": {},
   "outputs": [
    {
     "name": "stdout",
     "output_type": "stream",
     "text": [
      "14134776518227074636666380005943348126619871175004951664972849610340958208\n"
     ]
    }
   ],
   "source": [
    "#right left associtivity(exponent)(**)\n",
    "print(2**3**5)"
   ]
  },
  {
   "cell_type": "code",
   "execution_count": 26,
   "id": "23f5eb12-7d88-4f17-b896-ab3dd04796ff",
   "metadata": {},
   "outputs": [
    {
     "data": {
      "text/plain": [
       "243"
      ]
     },
     "execution_count": 26,
     "metadata": {},
     "output_type": "execute_result"
    }
   ],
   "source": [
    "3**5"
   ]
  },
  {
   "cell_type": "code",
   "execution_count": 27,
   "id": "148ab63b-f672-49f8-b2d4-a904e7493a53",
   "metadata": {},
   "outputs": [
    {
     "data": {
      "text/plain": [
       "14134776518227074636666380005943348126619871175004951664972849610340958208"
      ]
     },
     "execution_count": 27,
     "metadata": {},
     "output_type": "execute_result"
    }
   ],
   "source": [
    "2**243"
   ]
  },
  {
   "cell_type": "code",
   "execution_count": 30,
   "id": "919e1df4-9fa1-4a9d-b8e0-79d34ccb1935",
   "metadata": {},
   "outputs": [
    {
     "name": "stdout",
     "output_type": "stream",
     "text": [
      "32768\n"
     ]
    }
   ],
   "source": [
    "print((2**3)**5)\n"
   ]
  },
  {
   "cell_type": "code",
   "execution_count": null,
   "id": "cb01b9c4-6e83-4b6e-9c02-11272180b3d9",
   "metadata": {},
   "outputs": [],
   "source": []
  }
 ],
 "metadata": {
  "kernelspec": {
   "display_name": "Python 3 (ipykernel)",
   "language": "python",
   "name": "python3"
  },
  "language_info": {
   "codemirror_mode": {
    "name": "ipython",
    "version": 3
   },
   "file_extension": ".py",
   "mimetype": "text/x-python",
   "name": "python",
   "nbconvert_exporter": "python",
   "pygments_lexer": "ipython3",
   "version": "3.12.7"
  }
 },
 "nbformat": 4,
 "nbformat_minor": 5
}
