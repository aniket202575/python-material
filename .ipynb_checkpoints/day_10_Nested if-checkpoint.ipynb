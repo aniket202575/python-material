{
 "cells": [
  {
   "attachments": {},
   "cell_type": "markdown",
   "id": "a0aac479-c04c-4f66-af3a-56b3f6d70555",
   "metadata": {
    "jp-MarkdownHeadingCollapsed": true
   },
   "source": [
    " - nested if : if inside another if\n",
    "- more than one condition\n",
    "- Depend condition\n",
    "\n"
   ]
  },
  {
   "cell_type": "markdown",
   "id": "a47f0757-39ff-47e1-acd2-d1096d9eb033",
   "metadata": {},
   "source": [
    "# To check voting eligiblity with voting ID verification"
   ]
  },
  {
   "cell_type": "code",
   "execution_count": 2,
   "id": "a108da80-5218-4d98-a10c-3be34bb8127d",
   "metadata": {},
   "outputs": [
    {
     "name": "stdin",
     "output_type": "stream",
     "text": [
      "enter your age 19\n"
     ]
    },
    {
     "name": "stdout",
     "output_type": "stream",
     "text": [
      "you are eligible\n"
     ]
    }
   ],
   "source": [
    "age=int(input(\"enter your age\"))\n",
    "if age > 18:\n",
    "    print(\"you are eligible\")\n",
    "else:\n",
    "    print(\"you are not eligible\")"
   ]
  },
  {
   "cell_type": "code",
   "execution_count": 5,
   "id": "b4e11e10-66d8-4c4c-be85-59c31c18b5b5",
   "metadata": {},
   "outputs": [
    {
     "name": "stdin",
     "output_type": "stream",
     "text": [
      "enter your age 21\n",
      "Do uh have voting id card?(yes/no) mo\n"
     ]
    },
    {
     "name": "stdout",
     "output_type": "stream",
     "text": [
      "Plz bringnyour voting ID card\n"
     ]
    }
   ],
   "source": [
    "age=int(input(\"enter your age\"))\n",
    "has_id=input(\"Do uh have voting id card?(yes/no)\")\n",
    "if age>18:\n",
    "    if has_id==\"yes\":\n",
    "        print(\"You have eligible\")\n",
    "    else:\n",
    "        print(\"Plz bringnyour voting ID card\")\n",
    "else:\n",
    "    print(\"yoy are not eligible\")"
   ]
  },
  {
   "cell_type": "code",
   "execution_count": 4,
   "id": "c41924ec-342d-4ed6-9b13-350ac6e50208",
   "metadata": {},
   "outputs": [
    {
     "name": "stdin",
     "output_type": "stream",
     "text": [
      "enter your age 28\n",
      "Do uh have voting id card?(yes/no) no\n"
     ]
    },
    {
     "name": "stdout",
     "output_type": "stream",
     "text": [
      "Plz bring your voting ID card\n"
     ]
    }
   ],
   "source": [
    "age=int(input(\"enter your age\"))\n",
    "if age>18:\n",
    "    has_id=input(\"Do uh have voting id card?(yes/no)\")\n",
    "    if has_id==\"yes\":\n",
    "        print(\"You have eligible\")\n",
    "    else:\n",
    "        print(\"Plz bring your voting ID card\")\n",
    "else:\n",
    "    print(\"you are not eligible\")"
   ]
  },
  {
   "cell_type": "code",
   "execution_count": 12,
   "id": "be1eca6a-cd55-44b2-901c-2e8360433059",
   "metadata": {},
   "outputs": [
    {
     "name": "stdin",
     "output_type": "stream",
     "text": [
      "enter your age 45\n",
      "Do uh have voting id card?(yes/no) n\n"
     ]
    },
    {
     "name": "stdout",
     "output_type": "stream",
     "text": [
      "Plz bringnyour voting ID card\n"
     ]
    }
   ],
   "source": [
    "age=int(input(\"enter your age\"))\n",
    "if age>18:\n",
    "    has_id=input(\"Do uh have voting id card?(yes/no)\") .lower()\n",
    "    if has_id==\"yes\" or has_id==\"y\":\n",
    "        print(\"You are eligible\")\n",
    "    else:\n",
    "        print(\"Plz bringnyour voting ID card\")\n",
    "else:\n",
    "    print(\"yoy are not eligible\")"
   ]
  },
  {
   "cell_type": "code",
   "execution_count": 19,
   "id": "87cd1679-74a9-44a9-b788-1a11bb075321",
   "metadata": {},
   "outputs": [
    {
     "name": "stdin",
     "output_type": "stream",
     "text": [
      "enter number 5\n"
     ]
    },
    {
     "name": "stdout",
     "output_type": "stream",
     "text": [
      "number is not above 10\n"
     ]
    }
   ],
   "source": [
    " x=int(input(\"enter number\"))\n",
    "if x>10:\n",
    "    print(\"num is above 10\")\n",
    "    if x > 20:\n",
    "        print(\"also above 20\")\n",
    "    else:\n",
    "        print(\"number is above 10 but not above 20\")\n",
    "else:\n",
    "    print(\"number is not above 10\")"
   ]
  },
  {
   "cell_type": "markdown",
   "id": "b724e358-aa6f-4253-a519-19e9486fcd86",
   "metadata": {},
   "source": [
    "# Tickit pricing based on age and type "
   ]
  },
  {
   "cell_type": "code",
   "execution_count": 34,
   "id": "26312c29-ed37-4c36-8dcc-9a7ed8893752",
   "metadata": {},
   "outputs": [
    {
     "name": "stdin",
     "output_type": "stream",
     "text": [
      "plz enter your age 17\n",
      "enter ticket type(adult/child) adult\n"
     ]
    },
    {
     "name": "stdout",
     "output_type": "stream",
     "text": [
      "ticket price 50\n"
     ]
    }
   ],
   "source": [
    "age=int(input(\"plz enter your age\"))\n",
    "ticket_type=input(\"enter ticket type(adult/child)\").lower()\n",
    "if ticket_type==\"adult\":\n",
    "    if age>=25:\n",
    "        price=100\n",
    "    elif 15<=age<25:\n",
    "        price=50\n",
    "    else:\n",
    "        price=0\n",
    "        print(\"plzz give proper age for adult\")\n",
    "else:\n",
    "    if 1<=age<=6:\n",
    "        price=20\n",
    "    elif 6<age<15:\n",
    "        price=30\n",
    "    else:\n",
    "        price=0\n",
    "        print(\"plzz give proper age for child\")\n",
    "print(\"ticket price\",price)\n",
    "\n",
    "    \n",
    "\n",
    "        "
   ]
  },
  {
   "cell_type": "markdown",
   "id": "79d993ce-ac66-4d24-8cb3-70fd667e6252",
   "metadata": {},
   "source": [
    "# calculate discount based on purchase ammount and membership"
   ]
  },
  {
   "cell_type": "code",
   "execution_count": 51,
   "id": "27015313-6129-4aa8-b3a8-eebe4a37705d",
   "metadata": {},
   "outputs": [
    {
     "name": "stdin",
     "output_type": "stream",
     "text": [
      "enter purchase ammount: 5000\n",
      "Are you member?(yes/no): no\n"
     ]
    },
    {
     "name": "stdout",
     "output_type": "stream",
     "text": [
      "total ammount after discount: 4900.0\n"
     ]
    }
   ],
   "source": [
    "purchase_ammount=float(input(\"enter purchase ammount:\"))\n",
    "is_member=input(\"Are you member?(yes/no):\")\n",
    "id=\"S101\"\n",
    "if is_member==\"yes\":\n",
    "    id_no=input(\"enter your id no\")\n",
    "    if purchase_ammount>=500 and id_no==id:   #10%\n",
    "        discount=0.1*purchase_ammount\n",
    "    else:\n",
    "        discount=0.05*purchase_ammount\n",
    "else:\n",
    "    if purchase_ammount>=500:\n",
    "        discount=0.02*purchase_ammount\n",
    "    else:\n",
    "        discount=0\n",
    "paid_ammount=purchase_ammount-discount\n",
    "print(\"total ammount after discount:\",paid_ammount)\n",
    "\n",
    "        \n",
    "        \n",
    "    \n",
    "    \n"
   ]
  },
  {
   "cell_type": "markdown",
   "id": "0c90dbb7-77b1-49c9-9647-4195bc95d860",
   "metadata": {},
   "source": [
    "# Password Checker"
   ]
  },
  {
   "cell_type": "code",
   "execution_count": 65,
   "id": "27bd3e40-1432-4375-906f-20b054f48679",
   "metadata": {},
   "outputs": [
    {
     "name": "stdin",
     "output_type": "stream",
     "text": [
      "plz enter your password Chetna123s\n"
     ]
    },
    {
     "name": "stdout",
     "output_type": "stream",
     "text": [
      "right password\n"
     ]
    }
   ],
   "source": [
    "#first letter capital: isupper()\n",
    "#letters must be alpha numaric: isalnum()\n",
    "#last letter lower case : islower()\n",
    "# len of password must be greater that=8 len()\n",
    "password=input(\"plz enter your password\")\n",
    "if password[0].isupper():\n",
    "    if password.isalnum():\n",
    "        if password[-1].islower():\n",
    "            if len(password)>=8:\n",
    "                 print(\"right password\")\n",
    "else:\n",
    "    print(\"wrong password\")"
   ]
  },
  {
   "cell_type": "code",
   "execution_count": 70,
   "id": "6a12b5d9-c194-41fc-a8a9-0eb7483d4d40",
   "metadata": {},
   "outputs": [
    {
     "name": "stdin",
     "output_type": "stream",
     "text": [
      "plz enter your password chetna123s\n"
     ]
    },
    {
     "name": "stdout",
     "output_type": "stream",
     "text": [
      "first letter must be capital\n"
     ]
    }
   ],
   "source": [
    "password=input(\"plz enter your password\")\n",
    "if password[0].isupper():\n",
    "    if password.isalnum():\n",
    "        if password[-1].islower():\n",
    "            if len(password)>=8:\n",
    "                 print(\"right password\")\n",
    "            else:\n",
    "                print(\"password len must be greater than 8\")\n",
    "        else:\n",
    "            print(\" last letter must be in lower case\")\n",
    "    else:\n",
    "        print(\"password must contain alpha numaric letter\")\n",
    "else:\n",
    "    print(\"first letter must be capital\")"
   ]
  },
  {
   "cell_type": "code",
   "execution_count": null,
   "id": "dbc6fc4e-366c-4805-89fd-868d2e69ef5d",
   "metadata": {},
   "outputs": [],
   "source": []
  }
 ],
 "metadata": {
  "kernelspec": {
   "display_name": "Python 3 (ipykernel)",
   "language": "python",
   "name": "python3"
  },
  "language_info": {
   "codemirror_mode": {
    "name": "ipython",
    "version": 3
   },
   "file_extension": ".py",
   "mimetype": "text/x-python",
   "name": "python",
   "nbconvert_exporter": "python",
   "pygments_lexer": "ipython3",
   "version": "3.12.7"
  }
 },
 "nbformat": 4,
 "nbformat_minor": 5
}
