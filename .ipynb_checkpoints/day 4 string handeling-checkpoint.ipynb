{
 "cells": [
  {
   "cell_type": "markdown",
   "id": "9b8b47b6-c428-4b65-a7a9-35479dd3bb89",
   "metadata": {},
   "source": [
    "## Mutable and immutable"
   ]
  },
  {
   "cell_type": "markdown",
   "id": "bede481c-d372-4d76-8523-a43ff0d5dc4a",
   "metadata": {},
   "source": [
    "- Mutable: we can change,add remove after decleration (LDS)===>list,disct,set\n",
    "- inmutable: we cant change,add and remove after decleration ====>int,float,string"
   ]
  },
  {
   "cell_type": "code",
   "execution_count": 37,
   "id": "84f77283-b522-4697-9ce7-d7bdbe7af520",
   "metadata": {},
   "outputs": [
    {
     "name": "stdout",
     "output_type": "stream",
     "text": [
      "I am learning data science\n"
     ]
    }
   ],
   "source": [
    "s=\"I am learning python\"\n",
    "print(s.replace(\"python\",\"data science\")) #Temporary"
   ]
  },
  {
   "cell_type": "code",
   "execution_count": 38,
   "id": "eee9f105-de83-4d41-812c-2be11827f96d",
   "metadata": {},
   "outputs": [
    {
     "name": "stdout",
     "output_type": "stream",
     "text": [
      "I am learning python\n"
     ]
    }
   ],
   "source": [
    "print(s)"
   ]
  },
  {
   "cell_type": "code",
   "execution_count": 39,
   "id": "825c439e-88bf-4bae-8048-e4f8b0c35ab6",
   "metadata": {},
   "outputs": [],
   "source": [
    "i=123"
   ]
  },
  {
   "cell_type": "code",
   "execution_count": 40,
   "id": "11d6475e-873a-417b-8a64-b760a597418a",
   "metadata": {
    "scrolled": true
   },
   "outputs": [],
   "source": [
    "list1=[1,2,3,4]\n",
    "list1.append(500)    #permanant"
   ]
  },
  {
   "cell_type": "code",
   "execution_count": 41,
   "id": "45efe1a4-1baf-4861-952f-2acc2e2474b2",
   "metadata": {},
   "outputs": [
    {
     "name": "stdout",
     "output_type": "stream",
     "text": [
      "[1, 2, 3, 4, 500]\n"
     ]
    }
   ],
   "source": [
    "print(list1)"
   ]
  },
  {
   "cell_type": "markdown",
   "id": "01b6522f-29b5-44f4-a234-ef65529e70f8",
   "metadata": {},
   "source": [
    "# string===text===str()"
   ]
  },
  {
   "cell_type": "markdown",
   "id": "8b27f886-e1f7-4a15-8f9b-e75d8ec7f1fb",
   "metadata": {},
   "source": [
    "- 'python',\"python\",\"\"\"python\"\"\"\n",
    "- immutable\n",
    "- orderd"
   ]
  },
  {
   "cell_type": "markdown",
   "id": "3cd71cc2-21b2-4679-8d1d-731c89729b96",
   "metadata": {},
   "source": [
    "### String opperators"
   ]
  },
  {
   "cell_type": "markdown",
   "id": "a367943a-879b-452b-9378-eca2a7691e55",
   "metadata": {},
   "source": [
    "### + (plus operator)\n"
   ]
  },
  {
   "cell_type": "code",
   "execution_count": 47,
   "id": "40bda87a-79a5-45f1-b41d-b1dd1ad70095",
   "metadata": {},
   "outputs": [
    {
     "data": {
      "text/plain": [
       "15"
      ]
     },
     "execution_count": 47,
     "metadata": {},
     "output_type": "execute_result"
    }
   ],
   "source": [
    "a=6\n",
    "b=9\n",
    "a+b"
   ]
  },
  {
   "cell_type": "code",
   "execution_count": 49,
   "id": "7033c6aa-2f34-4fac-b69c-00aa212be5b1",
   "metadata": {},
   "outputs": [
    {
     "data": {
      "text/plain": [
       "'aniket    analysis'"
      ]
     },
     "execution_count": 49,
     "metadata": {},
     "output_type": "execute_result"
    }
   ],
   "source": [
    "a=\"aniket\"\n",
    "b=\"analysis\"\n",
    "a+\"    \"+b  #concatination : join"
   ]
  },
  {
   "cell_type": "markdown",
   "id": "5330c797-6bca-466d-a242-3cd12deb09c7",
   "metadata": {},
   "source": [
    "## * ( into operator)"
   ]
  },
  {
   "cell_type": "code",
   "execution_count": 51,
   "id": "fe843022-f49c-4ae3-ab1d-e63ab8142a7c",
   "metadata": {
    "scrolled": true
   },
   "outputs": [
    {
     "name": "stdout",
     "output_type": "stream",
     "text": [
      "aniketaniketaniketaniketaniketaniketaniketaniketaniketaniket\n"
     ]
    }
   ],
   "source": [
    "print(a*10)\n",
    "#repetation()"
   ]
  },
  {
   "cell_type": "markdown",
   "id": "d6f67e30-37fa-4601-93bd-ec3e4a2ff478",
   "metadata": {},
   "source": [
    "## in opetrator"
   ]
  },
  {
   "cell_type": "code",
   "execution_count": 82,
   "id": "a81d02d2-78dc-45eb-915e-363217a5a3b0",
   "metadata": {},
   "outputs": [
    {
     "data": {
      "text/plain": [
       "False"
      ]
     },
     "execution_count": 82,
     "metadata": {},
     "output_type": "execute_result"
    }
   ],
   "source": [
    "#membership operator\n",
    "string1=\"data science\"\n",
    "\"S\" in string1"
   ]
  },
  {
   "cell_type": "code",
   "execution_count": 55,
   "id": "e86d0ce6-c596-4f0f-8d3f-460f654d0c2f",
   "metadata": {},
   "outputs": [
    {
     "data": {
      "text/plain": [
       "True"
      ]
     },
     "execution_count": 55,
     "metadata": {},
     "output_type": "execute_result"
    }
   ],
   "source": [
    "\"data \" in string1"
   ]
  },
  {
   "cell_type": "code",
   "execution_count": 57,
   "id": "6576c38d-7286-40b8-a472-49d5538b6993",
   "metadata": {},
   "outputs": [
    {
     "data": {
      "text/plain": [
       "True"
      ]
     },
     "execution_count": 57,
     "metadata": {},
     "output_type": "execute_result"
    }
   ],
   "source": [
    "x=\"science\"\n",
    "x in string1"
   ]
  },
  {
   "cell_type": "markdown",
   "id": "6ee40300-3639-4160-9284-3b0f8db9260e",
   "metadata": {},
   "source": [
    "## not in opetaror "
   ]
  },
  {
   "cell_type": "code",
   "execution_count": 58,
   "id": "1ca98a9c-f849-4634-a114-c8cf9b6d6a19",
   "metadata": {},
   "outputs": [
    {
     "data": {
      "text/plain": [
       "True"
      ]
     },
     "execution_count": 58,
     "metadata": {},
     "output_type": "execute_result"
    }
   ],
   "source": [
    "string1=\"data science\"\n",
    "\"S\" not in string1"
   ]
  },
  {
   "cell_type": "code",
   "execution_count": 59,
   "id": "8447e572-a867-47ac-a824-e0b89271f7dd",
   "metadata": {},
   "outputs": [
    {
     "data": {
      "text/plain": [
       "True"
      ]
     },
     "execution_count": 59,
     "metadata": {},
     "output_type": "execute_result"
    }
   ],
   "source": [
    "\"data \" in string1"
   ]
  },
  {
   "cell_type": "markdown",
   "id": "16ac0878-079f-4948-a2e1-3eb518dcd9b2",
   "metadata": {},
   "source": [
    "Function in string\n",
    "- upper()\n",
    "- lower()\n",
    "- title()\n",
    "- capital()\n",
    "- replace()\n",
    "-  count()\n",
    "- char()  /char()\n",
    "- ord /coc=de()\n",
    "- len()"
   ]
  },
  {
   "cell_type": "code",
   "execution_count": 72,
   "id": "539d6c13-d935-4ad2-98d3-5dcf8cf1bd47",
   "metadata": {},
   "outputs": [],
   "source": [
    "s=\"i am learning python\""
   ]
  },
  {
   "cell_type": "code",
   "execution_count": 73,
   "id": "2353eb60-66ad-4090-83be-57485e16d001",
   "metadata": {},
   "outputs": [
    {
     "data": {
      "text/plain": [
       "'I AM LEARNING PYTHON'"
      ]
     },
     "execution_count": 73,
     "metadata": {},
     "output_type": "execute_result"
    }
   ],
   "source": [
    "s.upper()"
   ]
  },
  {
   "cell_type": "code",
   "execution_count": 74,
   "id": "8ee79609-6fef-4c46-a1b6-b98dccde8eff",
   "metadata": {},
   "outputs": [
    {
     "data": {
      "text/plain": [
       "'i am learning python'"
      ]
     },
     "execution_count": 74,
     "metadata": {},
     "output_type": "execute_result"
    }
   ],
   "source": [
    "s.lower()"
   ]
  },
  {
   "cell_type": "code",
   "execution_count": 75,
   "id": "9ce4f696-25dc-47a8-a6c4-de1c503fddba",
   "metadata": {},
   "outputs": [
    {
     "data": {
      "text/plain": [
       "'i am learning python'"
      ]
     },
     "execution_count": 75,
     "metadata": {},
     "output_type": "execute_result"
    }
   ],
   "source": [
    "s   #imutable"
   ]
  },
  {
   "cell_type": "code",
   "execution_count": 76,
   "id": "1226d9da-cd15-4870-9ed4-c072683d30a9",
   "metadata": {},
   "outputs": [
    {
     "data": {
      "text/plain": [
       "'I Am Learning Python'"
      ]
     },
     "execution_count": 76,
     "metadata": {},
     "output_type": "execute_result"
    }
   ],
   "source": [
    "s.title()   #in excel proper"
   ]
  },
  {
   "cell_type": "code",
   "execution_count": 77,
   "id": "d1be6831-5bd5-4269-8d64-26085650b5af",
   "metadata": {
    "scrolled": true
   },
   "outputs": [
    {
     "data": {
      "text/plain": [
       "'I am learning python'"
      ]
     },
     "execution_count": 77,
     "metadata": {},
     "output_type": "execute_result"
    }
   ],
   "source": [
    "s.capitalize()"
   ]
  },
  {
   "cell_type": "code",
   "execution_count": 78,
   "id": "4ff4b970-902e-47da-9e11-26a71c757de1",
   "metadata": {},
   "outputs": [
    {
     "data": {
      "text/plain": [
       "'i am learning DA'"
      ]
     },
     "execution_count": 78,
     "metadata": {},
     "output_type": "execute_result"
    }
   ],
   "source": [
    "s.replace(\"python\",\"DA\")"
   ]
  },
  {
   "cell_type": "code",
   "execution_count": 79,
   "id": "2a49bac6-d1f4-4183-81f8-73aa8d036b86",
   "metadata": {},
   "outputs": [
    {
     "data": {
      "text/plain": [
       "1"
      ]
     },
     "execution_count": 79,
     "metadata": {},
     "output_type": "execute_result"
    }
   ],
   "source": [
    "s.count(\"p\")"
   ]
  },
  {
   "cell_type": "code",
   "execution_count": 80,
   "id": "09fe5c15-d2b6-463f-a685-b2ae53bdd657",
   "metadata": {},
   "outputs": [
    {
     "data": {
      "text/plain": [
       "1"
      ]
     },
     "execution_count": 80,
     "metadata": {},
     "output_type": "execute_result"
    }
   ],
   "source": [
    "s.count(\"python\")"
   ]
  },
  {
   "cell_type": "code",
   "execution_count": 81,
   "id": "353da443-0639-4683-9d15-4ed049802868",
   "metadata": {},
   "outputs": [
    {
     "data": {
      "text/plain": [
       "0"
      ]
     },
     "execution_count": 81,
     "metadata": {},
     "output_type": "execute_result"
    }
   ],
   "source": [
    "s.count(\"z\")"
   ]
  },
  {
   "cell_type": "code",
   "execution_count": 82,
   "id": "a3e9814b-c9e6-48cb-9bcc-4b76e1f8d78c",
   "metadata": {},
   "outputs": [],
   "source": [
    "#password creation\n"
   ]
  },
  {
   "cell_type": "code",
   "execution_count": 83,
   "id": "396663ef-10d6-4b18-9e9f-54e9d11d78cd",
   "metadata": {
    "scrolled": true
   },
   "outputs": [
    {
     "data": {
      "text/plain": [
       "'Z'"
      ]
     },
     "execution_count": 83,
     "metadata": {},
     "output_type": "execute_result"
    }
   ],
   "source": [
    "chr(90)"
   ]
  },
  {
   "cell_type": "code",
   "execution_count": 84,
   "id": "1eec5906-1fa6-4ca7-85a6-46ee91f9a111",
   "metadata": {},
   "outputs": [
    {
     "data": {
      "text/plain": [
       "20"
      ]
     },
     "execution_count": 84,
     "metadata": {},
     "output_type": "execute_result"
    }
   ],
   "source": [
    "len(s)"
   ]
  },
  {
   "cell_type": "markdown",
   "id": "96f20823-680b-4629-a165-9b96abe26c87",
   "metadata": {},
   "source": [
    "### - strip():trim fun"
   ]
  },
  {
   "cell_type": "code",
   "execution_count": 128,
   "id": "ffbd7a00-11b3-4a84-ba64-a57abf3e1893",
   "metadata": {},
   "outputs": [
    {
     "data": {
      "text/plain": [
       "'data    science'"
      ]
     },
     "execution_count": 128,
     "metadata": {},
     "output_type": "execute_result"
    }
   ],
   "source": [
    "s=\"   data    science   \"\n",
    "s.strip()"
   ]
  },
  {
   "cell_type": "code",
   "execution_count": 129,
   "id": "ded31b23-6d97-443c-be8a-b4642e5259bb",
   "metadata": {},
   "outputs": [
    {
     "data": {
      "text/plain": [
       "'  data  science  '"
      ]
     },
     "execution_count": 129,
     "metadata": {},
     "output_type": "execute_result"
    }
   ],
   "source": [
    "s.replace(\"  \",\" \")"
   ]
  },
  {
   "cell_type": "markdown",
   "id": "f996e23b-0a7d-4e87-be99-856d3636c689",
   "metadata": {},
   "source": [
    "### strip\n",
    "- lstrip()\n",
    "- rstrip()"
   ]
  },
  {
   "cell_type": "code",
   "execution_count": 131,
   "id": "02ee12dd-3bae-4003-affc-f5e7f640fe57",
   "metadata": {},
   "outputs": [
    {
     "data": {
      "text/plain": [
       "'data    science   '"
      ]
     },
     "execution_count": 131,
     "metadata": {},
     "output_type": "execute_result"
    }
   ],
   "source": [
    "s.lstrip()"
   ]
  },
  {
   "cell_type": "code",
   "execution_count": 132,
   "id": "9f645d63-c184-4e7b-a07a-3b9e5d8d1c16",
   "metadata": {},
   "outputs": [
    {
     "data": {
      "text/plain": [
       "'   data    science'"
      ]
     },
     "execution_count": 132,
     "metadata": {},
     "output_type": "execute_result"
    }
   ],
   "source": [
    "s.rstrip()"
   ]
  },
  {
   "cell_type": "markdown",
   "id": "56ddab40-a841-4f33-b126-47e13e8daee4",
   "metadata": {},
   "source": [
    "- split()==string to list  ====bydefault comma seperated"
   ]
  },
  {
   "cell_type": "code",
   "execution_count": 135,
   "id": "ed27b864-dc1d-40b0-98b5-8884b58661b3",
   "metadata": {},
   "outputs": [
    {
     "data": {
      "text/plain": [
       "['data', 'science']"
      ]
     },
     "execution_count": 135,
     "metadata": {},
     "output_type": "execute_result"
    }
   ],
   "source": [
    "s=\"data science\"\n",
    "s.split()"
   ]
  },
  {
   "cell_type": "code",
   "execution_count": 138,
   "id": "c07117b5-a788-4b6e-8d19-b2deec0e785c",
   "metadata": {},
   "outputs": [
    {
     "data": {
      "text/plain": [
       "['data ', 'cience']"
      ]
     },
     "execution_count": 138,
     "metadata": {},
     "output_type": "execute_result"
    }
   ],
   "source": [
    "s=\"data science\"\n",
    "s.split(\"s\")"
   ]
  },
  {
   "cell_type": "markdown",
   "id": "7dff1d41-5328-464e-9206-b4c9542c71cd",
   "metadata": {},
   "source": [
    "- join(): list to string"
   ]
  },
  {
   "cell_type": "code",
   "execution_count": 139,
   "id": "fac0a8bf-f687-4c7d-ad2c-21b1b0dd0ef6",
   "metadata": {},
   "outputs": [
    {
     "data": {
      "text/plain": [
       "'data science'"
      ]
     },
     "execution_count": 139,
     "metadata": {},
     "output_type": "execute_result"
    }
   ],
   "source": [
    "L=[\"data\",\"science\"]\n",
    "\" \".join(L)"
   ]
  },
  {
   "cell_type": "code",
   "execution_count": 140,
   "id": "01171b56-e128-4f81-a892-04eeba45865b",
   "metadata": {},
   "outputs": [
    {
     "data": {
      "text/plain": [
       "'data@science'"
      ]
     },
     "execution_count": 140,
     "metadata": {},
     "output_type": "execute_result"
    }
   ],
   "source": [
    "L=[\"data\",\"science\"]\n",
    "\"@\".join(L)"
   ]
  },
  {
   "cell_type": "code",
   "execution_count": 143,
   "id": "67251eac-b097-4fd7-9308-3dd0ea4fbd39",
   "metadata": {},
   "outputs": [
    {
     "data": {
      "text/plain": [
       "'aniket@unde'"
      ]
     },
     "execution_count": 143,
     "metadata": {},
     "output_type": "execute_result"
    }
   ],
   "source": [
    "r=[\"aniket\",\"unde\"]\n",
    "\"@\".join(r)"
   ]
  },
  {
   "cell_type": "markdown",
   "id": "a8e7ee43-bddc-4876-9b3e-ea37f1c3edae",
   "metadata": {},
   "source": [
    "- find():character or word position/index"
   ]
  },
  {
   "cell_type": "code",
   "execution_count": 145,
   "id": "e29db8fd-e195-4747-bd0c-01fa553b023c",
   "metadata": {},
   "outputs": [
    {
     "data": {
      "text/plain": [
       "1"
      ]
     },
     "execution_count": 145,
     "metadata": {},
     "output_type": "execute_result"
    }
   ],
   "source": [
    "s=\"aniket\"\n",
    "s.find(\"nik\")"
   ]
  },
  {
   "cell_type": "code",
   "execution_count": 147,
   "id": "00fe4827-4e50-45d8-8a82-1cf377720de9",
   "metadata": {},
   "outputs": [
    {
     "data": {
      "text/plain": [
       "4"
      ]
     },
     "execution_count": 147,
     "metadata": {},
     "output_type": "execute_result"
    }
   ],
   "source": [
    "s.find(\"e\")"
   ]
  },
  {
   "cell_type": "code",
   "execution_count": 148,
   "id": "fd01156c-8635-4cc0-ab49-f7509c9858d9",
   "metadata": {},
   "outputs": [
    {
     "data": {
      "text/plain": [
       "-1"
      ]
     },
     "execution_count": 148,
     "metadata": {},
     "output_type": "execute_result"
    }
   ],
   "source": [
    "s.find(\"z\")"
   ]
  },
  {
   "cell_type": "code",
   "execution_count": 151,
   "id": "e3c1df86-4025-4921-82e5-10f5802f0f0b",
   "metadata": {},
   "outputs": [
    {
     "data": {
      "text/plain": [
       "0"
      ]
     },
     "execution_count": 151,
     "metadata": {},
     "output_type": "execute_result"
    }
   ],
   "source": [
    "s=\"aniket\"\n",
    "s.index(\"a\")"
   ]
  },
  {
   "cell_type": "code",
   "execution_count": 153,
   "id": "25e75be6-9de0-4ac2-ae30-31c39d905085",
   "metadata": {},
   "outputs": [
    {
     "ename": "ValueError",
     "evalue": "substring not found",
     "output_type": "error",
     "traceback": [
      "\u001b[1;31m---------------------------------------------------------------------------\u001b[0m",
      "\u001b[1;31mValueError\u001b[0m                                Traceback (most recent call last)",
      "Cell \u001b[1;32mIn[153], line 2\u001b[0m\n\u001b[0;32m      1\u001b[0m s\u001b[38;5;241m=\u001b[39m\u001b[38;5;124m\"\u001b[39m\u001b[38;5;124maniket\u001b[39m\u001b[38;5;124m\"\u001b[39m\n\u001b[1;32m----> 2\u001b[0m s\u001b[38;5;241m.\u001b[39mindex(\u001b[38;5;124m\"\u001b[39m\u001b[38;5;124mz\u001b[39m\u001b[38;5;124m\"\u001b[39m)\n",
      "\u001b[1;31mValueError\u001b[0m: substring not found"
     ]
    }
   ],
   "source": [
    "s=\"aniket\"\n",
    "s.index(\"z\")"
   ]
  },
  {
   "cell_type": "code",
   "execution_count": null,
   "id": "886c5f28-b3fd-4f3c-9ff5-8fe3b5c52219",
   "metadata": {},
   "outputs": [],
   "source": []
  },
  {
   "cell_type": "code",
   "execution_count": null,
   "id": "c541ef57-079b-477c-8ead-eb06f8f3c7cd",
   "metadata": {},
   "outputs": [],
   "source": []
  },
  {
   "cell_type": "code",
   "execution_count": null,
   "id": "80da03af-b2ec-4770-8fb2-0a4e623641f4",
   "metadata": {},
   "outputs": [],
   "source": []
  },
  {
   "cell_type": "markdown",
   "id": "2f9502fc-bc3f-482c-b049-9f85978ff237",
   "metadata": {},
   "source": [
    "# Boolean string function"
   ]
  },
  {
   "cell_type": "markdown",
   "id": "ddee8407-b796-41c4-844a-ffbc5579aae3",
   "metadata": {},
   "source": [
    "###  it gives answer in bollean formula (true or false)\n",
    "-  1. startswith()"
   ]
  },
  {
   "cell_type": "code",
   "execution_count": 88,
   "id": "460298b7-7bd9-44e4-8453-8d8095e341f9",
   "metadata": {},
   "outputs": [],
   "source": [
    "s=\"data science\""
   ]
  },
  {
   "cell_type": "code",
   "execution_count": 89,
   "id": "c6be8b80-bfa5-428a-9d13-17d68581182f",
   "metadata": {},
   "outputs": [
    {
     "data": {
      "text/plain": [
       "True"
      ]
     },
     "execution_count": 89,
     "metadata": {},
     "output_type": "execute_result"
    }
   ],
   "source": [
    "s.startswith(\"d\")"
   ]
  },
  {
   "cell_type": "code",
   "execution_count": 90,
   "id": "b7d0b1c3-fe90-44cf-b3e8-8f698c42b013",
   "metadata": {},
   "outputs": [
    {
     "data": {
      "text/plain": [
       "False"
      ]
     },
     "execution_count": 90,
     "metadata": {},
     "output_type": "execute_result"
    }
   ],
   "source": [
    "s.startswith(\"Data\")"
   ]
  },
  {
   "cell_type": "markdown",
   "id": "e3093969-1faf-43ae-b1fe-4e196353f860",
   "metadata": {},
   "source": [
    "##  2. endswith()"
   ]
  },
  {
   "cell_type": "code",
   "execution_count": 95,
   "id": "409ac0ab-9702-46cb-bdfc-e11e866d9d2d",
   "metadata": {},
   "outputs": [
    {
     "data": {
      "text/plain": [
       "True"
      ]
     },
     "execution_count": 95,
     "metadata": {},
     "output_type": "execute_result"
    }
   ],
   "source": [
    "s.endswith(\"e\")"
   ]
  },
  {
   "cell_type": "code",
   "execution_count": 96,
   "id": "90dda04d-9e21-4e94-a941-a434bd30325b",
   "metadata": {},
   "outputs": [
    {
     "data": {
      "text/plain": [
       "False"
      ]
     },
     "execution_count": 96,
     "metadata": {},
     "output_type": "execute_result"
    }
   ],
   "source": [
    "s.endswith(\"z\")"
   ]
  },
  {
   "cell_type": "markdown",
   "id": "edcfb276-ac30-4ee8-a34d-dfb7d10fba31",
   "metadata": {},
   "source": [
    "###  3.isalpha()===>only alphabets not place "
   ]
  },
  {
   "cell_type": "code",
   "execution_count": 100,
   "id": "cb4f912e-9da0-429e-a59c-fe08d76a6e31",
   "metadata": {},
   "outputs": [],
   "source": [
    "s=\"data science\"\n",
    "s1=\"datascience\"\n",
    "s2=\"data123science\""
   ]
  },
  {
   "cell_type": "code",
   "execution_count": 101,
   "id": "3234ede8-08f3-4a61-9d08-b265d6decd81",
   "metadata": {},
   "outputs": [
    {
     "name": "stdout",
     "output_type": "stream",
     "text": [
      "False\n",
      "True\n",
      "False\n"
     ]
    }
   ],
   "source": [
    "print(s.isalpha())\n",
    "print(s1.isalpha())\n",
    "print(s2.isalpha())"
   ]
  },
  {
   "cell_type": "markdown",
   "id": "63ddc2e6-8037-4b0d-8f69-6146e3b60d6d",
   "metadata": {},
   "source": [
    "###   4.isalnum():only alphabets,only nunmbers,combination both but not space "
   ]
  },
  {
   "cell_type": "code",
   "execution_count": 105,
   "id": "693ccb8d-e4bb-4dff-a629-d4f3e061de9b",
   "metadata": {},
   "outputs": [
    {
     "name": "stdout",
     "output_type": "stream",
     "text": [
      "False\n",
      "True\n",
      "True\n",
      "True\n"
     ]
    }
   ],
   "source": [
    "s=\"data science\"\n",
    "s1=\"datascience\"\n",
    "s2=\"data123science\"\n",
    "s4=\"123\"\n",
    "print(s.isalnum())\n",
    "print(s1.isalnum())\n",
    "print(s2.isalnum())\n",
    "print(s4.isalnum())\n",
    "#to create multiple cursor :ctrl+alt"
   ]
  },
  {
   "cell_type": "markdown",
   "id": "86bd6656-b8be-4f71-ae52-cf08ff84f3f7",
   "metadata": {},
   "source": [
    "### 5.isdigit():only digit not space "
   ]
  },
  {
   "cell_type": "code",
   "execution_count": 114,
   "id": "37d01eef-c960-41d4-944a-f28b7c3b4328",
   "metadata": {},
   "outputs": [
    {
     "name": "stdout",
     "output_type": "stream",
     "text": [
      "False\n",
      "False\n",
      "False\n",
      "True\n"
     ]
    }
   ],
   "source": [
    "s=\"data science\"\n",
    "s1=\"datascience\"\n",
    "s2=\"data123science\"\n",
    "s3=\"1233\"\n",
    "print(s.isdigit())\n",
    "print(s1.isdigit())\n",
    "print(s2.isdigit())\n",
    "print(s3.isdigit())"
   ]
  },
  {
   "cell_type": "markdown",
   "id": "edc28471-f44d-48d9-9d02-5f11fd959504",
   "metadata": {},
   "source": [
    "### 6. lower()"
   ]
  },
  {
   "cell_type": "code",
   "execution_count": 118,
   "id": "a4682c5a-31d9-48a3-ab05-fe11dd54cce8",
   "metadata": {},
   "outputs": [
    {
     "name": "stdout",
     "output_type": "stream",
     "text": [
      "True\n",
      "False\n"
     ]
    }
   ],
   "source": [
    "s1=\"datascience\"\n",
    "s2=\"Datascience\"\n",
    "print(s1.islower())\n",
    "print(s2.islower())\n"
   ]
  },
  {
   "cell_type": "markdown",
   "id": "aa96a978-39c9-42b7-9be0-9546e5c20595",
   "metadata": {},
   "source": [
    "### 7. is upper()"
   ]
  },
  {
   "cell_type": "code",
   "execution_count": 122,
   "id": "04e00929-28d4-4f09-be35-bf8086df7aeb",
   "metadata": {},
   "outputs": [
    {
     "name": "stdout",
     "output_type": "stream",
     "text": [
      "False\n",
      "False\n",
      "True\n"
     ]
    }
   ],
   "source": [
    "s1=\"datascience\"\n",
    "s2=\"Datascience\"\n",
    "s3=\"DATASCIENCE\"\n",
    "print(s1.isupper())\n",
    "print(s2.isupper())\n",
    "print(s3.isupper())"
   ]
  },
  {
   "cell_type": "markdown",
   "id": "83f6ea8f-1bcf-4869-afb0-2eb7be8bbab9",
   "metadata": {},
   "source": [
    "### 8. isspace() \n",
    "- only space"
   ]
  },
  {
   "cell_type": "code",
   "execution_count": 123,
   "id": "7eaa7402-12e7-4726-b670-01445e1862f5",
   "metadata": {},
   "outputs": [
    {
     "name": "stdout",
     "output_type": "stream",
     "text": [
      "False\n",
      "False\n",
      "True\n"
     ]
    }
   ],
   "source": [
    "s1=\"datascience\"\n",
    "s2=\"Datascience\"\n",
    "s3=\" \"\n",
    "print(s1.isspace())\n",
    "print(s2.isspace())\n",
    "print(s3.isspace())"
   ]
  },
  {
   "cell_type": "code",
   "execution_count": null,
   "id": "ce283b7a-31cc-4734-90ff-c3145981eaef",
   "metadata": {},
   "outputs": [],
   "source": []
  }
 ],
 "metadata": {
  "kernelspec": {
   "display_name": "Python 3 (ipykernel)",
   "language": "python",
   "name": "python3"
  },
  "language_info": {
   "codemirror_mode": {
    "name": "ipython",
    "version": 3
   },
   "file_extension": ".py",
   "mimetype": "text/x-python",
   "name": "python",
   "nbconvert_exporter": "python",
   "pygments_lexer": "ipython3",
   "version": "3.12.7"
  }
 },
 "nbformat": 4,
 "nbformat_minor": 5
}
