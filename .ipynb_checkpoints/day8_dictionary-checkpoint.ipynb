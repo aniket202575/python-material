{
 "cells": [
  {
   "cell_type": "markdown",
   "id": "e35999eb-c9cd-4978-9a0f-c3a96cbbc232",
   "metadata": {},
   "source": [
    "# Dictory"
   ]
  },
  {
   "cell_type": "markdown",
   "id": "a42d53ad-5fcd-4ddd-89c5-2371cdef7225",
   "metadata": {},
   "source": [
    "- { key: value,key2:value2}\n",
    "- mutable\n",
    "- not allow duplicate(duplicate key not allowed)\n",
    "- ordered: key====>index\n",
    "     - as a pythion version 3.7 dict are ordered \n",
    "     - in python 3.6 and earlier , dict are unordered\n",
    "- key immutable element(string,int, tuple )\n",
    "- value : immutable/mutable elements \n",
    "- any changes we wiil do... we will use key"
   ]
  },
  {
   "cell_type": "code",
   "execution_count": 60,
   "id": "c9185ec2-bc1b-44ad-9ecd-7386945971ba",
   "metadata": {},
   "outputs": [
    {
     "data": {
      "text/plain": [
       "{'name': 'aniket', 'id': 1, 'course': ['python', 'AI']}"
      ]
     },
     "execution_count": 60,
     "metadata": {},
     "output_type": "execute_result"
    }
   ],
   "source": [
    "data={\"name\":\"aniket\",\"id\":1,\"course\":[\"python\",\"AI\"]}\n",
    "data"
   ]
  },
  {
   "cell_type": "code",
   "execution_count": 61,
   "id": "753aee9a-b1c5-4ba0-8072-0e7b61ea11eb",
   "metadata": {},
   "outputs": [],
   "source": [
    "d1={1:\"name\",(1,23):\"aniket\"}"
   ]
  },
  {
   "cell_type": "code",
   "execution_count": 62,
   "id": "46330718-c213-471b-846e-771be9b28bb4",
   "metadata": {},
   "outputs": [
    {
     "ename": "TypeError",
     "evalue": "unhashable type: 'list'",
     "output_type": "error",
     "traceback": [
      "\u001b[1;31m---------------------------------------------------------------------------\u001b[0m",
      "\u001b[1;31mTypeError\u001b[0m                                 Traceback (most recent call last)",
      "Cell \u001b[1;32mIn[62], line 1\u001b[0m\n\u001b[1;32m----> 1\u001b[0m d2\u001b[38;5;241m=\u001b[39m{[\u001b[38;5;241m1\u001b[39m,\u001b[38;5;241m2\u001b[39m,\u001b[38;5;241m3\u001b[39m]:\u001b[38;5;124m\"\u001b[39m\u001b[38;5;124mname\u001b[39m\u001b[38;5;124m\"\u001b[39m}\n",
      "\u001b[1;31mTypeError\u001b[0m: unhashable type: 'list'"
     ]
    }
   ],
   "source": [
    "d2={[1,2,3]:\"name\"}"
   ]
  },
  {
   "cell_type": "code",
   "execution_count": 63,
   "id": "4694b0f2-e84e-4ba4-bfa5-012a8f2e854a",
   "metadata": {},
   "outputs": [
    {
     "data": {
      "text/plain": [
       "[400, 5, 6]"
      ]
     },
     "execution_count": 63,
     "metadata": {},
     "output_type": "execute_result"
    }
   ],
   "source": [
    "l=[4,5,6]\n",
    "l[0]=400\n",
    "l"
   ]
  },
  {
   "cell_type": "markdown",
   "id": "8d79d893-1151-49c0-9931-8dfc8a67e945",
   "metadata": {},
   "source": [
    "# changing Existing key value"
   ]
  },
  {
   "cell_type": "code",
   "execution_count": 64,
   "id": "a1a5ff23-7d0e-4cf8-8c49-07b2d0c19732",
   "metadata": {},
   "outputs": [],
   "source": [
    "# we can change value using key name \n"
   ]
  },
  {
   "cell_type": "code",
   "execution_count": 65,
   "id": "6d5fc15b-487a-4bb3-b788-d374a375c98a",
   "metadata": {},
   "outputs": [
    {
     "data": {
      "text/plain": [
       "{'name': 'nikhil', 'id': 1, 'course': ['python', 'AI']}"
      ]
     },
     "execution_count": 65,
     "metadata": {},
     "output_type": "execute_result"
    }
   ],
   "source": [
    "data[\"name\"]=\"nikhil\" #replace\n",
    "data"
   ]
  },
  {
   "cell_type": "markdown",
   "id": "98dd5e3b-4f31-4007-9cd0-45eb0cf38fe4",
   "metadata": {},
   "source": [
    "# adding new key value pair"
   ]
  },
  {
   "cell_type": "code",
   "execution_count": 66,
   "id": "232cdbd9-8053-415d-b217-75313fb66b9e",
   "metadata": {},
   "outputs": [
    {
     "data": {
      "text/plain": [
       "{'name': 'nikhil', 'id': 1, 'course': ['python', 'AI'], 'city': 'Ratnagiri'}"
      ]
     },
     "execution_count": 66,
     "metadata": {},
     "output_type": "execute_result"
    }
   ],
   "source": [
    "data[\"city\"]=\"Ratnagiri\"\n",
    "data"
   ]
  },
  {
   "cell_type": "code",
   "execution_count": 67,
   "id": "46c94b2e-cb7a-4edd-98c9-3cb50c66bdf8",
   "metadata": {},
   "outputs": [
    {
     "data": {
      "text/plain": [
       "{'name': 'mohan', 'id': 1, 'course': ['python', 'AI'], 'city': 'Ratnagiri'}"
      ]
     },
     "execution_count": 67,
     "metadata": {},
     "output_type": "execute_result"
    }
   ],
   "source": [
    "data[\"name\"]=\"mohan\"\n",
    "data"
   ]
  },
  {
   "cell_type": "markdown",
   "id": "7f1ede75-5d32-4e9e-9f0e-a1a8b06a0b16",
   "metadata": {},
   "source": [
    "# removing element from dictionary"
   ]
  },
  {
   "cell_type": "code",
   "execution_count": 68,
   "id": "ce08f61d-53b5-4263-9813-b1a04b0afb01",
   "metadata": {},
   "outputs": [
    {
     "data": {
      "text/plain": [
       "{'id': 1, 'course': ['python', 'AI'], 'city': 'Ratnagiri'}"
      ]
     },
     "execution_count": 68,
     "metadata": {},
     "output_type": "execute_result"
    }
   ],
   "source": [
    "#del keyword \n",
    "del data[\"name\"]\n",
    "data"
   ]
  },
  {
   "cell_type": "code",
   "execution_count": 69,
   "id": "149d5545-0dea-4f6b-9142-a6dc49f60506",
   "metadata": {},
   "outputs": [],
   "source": [
    "l=[1,2,3,4]  #mutable \n",
    "t=(1,2,3,4)  #immutable\n",
    "s={4,10,7,8}  #mutable\n"
   ]
  },
  {
   "cell_type": "code",
   "execution_count": 70,
   "id": "8c2ecb36-4ff4-4d11-92e3-2f921bb6d3c7",
   "metadata": {},
   "outputs": [
    {
     "data": {
      "text/plain": [
       "[2, 3, 4]"
      ]
     },
     "execution_count": 70,
     "metadata": {},
     "output_type": "execute_result"
    }
   ],
   "source": [
    "del l[0]\n",
    "l"
   ]
  },
  {
   "cell_type": "code",
   "execution_count": 71,
   "id": "30c4f853-8f1c-4f7e-80ed-a58865566579",
   "metadata": {},
   "outputs": [
    {
     "ename": "SyntaxError",
     "evalue": "cannot delete function call (2008991702.py, line 1)",
     "output_type": "error",
     "traceback": [
      "\u001b[1;36m  Cell \u001b[1;32mIn[71], line 1\u001b[1;36m\u001b[0m\n\u001b[1;33m    del t(3)\u001b[0m\n\u001b[1;37m        ^\u001b[0m\n\u001b[1;31mSyntaxError\u001b[0m\u001b[1;31m:\u001b[0m cannot delete function call\n"
     ]
    }
   ],
   "source": [
    "del t(3)"
   ]
  },
  {
   "cell_type": "code",
   "execution_count": 72,
   "id": "8fa89493-abeb-4e28-99a2-b2a22e141198",
   "metadata": {},
   "outputs": [
    {
     "ename": "TypeError",
     "evalue": "'set' object doesn't support item deletion",
     "output_type": "error",
     "traceback": [
      "\u001b[1;31m---------------------------------------------------------------------------\u001b[0m",
      "\u001b[1;31mTypeError\u001b[0m                                 Traceback (most recent call last)",
      "Cell \u001b[1;32mIn[72], line 1\u001b[0m\n\u001b[1;32m----> 1\u001b[0m \u001b[38;5;28;01mdel\u001b[39;00m s[\u001b[38;5;241m2\u001b[39m]  \u001b[38;5;66;03m#mutable unordered \u001b[39;00m\n\u001b[0;32m      2\u001b[0m s\n",
      "\u001b[1;31mTypeError\u001b[0m: 'set' object doesn't support item deletion"
     ]
    }
   ],
   "source": [
    "del s[2]  #mutable unordered \n",
    "s"
   ]
  },
  {
   "cell_type": "code",
   "execution_count": 73,
   "id": "444444da-473d-412f-b163-81835c042e13",
   "metadata": {},
   "outputs": [],
   "source": [
    "l=[1,2,3,4]  #mutable \n",
    "t=(1,2,3,4)  #immutable\n",
    "s={4,10,7,8}  #mutable\n",
    "d={\"name\":\"aniket\",\"id\":1}"
   ]
  },
  {
   "cell_type": "code",
   "execution_count": 74,
   "id": "68a5fbd8-5db3-480e-80c2-5f1b88d3654b",
   "metadata": {},
   "outputs": [
    {
     "data": {
      "text/plain": [
       "4"
      ]
     },
     "execution_count": 74,
     "metadata": {},
     "output_type": "execute_result"
    }
   ],
   "source": [
    "l.pop() #last element delete "
   ]
  },
  {
   "cell_type": "code",
   "execution_count": 75,
   "id": "365924d1-b211-4184-af7c-f57a1ce2229e",
   "metadata": {},
   "outputs": [
    {
     "data": {
      "text/plain": [
       "[1, 2, 3]"
      ]
     },
     "execution_count": 75,
     "metadata": {},
     "output_type": "execute_result"
    }
   ],
   "source": [
    "l"
   ]
  },
  {
   "cell_type": "code",
   "execution_count": 76,
   "id": "559c66ab-6e95-4136-8080-02d36b97f270",
   "metadata": {},
   "outputs": [
    {
     "data": {
      "text/plain": [
       "[2, 3]"
      ]
     },
     "execution_count": 76,
     "metadata": {},
     "output_type": "execute_result"
    }
   ],
   "source": [
    "l.pop(0)\n",
    "l"
   ]
  },
  {
   "cell_type": "code",
   "execution_count": 77,
   "id": "23512342-5b07-4f3d-aea0-598da58f9ba4",
   "metadata": {},
   "outputs": [
    {
     "data": {
      "text/plain": [
       "8"
      ]
     },
     "execution_count": 77,
     "metadata": {},
     "output_type": "execute_result"
    }
   ],
   "source": [
    "s.pop()\n"
   ]
  },
  {
   "cell_type": "code",
   "execution_count": 78,
   "id": "119029dc-5639-4349-8d59-62ae92c4b56c",
   "metadata": {},
   "outputs": [
    {
     "data": {
      "text/plain": [
       "{4, 7, 10}"
      ]
     },
     "execution_count": 78,
     "metadata": {},
     "output_type": "execute_result"
    }
   ],
   "source": [
    "s"
   ]
  },
  {
   "cell_type": "code",
   "execution_count": 79,
   "id": "9bd9e2de-e992-40d4-afa7-a431301e144a",
   "metadata": {},
   "outputs": [
    {
     "data": {
      "text/plain": [
       "{'name': 'aniket'}"
      ]
     },
     "execution_count": 79,
     "metadata": {},
     "output_type": "execute_result"
    }
   ],
   "source": [
    "d.pop(\"id\") #index===>key\n",
    "d"
   ]
  },
  {
   "cell_type": "markdown",
   "id": "5fed20de-a8dd-43ef-8f43-42a3604f1657",
   "metadata": {},
   "source": [
    "### popitem(): delete last insetred key value-pair"
   ]
  },
  {
   "cell_type": "code",
   "execution_count": 80,
   "id": "ca15e9bd-313c-4aa0-a546-3006a0ff44ab",
   "metadata": {},
   "outputs": [
    {
     "data": {
      "text/plain": [
       "{'name': 'aniket', 'course': 'AI'}"
      ]
     },
     "execution_count": 80,
     "metadata": {},
     "output_type": "execute_result"
    }
   ],
   "source": [
    "d[\"course\"]=\"AI\"\n",
    "d"
   ]
  },
  {
   "cell_type": "code",
   "execution_count": 81,
   "id": "8a38ea5b-6b99-4c92-bdf0-3f25729ee92d",
   "metadata": {},
   "outputs": [
    {
     "data": {
      "text/plain": [
       "{'name': 'aniket'}"
      ]
     },
     "execution_count": 81,
     "metadata": {},
     "output_type": "execute_result"
    }
   ],
   "source": [
    "d.popitem()\n",
    "d"
   ]
  },
  {
   "cell_type": "markdown",
   "id": "e0a106c8-c822-4fba-b4eb-3674276e3914",
   "metadata": {},
   "source": [
    "# key():show only key in the format of list"
   ]
  },
  {
   "cell_type": "code",
   "execution_count": 82,
   "id": "e21016ba-b089-4977-be0b-89cddf888426",
   "metadata": {},
   "outputs": [
    {
     "data": {
      "text/plain": [
       "{'id': 1, 'course': ['python', 'AI'], 'city': 'Ratnagiri'}"
      ]
     },
     "execution_count": 82,
     "metadata": {},
     "output_type": "execute_result"
    }
   ],
   "source": [
    "data"
   ]
  },
  {
   "cell_type": "code",
   "execution_count": 83,
   "id": "d5c163ea-67b1-450a-a263-e6c547092381",
   "metadata": {},
   "outputs": [
    {
     "data": {
      "text/plain": [
       "dict_keys(['id', 'course', 'city'])"
      ]
     },
     "execution_count": 83,
     "metadata": {},
     "output_type": "execute_result"
    }
   ],
   "source": [
    "data.keys()"
   ]
  },
  {
   "cell_type": "markdown",
   "id": "3adcd95b-f0fb-488a-8bf4-7293adecfa42",
   "metadata": {},
   "source": [
    "## values: it will show only values "
   ]
  },
  {
   "cell_type": "code",
   "execution_count": 84,
   "id": "2c7be1ce-c60e-44dd-ba95-180b62a61936",
   "metadata": {},
   "outputs": [
    {
     "data": {
      "text/plain": [
       "dict_items([('id', 1), ('course', ['python', 'AI']), ('city', 'Ratnagiri')])"
      ]
     },
     "execution_count": 84,
     "metadata": {},
     "output_type": "execute_result"
    }
   ],
   "source": [
    "data.items()"
   ]
  },
  {
   "cell_type": "markdown",
   "id": "2fdf433a-6c0b-4ace-8057-dcda2d0348c4",
   "metadata": {},
   "source": [
    "## item(): it will show key value pair in the format of tuple "
   ]
  },
  {
   "cell_type": "code",
   "execution_count": 85,
   "id": "fc962385-892b-4bab-a6bf-5a10eb0b2eb3",
   "metadata": {},
   "outputs": [
    {
     "data": {
      "text/plain": [
       "dict_items([('id', 1), ('course', ['python', 'AI']), ('city', 'Ratnagiri')])"
      ]
     },
     "execution_count": 85,
     "metadata": {},
     "output_type": "execute_result"
    }
   ],
   "source": [
    "data.items()"
   ]
  },
  {
   "cell_type": "markdown",
   "id": "407b8111-5f71-4f42-b8b1-4c50ca463d98",
   "metadata": {},
   "source": [
    "# How to create dataframe by using list and dict"
   ]
  },
  {
   "cell_type": "code",
   "execution_count": 86,
   "id": "917443e2-ad9a-4ba4-ac4a-7ed6b31c55b6",
   "metadata": {},
   "outputs": [],
   "source": [
    "list1=[[\"Ram\",25,\"mumbai\"],[\"Sita\",28,\"pune\"],[\"John\",26,\"delhi\"]]\n",
    "import pandas\n"
   ]
  },
  {
   "cell_type": "code",
   "execution_count": 87,
   "id": "9527c966-71d9-40a0-9521-19a8972a5ab2",
   "metadata": {},
   "outputs": [],
   "source": [
    "df1=pandas.DataFrame(list1,columns=[\"Name\",\"Age\",\"City\"])"
   ]
  },
  {
   "cell_type": "code",
   "execution_count": 88,
   "id": "1bb7ac1c-8d9f-444f-bf96-6594d7ef4dd3",
   "metadata": {},
   "outputs": [
    {
     "data": {
      "text/html": [
       "<div>\n",
       "<style scoped>\n",
       "    .dataframe tbody tr th:only-of-type {\n",
       "        vertical-align: middle;\n",
       "    }\n",
       "\n",
       "    .dataframe tbody tr th {\n",
       "        vertical-align: top;\n",
       "    }\n",
       "\n",
       "    .dataframe thead th {\n",
       "        text-align: right;\n",
       "    }\n",
       "</style>\n",
       "<table border=\"1\" class=\"dataframe\">\n",
       "  <thead>\n",
       "    <tr style=\"text-align: right;\">\n",
       "      <th></th>\n",
       "      <th>Name</th>\n",
       "      <th>Age</th>\n",
       "      <th>City</th>\n",
       "    </tr>\n",
       "  </thead>\n",
       "  <tbody>\n",
       "    <tr>\n",
       "      <th>0</th>\n",
       "      <td>Ram</td>\n",
       "      <td>25</td>\n",
       "      <td>mumbai</td>\n",
       "    </tr>\n",
       "    <tr>\n",
       "      <th>1</th>\n",
       "      <td>Sita</td>\n",
       "      <td>28</td>\n",
       "      <td>pune</td>\n",
       "    </tr>\n",
       "    <tr>\n",
       "      <th>2</th>\n",
       "      <td>John</td>\n",
       "      <td>26</td>\n",
       "      <td>delhi</td>\n",
       "    </tr>\n",
       "  </tbody>\n",
       "</table>\n",
       "</div>"
      ],
      "text/plain": [
       "   Name  Age    City\n",
       "0   Ram   25  mumbai\n",
       "1  Sita   28    pune\n",
       "2  John   26   delhi"
      ]
     },
     "execution_count": 88,
     "metadata": {},
     "output_type": "execute_result"
    }
   ],
   "source": [
    "df1"
   ]
  },
  {
   "cell_type": "code",
   "execution_count": 93,
   "id": "6c767780-7eef-48c5-ab8e-a2adffa1f53b",
   "metadata": {
    "scrolled": true
   },
   "outputs": [],
   "source": [
    "dict1={\"Name\":[\"Ram\",\"Sita\",\"john\"],\"Age\":[25,28,23],\"City\":[\"mumbai\",\"delhi\",\"pune\"]}\n",
    "df2=pandas.DataFrame(dict1)"
   ]
  },
  {
   "cell_type": "code",
   "execution_count": 94,
   "id": "2aa30e69-2f1b-4b91-ab33-fa8905f181aa",
   "metadata": {},
   "outputs": [
    {
     "data": {
      "text/html": [
       "<div>\n",
       "<style scoped>\n",
       "    .dataframe tbody tr th:only-of-type {\n",
       "        vertical-align: middle;\n",
       "    }\n",
       "\n",
       "    .dataframe tbody tr th {\n",
       "        vertical-align: top;\n",
       "    }\n",
       "\n",
       "    .dataframe thead th {\n",
       "        text-align: right;\n",
       "    }\n",
       "</style>\n",
       "<table border=\"1\" class=\"dataframe\">\n",
       "  <thead>\n",
       "    <tr style=\"text-align: right;\">\n",
       "      <th></th>\n",
       "      <th>Name</th>\n",
       "      <th>Age</th>\n",
       "      <th>City</th>\n",
       "    </tr>\n",
       "  </thead>\n",
       "  <tbody>\n",
       "    <tr>\n",
       "      <th>0</th>\n",
       "      <td>Ram</td>\n",
       "      <td>25</td>\n",
       "      <td>mumbai</td>\n",
       "    </tr>\n",
       "    <tr>\n",
       "      <th>1</th>\n",
       "      <td>Sita</td>\n",
       "      <td>28</td>\n",
       "      <td>delhi</td>\n",
       "    </tr>\n",
       "    <tr>\n",
       "      <th>2</th>\n",
       "      <td>john</td>\n",
       "      <td>23</td>\n",
       "      <td>pune</td>\n",
       "    </tr>\n",
       "  </tbody>\n",
       "</table>\n",
       "</div>"
      ],
      "text/plain": [
       "   Name  Age    City\n",
       "0   Ram   25  mumbai\n",
       "1  Sita   28   delhi\n",
       "2  john   23    pune"
      ]
     },
     "execution_count": 94,
     "metadata": {},
     "output_type": "execute_result"
    }
   ],
   "source": [
    "df2"
   ]
  },
  {
   "cell_type": "code",
   "execution_count": null,
   "id": "3f399a6c-ed29-470f-af29-27b346d1d2bf",
   "metadata": {},
   "outputs": [],
   "source": []
  },
  {
   "cell_type": "code",
   "execution_count": null,
   "id": "e0ab64f8-a649-4f82-9b03-0b69e3f1e6e6",
   "metadata": {},
   "outputs": [],
   "source": []
  },
  {
   "cell_type": "code",
   "execution_count": null,
   "id": "4099dd22-79eb-4036-883b-8f6d94172ebd",
   "metadata": {},
   "outputs": [],
   "source": []
  },
  {
   "cell_type": "code",
   "execution_count": null,
   "id": "85eabf72-6673-4ae3-bea0-d05cac074b94",
   "metadata": {},
   "outputs": [],
   "source": []
  },
  {
   "cell_type": "code",
   "execution_count": null,
   "id": "4438113d-3d26-4304-b6d5-76bbefe66786",
   "metadata": {},
   "outputs": [],
   "source": []
  },
  {
   "cell_type": "code",
   "execution_count": null,
   "id": "12a86d66-300d-4266-a188-a8d7f72ee3f0",
   "metadata": {},
   "outputs": [],
   "source": []
  },
  {
   "cell_type": "code",
   "execution_count": null,
   "id": "4cde85c8-21a9-4b6c-a6db-1f2eb8312afd",
   "metadata": {},
   "outputs": [],
   "source": []
  },
  {
   "cell_type": "code",
   "execution_count": null,
   "id": "3d6f6254-df56-4e72-ad22-9b14f063462d",
   "metadata": {},
   "outputs": [],
   "source": []
  },
  {
   "cell_type": "code",
   "execution_count": null,
   "id": "bd611915-b066-41c9-a133-e57d51ee2656",
   "metadata": {},
   "outputs": [],
   "source": []
  },
  {
   "cell_type": "code",
   "execution_count": null,
   "id": "62171f30-bb3f-4d14-b8aa-1203ba6c30aa",
   "metadata": {},
   "outputs": [],
   "source": []
  },
  {
   "cell_type": "code",
   "execution_count": null,
   "id": "2f07546f-632b-4851-ad17-c62bf73f3e6a",
   "metadata": {},
   "outputs": [],
   "source": []
  },
  {
   "cell_type": "code",
   "execution_count": null,
   "id": "92fb9475-dd91-4e31-b016-88489625b325",
   "metadata": {},
   "outputs": [],
   "source": []
  },
  {
   "cell_type": "code",
   "execution_count": null,
   "id": "b1c2c071-9b73-49c7-85e2-71ba9bde6e05",
   "metadata": {},
   "outputs": [],
   "source": []
  },
  {
   "cell_type": "code",
   "execution_count": null,
   "id": "d1c4ca72-4b3c-4dce-9ed3-86917491404e",
   "metadata": {},
   "outputs": [],
   "source": []
  },
  {
   "cell_type": "code",
   "execution_count": null,
   "id": "771cd1b9-b362-4893-8960-c5d865e84f56",
   "metadata": {},
   "outputs": [],
   "source": []
  },
  {
   "cell_type": "code",
   "execution_count": null,
   "id": "b85956e8-4a64-44e6-9592-9ed27b08e5dc",
   "metadata": {},
   "outputs": [],
   "source": []
  }
 ],
 "metadata": {
  "kernelspec": {
   "display_name": "Python 3 (ipykernel)",
   "language": "python",
   "name": "python3"
  },
  "language_info": {
   "codemirror_mode": {
    "name": "ipython",
    "version": 3
   },
   "file_extension": ".py",
   "mimetype": "text/x-python",
   "name": "python",
   "nbconvert_exporter": "python",
   "pygments_lexer": "ipython3",
   "version": "3.12.7"
  }
 },
 "nbformat": 4,
 "nbformat_minor": 5
}
