{
 "cells": [
  {
   "cell_type": "markdown",
   "id": "e0eb7459-52bc-4e19-a69f-bfaaaa424ca3",
   "metadata": {},
   "source": [
    "# Aniket sudam unde\n"
   ]
  },
  {
   "cell_type": "code",
   "execution_count": null,
   "id": "548cd76c-0052-4533-a7be-67b1432fa7c3",
   "metadata": {},
   "outputs": [],
   "source": []
  }
 ],
 "metadata": {
  "kernelspec": {
   "display_name": "Python 3 (ipykernel)",
   "language": "python",
   "name": "python3"
  },
  "language_info": {
   "codemirror_mode": {
    "name": "ipython",
    "version": 3
   },
   "file_extension": ".py",
   "mimetype": "text/x-python",
   "name": "python",
   "nbconvert_exporter": "python",
   "pygments_lexer": "ipython3",
   "version": "3.12.7"
  }
 },
 "nbformat": 4,
 "nbformat_minor": 5
}
