{
 "cells": [
  {
   "cell_type": "markdown",
   "id": "b0d9f25f-f53d-4b51-b9df-3b28506e6cd1",
   "metadata": {},
   "source": [
    "# Bank ATM withdrawl condition"
   ]
  },
  {
   "cell_type": "code",
   "execution_count": 8,
   "id": "ad8bd9ec-2262-44c0-a6a5-9aa1bd13a0e8",
   "metadata": {},
   "outputs": [
    {
     "name": "stdout",
     "output_type": "stream",
     "text": [
      "Transaction sucessful.\n"
     ]
    }
   ],
   "source": [
    "balance=5000\n",
    "withdraw_ammount=4000\n",
    "has_atm_card=True \n",
    "\n",
    "if has_atm_card:\n",
    "    if withdraw_ammount<=balance:\n",
    "        print(\"Transaction sucessful.\")\n",
    "    else:\n",
    "        print(\"insufficient balance\")\n",
    "else:\n",
    "    print(\"No atm card found\")"
   ]
  },
  {
   "cell_type": "code",
   "execution_count": 10,
   "id": "3d96e21b-337d-4158-9d7c-38b73a2210db",
   "metadata": {},
   "outputs": [
    {
     "name": "stdin",
     "output_type": "stream",
     "text": [
      "Enter ammount: 400\n",
      "Do you have ATM card?(yes/no): yes\n"
     ]
    },
    {
     "name": "stdout",
     "output_type": "stream",
     "text": [
      "Transaction sucessful.\n"
     ]
    }
   ],
   "source": [
    "balance=5000\n",
    "withdraw_ammount=int(input(\"Enter ammount:\"))\n",
    "has_atm_card=input(\"Do you have ATM card?(yes/no):\")\n",
    "\n",
    "if has_atm_card==\"yes\":\n",
    "    if withdraw_ammount<=balance:\n",
    "        print(\"Transaction sucessful.\")\n",
    "    else:\n",
    "        print(\"insufficient balance\")\n",
    "else:\n",
    "    print(\"No atm card found\")"
   ]
  },
  {
   "cell_type": "markdown",
   "id": "be2bf080-7637-410e-986a-dd90649f2d7f",
   "metadata": {},
   "source": [
    "# count vowels in a string"
   ]
  },
  {
   "cell_type": "code",
   "execution_count": 13,
   "id": "99fdc599-2693-4985-b230-96923eace8f7",
   "metadata": {},
   "outputs": [
    {
     "data": {
      "text/plain": [
       "['i', 'a', 'e', 'a', 'i', 'o']"
      ]
     },
     "execution_count": 13,
     "metadata": {},
     "output_type": "execute_result"
    }
   ],
   "source": [
    "s=\"I am learning python\"\n",
    "vowels=\"aeiou\"\n",
    "seprate_vowels=[]\n",
    "for char in s.lower():\n",
    "    if char in vowels:\n",
    "        seprate_vowels.append(char)\n",
    "seprate_vowels\n",
    "        \n"
   ]
  },
  {
   "cell_type": "code",
   "execution_count": 16,
   "id": "739cd403-a2af-459d-aff4-9e6e521ab991",
   "metadata": {},
   "outputs": [
    {
     "name": "stdout",
     "output_type": "stream",
     "text": [
      "i\n",
      "a\n",
      "e\n",
      "a\n",
      "i\n",
      "o\n"
     ]
    }
   ],
   "source": [
    "s=\"I am learning python\"\n",
    "vowels=\"aeiou\"\n",
    "seprate_vowels=\"\"\n",
    "for char in s.lower():\n",
    "    if char in vowels:\n",
    "        print(\" \".join(char))\n",
    "        \n"
   ]
  },
  {
   "cell_type": "code",
   "execution_count": 17,
   "id": "32bdd741-243e-407f-a0f7-87a4a3cb2e41",
   "metadata": {},
   "outputs": [
    {
     "name": "stdout",
     "output_type": "stream",
     "text": [
      "i a e a i o "
     ]
    }
   ],
   "source": [
    "s=\"I am learning python\"\n",
    "vowels=\"aeiou\"\n",
    "seprate_vowels=\"\"\n",
    "for char in s.lower():\n",
    "    if char in vowels:\n",
    "        print(char,end=\" \")\n",
    "        \n"
   ]
  },
  {
   "cell_type": "markdown",
   "id": "7b60561d-d884-4960-922a-49174724818a",
   "metadata": {},
   "source": [
    "# for loop on Dictionary"
   ]
  },
  {
   "cell_type": "code",
   "execution_count": 34,
   "id": "b60d41be-9609-4a87-863b-21611add1741",
   "metadata": {},
   "outputs": [
    {
     "name": "stdout",
     "output_type": "stream",
     "text": [
      "86\n",
      "74\n"
     ]
    }
   ],
   "source": [
    "l=[13,45,67,86,74]\n",
    "for i in l:\n",
    "    if i>70:\n",
    "        print(i)"
   ]
  },
  {
   "cell_type": "code",
   "execution_count": 47,
   "id": "5965b9d6-dade-4d60-bd84-642973be1afe",
   "metadata": {},
   "outputs": [],
   "source": [
    "marks={\"chetna\":78,\"madhuri\":45,\"aditya\":56,\"gouri\":98,\"mihir\":99}\n",
    "#extract list of students with>70 marks\n"
   ]
  },
  {
   "cell_type": "code",
   "execution_count": 48,
   "id": "5b9c598b-e9ad-437d-8785-755417be1186",
   "metadata": {},
   "outputs": [
    {
     "data": {
      "text/plain": [
       "dict_items([('chetna', 78), ('madhuri', 45), ('aditya', 56), ('gouri', 98), ('mihir', 99)])"
      ]
     },
     "execution_count": 48,
     "metadata": {},
     "output_type": "execute_result"
    }
   ],
   "source": [
    "marks.items()"
   ]
  },
  {
   "cell_type": "code",
   "execution_count": 49,
   "id": "1a5eab19-eac1-4e98-9ad2-0a035f5af206",
   "metadata": {},
   "outputs": [
    {
     "name": "stdout",
     "output_type": "stream",
     "text": [
      "chetna 78\n",
      "gouri 98\n",
      "mihir 99\n"
     ]
    }
   ],
   "source": [
    "for name,score in marks.items():   #(key, value)\n",
    "    if score>70:\n",
    "\n",
    "        print(name,score)\n",
    "\n",
    "    "
   ]
  },
  {
   "cell_type": "markdown",
   "id": "681f0c10-9c01-4e02-b3e3-c298ffecbfac",
   "metadata": {},
   "source": [
    "# Task"
   ]
  },
  {
   "cell_type": "code",
   "execution_count": null,
   "id": "028c8760-b6f0-465c-9877-a53145a36210",
   "metadata": {},
   "outputs": [],
   "source": [
    "#prime number checker\n",
    "#remove duplicate from the list\n",
    "l=[1,1,1,2,2,3,54,4,2,21,1,12,3,8,9,9,7,6]\n",
    "#sum of digit for each numbers in list\n",
    "l=[123,4334,567,445,780,890]"
   ]
  },
  {
   "cell_type": "code",
   "execution_count": 60,
   "id": "070a7bbd-cf86-4093-8c5c-46a1d6198e76",
   "metadata": {},
   "outputs": [
    {
     "name": "stdin",
     "output_type": "stream",
     "text": [
      "enter a number: 13\n"
     ]
    },
    {
     "name": "stdout",
     "output_type": "stream",
     "text": [
      "Prime number\n"
     ]
    }
   ],
   "source": [
    " num = int(input(\"enter a number:\"))\n",
    "if num > 1:\n",
    "    for i in range(2,int(num**0.5)+1):\n",
    "        if num % i ==0:\n",
    "            print(\"not prime\")\n",
    "            break\n",
    "    else:\n",
    "        print(\"Prime number\")\n",
    "else:\n",
    "    print(\"not prime number\")"
   ]
  },
  {
   "cell_type": "code",
   "execution_count": 58,
   "id": "40e0d597-d159-4aa2-9692-298afaf1edae",
   "metadata": {},
   "outputs": [
    {
     "name": "stdout",
     "output_type": "stream",
     "text": [
      "list without duplicate: [1, 2, 3, 54, 4, 21, 12, 8, 9, 7, 6]\n"
     ]
    }
   ],
   "source": [
    "l=[1,1,1,2,2,3,54,4,2,21,1,12,3,8,9,9,7,6]\n",
    "unique_list=[]\n",
    "for i in l:\n",
    "    if i not in unique_list:\n",
    "        unique_list.append(i)\n",
    "print(\"list without duplicate:\",unique_list)"
   ]
  },
  {
   "cell_type": "code",
   "execution_count": 66,
   "id": "30598980-2ca7-4f33-8032-eeb9cbe50dc6",
   "metadata": {},
   "outputs": [
    {
     "name": "stdout",
     "output_type": "stream",
     "text": [
      "sum of digit for each numbers: [6, 14, 18, 13, 15, 17]\n"
     ]
    }
   ],
   "source": [
    "#sum of digit for each numbers in list\n",
    "l=[123,4334,567,445,780,890]\n",
    "digit_sum=[sum(int(digit)for digit in str(num)) for num in l]\n",
    "print(\"sum of digit for each numbers:\", digit_sum)"
   ]
  },
  {
   "cell_type": "code",
   "execution_count": null,
   "id": "bfc48810-a01b-4630-b2c9-e124e7668d97",
   "metadata": {},
   "outputs": [],
   "source": []
  }
 ],
 "metadata": {
  "kernelspec": {
   "display_name": "Python 3 (ipykernel)",
   "language": "python",
   "name": "python3"
  },
  "language_info": {
   "codemirror_mode": {
    "name": "ipython",
    "version": 3
   },
   "file_extension": ".py",
   "mimetype": "text/x-python",
   "name": "python",
   "nbconvert_exporter": "python",
   "pygments_lexer": "ipython3",
   "version": "3.12.7"
  }
 },
 "nbformat": 4,
 "nbformat_minor": 5
}
