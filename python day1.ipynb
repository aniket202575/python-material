{
 "cells": [
  {
   "cell_type": "markdown",
   "id": "dffdc55c-1b02-4b50-b18c-63683d9f3b59",
   "metadata": {},
   "source": [
    "# Day 1"
   ]
  },
  {
   "cell_type": "code",
   "execution_count": 1,
   "id": "a3080156-c005-45d5-a620-ddde8c6b0471",
   "metadata": {},
   "outputs": [
    {
     "name": "stdout",
     "output_type": "stream",
     "text": [
      "8010\n"
     ]
    }
   ],
   "source": [
    "a=89\n",
    "b=90\n",
    "print(a*b) #adding two numbers \n",
    "\n",
    "#shift+enter\n"
   ]
  },
  {
   "cell_type": "code",
   "execution_count": 2,
   "id": "c95eda23-587c-452c-ac8b-89ac1d6b9227",
   "metadata": {},
   "outputs": [
    {
     "name": "stdout",
     "output_type": "stream",
     "text": [
      "aniket\n"
     ]
    }
   ],
   "source": [
    "name=\"aniket\"\n",
    "print(name)"
   ]
  },
  {
   "cell_type": "markdown",
   "id": "727ac951-75db-4d98-8f82-9ab93040c709",
   "metadata": {},
   "source": [
    "## Comments"
   ]
  },
  {
   "cell_type": "code",
   "execution_count": null,
   "id": "e6d3b6d6-3737-4fca-9443-f7f8c43e0632",
   "metadata": {},
   "outputs": [],
   "source": [
    "# single line/notes \n",
    "\" \" \" gdfhgfhkghf\n",
    "gghfhjgfjf\n",
    "ggthg\n",
    "hgkhtk\n",
    "fdfjf \" \" \""
   ]
  },
  {
   "cell_type": "markdown",
   "id": "1e0fc77d-684b-460d-93e6-6af39f72a391",
   "metadata": {},
   "source": [
    "## Pass or fail code"
   ]
  },
  {
   "cell_type": "code",
   "execution_count": 3,
   "id": "8ffdc7fe-d073-4a62-82f6-c56fc0ba453b",
   "metadata": {},
   "outputs": [
    {
     "name": "stdin",
     "output_type": "stream",
     "text": [
      "enter your name aniket\n",
      "enter your marks 85\n"
     ]
    },
    {
     "name": "stdout",
     "output_type": "stream",
     "text": [
      "passs\n"
     ]
    }
   ],
   "source": [
    "name=input(\"enter your name\")\n",
    "marks=int(input(\"enter your marks\"))\n",
    "if marks>70:\n",
    "    print(\"passs\")\n",
    "else:\n",
    "    print(\"fail\")\n"
   ]
  },
  {
   "cell_type": "markdown",
   "id": "ec630653-cce9-40bc-b7ef-8f06218e3025",
   "metadata": {},
   "source": [
    "## Python fandementtals"
   ]
  },
  {
   "cell_type": "markdown",
   "id": "a8a220cb-4a01-46c3-8375-0af934986509",
   "metadata": {},
   "source": [
    "- 2.1 working with inter acting mode \n",
    "- 2.2 working with script mode \n",
    "- 2.3 intro of idles \n",
    "- 2.4 python character set\n",
    "- 2.5 python token: variables/identifires,keywords, operators,literals\n",
    "- 2.6 input and output\n",
    "\n"
   ]
  },
  {
   "cell_type": "markdown",
   "id": "a24d4a1d-40e2-4cc8-b4d7-39dc9e68ee8d",
   "metadata": {},
   "source": [
    "## 2.4 Python character"
   ]
  },
  {
   "cell_type": "code",
   "execution_count": null,
   "id": "7f0147d6-4551-4f63-9ceb-c0046b33ab99",
   "metadata": {},
   "outputs": [],
   "source": [
    "a-z,A-Z,0-9,symbols\n",
    "assci codes/unicode characters "
   ]
  },
  {
   "cell_type": "markdown",
   "id": "2b557ab2-c550-4f8e-8f59-35e0b5875ced",
   "metadata": {},
   "source": [
    "### python token: variables/identifires,keywords, operators,literals"
   ]
  },
  {
   "cell_type": "code",
   "execution_count": null,
   "id": "4352e309-cda8-4607-8b2a-df60f1e4dd9a",
   "metadata": {},
   "outputs": [],
   "source": [
    "Token: individual unit in a program "
   ]
  },
  {
   "cell_type": "markdown",
   "id": "191714c7-153d-42ac-9631-a6a53981381f",
   "metadata": {},
   "source": [
    "## Variables"
   ]
  },
  {
   "cell_type": "markdown",
   "id": "a1e89ab2-6aa3-4298-a77c-bf3142cf3cdb",
   "metadata": {},
   "source": [
    "- name given to a men=mory location\n",
    " - to store any data "
   ]
  },
  {
   "cell_type": "markdown",
   "id": "70c2bbfc-ab68-411d-b093-2c867717eb71",
   "metadata": {},
   "source": [
    "## How to declare variables name\n",
    "- variable name must start with ltters (a-z/A-Z) and underscore (_).\n",
    " e.g _name=:aniket\",a=90,A=78,A_B_c=75\n",
    "- cannot start with the the numbers \n",
    "  4name="
   ]
  },
  {
   "cell_type": "markdown",
   "id": "2347f791-fb50-446f-9da5-3baf872ea985",
   "metadata": {},
   "source": [
    "## Aniket\n",
    "- unde\n",
    "    - nikhil\n",
    "    - nilesh\n",
    "    - mahesh"
   ]
  },
  {
   "cell_type": "code",
   "execution_count": null,
   "id": "ade22fba-29d2-4674-9fcf-52872b5cb932",
   "metadata": {},
   "outputs": [],
   "source": []
  }
 ],
 "metadata": {
  "kernelspec": {
   "display_name": "Python 3 (ipykernel)",
   "language": "python",
   "name": "python3"
  },
  "language_info": {
   "codemirror_mode": {
    "name": "ipython",
    "version": 3
   },
   "file_extension": ".py",
   "mimetype": "text/x-python",
   "name": "python",
   "nbconvert_exporter": "python",
   "pygments_lexer": "ipython3",
   "version": "3.12.7"
  }
 },
 "nbformat": 4,
 "nbformat_minor": 5
}
