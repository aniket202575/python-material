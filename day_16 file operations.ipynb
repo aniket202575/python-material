{
 "cells": [
  {
   "cell_type": "markdown",
   "id": "b5cfd0e0-08bb-40b4-b4cb-b793e4e6a1ac",
   "metadata": {},
   "source": [
    "# File operations"
   ]
  },
  {
   "cell_type": "code",
   "execution_count": 1,
   "id": "84427d6f-9688-4154-bb46-a9a148c816f8",
   "metadata": {},
   "outputs": [],
   "source": [
    "#how  to read,write ,append data in files (text,excel,ans csv ,html,json)\n",
    "\n"
   ]
  },
  {
   "cell_type": "markdown",
   "id": "39faf1ea-a79f-47e3-97f5-2f0881e06c62",
   "metadata": {},
   "source": [
    "# Reading text file "
   ]
  },
  {
   "cell_type": "raw",
   "id": "003803db-b540-43c2-a552-89996a01ec4c",
   "metadata": {},
   "source": [
    ".txt"
   ]
  },
  {
   "cell_type": "markdown",
   "id": "83c23092-b72c-4731-94d1-ba7fd3e47f39",
   "metadata": {},
   "source": [
    "modes of files\n",
    "- read(): \"r\"\n",
    "- write(): \"w\"\n",
    "- append: write(): \"a\"\n",
    "- read+write=\"r+\""
   ]
  },
  {
   "cell_type": "code",
   "execution_count": 11,
   "id": "91322bc4-8898-49ae-a9ab-387374a08d3d",
   "metadata": {},
   "outputs": [
    {
     "data": {
      "text/plain": [
       "'I am learning\\t\\t file operation\\ni am data scientist'"
      ]
     },
     "execution_count": 11,
     "metadata": {},
     "output_type": "execute_result"
    }
   ],
   "source": [
    "#read(): \"r\"\n",
    "#we nmeed existing files in ourv system to read in python \n",
    "#syntax : open(path,mode)\n",
    "data=open(r\"C:\\Users\\anike\\Downloads\\demo.txt.txt\",\"r\")\n",
    "data.read()\n"
   ]
  },
  {
   "cell_type": "code",
   "execution_count": 8,
   "id": "9e4f2ae1-1ef3-45f5-ae71-2f1a668a31b4",
   "metadata": {},
   "outputs": [],
   "source": [
    "data.close()"
   ]
  },
  {
   "cell_type": "code",
   "execution_count": 17,
   "id": "ef5827a1-0f06-49d2-a4af-4599aa99413d",
   "metadata": {},
   "outputs": [
    {
     "name": "stdout",
     "output_type": "stream",
     "text": [
      "I am learning\t\t file operation\n",
      "\n",
      "i am data scientist\n"
     ]
    }
   ],
   "source": [
    "data=open(r\"C:\\Users\\anike\\Downloads\\demo.txt.txt\",\"r\")\n",
    "for content in data:\n",
    "    print(content)"
   ]
  },
  {
   "cell_type": "code",
   "execution_count": 18,
   "id": "854e575d-d7f1-47e9-886a-80ef0148f94c",
   "metadata": {},
   "outputs": [],
   "source": [
    "regular_string=\"data science\"\n"
   ]
  },
  {
   "cell_type": "code",
   "execution_count": null,
   "id": "848a1229-e281-42a0-986e-b6efe721fce8",
   "metadata": {},
   "outputs": [],
   "source": [
    "r\"path\"\n",
    "r : raw string \n"
   ]
  },
  {
   "cell_type": "code",
   "execution_count": 19,
   "id": "9469f532-be8a-46f3-a921-c98be5b3991b",
   "metadata": {},
   "outputs": [],
   "source": [
    "data.close()"
   ]
  },
  {
   "cell_type": "code",
   "execution_count": 47,
   "id": "05073c22-0942-4ac4-8556-ce5a1513c52f",
   "metadata": {},
   "outputs": [
    {
     "data": {
      "text/plain": [
       "24"
      ]
     },
     "execution_count": 47,
     "metadata": {},
     "output_type": "execute_result"
    }
   ],
   "source": [
    "#write():\"w\"\n",
    "#it will generate new file automatically in than folder and then write data \n",
    "# if file is existing then it will write data in that file \n",
    "data2=open(r\"C:\\Users\\anike\\Downloads\\demo.txt\",\"w\")\n",
    "data2.write(\"writing data in new file\")\n"
   ]
  },
  {
   "cell_type": "code",
   "execution_count": 48,
   "id": "fc7af8e5-c77c-4145-8793-85094cba5061",
   "metadata": {},
   "outputs": [],
   "source": [
    "data2.close()"
   ]
  },
  {
   "cell_type": "code",
   "execution_count": 49,
   "id": "10c9000e-324a-4ab7-8cf8-9c5aa4fbf5ce",
   "metadata": {},
   "outputs": [
    {
     "data": {
      "text/plain": [
       "19"
      ]
     },
     "execution_count": 49,
     "metadata": {},
     "output_type": "execute_result"
    }
   ],
   "source": [
    "data3=open(r\"C:\\Users\\anike\\Downloads\\demo.txt\",\"w\")\n",
    "data3.write(\"I am from ratnagiri\")\n",
    "#if file is existing and it contains somes text,thenn write function will delete that contain and it will add new text "
   ]
  },
  {
   "cell_type": "code",
   "execution_count": 50,
   "id": "4f2b55cb-a8e2-409c-91c0-4ce9e23d707d",
   "metadata": {},
   "outputs": [],
   "source": [
    "data3.close()"
   ]
  },
  {
   "cell_type": "markdown",
   "id": "3a12e977-e6d9-4e4c-bfa9-a5db31b8453d",
   "metadata": {},
   "source": [
    "# append mode: \"a\":write()"
   ]
  },
  {
   "cell_type": "code",
   "execution_count": 3,
   "id": "db6c8088-a5f6-4322-afcb-98a3860bf91e",
   "metadata": {},
   "outputs": [
    {
     "data": {
      "text/plain": [
       "30"
      ]
     },
     "execution_count": 3,
     "metadata": {},
     "output_type": "execute_result"
    }
   ],
   "source": [
    "data4=open(r\"C:\\Users\\anike\\Downloads\\demo.txt\",\"a\")\n",
    "data4.write(\"\\nI am data scientist\")\n",
    "data4.write(\"\\nI am learning file operations\")\n"
   ]
  },
  {
   "cell_type": "code",
   "execution_count": 4,
   "id": "93a289fb-a8c2-466d-aca5-b89749d67dc4",
   "metadata": {},
   "outputs": [],
   "source": [
    "data4.close()"
   ]
  },
  {
   "cell_type": "code",
   "execution_count": null,
   "id": "9efb5dc8-468b-482a-9714-c095769cf602",
   "metadata": {},
   "outputs": [],
   "source": []
  },
  {
   "cell_type": "code",
   "execution_count": null,
   "id": "5c10ca5a-97b5-4071-8c58-083acc230f39",
   "metadata": {},
   "outputs": [],
   "source": []
  },
  {
   "cell_type": "code",
   "execution_count": null,
   "id": "09c9bce7-952c-4c37-b7cc-21dce6424c54",
   "metadata": {},
   "outputs": [],
   "source": []
  },
  {
   "cell_type": "code",
   "execution_count": null,
   "id": "ae67b1ec-8702-4b9a-940e-ff3e1a6fea1f",
   "metadata": {},
   "outputs": [],
   "source": []
  },
  {
   "cell_type": "markdown",
   "id": "515b72f9-14e4-4150-9160-4308ca14b410",
   "metadata": {},
   "source": [
    "# Reading excel and CSV files"
   ]
  },
  {
   "cell_type": "code",
   "execution_count": 1,
   "id": "407b7477-cb47-41e5-9927-94029e2e555f",
   "metadata": {},
   "outputs": [],
   "source": [
    "# Install \n",
    "#pip install pandas \n",
    "#pip: python installation package \n",
    "import pandas as pd"
   ]
  },
  {
   "cell_type": "code",
   "execution_count": 2,
   "id": "482dfe61-2b2d-4008-b432-d2c31f950f5f",
   "metadata": {},
   "outputs": [
    {
     "name": "stdout",
     "output_type": "stream",
     "text": [
      "['ArrowDtype', 'BooleanDtype', 'Categorical', 'CategoricalDtype', 'CategoricalIndex', 'DataFrame', 'DateOffset', 'DatetimeIndex', 'DatetimeTZDtype', 'ExcelFile', 'ExcelWriter', 'Flags', 'Float32Dtype', 'Float64Dtype', 'Grouper', 'HDFStore', 'Index', 'IndexSlice', 'Int16Dtype', 'Int32Dtype', 'Int64Dtype', 'Int8Dtype', 'Interval', 'IntervalDtype', 'IntervalIndex', 'MultiIndex', 'NA', 'NaT', 'NamedAgg', 'Period', 'PeriodDtype', 'PeriodIndex', 'RangeIndex', 'Series', 'SparseDtype', 'StringDtype', 'Timedelta', 'TimedeltaIndex', 'Timestamp', 'UInt16Dtype', 'UInt32Dtype', 'UInt64Dtype', 'UInt8Dtype', '__all__', '__builtins__', '__cached__', '__doc__', '__docformat__', '__file__', '__git_version__', '__loader__', '__name__', '__package__', '__path__', '__spec__', '__version__', '_built_with_meson', '_config', '_is_numpy_dev', '_libs', '_pandas_datetime_CAPI', '_pandas_parser_CAPI', '_testing', '_typing', '_version_meson', 'annotations', 'api', 'array', 'arrays', 'bdate_range', 'compat', 'concat', 'core', 'crosstab', 'cut', 'date_range', 'describe_option', 'errors', 'eval', 'factorize', 'from_dummies', 'get_dummies', 'get_option', 'infer_freq', 'interval_range', 'io', 'isna', 'isnull', 'json_normalize', 'lreshape', 'melt', 'merge', 'merge_asof', 'merge_ordered', 'notna', 'notnull', 'offsets', 'option_context', 'options', 'pandas', 'period_range', 'pivot', 'pivot_table', 'plotting', 'qcut', 'read_clipboard', 'read_csv', 'read_excel', 'read_feather', 'read_fwf', 'read_gbq', 'read_hdf', 'read_html', 'read_json', 'read_orc', 'read_parquet', 'read_pickle', 'read_sas', 'read_spss', 'read_sql', 'read_sql_query', 'read_sql_table', 'read_stata', 'read_table', 'read_xml', 'reset_option', 'set_eng_float_format', 'set_option', 'show_versions', 'test', 'testing', 'timedelta_range', 'to_datetime', 'to_numeric', 'to_pickle', 'to_timedelta', 'tseries', 'unique', 'util', 'value_counts', 'wide_to_long']\n"
     ]
    }
   ],
   "source": [
    "print(dir(pd))"
   ]
  },
  {
   "cell_type": "code",
   "execution_count": 3,
   "id": "4926ac7e-28ac-4f0e-adb3-8ed0cb5692ca",
   "metadata": {},
   "outputs": [],
   "source": [
    "#.xlsx/ xls:read_excel(r\"path\")\n",
    "#.csv:read_csv(r\"path\")"
   ]
  },
  {
   "cell_type": "code",
   "execution_count": 6,
   "id": "07c47e5c-a0d7-4848-b082-45b23fe5b5b8",
   "metadata": {},
   "outputs": [
    {
     "data": {
      "text/html": [
       "<div>\n",
       "<style scoped>\n",
       "    .dataframe tbody tr th:only-of-type {\n",
       "        vertical-align: middle;\n",
       "    }\n",
       "\n",
       "    .dataframe tbody tr th {\n",
       "        vertical-align: top;\n",
       "    }\n",
       "\n",
       "    .dataframe thead th {\n",
       "        text-align: right;\n",
       "    }\n",
       "</style>\n",
       "<table border=\"1\" class=\"dataframe\">\n",
       "  <thead>\n",
       "    <tr style=\"text-align: right;\">\n",
       "      <th></th>\n",
       "      <th>Row ID</th>\n",
       "      <th>Order ID</th>\n",
       "      <th>Ship Mode</th>\n",
       "      <th>Customer ID</th>\n",
       "      <th>Customer Name</th>\n",
       "      <th>Segment</th>\n",
       "      <th>City</th>\n",
       "      <th>State</th>\n",
       "      <th>Country</th>\n",
       "      <th>Region</th>\n",
       "      <th>...</th>\n",
       "      <th>Quantity</th>\n",
       "      <th>Profit</th>\n",
       "      <th>Shipping Cost</th>\n",
       "      <th>Order Priority</th>\n",
       "      <th>Target</th>\n",
       "      <th>Manager</th>\n",
       "      <th>Team lead</th>\n",
       "      <th>Gender</th>\n",
       "      <th>Order Date</th>\n",
       "      <th>Ship Date</th>\n",
       "    </tr>\n",
       "  </thead>\n",
       "  <tbody>\n",
       "    <tr>\n",
       "      <th>0</th>\n",
       "      <td>1</td>\n",
       "      <td>IN-2014-54694</td>\n",
       "      <td>Standard Class</td>\n",
       "      <td>HG-14845</td>\n",
       "      <td>Harry Greene</td>\n",
       "      <td>Consumer</td>\n",
       "      <td>Rajkot</td>\n",
       "      <td>Gujarat</td>\n",
       "      <td>India</td>\n",
       "      <td>West</td>\n",
       "      <td>...</td>\n",
       "      <td>2</td>\n",
       "      <td>23.70</td>\n",
       "      <td>2.15</td>\n",
       "      <td>Medium</td>\n",
       "      <td>386</td>\n",
       "      <td>Mahesh</td>\n",
       "      <td>Mohit</td>\n",
       "      <td>Male</td>\n",
       "      <td>2024-01-12</td>\n",
       "      <td>2024-05-12</td>\n",
       "    </tr>\n",
       "    <tr>\n",
       "      <th>1</th>\n",
       "      <td>2</td>\n",
       "      <td>IN-2013-53763</td>\n",
       "      <td>Standard Class</td>\n",
       "      <td>AR-10510</td>\n",
       "      <td>Andrew Roberts</td>\n",
       "      <td>Consumer</td>\n",
       "      <td>Durg</td>\n",
       "      <td>Chhattisgarh</td>\n",
       "      <td>India</td>\n",
       "      <td>East</td>\n",
       "      <td>...</td>\n",
       "      <td>2</td>\n",
       "      <td>2.04</td>\n",
       "      <td>1.50</td>\n",
       "      <td>Medium</td>\n",
       "      <td>401</td>\n",
       "      <td>Mahesh</td>\n",
       "      <td>Mohan</td>\n",
       "      <td>Female</td>\n",
       "      <td>2023-12-27</td>\n",
       "      <td>2023-12-31</td>\n",
       "    </tr>\n",
       "    <tr>\n",
       "      <th>2</th>\n",
       "      <td>3</td>\n",
       "      <td>IN-2014-15473</td>\n",
       "      <td>Standard Class</td>\n",
       "      <td>TP-21130</td>\n",
       "      <td>Theone Pippenger</td>\n",
       "      <td>Consumer</td>\n",
       "      <td>Mangalore</td>\n",
       "      <td>Karnataka</td>\n",
       "      <td>India</td>\n",
       "      <td>South</td>\n",
       "      <td>...</td>\n",
       "      <td>2</td>\n",
       "      <td>0.24</td>\n",
       "      <td>0.79</td>\n",
       "      <td>Medium</td>\n",
       "      <td>293</td>\n",
       "      <td>Mahesh</td>\n",
       "      <td>Manu</td>\n",
       "      <td>Female</td>\n",
       "      <td>2024-02-12</td>\n",
       "      <td>2024-07-12</td>\n",
       "    </tr>\n",
       "    <tr>\n",
       "      <th>3</th>\n",
       "      <td>4</td>\n",
       "      <td>IN-2014-24622</td>\n",
       "      <td>Standard Class</td>\n",
       "      <td>MM-17920</td>\n",
       "      <td>Michael Moore</td>\n",
       "      <td>Consumer</td>\n",
       "      <td>Bijapur</td>\n",
       "      <td>Karnataka</td>\n",
       "      <td>India</td>\n",
       "      <td>South</td>\n",
       "      <td>...</td>\n",
       "      <td>2</td>\n",
       "      <td>4.44</td>\n",
       "      <td>0.14</td>\n",
       "      <td>Medium</td>\n",
       "      <td>609</td>\n",
       "      <td>Mahesh</td>\n",
       "      <td>Meena</td>\n",
       "      <td>Female</td>\n",
       "      <td>2024-10-22</td>\n",
       "      <td>2024-10-28</td>\n",
       "    </tr>\n",
       "    <tr>\n",
       "      <th>4</th>\n",
       "      <td>5</td>\n",
       "      <td>IN-2012-29130</td>\n",
       "      <td>Standard Class</td>\n",
       "      <td>JR-15700</td>\n",
       "      <td>Jocasta Rupert</td>\n",
       "      <td>Consumer</td>\n",
       "      <td>Kollam</td>\n",
       "      <td>Kerala</td>\n",
       "      <td>India</td>\n",
       "      <td>South</td>\n",
       "      <td>...</td>\n",
       "      <td>2</td>\n",
       "      <td>54.66</td>\n",
       "      <td>11.12</td>\n",
       "      <td>Medium</td>\n",
       "      <td>750</td>\n",
       "      <td>Mahesh</td>\n",
       "      <td>Mohan</td>\n",
       "      <td>Male</td>\n",
       "      <td>2021-09-27</td>\n",
       "      <td>2021-01-10</td>\n",
       "    </tr>\n",
       "    <tr>\n",
       "      <th>...</th>\n",
       "      <td>...</td>\n",
       "      <td>...</td>\n",
       "      <td>...</td>\n",
       "      <td>...</td>\n",
       "      <td>...</td>\n",
       "      <td>...</td>\n",
       "      <td>...</td>\n",
       "      <td>...</td>\n",
       "      <td>...</td>\n",
       "      <td>...</td>\n",
       "      <td>...</td>\n",
       "      <td>...</td>\n",
       "      <td>...</td>\n",
       "      <td>...</td>\n",
       "      <td>...</td>\n",
       "      <td>...</td>\n",
       "      <td>...</td>\n",
       "      <td>...</td>\n",
       "      <td>...</td>\n",
       "      <td>...</td>\n",
       "      <td>...</td>\n",
       "    </tr>\n",
       "    <tr>\n",
       "      <th>1550</th>\n",
       "      <td>1551</td>\n",
       "      <td>IN-2014-66510</td>\n",
       "      <td>Standard Class</td>\n",
       "      <td>SC-20380</td>\n",
       "      <td>Shahid Collister</td>\n",
       "      <td>Consumer</td>\n",
       "      <td>Delhi</td>\n",
       "      <td>Delhi</td>\n",
       "      <td>India</td>\n",
       "      <td>North</td>\n",
       "      <td>...</td>\n",
       "      <td>3</td>\n",
       "      <td>69.75</td>\n",
       "      <td>13.99</td>\n",
       "      <td>Medium</td>\n",
       "      <td>499</td>\n",
       "      <td>Suresh</td>\n",
       "      <td>Suma</td>\n",
       "      <td>Male</td>\n",
       "      <td>2022-06-16</td>\n",
       "      <td>2022-06-22</td>\n",
       "    </tr>\n",
       "    <tr>\n",
       "      <th>1551</th>\n",
       "      <td>1552</td>\n",
       "      <td>IN-2014-63325</td>\n",
       "      <td>Standard Class</td>\n",
       "      <td>JK-16090</td>\n",
       "      <td>Juliana Krohn</td>\n",
       "      <td>Consumer</td>\n",
       "      <td>Indore</td>\n",
       "      <td>Madhya Pradesh</td>\n",
       "      <td>India</td>\n",
       "      <td>West</td>\n",
       "      <td>...</td>\n",
       "      <td>5</td>\n",
       "      <td>4.20</td>\n",
       "      <td>11.11</td>\n",
       "      <td>Medium</td>\n",
       "      <td>201</td>\n",
       "      <td>Suresh</td>\n",
       "      <td>Suraj</td>\n",
       "      <td>Female</td>\n",
       "      <td>2022-05-06</td>\n",
       "      <td>2022-10-06</td>\n",
       "    </tr>\n",
       "    <tr>\n",
       "      <th>1552</th>\n",
       "      <td>1553</td>\n",
       "      <td>IN-2011-43109</td>\n",
       "      <td>Standard Class</td>\n",
       "      <td>WB-21850</td>\n",
       "      <td>William Brown</td>\n",
       "      <td>Consumer</td>\n",
       "      <td>Amravati</td>\n",
       "      <td>Maharashtra</td>\n",
       "      <td>India</td>\n",
       "      <td>West</td>\n",
       "      <td>...</td>\n",
       "      <td>6</td>\n",
       "      <td>40.86</td>\n",
       "      <td>60.19</td>\n",
       "      <td>Medium</td>\n",
       "      <td>442</td>\n",
       "      <td>Suresh</td>\n",
       "      <td>Suma</td>\n",
       "      <td>Female</td>\n",
       "      <td>2021-12-17</td>\n",
       "      <td>2021-12-21</td>\n",
       "    </tr>\n",
       "    <tr>\n",
       "      <th>1553</th>\n",
       "      <td>1554</td>\n",
       "      <td>IN-2011-12288</td>\n",
       "      <td>Standard Class</td>\n",
       "      <td>JS-15880</td>\n",
       "      <td>John Stevenson</td>\n",
       "      <td>Consumer</td>\n",
       "      <td>Vadodara</td>\n",
       "      <td>Gujarat</td>\n",
       "      <td>India</td>\n",
       "      <td>West</td>\n",
       "      <td>...</td>\n",
       "      <td>7</td>\n",
       "      <td>162.54</td>\n",
       "      <td>89.01</td>\n",
       "      <td>Medium</td>\n",
       "      <td>95</td>\n",
       "      <td>Suresh</td>\n",
       "      <td>Sumita</td>\n",
       "      <td>Male</td>\n",
       "      <td>2023-06-26</td>\n",
       "      <td>2023-01-07</td>\n",
       "    </tr>\n",
       "    <tr>\n",
       "      <th>1554</th>\n",
       "      <td>1555</td>\n",
       "      <td>IN-2013-14675</td>\n",
       "      <td>Standard Class</td>\n",
       "      <td>CS-12130</td>\n",
       "      <td>Chad Sievert</td>\n",
       "      <td>Consumer</td>\n",
       "      <td>Bilaspur</td>\n",
       "      <td>Uttar Pradesh</td>\n",
       "      <td>India</td>\n",
       "      <td>North</td>\n",
       "      <td>...</td>\n",
       "      <td>2</td>\n",
       "      <td>60.24</td>\n",
       "      <td>74.65</td>\n",
       "      <td>Medium</td>\n",
       "      <td>542</td>\n",
       "      <td>Suresh</td>\n",
       "      <td>Sunil</td>\n",
       "      <td>Female</td>\n",
       "      <td>2022-01-26</td>\n",
       "      <td>2022-01-30</td>\n",
       "    </tr>\n",
       "  </tbody>\n",
       "</table>\n",
       "<p>1555 rows × 25 columns</p>\n",
       "</div>"
      ],
      "text/plain": [
       "      Row ID       Order ID       Ship Mode Customer ID     Customer Name  \\\n",
       "0          1  IN-2014-54694  Standard Class    HG-14845      Harry Greene   \n",
       "1          2  IN-2013-53763  Standard Class    AR-10510    Andrew Roberts   \n",
       "2          3  IN-2014-15473  Standard Class    TP-21130  Theone Pippenger   \n",
       "3          4  IN-2014-24622  Standard Class    MM-17920     Michael Moore   \n",
       "4          5  IN-2012-29130  Standard Class    JR-15700    Jocasta Rupert   \n",
       "...      ...            ...             ...         ...               ...   \n",
       "1550    1551  IN-2014-66510  Standard Class    SC-20380  Shahid Collister   \n",
       "1551    1552  IN-2014-63325  Standard Class    JK-16090     Juliana Krohn   \n",
       "1552    1553  IN-2011-43109  Standard Class    WB-21850     William Brown   \n",
       "1553    1554  IN-2011-12288  Standard Class    JS-15880    John Stevenson   \n",
       "1554    1555  IN-2013-14675  Standard Class    CS-12130      Chad Sievert   \n",
       "\n",
       "       Segment       City           State Country Region  ... Quantity  \\\n",
       "0     Consumer     Rajkot         Gujarat   India   West  ...        2   \n",
       "1     Consumer       Durg    Chhattisgarh   India   East  ...        2   \n",
       "2     Consumer  Mangalore       Karnataka   India  South  ...        2   \n",
       "3     Consumer    Bijapur       Karnataka   India  South  ...        2   \n",
       "4     Consumer     Kollam          Kerala   India  South  ...        2   \n",
       "...        ...        ...             ...     ...    ...  ...      ...   \n",
       "1550  Consumer      Delhi           Delhi   India  North  ...        3   \n",
       "1551  Consumer     Indore  Madhya Pradesh   India   West  ...        5   \n",
       "1552  Consumer   Amravati     Maharashtra   India   West  ...        6   \n",
       "1553  Consumer   Vadodara         Gujarat   India   West  ...        7   \n",
       "1554  Consumer   Bilaspur   Uttar Pradesh   India  North  ...        2   \n",
       "\n",
       "      Profit Shipping Cost Order Priority  Target  Manager  Team lead  Gender  \\\n",
       "0      23.70          2.15         Medium     386   Mahesh      Mohit    Male   \n",
       "1       2.04          1.50         Medium     401   Mahesh      Mohan  Female   \n",
       "2       0.24          0.79         Medium     293   Mahesh       Manu  Female   \n",
       "3       4.44          0.14         Medium     609   Mahesh      Meena  Female   \n",
       "4      54.66         11.12         Medium     750   Mahesh      Mohan    Male   \n",
       "...      ...           ...            ...     ...      ...        ...     ...   \n",
       "1550   69.75         13.99         Medium     499   Suresh       Suma    Male   \n",
       "1551    4.20         11.11         Medium     201   Suresh      Suraj  Female   \n",
       "1552   40.86         60.19         Medium     442   Suresh       Suma  Female   \n",
       "1553  162.54         89.01         Medium      95   Suresh     Sumita    Male   \n",
       "1554   60.24         74.65         Medium     542   Suresh      Sunil  Female   \n",
       "\n",
       "     Order Date  Ship Date  \n",
       "0    2024-01-12 2024-05-12  \n",
       "1    2023-12-27 2023-12-31  \n",
       "2    2024-02-12 2024-07-12  \n",
       "3    2024-10-22 2024-10-28  \n",
       "4    2021-09-27 2021-01-10  \n",
       "...         ...        ...  \n",
       "1550 2022-06-16 2022-06-22  \n",
       "1551 2022-05-06 2022-10-06  \n",
       "1552 2021-12-17 2021-12-21  \n",
       "1553 2023-06-26 2023-01-07  \n",
       "1554 2022-01-26 2022-01-30  \n",
       "\n",
       "[1555 rows x 25 columns]"
      ]
     },
     "execution_count": 6,
     "metadata": {},
     "output_type": "execute_result"
    }
   ],
   "source": [
    "data=pd.read_excel(r\"C:\\Users\\anike\\Downloads\\excel project\\Excel-project-1\\Excel priject 1.xlsx\")\n",
    "data"
   ]
  },
  {
   "cell_type": "code",
   "execution_count": null,
   "id": "7af19d63-e37c-4967-bfaf-8049de72bd4a",
   "metadata": {},
   "outputs": [],
   "source": [
    "data[\"Average covered charges \"].sum()"
   ]
  },
  {
   "cell_type": "code",
   "execution_count": 5,
   "id": "94881cb5-6dff-4c93-8aa0-ebbf91b53fc6",
   "metadata": {},
   "outputs": [
    {
     "data": {
      "text/html": [
       "<div>\n",
       "<style scoped>\n",
       "    .dataframe tbody tr th:only-of-type {\n",
       "        vertical-align: middle;\n",
       "    }\n",
       "\n",
       "    .dataframe tbody tr th {\n",
       "        vertical-align: top;\n",
       "    }\n",
       "\n",
       "    .dataframe thead th {\n",
       "        text-align: right;\n",
       "    }\n",
       "</style>\n",
       "<table border=\"1\" class=\"dataframe\">\n",
       "  <thead>\n",
       "    <tr style=\"text-align: right;\">\n",
       "      <th></th>\n",
       "      <th>index</th>\n",
       "      <th>Job Title</th>\n",
       "      <th>Salary Estimate</th>\n",
       "      <th>Job Description</th>\n",
       "      <th>Rating</th>\n",
       "      <th>Company Name</th>\n",
       "      <th>Location</th>\n",
       "      <th>Headquarters</th>\n",
       "      <th>Size</th>\n",
       "      <th>Founded</th>\n",
       "      <th>Type of ownership</th>\n",
       "      <th>Industry</th>\n",
       "      <th>Sector</th>\n",
       "      <th>Revenue</th>\n",
       "      <th>Competitors</th>\n",
       "    </tr>\n",
       "  </thead>\n",
       "  <tbody>\n",
       "    <tr>\n",
       "      <th>0</th>\n",
       "      <td>0</td>\n",
       "      <td>Sr Data Scientist</td>\n",
       "      <td>$137K-$171K (Glassdoor est.)</td>\n",
       "      <td>Description\\n\\nThe Senior Data Scientist is re...</td>\n",
       "      <td>3.1</td>\n",
       "      <td>Healthfirst\\n3.1</td>\n",
       "      <td>New York, NY</td>\n",
       "      <td>New York, NY</td>\n",
       "      <td>1001 to 5000 employees</td>\n",
       "      <td>1993</td>\n",
       "      <td>Nonprofit Organization</td>\n",
       "      <td>Insurance Carriers</td>\n",
       "      <td>Insurance</td>\n",
       "      <td>Unknown / Non-Applicable</td>\n",
       "      <td>EmblemHealth, UnitedHealth Group, Aetna</td>\n",
       "    </tr>\n",
       "    <tr>\n",
       "      <th>1</th>\n",
       "      <td>1</td>\n",
       "      <td>Data Scientist</td>\n",
       "      <td>$137K-$171K (Glassdoor est.)</td>\n",
       "      <td>Secure our Nation, Ignite your Future\\n\\nJoin ...</td>\n",
       "      <td>4.2</td>\n",
       "      <td>ManTech\\n4.2</td>\n",
       "      <td>Chantilly, VA</td>\n",
       "      <td>Herndon, VA</td>\n",
       "      <td>5001 to 10000 employees</td>\n",
       "      <td>1968</td>\n",
       "      <td>Company - Public</td>\n",
       "      <td>Research &amp; Development</td>\n",
       "      <td>Business Services</td>\n",
       "      <td>$1 to $2 billion (USD)</td>\n",
       "      <td>-1</td>\n",
       "    </tr>\n",
       "    <tr>\n",
       "      <th>2</th>\n",
       "      <td>2</td>\n",
       "      <td>Data Scientist</td>\n",
       "      <td>$137K-$171K (Glassdoor est.)</td>\n",
       "      <td>Overview\\n\\n\\nAnalysis Group is one of the lar...</td>\n",
       "      <td>3.8</td>\n",
       "      <td>Analysis Group\\n3.8</td>\n",
       "      <td>Boston, MA</td>\n",
       "      <td>Boston, MA</td>\n",
       "      <td>1001 to 5000 employees</td>\n",
       "      <td>1981</td>\n",
       "      <td>Private Practice / Firm</td>\n",
       "      <td>Consulting</td>\n",
       "      <td>Business Services</td>\n",
       "      <td>$100 to $500 million (USD)</td>\n",
       "      <td>-1</td>\n",
       "    </tr>\n",
       "    <tr>\n",
       "      <th>3</th>\n",
       "      <td>3</td>\n",
       "      <td>Data Scientist</td>\n",
       "      <td>$137K-$171K (Glassdoor est.)</td>\n",
       "      <td>JOB DESCRIPTION:\\n\\nDo you have a passion for ...</td>\n",
       "      <td>3.5</td>\n",
       "      <td>INFICON\\n3.5</td>\n",
       "      <td>Newton, MA</td>\n",
       "      <td>Bad Ragaz, Switzerland</td>\n",
       "      <td>501 to 1000 employees</td>\n",
       "      <td>2000</td>\n",
       "      <td>Company - Public</td>\n",
       "      <td>Electrical &amp; Electronic Manufacturing</td>\n",
       "      <td>Manufacturing</td>\n",
       "      <td>$100 to $500 million (USD)</td>\n",
       "      <td>MKS Instruments, Pfeiffer Vacuum, Agilent Tech...</td>\n",
       "    </tr>\n",
       "    <tr>\n",
       "      <th>4</th>\n",
       "      <td>4</td>\n",
       "      <td>Data Scientist</td>\n",
       "      <td>$137K-$171K (Glassdoor est.)</td>\n",
       "      <td>Data Scientist\\nAffinity Solutions / Marketing...</td>\n",
       "      <td>2.9</td>\n",
       "      <td>Affinity Solutions\\n2.9</td>\n",
       "      <td>New York, NY</td>\n",
       "      <td>New York, NY</td>\n",
       "      <td>51 to 200 employees</td>\n",
       "      <td>1998</td>\n",
       "      <td>Company - Private</td>\n",
       "      <td>Advertising &amp; Marketing</td>\n",
       "      <td>Business Services</td>\n",
       "      <td>Unknown / Non-Applicable</td>\n",
       "      <td>Commerce Signals, Cardlytics, Yodlee</td>\n",
       "    </tr>\n",
       "    <tr>\n",
       "      <th>...</th>\n",
       "      <td>...</td>\n",
       "      <td>...</td>\n",
       "      <td>...</td>\n",
       "      <td>...</td>\n",
       "      <td>...</td>\n",
       "      <td>...</td>\n",
       "      <td>...</td>\n",
       "      <td>...</td>\n",
       "      <td>...</td>\n",
       "      <td>...</td>\n",
       "      <td>...</td>\n",
       "      <td>...</td>\n",
       "      <td>...</td>\n",
       "      <td>...</td>\n",
       "      <td>...</td>\n",
       "    </tr>\n",
       "    <tr>\n",
       "      <th>676</th>\n",
       "      <td>635</td>\n",
       "      <td>Data Scientist</td>\n",
       "      <td>$92K-$155K (Glassdoor est.)</td>\n",
       "      <td>Job Description\\nBlackstone Talent Group, an a...</td>\n",
       "      <td>3.5</td>\n",
       "      <td>Blackstone Talent Group\\n3.5</td>\n",
       "      <td>San Francisco, CA</td>\n",
       "      <td>San Francisco, CA</td>\n",
       "      <td>51 to 200 employees</td>\n",
       "      <td>1998</td>\n",
       "      <td>Company - Private</td>\n",
       "      <td>Consulting</td>\n",
       "      <td>Business Services</td>\n",
       "      <td>$25 to $50 million (USD)</td>\n",
       "      <td>-1</td>\n",
       "    </tr>\n",
       "    <tr>\n",
       "      <th>677</th>\n",
       "      <td>636</td>\n",
       "      <td>Data Scientist - TS/SCI Required</td>\n",
       "      <td>$92K-$155K (Glassdoor est.)</td>\n",
       "      <td>US Citizenship Required and (TS or TS/SCI) Req...</td>\n",
       "      <td>5.0</td>\n",
       "      <td>Phoenix Operations Group\\n5.0</td>\n",
       "      <td>Baltimore, MD</td>\n",
       "      <td>Woodbine, MD</td>\n",
       "      <td>1 to 50 employees</td>\n",
       "      <td>2011</td>\n",
       "      <td>Company - Private</td>\n",
       "      <td>IT Services</td>\n",
       "      <td>Information Technology</td>\n",
       "      <td>$1 to $5 million (USD)</td>\n",
       "      <td>-1</td>\n",
       "    </tr>\n",
       "    <tr>\n",
       "      <th>678</th>\n",
       "      <td>637</td>\n",
       "      <td>Data Scientist</td>\n",
       "      <td>$92K-$155K (Glassdoor est.)</td>\n",
       "      <td>Job Description\\nWorking at Sophinea\\n\\nSophin...</td>\n",
       "      <td>-1.0</td>\n",
       "      <td>Sophinea</td>\n",
       "      <td>Chantilly, VA</td>\n",
       "      <td>-1</td>\n",
       "      <td>1 to 50 employees</td>\n",
       "      <td>-1</td>\n",
       "      <td>Unknown</td>\n",
       "      <td>-1</td>\n",
       "      <td>-1</td>\n",
       "      <td>Unknown / Non-Applicable</td>\n",
       "      <td>-1</td>\n",
       "    </tr>\n",
       "    <tr>\n",
       "      <th>679</th>\n",
       "      <td>638</td>\n",
       "      <td>Senior Data Scientist</td>\n",
       "      <td>$92K-$155K (Glassdoor est.)</td>\n",
       "      <td>Do you have a head for numbers? Like turning r...</td>\n",
       "      <td>3.5</td>\n",
       "      <td>Maxar Technologies\\n3.5</td>\n",
       "      <td>Herndon, VA</td>\n",
       "      <td>Westminster, CO</td>\n",
       "      <td>5001 to 10000 employees</td>\n",
       "      <td>-1</td>\n",
       "      <td>Company - Public</td>\n",
       "      <td>Aerospace &amp; Defense</td>\n",
       "      <td>Aerospace &amp; Defense</td>\n",
       "      <td>$2 to $5 billion (USD)</td>\n",
       "      <td>-1</td>\n",
       "    </tr>\n",
       "    <tr>\n",
       "      <th>680</th>\n",
       "      <td>639</td>\n",
       "      <td>Data Scientist</td>\n",
       "      <td>$92K-$155K (Glassdoor est.)</td>\n",
       "      <td>Who is Moxie?\\n\\nMoxie is a company on a missi...</td>\n",
       "      <td>3.0</td>\n",
       "      <td>Moxie Software\\n3.0</td>\n",
       "      <td>Bellevue, WA</td>\n",
       "      <td>San Bruno, CA</td>\n",
       "      <td>51 to 200 employees</td>\n",
       "      <td>1999</td>\n",
       "      <td>Company - Private</td>\n",
       "      <td>Enterprise Software &amp; Network Solutions</td>\n",
       "      <td>Information Technology</td>\n",
       "      <td>Unknown / Non-Applicable</td>\n",
       "      <td>LivePerson, Salesforce, SAP</td>\n",
       "    </tr>\n",
       "  </tbody>\n",
       "</table>\n",
       "<p>681 rows × 15 columns</p>\n",
       "</div>"
      ],
      "text/plain": [
       "     index                         Job Title               Salary Estimate  \\\n",
       "0        0                 Sr Data Scientist  $137K-$171K (Glassdoor est.)   \n",
       "1        1                    Data Scientist  $137K-$171K (Glassdoor est.)   \n",
       "2        2                    Data Scientist  $137K-$171K (Glassdoor est.)   \n",
       "3        3                    Data Scientist  $137K-$171K (Glassdoor est.)   \n",
       "4        4                    Data Scientist  $137K-$171K (Glassdoor est.)   \n",
       "..     ...                               ...                           ...   \n",
       "676    635                    Data Scientist   $92K-$155K (Glassdoor est.)   \n",
       "677    636  Data Scientist - TS/SCI Required   $92K-$155K (Glassdoor est.)   \n",
       "678    637                    Data Scientist   $92K-$155K (Glassdoor est.)   \n",
       "679    638             Senior Data Scientist   $92K-$155K (Glassdoor est.)   \n",
       "680    639                    Data Scientist   $92K-$155K (Glassdoor est.)   \n",
       "\n",
       "                                       Job Description  Rating  \\\n",
       "0    Description\\n\\nThe Senior Data Scientist is re...     3.1   \n",
       "1    Secure our Nation, Ignite your Future\\n\\nJoin ...     4.2   \n",
       "2    Overview\\n\\n\\nAnalysis Group is one of the lar...     3.8   \n",
       "3    JOB DESCRIPTION:\\n\\nDo you have a passion for ...     3.5   \n",
       "4    Data Scientist\\nAffinity Solutions / Marketing...     2.9   \n",
       "..                                                 ...     ...   \n",
       "676  Job Description\\nBlackstone Talent Group, an a...     3.5   \n",
       "677  US Citizenship Required and (TS or TS/SCI) Req...     5.0   \n",
       "678  Job Description\\nWorking at Sophinea\\n\\nSophin...    -1.0   \n",
       "679  Do you have a head for numbers? Like turning r...     3.5   \n",
       "680  Who is Moxie?\\n\\nMoxie is a company on a missi...     3.0   \n",
       "\n",
       "                      Company Name           Location            Headquarters  \\\n",
       "0                 Healthfirst\\n3.1       New York, NY            New York, NY   \n",
       "1                     ManTech\\n4.2      Chantilly, VA             Herndon, VA   \n",
       "2              Analysis Group\\n3.8         Boston, MA              Boston, MA   \n",
       "3                     INFICON\\n3.5         Newton, MA  Bad Ragaz, Switzerland   \n",
       "4          Affinity Solutions\\n2.9       New York, NY            New York, NY   \n",
       "..                             ...                ...                     ...   \n",
       "676   Blackstone Talent Group\\n3.5  San Francisco, CA       San Francisco, CA   \n",
       "677  Phoenix Operations Group\\n5.0      Baltimore, MD            Woodbine, MD   \n",
       "678                       Sophinea      Chantilly, VA                      -1   \n",
       "679        Maxar Technologies\\n3.5        Herndon, VA         Westminster, CO   \n",
       "680            Moxie Software\\n3.0       Bellevue, WA           San Bruno, CA   \n",
       "\n",
       "                        Size  Founded        Type of ownership  \\\n",
       "0     1001 to 5000 employees     1993   Nonprofit Organization   \n",
       "1    5001 to 10000 employees     1968         Company - Public   \n",
       "2     1001 to 5000 employees     1981  Private Practice / Firm   \n",
       "3      501 to 1000 employees     2000         Company - Public   \n",
       "4        51 to 200 employees     1998        Company - Private   \n",
       "..                       ...      ...                      ...   \n",
       "676      51 to 200 employees     1998        Company - Private   \n",
       "677        1 to 50 employees     2011        Company - Private   \n",
       "678        1 to 50 employees       -1                  Unknown   \n",
       "679  5001 to 10000 employees       -1         Company - Public   \n",
       "680      51 to 200 employees     1999        Company - Private   \n",
       "\n",
       "                                    Industry                  Sector  \\\n",
       "0                         Insurance Carriers               Insurance   \n",
       "1                     Research & Development       Business Services   \n",
       "2                                 Consulting       Business Services   \n",
       "3      Electrical & Electronic Manufacturing           Manufacturing   \n",
       "4                    Advertising & Marketing       Business Services   \n",
       "..                                       ...                     ...   \n",
       "676                               Consulting       Business Services   \n",
       "677                              IT Services  Information Technology   \n",
       "678                                       -1                      -1   \n",
       "679                      Aerospace & Defense     Aerospace & Defense   \n",
       "680  Enterprise Software & Network Solutions  Information Technology   \n",
       "\n",
       "                        Revenue  \\\n",
       "0      Unknown / Non-Applicable   \n",
       "1        $1 to $2 billion (USD)   \n",
       "2    $100 to $500 million (USD)   \n",
       "3    $100 to $500 million (USD)   \n",
       "4      Unknown / Non-Applicable   \n",
       "..                          ...   \n",
       "676    $25 to $50 million (USD)   \n",
       "677      $1 to $5 million (USD)   \n",
       "678    Unknown / Non-Applicable   \n",
       "679      $2 to $5 billion (USD)   \n",
       "680    Unknown / Non-Applicable   \n",
       "\n",
       "                                           Competitors  \n",
       "0              EmblemHealth, UnitedHealth Group, Aetna  \n",
       "1                                                   -1  \n",
       "2                                                   -1  \n",
       "3    MKS Instruments, Pfeiffer Vacuum, Agilent Tech...  \n",
       "4                 Commerce Signals, Cardlytics, Yodlee  \n",
       "..                                                 ...  \n",
       "676                                                 -1  \n",
       "677                                                 -1  \n",
       "678                                                 -1  \n",
       "679                                                 -1  \n",
       "680                        LivePerson, Salesforce, SAP  \n",
       "\n",
       "[681 rows x 15 columns]"
      ]
     },
     "execution_count": 5,
     "metadata": {},
     "output_type": "execute_result"
    }
   ],
   "source": [
    "data_csv=pd.read_csv(r\"C:\\Users\\anike\\Downloads\\Uncleaned_DS_jobs.csv\")\n",
    "data_csv"
   ]
  },
  {
   "cell_type": "markdown",
   "id": "4456ebea-5817-4446-beaf-b13b447cd2a1",
   "metadata": {},
   "source": [
    "# Reading HTML or XML files "
   ]
  },
  {
   "cell_type": "code",
   "execution_count": 8,
   "id": "16f442c7-c5bc-4de5-9af5-a55004b14ec2",
   "metadata": {},
   "outputs": [],
   "source": [
    "#webscraping \n",
    "#Beautifulsoup modual present in bs4\n",
    "#ETL(exteraxt transfer and load)\n",
    "#package/library===> moduaes===>functions \n",
    "#statics===>math====>factorial\n"
   ]
  },
  {
   "cell_type": "code",
   "execution_count": 5,
   "id": "6bf3c603-9089-4cd0-b318-26d6d7075a1a",
   "metadata": {},
   "outputs": [],
   "source": [
    "from bs4 import BeautifulSoup as bs "
   ]
  },
  {
   "cell_type": "code",
   "execution_count": 6,
   "id": "9de95a55-b3f2-4a76-a286-c075060d753d",
   "metadata": {},
   "outputs": [],
   "source": [
    "HTML_file=open(r\"C:\\Users\\anike\\Downloads\\html.html\")"
   ]
  },
  {
   "cell_type": "code",
   "execution_count": 7,
   "id": "2cc06b17-b11e-4d01-9772-a298fa6696c1",
   "metadata": {},
   "outputs": [
    {
     "data": {
      "text/plain": [
       "<_io.TextIOWrapper name='C:\\\\Users\\\\anike\\\\Downloads\\\\html.html' mode='r' encoding='cp1252'>"
      ]
     },
     "execution_count": 7,
     "metadata": {},
     "output_type": "execute_result"
    }
   ],
   "source": [
    "HTML_file"
   ]
  },
  {
   "cell_type": "code",
   "execution_count": 8,
   "id": "b5048dea-598e-41ed-9a8e-ce490f0b86fb",
   "metadata": {},
   "outputs": [],
   "source": [
    "cleaned_data=bs(HTML_file,\"html\")\n"
   ]
  },
  {
   "cell_type": "code",
   "execution_count": 9,
   "id": "ec37d5cb-50f4-4227-bb59-4d2600f79dc2",
   "metadata": {},
   "outputs": [
    {
     "data": {
      "text/plain": [
       "<!DOCTYPE html>\n",
       "<html lang=\"en\">\n",
       "<head>\n",
       "<meta chaset=\"UTF-8\"/>\n",
       "<meta content=\"chetana vasave\" name=\"author\"/>\n",
       "<meta content=\"The official website for the training institute\" name=\"description\"/>\n",
       "<title>Educational Training Institute</title>\n",
       "</head><body><img src=\"D:\\Chetana\\HTML\\icon.jpg\"/>\n",
       "<b>Welcome to the SPEEDUP | PUNE!</b>\n",
       "</body></html>"
      ]
     },
     "execution_count": 9,
     "metadata": {},
     "output_type": "execute_result"
    }
   ],
   "source": [
    "cleaned_data"
   ]
  },
  {
   "cell_type": "code",
   "execution_count": 10,
   "id": "691297aa-2c90-4a96-ab35-d15ebd2e41f0",
   "metadata": {},
   "outputs": [
    {
     "data": {
      "text/plain": [
       "[<title>Educational Training Institute</title>]"
      ]
     },
     "execution_count": 10,
     "metadata": {},
     "output_type": "execute_result"
    }
   ],
   "source": [
    "title_tags=cleaned_data.find_all(\"title\")\n",
    "title_tags\n"
   ]
  },
  {
   "cell_type": "code",
   "execution_count": 11,
   "id": "4a3ba52a-7654-4bcc-863d-0b2ec9b1a6a4",
   "metadata": {},
   "outputs": [
    {
     "name": "stdout",
     "output_type": "stream",
     "text": [
      "Educational Training Institute\n"
     ]
    }
   ],
   "source": [
    "for tags in title_tags:\n",
    "    print(tags.get_text())\n"
   ]
  },
  {
   "cell_type": "code",
   "execution_count": 15,
   "id": "73a9087a-f1dc-4ffd-b806-b1b65770db98",
   "metadata": {},
   "outputs": [
    {
     "data": {
      "text/plain": [
       "[<b>Welcome to the SPEEDUP | PUNE!</b>]"
      ]
     },
     "execution_count": 15,
     "metadata": {},
     "output_type": "execute_result"
    }
   ],
   "source": [
    "b_tag=cleaned_data.find_all(\"b\")\n",
    "b_tag"
   ]
  },
  {
   "cell_type": "code",
   "execution_count": 16,
   "id": "77c7717a-1a98-4e5d-a273-0f0d8ebb379f",
   "metadata": {},
   "outputs": [
    {
     "name": "stdout",
     "output_type": "stream",
     "text": [
      "Welcome to the SPEEDUP | PUNE!\n"
     ]
    }
   ],
   "source": [
    "for i in b_tag:\n",
    "    print(i.get_text())"
   ]
  },
  {
   "cell_type": "code",
   "execution_count": 17,
   "id": "f5631f47-a42d-4b02-9141-4bb19dc6730a",
   "metadata": {},
   "outputs": [
    {
     "data": {
      "text/plain": [
       "<_io.TextIOWrapper name='C:\\\\Users\\\\anike\\\\Downloads\\\\books.xml' mode='r' encoding='cp1252'>"
      ]
     },
     "execution_count": 17,
     "metadata": {},
     "output_type": "execute_result"
    }
   ],
   "source": [
    "#xml \n",
    "data_xml=open(r\"C:\\Users\\anike\\Downloads\\books.xml\")\n",
    "data_xml"
   ]
  },
  {
   "cell_type": "code",
   "execution_count": 22,
   "id": "6a7d2756-6870-4914-a874-099b59b8ffc9",
   "metadata": {},
   "outputs": [
    {
     "data": {
      "text/plain": [
       "<?xml version=\"1.0\" encoding=\"utf-8\"?>"
      ]
     },
     "execution_count": 22,
     "metadata": {},
     "output_type": "execute_result"
    }
   ],
   "source": [
    "structured_xml=bs(data_xml,\"xml\")\n",
    "structured_xml\n"
   ]
  },
  {
   "cell_type": "code",
   "execution_count": 24,
   "id": "c17d940c-611e-4d14-8b13-498320005c5f",
   "metadata": {},
   "outputs": [
    {
     "data": {
      "text/plain": [
       "[]"
      ]
     },
     "execution_count": 24,
     "metadata": {},
     "output_type": "execute_result"
    }
   ],
   "source": [
    "title_tags=structured_xml.find_all(\"title\")\n",
    "title_tags"
   ]
  },
  {
   "cell_type": "code",
   "execution_count": null,
   "id": "44d664e3-9c07-4cb1-900c-246633629d76",
   "metadata": {},
   "outputs": [],
   "source": []
  },
  {
   "cell_type": "code",
   "execution_count": null,
   "id": "64d8528b-f920-4ad6-89ed-db4b68d74e04",
   "metadata": {},
   "outputs": [],
   "source": []
  },
  {
   "cell_type": "code",
   "execution_count": null,
   "id": "8c79640f-33ab-48d1-8c86-40c934fa428f",
   "metadata": {},
   "outputs": [],
   "source": []
  }
 ],
 "metadata": {
  "kernelspec": {
   "display_name": "Python 3 (ipykernel)",
   "language": "python",
   "name": "python3"
  },
  "language_info": {
   "codemirror_mode": {
    "name": "ipython",
    "version": 3
   },
   "file_extension": ".py",
   "mimetype": "text/x-python",
   "name": "python",
   "nbconvert_exporter": "python",
   "pygments_lexer": "ipython3",
   "version": "3.12.7"
  }
 },
 "nbformat": 4,
 "nbformat_minor": 5
}
