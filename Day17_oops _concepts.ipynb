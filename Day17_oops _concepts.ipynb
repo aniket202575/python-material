{
 "cells": [
  {
   "cell_type": "markdown",
   "id": "40ea9073-d092-45e5-ad6a-b590b27259d4",
   "metadata": {},
   "source": [
    "OOPS\n",
    "- Class\n",
    "- Object\n",
    "- Polymorpghism\n",
    "- Inheritance \n",
    "- Data abstraction \n",
    "- Encapsulation\n"
   ]
  },
  {
   "cell_type": "markdown",
   "id": "cb668c9d-89af-4375-9035-fb5d01bff03c",
   "metadata": {},
   "source": [
    "Class===>Blueprint/ TEmplete for object \n",
    "- class contains some values===>variables,data members \n",
    "- set of rules===> functions===>behaviour"
   ]
  },
  {
   "cell_type": "code",
   "execution_count": 2,
   "id": "f86c7539-7905-4776-89fc-4f081e804ece",
   "metadata": {},
   "outputs": [],
   "source": [
    "#syntax\n",
    "#class class_name:\n",
    "    #functions or vaeriables "
   ]
  },
  {
   "cell_type": "code",
   "execution_count": 19,
   "id": "070a0fcf-8bf5-4e79-8a3b-9d8ca49fe039",
   "metadata": {},
   "outputs": [
    {
     "name": "stdout",
     "output_type": "stream",
     "text": [
      "The car name is : BMW And speed is: 250 KMPH\n",
      "The color is : Black\n",
      "sent 2 car name is : BMW\n"
     ]
    }
   ],
   "source": [
    "class car:\n",
    "    def specifications(self,name,speed,color):\n",
    "        #initilization of variables using  self parameter\n",
    "\n",
    "        self.name=name\n",
    "        self.speed=speed\n",
    "        print(\"The car name is :\",self.name,\"And speed is:\",self.speed)\n",
    "        print(\"The color is :\",color)\n",
    "    def f2(self):\n",
    "        print(\"sent 2 car name is :\",self.name)\n",
    "\n",
    "\n",
    "#creating object using class  blueprint \n",
    "BMW=car()\n",
    "BMW.specifications(\"BMW\",\"250 KMPH\",\"Black\")\n",
    "#self parameter: no neeed to give values of self parameter .\n",
    "#it is default parameter\n",
    "BMW.f2()\n",
    "BMW.f3()\n",
    "        "
   ]
  },
  {
   "cell_type": "code",
   "execution_count": 20,
   "id": "be7bb2f5-009f-497d-8bf3-3a189f88fed7",
   "metadata": {},
   "outputs": [
    {
     "name": "stdout",
     "output_type": "stream",
     "text": [
      "The car name is : Audi And speed is: 240 KMPH\n",
      "The color is : Red\n",
      "sent 2 car name is : Audi\n"
     ]
    }
   ],
   "source": [
    "Audi=car()\n",
    "Audi.specifications(\"Audi\",\"240 KMPH\",\"Red\")\n",
    "Audi.f2()"
   ]
  },
  {
   "cell_type": "code",
   "execution_count": 23,
   "id": "e9107682-b959-4c18-9439-b5abe18c2590",
   "metadata": {},
   "outputs": [
    {
     "name": "stdout",
     "output_type": "stream",
     "text": [
      "The car name is : Swift And speed is: 145 KMPH\n",
      "The color is : Blue\n",
      "sent 2 car name is : Swift\n"
     ]
    }
   ],
   "source": [
    "Swift=car()\n",
    "Swift.specifications(\"Swift\",\"145 KMPH\",\"Blue\")\n",
    "Swift.f2()"
   ]
  },
  {
   "cell_type": "code",
   "execution_count": 30,
   "id": "d25eb040-ccae-4ee1-a7dd-7097e5493798",
   "metadata": {},
   "outputs": [
    {
     "name": "stdout",
     "output_type": "stream",
     "text": [
      "This is: Tiger color is Yellow\n"
     ]
    }
   ],
   "source": [
    "class animal:\n",
    "    def details(self,name,color):\n",
    "        self.name=name\n",
    "        self.color=color\n",
    "        print(\"This is:\",self.name,\"color is\",self.color)\n",
    "\n",
    "\n",
    "tiger=animal()\n",
    "tiger.details(\"Tiger\",\"Yellow\")\n",
    "\n",
    "    "
   ]
  },
  {
   "cell_type": "code",
   "execution_count": 31,
   "id": "aafabbe7-22c5-4bae-b479-0d6486dc13a4",
   "metadata": {},
   "outputs": [
    {
     "name": "stdout",
     "output_type": "stream",
     "text": [
      "This is: Cat color is White\n"
     ]
    }
   ],
   "source": [
    "cat=animal()\n",
    "cat.details(\"Cat\",\"White\")"
   ]
  },
  {
   "cell_type": "markdown",
   "id": "f8f8896f-ecc4-4669-9de7-053d639e1ac4",
   "metadata": {},
   "source": [
    "# Cupcake Making"
   ]
  },
  {
   "cell_type": "code",
   "execution_count": 5,
   "id": "95589000-60e3-4ddd-8753-254e61381eac",
   "metadata": {},
   "outputs": [],
   "source": [
    "class cupcake_reciepe:\n",
    "    def set_values(self,flavor,price,size,ingredients):\n",
    "        self.flavor=flavor\n",
    "        self.price=price\n",
    "        self.size=size\n",
    "        self.ingredients=ingredients\n",
    "\n",
    "    def display_info(self):\n",
    "        print(f\"flavor :{self.flavor}\")\n",
    "        print(f\"price :{self.price}\")\n",
    "        print(f\"size :{self.size}\")\n",
    "        print(f\"ingredients :{self.ingredients}\")\n",
    "\n",
    "    def is_expensive(self):\n",
    "        if self.price>100:\n",
    "            return \"It is Expensive\"\n",
    "        else:\n",
    "            return \"It is not Expensive\"\n",
    "        \n",
    "         "
   ]
  },
  {
   "cell_type": "code",
   "execution_count": 6,
   "id": "2b11c7de-6262-44c0-b4b2-ee9f55b31317",
   "metadata": {},
   "outputs": [
    {
     "name": "stdout",
     "output_type": "stream",
     "text": [
      "flavor :Vanilla\n",
      "price :80\n",
      "size :Medium\n",
      "ingredients :['Milk', 'sugar', 'Vanilla essence', 'flour']\n"
     ]
    },
    {
     "data": {
      "text/plain": [
       "'It is not Expensive'"
      ]
     },
     "execution_count": 6,
     "metadata": {},
     "output_type": "execute_result"
    }
   ],
   "source": [
    "#objects\n",
    "vanilla=cupcake_reciepe()\n",
    "vanilla.set_values(\"Vanilla\",80,\"Medium\",[\"Milk\",\"sugar\",\"Vanilla essence\",\"flour\"])\n",
    "vanilla.display_info()\n",
    "vanilla.is_expensive()"
   ]
  },
  {
   "cell_type": "code",
   "execution_count": 7,
   "id": "561a85e2-059b-4bd0-9243-1bc8284e6007",
   "metadata": {},
   "outputs": [
    {
     "name": "stdout",
     "output_type": "stream",
     "text": [
      "flavor :choclate\n",
      "price :280\n",
      "size :Medium\n",
      "ingredients :['Milk', 'sugar', 'choclate essence', 'flour']\n"
     ]
    },
    {
     "data": {
      "text/plain": [
       "'It is Expensive'"
      ]
     },
     "execution_count": 7,
     "metadata": {},
     "output_type": "execute_result"
    }
   ],
   "source": [
    "choclate=cupcake_reciepe()\n",
    "vanilla.set_values(\"choclate\",280,\"Medium\",[\"Milk\",\"sugar\",\"choclate essence\",\"flour\"])\n",
    "vanilla.display_info()\n",
    "vanilla.is_expensive()"
   ]
  },
  {
   "cell_type": "code",
   "execution_count": 8,
   "id": "1b387259-8798-440b-ab1b-c97fcba8740a",
   "metadata": {},
   "outputs": [
    {
     "name": "stdout",
     "output_type": "stream",
     "text": [
      "flavor :icescream\n",
      "price :380\n",
      "size :Medium\n",
      "ingredients :['Milk', 'sugar', 'icescream essence', 'flour']\n"
     ]
    },
    {
     "data": {
      "text/plain": [
       "'It is Expensive'"
      ]
     },
     "execution_count": 8,
     "metadata": {},
     "output_type": "execute_result"
    }
   ],
   "source": [
    "icescream=cupcake_reciepe()\n",
    "vanilla.set_values(\"icescream\",380,\"Medium\",[\"Milk\",\"sugar\",\"icescream essence\",\"flour\"])\n",
    "vanilla.display_info()\n",
    "vanilla.is_expensive()"
   ]
  },
  {
   "cell_type": "markdown",
   "id": "fa9caee1-2a0b-4428-bc02-13f98e9f3502",
   "metadata": {},
   "source": [
    "#Revision IMP POINT FOR INTERVIEW\n",
    "- Class: is like a templete /blueprint or design for making objects\n",
    "- it contains: variables /data members and set of rules\n",
    "- you make many cupcakes(objects) but all cupcakes have common things: flavor,price,size\n",
    "- so instead of writing seprate code forv each cupcakes,you create cupcakes class-a templarew\n",
    "- then yocv can make as many objects as you want from that class \n"
   ]
  },
  {
   "cell_type": "code",
   "execution_count": null,
   "id": "f347520b-c80e-413d-9569-b1fadc03d85c",
   "metadata": {},
   "outputs": [],
   "source": []
  },
  {
   "cell_type": "code",
   "execution_count": null,
   "id": "0f0a5716-862b-411e-a24a-1dd205bdda38",
   "metadata": {},
   "outputs": [],
   "source": []
  }
 ],
 "metadata": {
  "kernelspec": {
   "display_name": "Python 3 (ipykernel)",
   "language": "python",
   "name": "python3"
  },
  "language_info": {
   "codemirror_mode": {
    "name": "ipython",
    "version": 3
   },
   "file_extension": ".py",
   "mimetype": "text/x-python",
   "name": "python",
   "nbconvert_exporter": "python",
   "pygments_lexer": "ipython3",
   "version": "3.12.7"
  }
 },
 "nbformat": 4,
 "nbformat_minor": 5
}
