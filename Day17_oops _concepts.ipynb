{
 "cells": [
  {
   "cell_type": "markdown",
   "id": "40ea9073-d092-45e5-ad6a-b590b27259d4",
   "metadata": {},
   "source": [
    "OOPS\n",
    "- Class\n",
    "- Object\n",
    "- Polymorpghism\n",
    "- Inheritance \n",
    "- Data abstraction \n",
    "- Encapsulation\n"
   ]
  },
  {
   "cell_type": "markdown",
   "id": "cb668c9d-89af-4375-9035-fb5d01bff03c",
   "metadata": {},
   "source": [
    "Class===>Blueprint/ TEmplete for object \n",
    "- class contains some values===>variables,data members \n",
    "- set of rules===> functions===>behaviour"
   ]
  },
  {
   "cell_type": "code",
   "execution_count": 2,
   "id": "f86c7539-7905-4776-89fc-4f081e804ece",
   "metadata": {},
   "outputs": [],
   "source": [
    "#syntax\n",
    "#class class_name:\n",
    "    #functions or vaeriables "
   ]
  },
  {
   "cell_type": "code",
   "execution_count": 19,
   "id": "070a0fcf-8bf5-4e79-8a3b-9d8ca49fe039",
   "metadata": {},
   "outputs": [
    {
     "name": "stdout",
     "output_type": "stream",
     "text": [
      "The car name is : BMW And speed is: 250 KMPH\n",
      "The color is : Black\n",
      "sent 2 car name is : BMW\n"
     ]
    }
   ],
   "source": [
    "class car:\n",
    "    def specifications(self,name,speed,color):\n",
    "        #initilization of variables using  self parameter\n",
    "\n",
    "        self.name=name\n",
    "        self.speed=speed\n",
    "        print(\"The car name is :\",self.name,\"And speed is:\",self.speed)\n",
    "        print(\"The color is :\",color)\n",
    "    def f2(self):\n",
    "        print(\"sent 2 car name is :\",self.name)\n",
    "\n",
    "\n",
    "#creating object using class  blueprint \n",
    "BMW=car()\n",
    "BMW.specifications(\"BMW\",\"250 KMPH\",\"Black\")\n",
    "#self parameter: no neeed to give values of self parameter .\n",
    "#it is default parameter\n",
    "BMW.f2()\n",
    "BMW.f3()\n",
    "        "
   ]
  },
  {
   "cell_type": "code",
   "execution_count": 20,
   "id": "be7bb2f5-009f-497d-8bf3-3a189f88fed7",
   "metadata": {},
   "outputs": [
    {
     "name": "stdout",
     "output_type": "stream",
     "text": [
      "The car name is : Audi And speed is: 240 KMPH\n",
      "The color is : Red\n",
      "sent 2 car name is : Audi\n"
     ]
    }
   ],
   "source": [
    "Audi=car()\n",
    "Audi.specifications(\"Audi\",\"240 KMPH\",\"Red\")\n",
    "Audi.f2()"
   ]
  },
  {
   "cell_type": "code",
   "execution_count": 23,
   "id": "e9107682-b959-4c18-9439-b5abe18c2590",
   "metadata": {},
   "outputs": [
    {
     "name": "stdout",
     "output_type": "stream",
     "text": [
      "The car name is : Swift And speed is: 145 KMPH\n",
      "The color is : Blue\n",
      "sent 2 car name is : Swift\n"
     ]
    }
   ],
   "source": [
    "Swift=car()\n",
    "Swift.specifications(\"Swift\",\"145 KMPH\",\"Blue\")\n",
    "Swift.f2()"
   ]
  },
  {
   "cell_type": "code",
   "execution_count": 30,
   "id": "d25eb040-ccae-4ee1-a7dd-7097e5493798",
   "metadata": {},
   "outputs": [
    {
     "name": "stdout",
     "output_type": "stream",
     "text": [
      "This is: Tiger color is Yellow\n"
     ]
    }
   ],
   "source": [
    "class animal:\n",
    "    def details(self,name,color):\n",
    "        self.name=name\n",
    "        self.color=color\n",
    "        print(\"This is:\",self.name,\"color is\",self.color)\n",
    "\n",
    "\n",
    "tiger=animal()\n",
    "tiger.details(\"Tiger\",\"Yellow\")\n",
    "\n",
    "    "
   ]
  },
  {
   "cell_type": "code",
   "execution_count": 31,
   "id": "aafabbe7-22c5-4bae-b479-0d6486dc13a4",
   "metadata": {},
   "outputs": [
    {
     "name": "stdout",
     "output_type": "stream",
     "text": [
      "This is: Cat color is White\n"
     ]
    }
   ],
   "source": [
    "cat=animal()\n",
    "cat.details(\"Cat\",\"White\")"
   ]
  },
  {
   "cell_type": "markdown",
   "id": "f8f8896f-ecc4-4669-9de7-053d639e1ac4",
   "metadata": {},
   "source": [
    "# Cupcake Making"
   ]
  },
  {
   "cell_type": "code",
   "execution_count": 5,
   "id": "95589000-60e3-4ddd-8753-254e61381eac",
   "metadata": {},
   "outputs": [],
   "source": [
    "class cupcake_reciepe:\n",
    "    def set_values(self,flavor,price,size,ingredients):\n",
    "        self.flavor=flavor\n",
    "        self.price=price\n",
    "        self.size=size\n",
    "        self.ingredients=ingredients\n",
    "\n",
    "    def display_info(self):\n",
    "        print(f\"flavor :{self.flavor}\")\n",
    "        print(f\"price :{self.price}\")\n",
    "        print(f\"size :{self.size}\")\n",
    "        print(f\"ingredients :{self.ingredients}\")\n",
    "\n",
    "    def is_expensive(self):\n",
    "        if self.price>100:\n",
    "            return \"It is Expensive\"\n",
    "        else:\n",
    "            return \"It is not Expensive\"\n",
    "        \n",
    "         "
   ]
  },
  {
   "cell_type": "code",
   "execution_count": 6,
   "id": "2b11c7de-6262-44c0-b4b2-ee9f55b31317",
   "metadata": {},
   "outputs": [
    {
     "name": "stdout",
     "output_type": "stream",
     "text": [
      "flavor :Vanilla\n",
      "price :80\n",
      "size :Medium\n",
      "ingredients :['Milk', 'sugar', 'Vanilla essence', 'flour']\n"
     ]
    },
    {
     "data": {
      "text/plain": [
       "'It is not Expensive'"
      ]
     },
     "execution_count": 6,
     "metadata": {},
     "output_type": "execute_result"
    }
   ],
   "source": [
    "#objects\n",
    "vanilla=cupcake_reciepe()\n",
    "vanilla.set_values(\"Vanilla\",80,\"Medium\",[\"Milk\",\"sugar\",\"Vanilla essence\",\"flour\"])\n",
    "vanilla.display_info()\n",
    "vanilla.is_expensive()"
   ]
  },
  {
   "cell_type": "code",
   "execution_count": 7,
   "id": "561a85e2-059b-4bd0-9243-1bc8284e6007",
   "metadata": {},
   "outputs": [
    {
     "name": "stdout",
     "output_type": "stream",
     "text": [
      "flavor :choclate\n",
      "price :280\n",
      "size :Medium\n",
      "ingredients :['Milk', 'sugar', 'choclate essence', 'flour']\n"
     ]
    },
    {
     "data": {
      "text/plain": [
       "'It is Expensive'"
      ]
     },
     "execution_count": 7,
     "metadata": {},
     "output_type": "execute_result"
    }
   ],
   "source": [
    "choclate=cupcake_reciepe()\n",
    "vanilla.set_values(\"choclate\",280,\"Medium\",[\"Milk\",\"sugar\",\"choclate essence\",\"flour\"])\n",
    "vanilla.display_info()\n",
    "vanilla.is_expensive()"
   ]
  },
  {
   "cell_type": "code",
   "execution_count": 8,
   "id": "1b387259-8798-440b-ab1b-c97fcba8740a",
   "metadata": {},
   "outputs": [
    {
     "name": "stdout",
     "output_type": "stream",
     "text": [
      "flavor :icescream\n",
      "price :380\n",
      "size :Medium\n",
      "ingredients :['Milk', 'sugar', 'icescream essence', 'flour']\n"
     ]
    },
    {
     "data": {
      "text/plain": [
       "'It is Expensive'"
      ]
     },
     "execution_count": 8,
     "metadata": {},
     "output_type": "execute_result"
    }
   ],
   "source": [
    "icescream=cupcake_reciepe()\n",
    "vanilla.set_values(\"icescream\",380,\"Medium\",[\"Milk\",\"sugar\",\"icescream essence\",\"flour\"])\n",
    "vanilla.display_info()\n",
    "vanilla.is_expensive()"
   ]
  },
  {
   "cell_type": "markdown",
   "id": "fa9caee1-2a0b-4428-bc02-13f98e9f3502",
   "metadata": {},
   "source": [
    "#Revision IMP POINT FOR INTERVIEW\n",
    "- Class: is like a templete /blueprint or design for making objects\n",
    "- it contains: variables /data members and set of rules\n",
    "- you make many cupcakes(objects) but all cupcakes have common things: flavor,price,size\n",
    "- so instead of writing seprate code forv each cupcakes,you create cupcakes class-a templarew\n",
    "- then yocv can make as many objects as you want from that class \n"
   ]
  },
  {
   "cell_type": "markdown",
   "id": "f57775dd-0ae0-4387-9b6b-64c1992b6071",
   "metadata": {},
   "source": [
    "# Class Constructure"
   ]
  },
  {
   "cell_type": "code",
   "execution_count": 5,
   "id": "0f0a5716-862b-411e-a24a-1dd205bdda38",
   "metadata": {},
   "outputs": [
    {
     "name": "stdout",
     "output_type": "stream",
     "text": [
      "Showing Info about my car\n",
      "the car name is: FERRARI and car color is : BLACK\n",
      " the speed is 250KMPH\n"
     ]
    }
   ],
   "source": [
    "#__init__()\n",
    "class car:\n",
    "    #functions /behaviour/methods OR variables/data member/attributes/parameter\n",
    "    def __init__(self,name,color,speed):\n",
    "        #initilization\n",
    "        self.name=name\n",
    "        self.color=color\n",
    "        self.speed=speed\n",
    "    def show_info(self):\n",
    "        print(\"Showing Info about my car\")\n",
    "        print(f\"the car name is: {self.name} and car color is : {self.color}\")\n",
    "        print(f\" the speed is {self.speed}\")\n",
    "\n",
    "#object\n",
    "Ferrari=car(\"FERRARI\",\"BLACK\",\"250KMPH\")\n",
    "Ferrari.show_info()\n",
    "\n",
    "    "
   ]
  },
  {
   "cell_type": "markdown",
   "id": "571318d2-1331-4863-9e31-0a66168584d8",
   "metadata": {},
   "source": [
    "- class \n",
    "- objects\n",
    "- self param\n",
    "- constructur\n",
    "- Encapsulation"
   ]
  },
  {
   "cell_type": "code",
   "execution_count": null,
   "id": "72f1d9b6-ad22-49e3-80dd-edd845563690",
   "metadata": {},
   "outputs": [],
   "source": []
  },
  {
   "cell_type": "code",
   "execution_count": null,
   "id": "aa06e509-a1c7-4a79-a097-2e6b131b093c",
   "metadata": {},
   "outputs": [],
   "source": []
  },
  {
   "cell_type": "markdown",
   "id": "02bcc8cf-1701-4d1e-91b0-40fd3d34070d",
   "metadata": {},
   "source": [
    "# Encapsulation"
   ]
  },
  {
   "cell_type": "code",
   "execution_count": 27,
   "id": "b229f900-9d3a-451f-85eb-d8c2a63ba1df",
   "metadata": {},
   "outputs": [],
   "source": [
    "#capsual\n",
    "#importants variables/functions====>container"
   ]
  },
  {
   "cell_type": "code",
   "execution_count": 28,
   "id": "929eabc5-7cb7-41be-834e-dddc8c4e3197",
   "metadata": {},
   "outputs": [],
   "source": [
    "class bike:\n",
    "    name=\"Royal Enfield\"   #public data member/Global\n",
    "    def ride(self):\n",
    "        print(\"Live free ride hard\")\n",
    "        print(self.name)\n",
    "    def f2(self):\n",
    "        print(\"My bike name is :\",self.name)\n",
    "        "
   ]
  },
  {
   "cell_type": "code",
   "execution_count": 30,
   "id": "f262ccd4-1631-45a9-b8ae-f864be5262bc",
   "metadata": {},
   "outputs": [
    {
     "name": "stdout",
     "output_type": "stream",
     "text": [
      "Live free ride hard\n",
      "Royal Enfield\n",
      "My bike name is : Royal Enfield\n"
     ]
    },
    {
     "data": {
      "text/plain": [
       "'Royal Enfield'"
      ]
     },
     "execution_count": 30,
     "metadata": {},
     "output_type": "execute_result"
    }
   ],
   "source": [
    "obj1=bike()\n",
    "obj1.ride()\n",
    "obj.f2()\n",
    "obj1.name"
   ]
  },
  {
   "cell_type": "code",
   "execution_count": 31,
   "id": "c27e0d8e-14b3-46f5-ba24-a512d4fec2de",
   "metadata": {},
   "outputs": [
    {
     "data": {
      "text/plain": [
       "'Royal Enfield'"
      ]
     },
     "execution_count": 31,
     "metadata": {},
     "output_type": "execute_result"
    }
   ],
   "source": [
    "bike.name"
   ]
  },
  {
   "cell_type": "code",
   "execution_count": 35,
   "id": "ba95d66b-ef5b-4ef3-8be8-dd40d6277a43",
   "metadata": {},
   "outputs": [
    {
     "name": "stdout",
     "output_type": "stream",
     "text": [
      "Royal Enfield\n"
     ]
    }
   ],
   "source": [
    "class bike:\n",
    "    print(bike.name)"
   ]
  },
  {
   "cell_type": "markdown",
   "id": "4d837373-edc9-4ade-bd31-b3e8adb27afd",
   "metadata": {},
   "source": [
    "# Protect Member"
   ]
  },
  {
   "cell_type": "code",
   "execution_count": 26,
   "id": "585dfad2-e682-4a6e-ae48-442dd13673b2",
   "metadata": {},
   "outputs": [],
   "source": [
    "#accisible within its sublass"
   ]
  },
  {
   "cell_type": "code",
   "execution_count": 36,
   "id": "7886e8e7-4e74-4983-b81b-2e740127318c",
   "metadata": {},
   "outputs": [
    {
     "name": "stdout",
     "output_type": "stream",
     "text": [
      "Name is: aniket\n"
     ]
    }
   ],
   "source": [
    "class student:   #main class /parent\n",
    "    def __init__(self,name):\n",
    "\n",
    "        self._name=name   #protected\n",
    "\n",
    "class student2(student):\n",
    "    def show(self):\n",
    "        print(\"Name is:\",self._name)\n",
    "\n",
    "o=student2(\"aniket\")\n",
    "o.show()\n",
    "    "
   ]
  },
  {
   "cell_type": "markdown",
   "id": "089b569a-97b2-4567-8518-fa3c888e35e5",
   "metadata": {},
   "source": [
    "# Private Member"
   ]
  },
  {
   "cell_type": "code",
   "execution_count": 37,
   "id": "913578dd-94c5-41df-9471-03a42c929e65",
   "metadata": {},
   "outputs": [
    {
     "name": "stdout",
     "output_type": "stream",
     "text": [
      "Name is: aniket\n"
     ]
    }
   ],
   "source": [
    "class student:   #main class /parent\n",
    "    def __init__(self,name):\n",
    "\n",
    "        self._name=name   #protected\n",
    "\n",
    "class student2(student):   #subclass/childclass\n",
    "    def show(self):\n",
    "        print(\"Name is:\",self._name)\n",
    "\n",
    "o=student2(\"aniket\")\n",
    "o.show()\n",
    "    "
   ]
  },
  {
   "cell_type": "markdown",
   "id": "c7ff36e6-e26f-45d4-a67c-d997c1ef9ce5",
   "metadata": {},
   "source": [
    "# Bankaccount"
   ]
  },
  {
   "cell_type": "code",
   "execution_count": 45,
   "id": "76d63cdc-cf92-4ed7-9732-43133e0a8e8d",
   "metadata": {},
   "outputs": [
    {
     "name": "stdout",
     "output_type": "stream",
     "text": [
      "Owner: aniket\n",
      "Guardian: abcd\n",
      "Account type: Savings\n",
      "5000\n"
     ]
    }
   ],
   "source": [
    "class bankaccount:\n",
    "    def __init__(self,owner,balance):\n",
    "        self.owner=owner   #public\n",
    "        self._account_type=\"Savings\"   #protected\n",
    "        self.__balance=balance   # private \n",
    "    def get_balance(self):\n",
    "        return self.__balance\n",
    "class childAccount(bankaccount):\n",
    "    def __init__(self,owner,balance,guardian):\n",
    "        bankaccount.__init__(self,owner,balance)\n",
    "        self.guardian=guardian\n",
    "        self.balance=balance\n",
    "    def show_details(self):\n",
    "        print(\"Owner:\",self.owner)\n",
    "        print(\"Guardian:\",self.guardian)\n",
    "        print(\"Account type:\",self._account_type)\n",
    "\n",
    "        #private\n",
    "        print(self.balance)\n",
    "\n",
    "child=childAccount(\"aniket\",5000,\"abcd\")\n",
    "child.show_details()"
   ]
  },
  {
   "cell_type": "code",
   "execution_count": null,
   "id": "4140d3f8-6df7-40dd-ad59-c84303459260",
   "metadata": {},
   "outputs": [],
   "source": []
  }
 ],
 "metadata": {
  "kernelspec": {
   "display_name": "Python 3 (ipykernel)",
   "language": "python",
   "name": "python3"
  },
  "language_info": {
   "codemirror_mode": {
    "name": "ipython",
    "version": 3
   },
   "file_extension": ".py",
   "mimetype": "text/x-python",
   "name": "python",
   "nbconvert_exporter": "python",
   "pygments_lexer": "ipython3",
   "version": "3.12.7"
  }
 },
 "nbformat": 4,
 "nbformat_minor": 5
}
