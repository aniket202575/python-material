{
 "cells": [
  {
   "cell_type": "markdown",
   "id": "40ea9073-d092-45e5-ad6a-b590b27259d4",
   "metadata": {},
   "source": [
    "OOPS\n",
    "- Class\n",
    "- Object\n",
    "- Polymorpghism\n",
    "- Inheritance \n",
    "- Data abstraction \n",
    "- Encapsulation\n"
   ]
  },
  {
   "cell_type": "markdown",
   "id": "cb668c9d-89af-4375-9035-fb5d01bff03c",
   "metadata": {},
   "source": [
    "Class===>Blueprint/ TEmplete for object \n",
    "- class contains some values===>variables,data members \n",
    "- set of rules===> functions===>behaviour"
   ]
  },
  {
   "cell_type": "code",
   "execution_count": 2,
   "id": "f86c7539-7905-4776-89fc-4f081e804ece",
   "metadata": {},
   "outputs": [],
   "source": [
    "#syntax\n",
    "#class class_name:\n",
    "    #functions or vaeriables "
   ]
  },
  {
   "cell_type": "code",
   "execution_count": 19,
   "id": "070a0fcf-8bf5-4e79-8a3b-9d8ca49fe039",
   "metadata": {},
   "outputs": [
    {
     "name": "stdout",
     "output_type": "stream",
     "text": [
      "The car name is : BMW And speed is: 250 KMPH\n",
      "The color is : Black\n",
      "sent 2 car name is : BMW\n"
     ]
    }
   ],
   "source": [
    "class car:\n",
    "    def specifications(self,name,speed,color):\n",
    "        #initilization of variables using  self parameter\n",
    "\n",
    "        self.name=name\n",
    "        self.speed=speed\n",
    "        print(\"The car name is :\",self.name,\"And speed is:\",self.speed)\n",
    "        print(\"The color is :\",color)\n",
    "    def f2(self):\n",
    "        print(\"sent 2 car name is :\",self.name)\n",
    "\n",
    "\n",
    "#creating object using class  blueprint \n",
    "BMW=car()\n",
    "BMW.specifications(\"BMW\",\"250 KMPH\",\"Black\")\n",
    "#self parameter: no neeed to give values of self parameter .\n",
    "#it is default parameter\n",
    "BMW.f2()\n",
    "BMW.f3()\n",
    "        "
   ]
  },
  {
   "cell_type": "code",
   "execution_count": 20,
   "id": "be7bb2f5-009f-497d-8bf3-3a189f88fed7",
   "metadata": {},
   "outputs": [
    {
     "name": "stdout",
     "output_type": "stream",
     "text": [
      "The car name is : Audi And speed is: 240 KMPH\n",
      "The color is : Red\n",
      "sent 2 car name is : Audi\n"
     ]
    }
   ],
   "source": [
    "Audi=car()\n",
    "Audi.specifications(\"Audi\",\"240 KMPH\",\"Red\")\n",
    "Audi.f2()"
   ]
  },
  {
   "cell_type": "code",
   "execution_count": 23,
   "id": "e9107682-b959-4c18-9439-b5abe18c2590",
   "metadata": {},
   "outputs": [
    {
     "name": "stdout",
     "output_type": "stream",
     "text": [
      "The car name is : Swift And speed is: 145 KMPH\n",
      "The color is : Blue\n",
      "sent 2 car name is : Swift\n"
     ]
    }
   ],
   "source": [
    "Swift=car()\n",
    "Swift.specifications(\"Swift\",\"145 KMPH\",\"Blue\")\n",
    "Swift.f2()"
   ]
  },
  {
   "cell_type": "code",
   "execution_count": 30,
   "id": "d25eb040-ccae-4ee1-a7dd-7097e5493798",
   "metadata": {},
   "outputs": [
    {
     "name": "stdout",
     "output_type": "stream",
     "text": [
      "This is: Tiger color is Yellow\n"
     ]
    }
   ],
   "source": [
    "class animal:\n",
    "    def details(self,name,color):\n",
    "        self.name=name\n",
    "        self.color=color\n",
    "        print(\"This is:\",self.name,\"color is\",self.color)\n",
    "\n",
    "\n",
    "tiger=animal()\n",
    "tiger.details(\"Tiger\",\"Yellow\")\n",
    "\n",
    "    "
   ]
  },
  {
   "cell_type": "code",
   "execution_count": 31,
   "id": "aafabbe7-22c5-4bae-b479-0d6486dc13a4",
   "metadata": {},
   "outputs": [
    {
     "name": "stdout",
     "output_type": "stream",
     "text": [
      "This is: Cat color is White\n"
     ]
    }
   ],
   "source": [
    "cat=animal()\n",
    "cat.details(\"Cat\",\"White\")"
   ]
  },
  {
   "cell_type": "markdown",
   "id": "f8f8896f-ecc4-4669-9de7-053d639e1ac4",
   "metadata": {},
   "source": [
    "# Cupcake Making"
   ]
  },
  {
   "cell_type": "code",
   "execution_count": 5,
   "id": "95589000-60e3-4ddd-8753-254e61381eac",
   "metadata": {},
   "outputs": [],
   "source": [
    "class cupcake_reciepe:\n",
    "    def set_values(self,flavor,price,size,ingredients):\n",
    "        self.flavor=flavor\n",
    "        self.price=price\n",
    "        self.size=size\n",
    "        self.ingredients=ingredients\n",
    "\n",
    "    def display_info(self):\n",
    "        print(f\"flavor :{self.flavor}\")\n",
    "        print(f\"price :{self.price}\")\n",
    "        print(f\"size :{self.size}\")\n",
    "        print(f\"ingredients :{self.ingredients}\")\n",
    "\n",
    "    def is_expensive(self):\n",
    "        if self.price>100:\n",
    "            return \"It is Expensive\"\n",
    "        else:\n",
    "            return \"It is not Expensive\"\n",
    "        \n",
    "         "
   ]
  },
  {
   "cell_type": "code",
   "execution_count": 6,
   "id": "2b11c7de-6262-44c0-b4b2-ee9f55b31317",
   "metadata": {},
   "outputs": [
    {
     "name": "stdout",
     "output_type": "stream",
     "text": [
      "flavor :Vanilla\n",
      "price :80\n",
      "size :Medium\n",
      "ingredients :['Milk', 'sugar', 'Vanilla essence', 'flour']\n"
     ]
    },
    {
     "data": {
      "text/plain": [
       "'It is not Expensive'"
      ]
     },
     "execution_count": 6,
     "metadata": {},
     "output_type": "execute_result"
    }
   ],
   "source": [
    "#objects\n",
    "vanilla=cupcake_reciepe()\n",
    "vanilla.set_values(\"Vanilla\",80,\"Medium\",[\"Milk\",\"sugar\",\"Vanilla essence\",\"flour\"])\n",
    "vanilla.display_info()\n",
    "vanilla.is_expensive()"
   ]
  },
  {
   "cell_type": "code",
   "execution_count": 7,
   "id": "561a85e2-059b-4bd0-9243-1bc8284e6007",
   "metadata": {},
   "outputs": [
    {
     "name": "stdout",
     "output_type": "stream",
     "text": [
      "flavor :choclate\n",
      "price :280\n",
      "size :Medium\n",
      "ingredients :['Milk', 'sugar', 'choclate essence', 'flour']\n"
     ]
    },
    {
     "data": {
      "text/plain": [
       "'It is Expensive'"
      ]
     },
     "execution_count": 7,
     "metadata": {},
     "output_type": "execute_result"
    }
   ],
   "source": [
    "choclate=cupcake_reciepe()\n",
    "vanilla.set_values(\"choclate\",280,\"Medium\",[\"Milk\",\"sugar\",\"choclate essence\",\"flour\"])\n",
    "vanilla.display_info()\n",
    "vanilla.is_expensive()"
   ]
  },
  {
   "cell_type": "code",
   "execution_count": 8,
   "id": "1b387259-8798-440b-ab1b-c97fcba8740a",
   "metadata": {},
   "outputs": [
    {
     "name": "stdout",
     "output_type": "stream",
     "text": [
      "flavor :icescream\n",
      "price :380\n",
      "size :Medium\n",
      "ingredients :['Milk', 'sugar', 'icescream essence', 'flour']\n"
     ]
    },
    {
     "data": {
      "text/plain": [
       "'It is Expensive'"
      ]
     },
     "execution_count": 8,
     "metadata": {},
     "output_type": "execute_result"
    }
   ],
   "source": [
    "icescream=cupcake_reciepe()\n",
    "vanilla.set_values(\"icescream\",380,\"Medium\",[\"Milk\",\"sugar\",\"icescream essence\",\"flour\"])\n",
    "vanilla.display_info()\n",
    "vanilla.is_expensive()"
   ]
  },
  {
   "cell_type": "markdown",
   "id": "fa9caee1-2a0b-4428-bc02-13f98e9f3502",
   "metadata": {},
   "source": [
    "#Revision IMP POINT FOR INTERVIEW\n",
    "- Class: is like a templete /blueprint or design for making objects\n",
    "- it contains: variables /data members and set of rules\n",
    "- you make many cupcakes(objects) but all cupcakes have common things: flavor,price,size\n",
    "- so instead of writing seprate code forv each cupcakes,you create cupcakes class-a templarew\n",
    "- then yocv can make as many objects as you want from that class \n"
   ]
  },
  {
   "cell_type": "markdown",
   "id": "f57775dd-0ae0-4387-9b6b-64c1992b6071",
   "metadata": {},
   "source": [
    "# Class Constructure"
   ]
  },
  {
   "cell_type": "code",
   "execution_count": 5,
   "id": "0f0a5716-862b-411e-a24a-1dd205bdda38",
   "metadata": {},
   "outputs": [
    {
     "name": "stdout",
     "output_type": "stream",
     "text": [
      "Showing Info about my car\n",
      "the car name is: FERRARI and car color is : BLACK\n",
      " the speed is 250KMPH\n"
     ]
    }
   ],
   "source": [
    "#__init__()\n",
    "class car:\n",
    "    #functions /behaviour/methods OR variables/data member/attributes/parameter\n",
    "    def __init__(self,name,color,speed):\n",
    "        #initilization\n",
    "        self.name=name\n",
    "        self.color=color\n",
    "        self.speed=speed\n",
    "    def show_info(self):\n",
    "        print(\"Showing Info about my car\")\n",
    "        print(f\"the car name is: {self.name} and car color is : {self.color}\")\n",
    "        print(f\" the speed is {self.speed}\")\n",
    "\n",
    "#object\n",
    "Ferrari=car(\"FERRARI\",\"BLACK\",\"250KMPH\")\n",
    "Ferrari.show_info()\n",
    "\n",
    "    "
   ]
  },
  {
   "cell_type": "markdown",
   "id": "571318d2-1331-4863-9e31-0a66168584d8",
   "metadata": {},
   "source": [
    "- class \n",
    "- objects\n",
    "- self param\n",
    "- constructur\n",
    "- Encapsulation"
   ]
  },
  {
   "cell_type": "code",
   "execution_count": null,
   "id": "72f1d9b6-ad22-49e3-80dd-edd845563690",
   "metadata": {},
   "outputs": [],
   "source": []
  },
  {
   "cell_type": "code",
   "execution_count": null,
   "id": "aa06e509-a1c7-4a79-a097-2e6b131b093c",
   "metadata": {},
   "outputs": [],
   "source": []
  },
  {
   "cell_type": "markdown",
   "id": "02bcc8cf-1701-4d1e-91b0-40fd3d34070d",
   "metadata": {},
   "source": [
    "# Encapsulation"
   ]
  },
  {
   "cell_type": "code",
   "execution_count": 27,
   "id": "b229f900-9d3a-451f-85eb-d8c2a63ba1df",
   "metadata": {},
   "outputs": [],
   "source": [
    "#capsual\n",
    "#importants variables/functions====>container"
   ]
  },
  {
   "cell_type": "code",
   "execution_count": 28,
   "id": "929eabc5-7cb7-41be-834e-dddc8c4e3197",
   "metadata": {},
   "outputs": [],
   "source": [
    "class bike:\n",
    "    name=\"Royal Enfield\"   #public data member/Global\n",
    "    def ride(self):\n",
    "        print(\"Live free ride hard\")\n",
    "        print(self.name)\n",
    "    def f2(self):\n",
    "        print(\"My bike name is :\",self.name)\n",
    "        "
   ]
  },
  {
   "cell_type": "code",
   "execution_count": 30,
   "id": "f262ccd4-1631-45a9-b8ae-f864be5262bc",
   "metadata": {},
   "outputs": [
    {
     "name": "stdout",
     "output_type": "stream",
     "text": [
      "Live free ride hard\n",
      "Royal Enfield\n",
      "My bike name is : Royal Enfield\n"
     ]
    },
    {
     "data": {
      "text/plain": [
       "'Royal Enfield'"
      ]
     },
     "execution_count": 30,
     "metadata": {},
     "output_type": "execute_result"
    }
   ],
   "source": [
    "obj1=bike()\n",
    "obj1.ride()\n",
    "obj.f2()\n",
    "obj1.name"
   ]
  },
  {
   "cell_type": "code",
   "execution_count": 31,
   "id": "c27e0d8e-14b3-46f5-ba24-a512d4fec2de",
   "metadata": {},
   "outputs": [
    {
     "data": {
      "text/plain": [
       "'Royal Enfield'"
      ]
     },
     "execution_count": 31,
     "metadata": {},
     "output_type": "execute_result"
    }
   ],
   "source": [
    "bike.name"
   ]
  },
  {
   "cell_type": "code",
   "execution_count": 35,
   "id": "ba95d66b-ef5b-4ef3-8be8-dd40d6277a43",
   "metadata": {},
   "outputs": [
    {
     "name": "stdout",
     "output_type": "stream",
     "text": [
      "Royal Enfield\n"
     ]
    }
   ],
   "source": [
    "class bike:\n",
    "    print(bike.name)"
   ]
  },
  {
   "cell_type": "markdown",
   "id": "4d837373-edc9-4ade-bd31-b3e8adb27afd",
   "metadata": {},
   "source": [
    "# Protect Member"
   ]
  },
  {
   "cell_type": "code",
   "execution_count": 26,
   "id": "585dfad2-e682-4a6e-ae48-442dd13673b2",
   "metadata": {},
   "outputs": [],
   "source": [
    "#accisible within its sublass"
   ]
  },
  {
   "cell_type": "code",
   "execution_count": 36,
   "id": "7886e8e7-4e74-4983-b81b-2e740127318c",
   "metadata": {},
   "outputs": [
    {
     "name": "stdout",
     "output_type": "stream",
     "text": [
      "Name is: aniket\n"
     ]
    }
   ],
   "source": [
    "class student:   #main class /parent\n",
    "    def __init__(self,name):\n",
    "\n",
    "        self._name=name   #protected\n",
    "\n",
    "class student2(student):\n",
    "    def show(self):\n",
    "        print(\"Name is:\",self._name)\n",
    "\n",
    "o=student2(\"aniket\")\n",
    "o.show()\n",
    "    "
   ]
  },
  {
   "cell_type": "markdown",
   "id": "089b569a-97b2-4567-8518-fa3c888e35e5",
   "metadata": {},
   "source": [
    "# Private Member"
   ]
  },
  {
   "cell_type": "code",
   "execution_count": 37,
   "id": "913578dd-94c5-41df-9471-03a42c929e65",
   "metadata": {},
   "outputs": [
    {
     "name": "stdout",
     "output_type": "stream",
     "text": [
      "Name is: aniket\n"
     ]
    }
   ],
   "source": [
    "class student:   #main class /parent\n",
    "    def __init__(self,name):\n",
    "\n",
    "        self._name=name   #protected\n",
    "\n",
    "class student2(student):   #subclass/childclass\n",
    "    def show(self):\n",
    "        print(\"Name is:\",self._name)\n",
    "\n",
    "o=student2(\"aniket\")\n",
    "o.show()\n",
    "    "
   ]
  },
  {
   "cell_type": "markdown",
   "id": "c7ff36e6-e26f-45d4-a67c-d997c1ef9ce5",
   "metadata": {},
   "source": [
    "# Bankaccount"
   ]
  },
  {
   "cell_type": "code",
   "execution_count": 45,
   "id": "76d63cdc-cf92-4ed7-9732-43133e0a8e8d",
   "metadata": {},
   "outputs": [
    {
     "name": "stdout",
     "output_type": "stream",
     "text": [
      "Owner: aniket\n",
      "Guardian: abcd\n",
      "Account type: Savings\n",
      "5000\n"
     ]
    }
   ],
   "source": [
    "class bankaccount:\n",
    "    def __init__(self,owner,balance):\n",
    "        self.owner=owner   #public\n",
    "        self._account_type=\"Savings\"   #protected\n",
    "        self.__balance=balance   # private \n",
    "    def get_balance(self):\n",
    "        return self.__balance\n",
    "class childAccount(bankaccount):\n",
    "    def __init__(self,owner,balance,guardian):\n",
    "        bankaccount.__init__(self,owner,balance)\n",
    "        self.guardian=guardian\n",
    "        self.balance=balance\n",
    "    def show_details(self):\n",
    "        print(\"Owner:\",self.owner)\n",
    "        print(\"Guardian:\",self.guardian)\n",
    "        print(\"Account type:\",self._account_type)\n",
    "\n",
    "        #private\n",
    "        print(self.balance)\n",
    "\n",
    "child=childAccount(\"aniket\",5000,\"abcd\")\n",
    "child.show_details()"
   ]
  },
  {
   "cell_type": "markdown",
   "id": "addf17fd-809d-47af-855c-5afe39ec15da",
   "metadata": {},
   "source": [
    "# Polymorphism"
   ]
  },
  {
   "cell_type": "code",
   "execution_count": 14,
   "id": "c00565c3-7877-484a-a4f7-8626cfe740a9",
   "metadata": {},
   "outputs": [],
   "source": [
    "# one variables/operator/method/function can take many from  and behavous differently  under different circumtance"
   ]
  },
  {
   "cell_type": "markdown",
   "id": "04cffec9-58f4-422c-b187-a73adb61e29a",
   "metadata": {},
   "source": [
    "# operator Oveloading"
   ]
  },
  {
   "cell_type": "markdown",
   "id": "9104665e-d5a5-4b49-a2c8-ec3d8349e2ac",
   "metadata": {},
   "source": [
    "# + Opperator"
   ]
  },
  {
   "cell_type": "markdown",
   "id": "04ad1a1a-f297-4a56-82c5-68f646b67bbb",
   "metadata": {},
   "source": [
    "- if two integer then = Will do addition ====>4+5\n",
    "- if two string then + will do concantation ===>\"a\"+\"b\"\n"
   ]
  },
  {
   "cell_type": "markdown",
   "id": "6fbf29ff-f102-4eab-86d6-ac39940dad79",
   "metadata": {},
   "source": [
    "# *"
   ]
  },
  {
   "cell_type": "markdown",
   "id": "90352021-c4c3-4e72-bc0d-b83d8a39c2be",
   "metadata": {},
   "source": [
    "\n",
    "- 2*3\n",
    "- \"data\"*3"
   ]
  },
  {
   "cell_type": "code",
   "execution_count": null,
   "id": "bd37467e-5750-412d-bd1d-7c3af4b6e92d",
   "metadata": {},
   "outputs": [],
   "source": []
  },
  {
   "cell_type": "markdown",
   "id": "e4b07b64-dd83-4a87-b66c-b22224b925e6",
   "metadata": {},
   "source": [
    "# 2.Method Overloading"
   ]
  },
  {
   "cell_type": "code",
   "execution_count": 15,
   "id": "273c7ced-4add-4826-b19b-fefcf14b16f1",
   "metadata": {},
   "outputs": [],
   "source": [
    "#without class and object method overloading is not possible \n",
    "def add(a,b):\n",
    "    return a+b\n",
    "def add(x,y,z):\n",
    "    return x+y+z"
   ]
  },
  {
   "cell_type": "code",
   "execution_count": 16,
   "id": "741b2edb-8d30-450e-9384-e2ccfa419b51",
   "metadata": {},
   "outputs": [
    {
     "ename": "TypeError",
     "evalue": "add() missing 1 required positional argument: 'z'",
     "output_type": "error",
     "traceback": [
      "\u001b[1;31m---------------------------------------------------------------------------\u001b[0m",
      "\u001b[1;31mTypeError\u001b[0m                                 Traceback (most recent call last)",
      "Cell \u001b[1;32mIn[16], line 1\u001b[0m\n\u001b[1;32m----> 1\u001b[0m add(\u001b[38;5;241m3\u001b[39m,\u001b[38;5;241m4\u001b[39m)\n",
      "\u001b[1;31mTypeError\u001b[0m: add() missing 1 required positional argument: 'z'"
     ]
    }
   ],
   "source": [
    "add(3,4) #it will not work"
   ]
  },
  {
   "cell_type": "code",
   "execution_count": 17,
   "id": "85aa367f-1933-4657-b6b1-2fd89dcc5f78",
   "metadata": {},
   "outputs": [],
   "source": [
    "def add(a,b):\n",
    "    return a+b\n",
    "def add(x,y,z=9):\n",
    "    return x+y+z"
   ]
  },
  {
   "cell_type": "code",
   "execution_count": 18,
   "id": "b00f1a91-9395-4468-870a-2770b2e0ae6e",
   "metadata": {},
   "outputs": [
    {
     "data": {
      "text/plain": [
       "19"
      ]
     },
     "execution_count": 18,
     "metadata": {},
     "output_type": "execute_result"
    }
   ],
   "source": [
    "add(3,7)"
   ]
  },
  {
   "cell_type": "markdown",
   "id": "b4e18053-8275-4707-8528-1ad771d4bf7c",
   "metadata": {},
   "source": [
    "# 3.Method Overridind"
   ]
  },
  {
   "cell_type": "code",
   "execution_count": 3,
   "id": "5cca3024-c141-4014-917a-05f8a5ffd1b0",
   "metadata": {},
   "outputs": [
    {
     "ename": "TypeError",
     "evalue": "overriding.add() missing 1 required positional argument: 'c'",
     "output_type": "error",
     "traceback": [
      "\u001b[1;31m---------------------------------------------------------------------------\u001b[0m",
      "\u001b[1;31mTypeError\u001b[0m                                 Traceback (most recent call last)",
      "Cell \u001b[1;32mIn[3], line 10\u001b[0m\n\u001b[0;32m      8\u001b[0m \u001b[38;5;66;03m#object\u001b[39;00m\n\u001b[0;32m      9\u001b[0m obj\u001b[38;5;241m=\u001b[39moverriding()\n\u001b[1;32m---> 10\u001b[0m obj\u001b[38;5;241m.\u001b[39madd(\u001b[38;5;241m2\u001b[39m,\u001b[38;5;241m3\u001b[39m)\n",
      "\u001b[1;31mTypeError\u001b[0m: overriding.add() missing 1 required positional argument: 'c'"
     ]
    }
   ],
   "source": [
    "#we required one class\n",
    "class overriding:\n",
    "    def add(self,a,b):\n",
    "        return a+b \n",
    "    def add(self,a,b,c):\n",
    "        return a+b+c\n",
    "\n",
    "#object\n",
    "obj=overriding()\n",
    "obj.add(2,3)\n",
    "#will get error because in class also we have use same method name and python will always run letest method"
   ]
  },
  {
   "cell_type": "code",
   "execution_count": 26,
   "id": "29f738a6-5a91-40f3-a3c9-869d71194b36",
   "metadata": {},
   "outputs": [
    {
     "name": "stdout",
     "output_type": "stream",
     "text": [
      "There are different types of birds\n",
      "Parrots can fly\n"
     ]
    }
   ],
   "source": [
    "class bird:   #main class\n",
    "    def intro(self):\n",
    "        print(\"There are different types of birds\")\n",
    "    def flight(self):\n",
    "        print(\"Most of the bird can fly but some can not\")\n",
    "class parrot(bird):   #subclass1\n",
    "    def flight(self):\n",
    "        print(\"Parrots can fly\")\n",
    "class penguin(bird):   #subclass\n",
    "    def flight(self):\n",
    "        print(\"Penguin can not fly\")\n",
    "obj1=parrot()\n",
    "obj1.intro()\n",
    "obj1.flight()"
   ]
  },
  {
   "cell_type": "code",
   "execution_count": 27,
   "id": "f6b17752-ed5e-4f81-8213-587e90ecdafb",
   "metadata": {},
   "outputs": [
    {
     "name": "stdout",
     "output_type": "stream",
     "text": [
      "There are different types of birds\n",
      "Penguin can not fly\n"
     ]
    }
   ],
   "source": [
    "obj2=penguin()\n",
    "obj2.intro()\n",
    "obj2.flight()"
   ]
  },
  {
   "cell_type": "code",
   "execution_count": 24,
   "id": "fc7231c9-68a7-4f3a-a982-c47d7e07b769",
   "metadata": {},
   "outputs": [
    {
     "name": "stdout",
     "output_type": "stream",
     "text": [
      "There are different types of birds\n",
      "Parrots can fly\n"
     ]
    }
   ],
   "source": [
    "obj3=parrot()\n",
    "obj3.intro()\n",
    "obj3.flight()\n"
   ]
  },
  {
   "cell_type": "markdown",
   "id": "2d2abc50-e279-42de-8e87-c309099d6709",
   "metadata": {},
   "source": [
    "# Example2"
   ]
  },
  {
   "cell_type": "code",
   "execution_count": 28,
   "id": "25a36e18-6b7c-46d2-b5cc-e92eb5415976",
   "metadata": {},
   "outputs": [
    {
     "name": "stdout",
     "output_type": "stream",
     "text": [
      "Average is: 516.6666666666666\n",
      "Average is: 70.66666666666667\n"
     ]
    }
   ],
   "source": [
    "class salesdata:\n",
    "    def __init__(self,sales):\n",
    "        self.sales=sales\n",
    "    def average(self):\n",
    "        return sum(self.sales)/len(self.sales)\n",
    "class marksdata:\n",
    "    def __init__(self,marks):\n",
    "        self.marks=marks\n",
    "    def average(self):\n",
    "        return sum(self.marks)/len(self.marks)\n",
    "\n",
    "def show_result(object):\n",
    "    print(\"Average is:\",object.average())\n",
    "\n",
    "s1=salesdata([450,500,600])\n",
    "m1=marksdata([45,89,78])\n",
    "\n",
    "\n",
    "show_result(s1)\n",
    "show_result(m1)\n",
    "\n"
   ]
  },
  {
   "cell_type": "markdown",
   "id": "ba60fc3b-8007-40be-a456-57112e318a53",
   "metadata": {},
   "source": [
    "# Inheritance"
   ]
  },
  {
   "cell_type": "markdown",
   "id": "6d2f267b-f658-4986-92f6-b04e38ed6ee0",
   "metadata": {},
   "source": [
    "- Single \n",
    "- Multiple\n",
    "- Multilevel\n",
    "- Hierachical\n",
    "- Hybrid"
   ]
  },
  {
   "cell_type": "markdown",
   "id": "9b9bb769-3e11-4bdf-afa9-0393e5c024dc",
   "metadata": {},
   "source": [
    "# Single"
   ]
  },
  {
   "cell_type": "code",
   "execution_count": 2,
   "id": "87032041-7496-4640-b8a3-39d70ccf80c6",
   "metadata": {},
   "outputs": [
    {
     "name": "stdout",
     "output_type": "stream",
     "text": [
      "feature 1 is Working\n"
     ]
    }
   ],
   "source": [
    "class A: #parent class \n",
    "    def feature1(self):\n",
    "        print(\"feature 1 is Working\")\n",
    "    def feature2(self):\n",
    "        print(\"feature 1 is Working\")\n",
    "\n",
    "\n",
    "class B(A):    #child class\n",
    "    def feature3(self):\n",
    "        print(\"feture 3 is Working\")\n",
    "\n",
    "    def feature4(self):\n",
    "        print(\"feature 4 is Working\")\n",
    "\n",
    "b=B()\n",
    "b.feature1()"
   ]
  },
  {
   "cell_type": "markdown",
   "id": "0a30e943-f641-479e-a122-e0b5e6df1620",
   "metadata": {},
   "source": [
    "# Multiple "
   ]
  },
  {
   "cell_type": "code",
   "execution_count": 6,
   "id": "8d3392dd-eeb1-47f4-83d8-c618e19f3249",
   "metadata": {},
   "outputs": [
    {
     "name": "stdout",
     "output_type": "stream",
     "text": [
      "feature 2 is working\n",
      "feature 3 is working\n",
      "feature 6 is working\n"
     ]
    }
   ],
   "source": [
    "#multiple inheritance \n",
    "class A:   #parent class1\n",
    "    def feature1(self):\n",
    "        print(\"featurev 1 is working\")\n",
    "\n",
    "    def feature2(self):\n",
    "        print(\"feature 2 is working\")\n",
    "\n",
    "class B:   # parent class 2\n",
    "    def feature3(self):\n",
    "        print(\"feature 3 is working\")\n",
    "\n",
    "    def feature4(self):\n",
    "        print(\"feature 4 is working\")\n",
    "\n",
    "class C(A,B):    # child class \n",
    "    def feature5(self):\n",
    "        print(\"feature 5 is working\")\n",
    "\n",
    "    def feature6(self):\n",
    "        print(\"feature 6 is working\")\n",
    "\n",
    "c=C()\n",
    "c.feature2()\n",
    "c.feature3()\n",
    "c.feature6()"
   ]
  },
  {
   "cell_type": "markdown",
   "id": "a5cc68d9-fb6a-425c-832e-866e86f419c8",
   "metadata": {},
   "source": [
    "# Multilevel "
   ]
  },
  {
   "cell_type": "code",
   "execution_count": 7,
   "id": "21541fa2-001b-44f8-945b-fca9bf2d7d11",
   "metadata": {},
   "outputs": [
    {
     "name": "stdout",
     "output_type": "stream",
     "text": [
      "feature 2 is working\n",
      "feature 3 is working\n",
      "feature 6 is working\n"
     ]
    }
   ],
   "source": [
    "class A:   #parent class \n",
    "    def feature1(self):\n",
    "        print(\"featurev 1 is working\")\n",
    "\n",
    "    def feature2(self):\n",
    "        print(\"feature 2 is working\")\n",
    "\n",
    "class B(A):   #child class\n",
    "    def feature3(self):\n",
    "        print(\"feature 3 is working\")\n",
    "\n",
    "    def feature4(self):\n",
    "        print(\"feature 4 is working\")\n",
    "\n",
    "class C(B):   #child class\n",
    "    def feature5(self):\n",
    "        print(\"feature 5 is working\")\n",
    "\n",
    "    def feature6(self):\n",
    "        print(\"feature 6 is working\")\n",
    "\n",
    "c=C()\n",
    "c.feature2()\n",
    "c.feature3()\n",
    "c.feature6()"
   ]
  },
  {
   "cell_type": "markdown",
   "id": "12c78d83-b9c7-42b8-b3a5-22d6f906c7eb",
   "metadata": {},
   "source": [
    "# Hierachical "
   ]
  },
  {
   "cell_type": "code",
   "execution_count": 8,
   "id": "8c7b0c10-b7ed-4831-95ba-88551d69818f",
   "metadata": {},
   "outputs": [
    {
     "name": "stdout",
     "output_type": "stream",
     "text": [
      "feature 2 is working\n",
      "feature 5 is working\n"
     ]
    }
   ],
   "source": [
    "class A:   #main class \n",
    "    def feature1(self):\n",
    "        print(\"featurev 1 is working\")\n",
    "\n",
    "    def feature2(self):\n",
    "        print(\"feature 2 is working\")\n",
    "class B(A):   #child1\n",
    "    def feature3(self):\n",
    "        print(\"feature 3 is working\")\n",
    "\n",
    "    def feature4(self):\n",
    "        print(\"feature 4 is working\")\n",
    "\n",
    "b=B()\n",
    "b.feature2()\n",
    "\n",
    "\n",
    "\n",
    "class C(A):   #child2\n",
    "    def feature5(self):\n",
    "        print(\"feature 5 is working\")\n",
    "\n",
    "    def feature6(self):\n",
    "        print(\"feature 6 is working\")\n",
    "\n",
    "c=C()\n",
    "c.feature5()\n",
    "\n",
    "\n"
   ]
  },
  {
   "cell_type": "markdown",
   "id": "6d6219bb-809e-404a-955f-777812d1c1b7",
   "metadata": {},
   "source": [
    "# Hybrid "
   ]
  },
  {
   "cell_type": "code",
   "execution_count": 9,
   "id": "9e148ab6-bb26-486e-980e-4586ff94c61c",
   "metadata": {},
   "outputs": [
    {
     "name": "stdout",
     "output_type": "stream",
     "text": [
      "feature 2 is working\n",
      "feature 5 is working\n",
      "feature 2 is working\n"
     ]
    }
   ],
   "source": [
    "class A:   #main class \n",
    "    def feature1(self):\n",
    "        print(\"featurev 1 is working\")\n",
    "\n",
    "    def feature2(self):\n",
    "        print(\"feature 2 is working\")\n",
    "\n",
    "class B(A):   #child1\n",
    "    def feature3(self):\n",
    "        print(\"feature 3 is working\")\n",
    "\n",
    "    def feature4(self):\n",
    "        print(\"feature 4 is working\")\n",
    "\n",
    "b=B()\n",
    "b.feature2()\n",
    "\n",
    "\n",
    "class C(A):   #child2\n",
    "    def feature5(self):\n",
    "        print(\"feature 5 is working\")\n",
    "\n",
    "    def feature6(self):\n",
    "        print(\"feature 6 is working\")\n",
    "\n",
    "c=C()\n",
    "c.feature5()\n",
    "\n",
    "\n",
    "class D(B,C):   #Child3\n",
    "    def feature7(self):\n",
    "        print(\"feature 7 is working\")\n",
    "\n",
    "    def feature8(self):\n",
    "        print(\"feature 8 is working\")\n",
    "\n",
    "d=D()\n",
    "d.feature2()     #class D inherits all the properties from class A,B,c and D itself\n",
    "\n",
    "\n",
    "\n"
   ]
  },
  {
   "cell_type": "code",
   "execution_count": null,
   "id": "e8a7fd83-55dc-475b-9d48-a4ff24319f01",
   "metadata": {},
   "outputs": [],
   "source": []
  }
 ],
 "metadata": {
  "kernelspec": {
   "display_name": "Python 3 (ipykernel)",
   "language": "python",
   "name": "python3"
  },
  "language_info": {
   "codemirror_mode": {
    "name": "ipython",
    "version": 3
   },
   "file_extension": ".py",
   "mimetype": "text/x-python",
   "name": "python",
   "nbconvert_exporter": "python",
   "pygments_lexer": "ipython3",
   "version": "3.12.7"
  }
 },
 "nbformat": 4,
 "nbformat_minor": 5
}
