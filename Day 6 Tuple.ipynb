{
 "cells": [
  {
   "cell_type": "markdown",
   "id": "1d8fcebd-041f-4630-b0e3-fcdcd67a5a80",
   "metadata": {},
   "source": [
    "# Tuple"
   ]
  },
  {
   "cell_type": "markdown",
   "id": "18014a0e-dad6-409f-bc2c-ebe8f7d25e46",
   "metadata": {},
   "source": [
    "## -  declare using () or coma sepereted elements\n",
    "   - e.g t=(1,2,3) or t=1,2,3\n",
    "- immutable\n",
    "- orderd:indexing/slicing\n",
    "- allow duplicate element"
   ]
  },
  {
   "cell_type": "code",
   "execution_count": 1,
   "id": "7b15a230-7ee9-460f-ad88-19c9b0df6906",
   "metadata": {},
   "outputs": [],
   "source": [
    "t=(1,2,1,3,2,1,5)\n"
   ]
  },
  {
   "cell_type": "markdown",
   "id": "ec0ce554-9d77-4bae-a745-9c696a2d3b7e",
   "metadata": {},
   "source": [
    "## Function of tuple\n",
    "- len()\n",
    "- min()\n",
    "- max()\n",
    "- sum()\n",
    "- tuple()"
   ]
  },
  {
   "cell_type": "code",
   "execution_count": 2,
   "id": "bbd286ef-dd05-45cd-8ef7-413ddab1b2c4",
   "metadata": {},
   "outputs": [
    {
     "data": {
      "text/plain": [
       "15"
      ]
     },
     "execution_count": 2,
     "metadata": {},
     "output_type": "execute_result"
    }
   ],
   "source": [
    "sum(t)\n"
   ]
  },
  {
   "cell_type": "code",
   "execution_count": 3,
   "id": "ceabab85-1a4f-4862-87c1-3b49820877cd",
   "metadata": {},
   "outputs": [
    {
     "data": {
      "text/plain": [
       "1"
      ]
     },
     "execution_count": 3,
     "metadata": {},
     "output_type": "execute_result"
    }
   ],
   "source": [
    "min(t)"
   ]
  },
  {
   "cell_type": "code",
   "execution_count": 4,
   "id": "b519ff79-bdb6-4285-b54a-6cdb56c7ef83",
   "metadata": {},
   "outputs": [
    {
     "data": {
      "text/plain": [
       "7"
      ]
     },
     "execution_count": 4,
     "metadata": {},
     "output_type": "execute_result"
    }
   ],
   "source": [
    "len(t)"
   ]
  },
  {
   "cell_type": "code",
   "execution_count": 5,
   "id": "9f39f844-4451-44dd-bbef-08bcb92cb312",
   "metadata": {},
   "outputs": [
    {
     "data": {
      "text/plain": [
       "5"
      ]
     },
     "execution_count": 5,
     "metadata": {},
     "output_type": "execute_result"
    }
   ],
   "source": [
    "max(t)"
   ]
  },
  {
   "cell_type": "code",
   "execution_count": 6,
   "id": "4308d4fb-93f1-4a13-b6f4-5d7895e9674a",
   "metadata": {},
   "outputs": [
    {
     "data": {
      "text/plain": [
       "(1, 2, 1, 3, 2, 1, 5)"
      ]
     },
     "execution_count": 6,
     "metadata": {},
     "output_type": "execute_result"
    }
   ],
   "source": [
    "tuple(t)"
   ]
  },
  {
   "cell_type": "markdown",
   "id": "e2a4cdc0-531c-4ca6-af98-814fffe0f08b",
   "metadata": {},
   "source": [
    "- count()\n",
    "- index()"
   ]
  },
  {
   "cell_type": "code",
   "execution_count": 11,
   "id": "385854db-0cd6-4967-9b0c-ea26aedf68dd",
   "metadata": {},
   "outputs": [
    {
     "data": {
      "text/plain": [
       "(1, 2, 3)"
      ]
     },
     "execution_count": 11,
     "metadata": {},
     "output_type": "execute_result"
    }
   ],
   "source": [
    "l=[1,2,3]\n",
    "tuple(l)"
   ]
  },
  {
   "cell_type": "code",
   "execution_count": 13,
   "id": "649888b4-3903-47e2-bf5f-98808914af09",
   "metadata": {},
   "outputs": [
    {
     "data": {
      "text/plain": [
       "3"
      ]
     },
     "execution_count": 13,
     "metadata": {},
     "output_type": "execute_result"
    }
   ],
   "source": [
    "t.count(1)"
   ]
  },
  {
   "cell_type": "code",
   "execution_count": 15,
   "id": "eeeb5008-db2a-4602-8201-3f24279d917f",
   "metadata": {},
   "outputs": [
    {
     "data": {
      "text/plain": [
       "6"
      ]
     },
     "execution_count": 15,
     "metadata": {},
     "output_type": "execute_result"
    }
   ],
   "source": [
    "t.index(5)"
   ]
  },
  {
   "cell_type": "markdown",
   "id": "ca0265b8-bc5a-4e60-b622-1f67ede67d04",
   "metadata": {},
   "source": [
    "### tuple functiom"
   ]
  },
  {
   "cell_type": "code",
   "execution_count": 16,
   "id": "22b2a1c1-1bee-43ad-b1f3-3b4b3088822f",
   "metadata": {},
   "outputs": [],
   "source": [
    "t=(1,2,3,4,[2.3,4],\"data science\")"
   ]
  },
  {
   "cell_type": "code",
   "execution_count": 17,
   "id": "f62fe5e1-dadb-40a0-a04e-eff29e08b995",
   "metadata": {},
   "outputs": [],
   "source": [
    "#Q1.extract \"Data science\"\n",
    "#Q2.extract and reverse \"science\"\n",
    "#Q3.extract 3,4\n",
    "#Q4.extract aand reverse 1,2,3,4"
   ]
  },
  {
   "cell_type": "code",
   "execution_count": 18,
   "id": "d4a23793-5814-4000-8918-237c803faa20",
   "metadata": {},
   "outputs": [
    {
     "data": {
      "text/plain": [
       "'data science'"
      ]
     },
     "execution_count": 18,
     "metadata": {},
     "output_type": "execute_result"
    }
   ],
   "source": [
    "#Q1.extract data science \n",
    "t[5]"
   ]
  },
  {
   "cell_type": "code",
   "execution_count": 41,
   "id": "0fa6419b-80d7-4f3b-b445-f9dbfd55f557",
   "metadata": {},
   "outputs": [
    {
     "data": {
      "text/plain": [
       "'ecneics'"
      ]
     },
     "execution_count": 41,
     "metadata": {},
     "output_type": "execute_result"
    }
   ],
   "source": [
    "#Q2.\n",
    "t[-1][11:4:-1]"
   ]
  },
  {
   "cell_type": "code",
   "execution_count": 20,
   "id": "12e5120b-ee0c-4cba-b04f-44eebe4188da",
   "metadata": {},
   "outputs": [
    {
     "data": {
      "text/plain": [
       "(3, 4)"
      ]
     },
     "execution_count": 20,
     "metadata": {},
     "output_type": "execute_result"
    }
   ],
   "source": [
    "#Q3. \n",
    "t[2:4]"
   ]
  },
  {
   "cell_type": "code",
   "execution_count": 21,
   "id": "5ab48684-b6e0-498f-8d44-2a3a9c4b69fd",
   "metadata": {},
   "outputs": [
    {
     "data": {
      "text/plain": [
       "(1, 2, 3, 4)"
      ]
     },
     "execution_count": 21,
     "metadata": {},
     "output_type": "execute_result"
    }
   ],
   "source": [
    "#Q4.\n",
    "t[0:4]"
   ]
  },
  {
   "cell_type": "markdown",
   "id": "7adb2bb8-e01a-46f9-b2ca-f2798df86d01",
   "metadata": {},
   "source": [
    "# packing and unpacking of tuple "
   ]
  },
  {
   "cell_type": "code",
   "execution_count": 22,
   "id": "d251ef6f-bf31-46eb-b21e-eec2592ff871",
   "metadata": {},
   "outputs": [],
   "source": [
    "a,b,c=(1,2,3)"
   ]
  },
  {
   "cell_type": "code",
   "execution_count": 23,
   "id": "2d218141-db92-4071-96a7-136af0fc6a45",
   "metadata": {},
   "outputs": [
    {
     "name": "stdout",
     "output_type": "stream",
     "text": [
      "1\n"
     ]
    }
   ],
   "source": [
    "print(a)"
   ]
  },
  {
   "cell_type": "code",
   "execution_count": 24,
   "id": "b9799482-c7f2-4547-9f21-51095c88da2a",
   "metadata": {},
   "outputs": [
    {
     "name": "stdout",
     "output_type": "stream",
     "text": [
      "2\n"
     ]
    }
   ],
   "source": [
    "print(b)\n"
   ]
  },
  {
   "cell_type": "code",
   "execution_count": 25,
   "id": "cf7535ac-1c02-45b2-ac31-89334005017c",
   "metadata": {},
   "outputs": [
    {
     "name": "stdout",
     "output_type": "stream",
     "text": [
      "3\n"
     ]
    }
   ],
   "source": [
    "print(c)"
   ]
  },
  {
   "cell_type": "code",
   "execution_count": 26,
   "id": "062d1345-d61f-4a21-91e9-c9d1a71c02a9",
   "metadata": {},
   "outputs": [],
   "source": [
    "a,b,c=[20,2,3]"
   ]
  },
  {
   "cell_type": "code",
   "execution_count": 27,
   "id": "df6920e3-53dd-4104-9eac-c47bec873da6",
   "metadata": {},
   "outputs": [
    {
     "name": "stdout",
     "output_type": "stream",
     "text": [
      "20\n"
     ]
    }
   ],
   "source": [
    "print(a)\n"
   ]
  },
  {
   "cell_type": "code",
   "execution_count": 28,
   "id": "19524e89-a3be-4e4d-af69-0200d2bc65c4",
   "metadata": {},
   "outputs": [],
   "source": [
    "x,y,*z=(1,2,3,43,5,6,67,78)"
   ]
  },
  {
   "cell_type": "code",
   "execution_count": 29,
   "id": "9615b271-f646-496b-b14c-73e4aba1a403",
   "metadata": {},
   "outputs": [
    {
     "name": "stdout",
     "output_type": "stream",
     "text": [
      "1\n"
     ]
    }
   ],
   "source": [
    "print(x)"
   ]
  },
  {
   "cell_type": "code",
   "execution_count": 30,
   "id": "3e9a2c5e-282e-47df-9619-7799924c0f81",
   "metadata": {},
   "outputs": [
    {
     "name": "stdout",
     "output_type": "stream",
     "text": [
      "2\n"
     ]
    }
   ],
   "source": [
    "print(y)"
   ]
  },
  {
   "cell_type": "code",
   "execution_count": 31,
   "id": "888811ac-5ad0-4f9a-930e-e89199cf5019",
   "metadata": {},
   "outputs": [
    {
     "name": "stdout",
     "output_type": "stream",
     "text": [
      "[3, 43, 5, 6, 67, 78]\n"
     ]
    }
   ],
   "source": [
    "print(z)"
   ]
  },
  {
   "cell_type": "code",
   "execution_count": 32,
   "id": "81372768-070d-4d59-862f-69ef557586e2",
   "metadata": {},
   "outputs": [],
   "source": [
    "row1=(101,\"aniket\",\"Data science\",89)"
   ]
  },
  {
   "cell_type": "code",
   "execution_count": 33,
   "id": "7645a918-9976-42dc-bcf0-de05d9948732",
   "metadata": {},
   "outputs": [],
   "source": [
    "id,name,course,marks=row1"
   ]
  },
  {
   "cell_type": "code",
   "execution_count": 34,
   "id": "75b6c2b4-30a2-44b6-9610-4a9cc7c5cb20",
   "metadata": {},
   "outputs": [
    {
     "data": {
      "text/plain": [
       "101"
      ]
     },
     "execution_count": 34,
     "metadata": {},
     "output_type": "execute_result"
    }
   ],
   "source": [
    "id"
   ]
  },
  {
   "cell_type": "code",
   "execution_count": 35,
   "id": "527777f8-1ab2-4e68-bf8d-92ab10864306",
   "metadata": {},
   "outputs": [
    {
     "data": {
      "text/plain": [
       "89"
      ]
     },
     "execution_count": 35,
     "metadata": {},
     "output_type": "execute_result"
    }
   ],
   "source": [
    "marks"
   ]
  },
  {
   "cell_type": "code",
   "execution_count": 36,
   "id": "9ae2fa48-12e4-4275-beb7-1e08e7513d37",
   "metadata": {},
   "outputs": [
    {
     "data": {
      "text/plain": [
       "'Data science'"
      ]
     },
     "execution_count": 36,
     "metadata": {},
     "output_type": "execute_result"
    }
   ],
   "source": [
    "course"
   ]
  },
  {
   "cell_type": "code",
   "execution_count": 37,
   "id": "4ff8b9ec-2c10-4661-8ff5-b25a90f3d33c",
   "metadata": {},
   "outputs": [
    {
     "data": {
      "text/plain": [
       "'aniket'"
      ]
     },
     "execution_count": 37,
     "metadata": {},
     "output_type": "execute_result"
    }
   ],
   "source": [
    "name"
   ]
  },
  {
   "cell_type": "code",
   "execution_count": 38,
   "id": "1a79cd1a-cd8e-4166-b251-38928b2f57c8",
   "metadata": {},
   "outputs": [],
   "source": [
    "#swapping elements\n",
    "a,b=10,20\n",
    "a,b=b,a"
   ]
  },
  {
   "cell_type": "code",
   "execution_count": 39,
   "id": "9417c66b-7850-4798-82ce-9d0d287a929a",
   "metadata": {},
   "outputs": [
    {
     "data": {
      "text/plain": [
       "20"
      ]
     },
     "execution_count": 39,
     "metadata": {},
     "output_type": "execute_result"
    }
   ],
   "source": [
    "a"
   ]
  },
  {
   "cell_type": "code",
   "execution_count": 40,
   "id": "054f06b3-6b59-4603-9e1d-ff072d030a6e",
   "metadata": {},
   "outputs": [
    {
     "data": {
      "text/plain": [
       "10"
      ]
     },
     "execution_count": 40,
     "metadata": {},
     "output_type": "execute_result"
    }
   ],
   "source": [
    "b"
   ]
  },
  {
   "cell_type": "code",
   "execution_count": 4,
   "id": "c6274126-168b-4f1b-a00e-a6ce8b7f9101",
   "metadata": {},
   "outputs": [],
   "source": [
    "a,b=40,50\n",
    "a,b=b,a "
   ]
  },
  {
   "cell_type": "code",
   "execution_count": 5,
   "id": "afbc40b9-7ceb-452e-9faf-271d7d976234",
   "metadata": {},
   "outputs": [
    {
     "data": {
      "text/plain": [
       "50"
      ]
     },
     "execution_count": 5,
     "metadata": {},
     "output_type": "execute_result"
    }
   ],
   "source": [
    "a"
   ]
  },
  {
   "cell_type": "code",
   "execution_count": 6,
   "id": "b5633134-a885-40f9-93d8-af1065a23a20",
   "metadata": {},
   "outputs": [
    {
     "data": {
      "text/plain": [
       "40"
      ]
     },
     "execution_count": 6,
     "metadata": {},
     "output_type": "execute_result"
    }
   ],
   "source": [
    "b"
   ]
  },
  {
   "cell_type": "code",
   "execution_count": null,
   "id": "3aa957dc-2164-43b7-afca-605ae541bdfb",
   "metadata": {},
   "outputs": [],
   "source": []
  },
  {
   "cell_type": "code",
   "execution_count": null,
   "id": "8be062ce-a55f-4018-8945-1eb57c0629cb",
   "metadata": {},
   "outputs": [],
   "source": []
  },
  {
   "cell_type": "code",
   "execution_count": null,
   "id": "da2b18ff-febb-4cf1-a1c6-6e176c93e4b8",
   "metadata": {},
   "outputs": [],
   "source": []
  },
  {
   "cell_type": "code",
   "execution_count": null,
   "id": "041f6d01-2d18-4ba8-b66e-4dfb1cac90ff",
   "metadata": {},
   "outputs": [],
   "source": []
  },
  {
   "cell_type": "code",
   "execution_count": null,
   "id": "0f5b50bc-2227-4890-93ec-b96be84aed1c",
   "metadata": {},
   "outputs": [],
   "source": []
  },
  {
   "cell_type": "code",
   "execution_count": null,
   "id": "536947a1-6a36-435c-a307-8238c6b42b8a",
   "metadata": {},
   "outputs": [],
   "source": []
  }
 ],
 "metadata": {
  "kernelspec": {
   "display_name": "Python 3 (ipykernel)",
   "language": "python",
   "name": "python3"
  },
  "language_info": {
   "codemirror_mode": {
    "name": "ipython",
    "version": 3
   },
   "file_extension": ".py",
   "mimetype": "text/x-python",
   "name": "python",
   "nbconvert_exporter": "python",
   "pygments_lexer": "ipython3",
   "version": "3.12.7"
  }
 },
 "nbformat": 4,
 "nbformat_minor": 5
}
