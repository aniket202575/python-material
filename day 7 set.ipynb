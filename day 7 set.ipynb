{
 "cells": [
  {
   "cell_type": "markdown",
   "id": "dc9bac44-e053-424d-9535-f5c307a3cce6",
   "metadata": {},
   "source": [
    "# set"
   ]
  },
  {
   "cell_type": "markdown",
   "id": "31a9eebe-d3aa-4413-bec0-9a7b5ffa5dae",
   "metadata": {},
   "source": [
    "- declare:{}\n",
    "- dosent allow duplicate===>unique\n",
    "- mutable\n",
    "- unordered : we cant do indexing and slicing\n",
    "- accepts multiple data types: but not list,set and dict"
   ]
  },
  {
   "cell_type": "code",
   "execution_count": 1,
   "id": "3b560d16-c5f1-43b2-b7ac-0af1bae5da61",
   "metadata": {},
   "outputs": [],
   "source": [
    "s={1,2,\"aniket\",(4,8),7.8,True}\n",
    "#opp"
   ]
  },
  {
   "cell_type": "code",
   "execution_count": 2,
   "id": "dcc5567e-cda5-4569-ba28-a10f3f6066ae",
   "metadata": {},
   "outputs": [
    {
     "name": "stderr",
     "output_type": "stream",
     "text": [
      "<>:1: SyntaxWarning: 'float' object is not subscriptable; perhaps you missed a comma?\n",
      "<>:1: SyntaxWarning: 'float' object is not subscriptable; perhaps you missed a comma?\n",
      "C:\\Users\\anike\\AppData\\Local\\Temp\\ipykernel_1368\\2834188819.py:1: SyntaxWarning: 'float' object is not subscriptable; perhaps you missed a comma?\n",
      "  t=(1,2.3[7,8],\"aniket\",{4,4},{\"name\":\"aniket\"},True,(4,9))\n",
      "C:\\Users\\anike\\AppData\\Local\\Temp\\ipykernel_1368\\2834188819.py:1: SyntaxWarning: 'float' object is not subscriptable; perhaps you missed a comma?\n",
      "  t=(1,2.3[7,8],\"aniket\",{4,4},{\"name\":\"aniket\"},True,(4,9))\n",
      "C:\\Users\\anike\\AppData\\Local\\Temp\\ipykernel_1368\\2834188819.py:1: SyntaxWarning: 'float' object is not subscriptable; perhaps you missed a comma?\n",
      "  t=(1,2.3[7,8],\"aniket\",{4,4},{\"name\":\"aniket\"},True,(4,9))\n",
      "C:\\Users\\anike\\AppData\\Local\\Temp\\ipykernel_1368\\2834188819.py:1: SyntaxWarning: 'float' object is not subscriptable; perhaps you missed a comma?\n",
      "  t=(1,2.3[7,8],\"aniket\",{4,4},{\"name\":\"aniket\"},True,(4,9))\n",
      "C:\\Users\\anike\\AppData\\Local\\Temp\\ipykernel_1368\\2834188819.py:1: SyntaxWarning: 'float' object is not subscriptable; perhaps you missed a comma?\n",
      "  t=(1,2.3[7,8],\"aniket\",{4,4},{\"name\":\"aniket\"},True,(4,9))\n"
     ]
    },
    {
     "ename": "TypeError",
     "evalue": "'float' object is not subscriptable",
     "output_type": "error",
     "traceback": [
      "\u001b[1;31m---------------------------------------------------------------------------\u001b[0m",
      "\u001b[1;31mTypeError\u001b[0m                                 Traceback (most recent call last)",
      "Cell \u001b[1;32mIn[2], line 1\u001b[0m\n\u001b[1;32m----> 1\u001b[0m t\u001b[38;5;241m=\u001b[39m(\u001b[38;5;241m1\u001b[39m,\u001b[38;5;241m2.3\u001b[39m[\u001b[38;5;241m7\u001b[39m,\u001b[38;5;241m8\u001b[39m],\u001b[38;5;124m\"\u001b[39m\u001b[38;5;124maniket\u001b[39m\u001b[38;5;124m\"\u001b[39m,{\u001b[38;5;241m4\u001b[39m,\u001b[38;5;241m4\u001b[39m},{\u001b[38;5;124m\"\u001b[39m\u001b[38;5;124mname\u001b[39m\u001b[38;5;124m\"\u001b[39m:\u001b[38;5;124m\"\u001b[39m\u001b[38;5;124maniket\u001b[39m\u001b[38;5;124m\"\u001b[39m},\u001b[38;5;28;01mTrue\u001b[39;00m,(\u001b[38;5;241m4\u001b[39m,\u001b[38;5;241m9\u001b[39m))\n",
      "\u001b[1;31mTypeError\u001b[0m: 'float' object is not subscriptable"
     ]
    }
   ],
   "source": [
    "t=(1,2.3[7,8],\"aniket\",{4,4},{\"name\":\"aniket\"},True,(4,9))"
   ]
  },
  {
   "cell_type": "code",
   "execution_count": null,
   "id": "f7fdbb11-9bc9-489d-b829-86c774f697a9",
   "metadata": {},
   "outputs": [],
   "source": [
    "l=[1,2.3[7,8],\"aniket\",{4,4},{\"name\":\"aniket\"},True,(4,5)]"
   ]
  },
  {
   "cell_type": "markdown",
   "id": "5c6f8030-f017-4f67-872a-0b288e04eb44",
   "metadata": {},
   "source": [
    "# Mutable"
   ]
  },
  {
   "cell_type": "markdown",
   "id": "ecd4d03f-0113-4757-929e-821322a5e129",
   "metadata": {},
   "source": [
    "## Adding elements"
   ]
  },
  {
   "cell_type": "code",
   "execution_count": null,
   "id": "ecf516ed-de70-4f79-91b4-433487732438",
   "metadata": {},
   "outputs": [],
   "source": [
    "l=[1,2,3]\n",
    "l.append(4)  #single: last position"
   ]
  },
  {
   "cell_type": "code",
   "execution_count": null,
   "id": "9cffca87-325c-4835-8d05-79121dedb499",
   "metadata": {},
   "outputs": [],
   "source": [
    "l"
   ]
  },
  {
   "cell_type": "code",
   "execution_count": null,
   "id": "651adc0c-ecc4-4847-9739-d415dc43dadf",
   "metadata": {},
   "outputs": [],
   "source": [
    "l.extend([8,6])  #multiple : last position"
   ]
  },
  {
   "cell_type": "code",
   "execution_count": null,
   "id": "bd992879-2477-43e5-a9dd-b6b2a616fcf3",
   "metadata": {},
   "outputs": [],
   "source": [
    "l"
   ]
  },
  {
   "cell_type": "code",
   "execution_count": null,
   "id": "ae089fe4-4fe1-472c-ad49-0fb3c9c24674",
   "metadata": {},
   "outputs": [],
   "source": [
    "s={1,2,\"aniket\",(4,8),7.8,True}"
   ]
  },
  {
   "cell_type": "code",
   "execution_count": null,
   "id": "840f4185-24d2-44b2-9cbf-111008cab4d4",
   "metadata": {
    "scrolled": true
   },
   "outputs": [],
   "source": [
    "s"
   ]
  },
  {
   "cell_type": "markdown",
   "id": "eae03350-ca04-4b36-8e3a-1975bf58294a",
   "metadata": {},
   "source": [
    "## add(): single element\n"
   ]
  },
  {
   "cell_type": "code",
   "execution_count": null,
   "id": "e5aa91fe-a957-4f29-987c-32494b0b50f1",
   "metadata": {},
   "outputs": [],
   "source": [
    "s.add(\"python\")\n",
    "s"
   ]
  },
  {
   "cell_type": "code",
   "execution_count": null,
   "id": "363d59f0-21bc-40f1-9d97-af3e78f09072",
   "metadata": {},
   "outputs": [],
   "source": [
    "s.add(500)\n",
    "s"
   ]
  },
  {
   "cell_type": "code",
   "execution_count": null,
   "id": "1a48d7db-129d-42c3-b36d-d7c839dafedb",
   "metadata": {},
   "outputs": [],
   "source": [
    "#tupple===>int===>flat===>int\n",
    "s.add((8,9))\n"
   ]
  },
  {
   "cell_type": "code",
   "execution_count": null,
   "id": "009f0814-6ba0-4977-8624-b7cb96e35eff",
   "metadata": {},
   "outputs": [],
   "source": [
    "s"
   ]
  },
  {
   "cell_type": "markdown",
   "id": "afe35b55-20e5-445a-b7d5-babd225b7e41",
   "metadata": {},
   "source": [
    "## update():multiple element"
   ]
  },
  {
   "cell_type": "code",
   "execution_count": null,
   "id": "f74b6f73-0923-4e55-bb47-a629512ecb5a",
   "metadata": {},
   "outputs": [],
   "source": [
    "s.update([4,5.5])\n",
    "s"
   ]
  },
  {
   "cell_type": "code",
   "execution_count": null,
   "id": "c3e9fb18-2415-44f2-83e3-31ee16241182",
   "metadata": {},
   "outputs": [],
   "source": [
    "s.update([\"data\",4,5])\n",
    "s"
   ]
  },
  {
   "cell_type": "code",
   "execution_count": null,
   "id": "559c36cd-e417-48ef-97c0-02af1375ef10",
   "metadata": {},
   "outputs": [],
   "source": [
    "s[1]"
   ]
  },
  {
   "cell_type": "code",
   "execution_count": null,
   "id": "2faae1de-5621-420a-bf51-f72d8f9a16c9",
   "metadata": {},
   "outputs": [],
   "source": [
    "s.update((4000,6000,8000))\n",
    "print(s)"
   ]
  },
  {
   "cell_type": "code",
   "execution_count": null,
   "id": "fa484444-90b3-4e7d-ba71-e81bf27f5b4c",
   "metadata": {
    "scrolled": true
   },
   "outputs": [],
   "source": [
    "s.add((78,78))\n",
    "s"
   ]
  },
  {
   "cell_type": "code",
   "execution_count": null,
   "id": "d57fd0a7-acef-4b81-8046-af75866bb200",
   "metadata": {},
   "outputs": [],
   "source": [
    "l=[\"aniket\",\"nikhil\"]\n",
    "l[0]=\"Gouri\"\n",
    "l"
   ]
  },
  {
   "cell_type": "code",
   "execution_count": 3,
   "id": "8bc3137a-02c9-498e-a540-5a8a6ccd44a5",
   "metadata": {},
   "outputs": [
    {
     "ename": "NameError",
     "evalue": "name 'l' is not defined",
     "output_type": "error",
     "traceback": [
      "\u001b[1;31m---------------------------------------------------------------------------\u001b[0m",
      "\u001b[1;31mNameError\u001b[0m                                 Traceback (most recent call last)",
      "Cell \u001b[1;32mIn[3], line 1\u001b[0m\n\u001b[1;32m----> 1\u001b[0m l[\u001b[38;5;241m1\u001b[39m]\u001b[38;5;241m=\u001b[39m\u001b[38;5;124m\"\u001b[39m\u001b[38;5;124mnilesh\u001b[39m\u001b[38;5;124m\"\u001b[39m\n\u001b[0;32m      2\u001b[0m l\n",
      "\u001b[1;31mNameError\u001b[0m: name 'l' is not defined"
     ]
    }
   ],
   "source": [
    "l[1]=\"nilesh\"\n",
    "l"
   ]
  },
  {
   "cell_type": "code",
   "execution_count": 4,
   "id": "51db9a69-d4ad-4ece-8922-cb747e46f1ce",
   "metadata": {},
   "outputs": [
    {
     "data": {
      "text/plain": [
       "['aniket', 'nikhil']"
      ]
     },
     "execution_count": 4,
     "metadata": {},
     "output_type": "execute_result"
    }
   ],
   "source": [
    "t=(\"aniket\",\"nikhil\")\n",
    "#immutable \n",
    "#type casting\n",
    "#tuple to list\n",
    "t_list=list(t)\n",
    "t_list"
   ]
  },
  {
   "cell_type": "code",
   "execution_count": 5,
   "id": "2c307474-f7eb-4913-b872-4b7e5b029798",
   "metadata": {},
   "outputs": [
    {
     "data": {
      "text/plain": [
       "['neha', 'nikhil']"
      ]
     },
     "execution_count": 5,
     "metadata": {},
     "output_type": "execute_result"
    }
   ],
   "source": [
    "t_list[0]=\"neha\"\n",
    "t_list"
   ]
  },
  {
   "cell_type": "code",
   "execution_count": 6,
   "id": "1d2d7fe5-6567-47dd-ab56-647cef49637b",
   "metadata": {},
   "outputs": [
    {
     "data": {
      "text/plain": [
       "('neha', 'nikhil')"
      ]
     },
     "execution_count": 6,
     "metadata": {},
     "output_type": "execute_result"
    }
   ],
   "source": [
    "t=tuple(t_list)\n",
    "t"
   ]
  },
  {
   "cell_type": "markdown",
   "id": "1f577bd4-a8cc-446b-b304-20659dffc763",
   "metadata": {},
   "source": [
    "## Removing elements form set"
   ]
  },
  {
   "cell_type": "markdown",
   "id": "79689209-1ecb-48d5-8ec1-e3aa0d66d184",
   "metadata": {},
   "source": [
    "- remove()"
   ]
  },
  {
   "cell_type": "code",
   "execution_count": 7,
   "id": "cf966728-cb79-4d75-8311-2daa2fc12657",
   "metadata": {},
   "outputs": [
    {
     "name": "stdout",
     "output_type": "stream",
     "text": [
      "{1, 2, 'aniket', (4, 8), 7.8}\n"
     ]
    }
   ],
   "source": [
    "\n",
    "print(s)"
   ]
  },
  {
   "cell_type": "code",
   "execution_count": 12,
   "id": "e44a520e-2df7-4810-a612-d0612bc865ac",
   "metadata": {},
   "outputs": [
    {
     "ename": "KeyError",
     "evalue": "4000",
     "output_type": "error",
     "traceback": [
      "\u001b[1;31m---------------------------------------------------------------------------\u001b[0m",
      "\u001b[1;31mKeyError\u001b[0m                                  Traceback (most recent call last)",
      "Cell \u001b[1;32mIn[12], line 1\u001b[0m\n\u001b[1;32m----> 1\u001b[0m s\u001b[38;5;241m.\u001b[39mremove(\u001b[38;5;241m4000\u001b[39m)\n\u001b[0;32m      3\u001b[0m s\n",
      "\u001b[1;31mKeyError\u001b[0m: 4000"
     ]
    }
   ],
   "source": [
    "s.remove(4000)\n",
    "\n",
    "s"
   ]
  },
  {
   "cell_type": "code",
   "execution_count": 13,
   "id": "4c8babe8-7fc9-4b56-b1b6-bca301aca9c5",
   "metadata": {},
   "outputs": [
    {
     "ename": "KeyError",
     "evalue": "'gfhfhjf'",
     "output_type": "error",
     "traceback": [
      "\u001b[1;31m---------------------------------------------------------------------------\u001b[0m",
      "\u001b[1;31mKeyError\u001b[0m                                  Traceback (most recent call last)",
      "Cell \u001b[1;32mIn[13], line 1\u001b[0m\n\u001b[1;32m----> 1\u001b[0m s\u001b[38;5;241m.\u001b[39mremove(\u001b[38;5;124m\"\u001b[39m\u001b[38;5;124mgfhfhjf\u001b[39m\u001b[38;5;124m\"\u001b[39m)\n\u001b[0;32m      2\u001b[0m s\n",
      "\u001b[1;31mKeyError\u001b[0m: 'gfhfhjf'"
     ]
    }
   ],
   "source": [
    "s.remove(\"gfhfhjf\")\n",
    "s"
   ]
  },
  {
   "cell_type": "code",
   "execution_count": 14,
   "id": "cc9b1bf9-32b0-42ad-956c-61e91618df75",
   "metadata": {},
   "outputs": [
    {
     "data": {
      "text/plain": [
       "{(4, 8), 1, 2}"
      ]
     },
     "execution_count": 14,
     "metadata": {},
     "output_type": "execute_result"
    }
   ],
   "source": [
    "s.discard(7.8)\n",
    "s"
   ]
  },
  {
   "cell_type": "code",
   "execution_count": 15,
   "id": "7a443bbb-1506-4a1e-a8e3-808183a3d208",
   "metadata": {},
   "outputs": [
    {
     "data": {
      "text/plain": [
       "{(4, 8), 1, 2}"
      ]
     },
     "execution_count": 15,
     "metadata": {},
     "output_type": "execute_result"
    }
   ],
   "source": [
    "s.discard(\"aniket\")\n",
    "s"
   ]
  },
  {
   "cell_type": "code",
   "execution_count": null,
   "id": "bf62be08-2077-488b-8218-757a6cca314e",
   "metadata": {},
   "outputs": [],
   "source": []
  },
  {
   "cell_type": "code",
   "execution_count": null,
   "id": "6ad42b81-fed7-4eab-b944-2299ef76d8ec",
   "metadata": {},
   "outputs": [],
   "source": []
  },
  {
   "cell_type": "markdown",
   "id": "58eba546-9a36-418d-bae2-2f28130f7171",
   "metadata": {},
   "source": [
    "# pop()"
   ]
  },
  {
   "cell_type": "code",
   "execution_count": 16,
   "id": "aeb29bf2-38d7-4076-ae38-748887ec203a",
   "metadata": {},
   "outputs": [],
   "source": [
    "l=[1,2,3]\n",
    "t=(1,2.5,8,9)\n",
    "s={7,1,1,5,6}\n"
   ]
  },
  {
   "cell_type": "code",
   "execution_count": 17,
   "id": "64c29528-97e7-4da0-93fc-83ff3d04aa32",
   "metadata": {},
   "outputs": [
    {
     "data": {
      "text/plain": [
       "3"
      ]
     },
     "execution_count": 17,
     "metadata": {},
     "output_type": "execute_result"
    }
   ],
   "source": [
    "l.pop() #without index: last pick and then remove in the least\n"
   ]
  },
  {
   "cell_type": "code",
   "execution_count": 18,
   "id": "3fe88eff-7f58-4176-9421-591dcdd3db35",
   "metadata": {},
   "outputs": [
    {
     "data": {
      "text/plain": [
       "[1, 2]"
      ]
     },
     "execution_count": 18,
     "metadata": {},
     "output_type": "execute_result"
    }
   ],
   "source": [
    "l"
   ]
  },
  {
   "cell_type": "code",
   "execution_count": 19,
   "id": "cafd468a-d966-4bdc-a58a-65f851b2afa1",
   "metadata": {},
   "outputs": [
    {
     "data": {
      "text/plain": [
       "1"
      ]
     },
     "execution_count": 19,
     "metadata": {},
     "output_type": "execute_result"
    }
   ],
   "source": [
    "l.pop(0) #with index"
   ]
  },
  {
   "cell_type": "code",
   "execution_count": 20,
   "id": "96511b8c-26bc-4f7e-9f81-2d266927c3f1",
   "metadata": {},
   "outputs": [
    {
     "data": {
      "text/plain": [
       "[2]"
      ]
     },
     "execution_count": 20,
     "metadata": {},
     "output_type": "execute_result"
    }
   ],
   "source": [
    "l"
   ]
  },
  {
   "cell_type": "code",
   "execution_count": 21,
   "id": "ef577099-40a5-4575-9e67-3bbddd2a41f0",
   "metadata": {},
   "outputs": [
    {
     "ename": "AttributeError",
     "evalue": "'tuple' object has no attribute 'pop'",
     "output_type": "error",
     "traceback": [
      "\u001b[1;31m---------------------------------------------------------------------------\u001b[0m",
      "\u001b[1;31mAttributeError\u001b[0m                            Traceback (most recent call last)",
      "Cell \u001b[1;32mIn[21], line 1\u001b[0m\n\u001b[1;32m----> 1\u001b[0m t\u001b[38;5;241m.\u001b[39mpop()\n",
      "\u001b[1;31mAttributeError\u001b[0m: 'tuple' object has no attribute 'pop'"
     ]
    }
   ],
   "source": [
    "t.pop()"
   ]
  },
  {
   "cell_type": "code",
   "execution_count": 22,
   "id": "fb7980d8-fe23-44f4-925b-d8faffee984c",
   "metadata": {},
   "outputs": [
    {
     "data": {
      "text/plain": [
       "1"
      ]
     },
     "execution_count": 22,
     "metadata": {},
     "output_type": "execute_result"
    }
   ],
   "source": [
    "s.pop()"
   ]
  },
  {
   "cell_type": "code",
   "execution_count": 23,
   "id": "026c3ddf-bec2-4ed2-b1b2-d66bab227b12",
   "metadata": {},
   "outputs": [
    {
     "data": {
      "text/plain": [
       "{5, 6, 7}"
      ]
     },
     "execution_count": 23,
     "metadata": {},
     "output_type": "execute_result"
    }
   ],
   "source": [
    "s"
   ]
  },
  {
   "cell_type": "code",
   "execution_count": 24,
   "id": "0e85be16-f934-4ce2-b34d-82e9676746b9",
   "metadata": {},
   "outputs": [
    {
     "ename": "TypeError",
     "evalue": "set.pop() takes no arguments (1 given)",
     "output_type": "error",
     "traceback": [
      "\u001b[1;31m---------------------------------------------------------------------------\u001b[0m",
      "\u001b[1;31mTypeError\u001b[0m                                 Traceback (most recent call last)",
      "Cell \u001b[1;32mIn[24], line 1\u001b[0m\n\u001b[1;32m----> 1\u001b[0m s\u001b[38;5;241m.\u001b[39mpop(\u001b[38;5;241m0\u001b[39m)\n",
      "\u001b[1;31mTypeError\u001b[0m: set.pop() takes no arguments (1 given)"
     ]
    }
   ],
   "source": [
    "s.pop(0)"
   ]
  },
  {
   "cell_type": "markdown",
   "id": "f318c5a6-2cfe-47c0-bc4c-ade44769b27a",
   "metadata": {},
   "source": [
    "# in opperator and not in "
   ]
  },
  {
   "cell_type": "code",
   "execution_count": 25,
   "id": "d08f5946-51ce-478e-b8df-878ef3555c12",
   "metadata": {},
   "outputs": [],
   "source": [
    "string=\"data science\"\n",
    "l=[1,2,3]\n",
    "t=(1,2.5,8,9)\n",
    "s={7,1,1,5,6}\n"
   ]
  },
  {
   "cell_type": "code",
   "execution_count": 26,
   "id": "d361cbbc-b8e2-42fe-830c-65240bd0086d",
   "metadata": {},
   "outputs": [
    {
     "name": "stdout",
     "output_type": "stream",
     "text": [
      "12\n",
      "3\n",
      "4\n",
      "4\n"
     ]
    }
   ],
   "source": [
    "print(len(string))\n",
    "print(len(l))\n",
    "print(len(t))\n",
    "print(len(s))"
   ]
  },
  {
   "cell_type": "code",
   "execution_count": 27,
   "id": "3870deaf-ea87-4b91-adda-cd0761f39e3e",
   "metadata": {},
   "outputs": [
    {
     "name": "stdout",
     "output_type": "stream",
     "text": [
      "1\n",
      "1\n",
      "1\n"
     ]
    },
    {
     "ename": "AttributeError",
     "evalue": "'set' object has no attribute 'count'",
     "output_type": "error",
     "traceback": [
      "\u001b[1;31m---------------------------------------------------------------------------\u001b[0m",
      "\u001b[1;31mAttributeError\u001b[0m                            Traceback (most recent call last)",
      "Cell \u001b[1;32mIn[27], line 4\u001b[0m\n\u001b[0;32m      2\u001b[0m \u001b[38;5;28mprint\u001b[39m(l\u001b[38;5;241m.\u001b[39mcount(\u001b[38;5;241m1\u001b[39m))          \u001b[38;5;66;03m#list: duplicate \u001b[39;00m\n\u001b[0;32m      3\u001b[0m \u001b[38;5;28mprint\u001b[39m(t\u001b[38;5;241m.\u001b[39mcount(\u001b[38;5;241m2.5\u001b[39m))        \u001b[38;5;66;03m#tuple: diplicate\u001b[39;00m\n\u001b[1;32m----> 4\u001b[0m \u001b[38;5;28mprint\u001b[39m(s\u001b[38;5;241m.\u001b[39mcount(\u001b[38;5;241m5\u001b[39m))\n",
      "\u001b[1;31mAttributeError\u001b[0m: 'set' object has no attribute 'count'"
     ]
    }
   ],
   "source": [
    "print(string.count(\"d\"))  #dublicate character\n",
    "print(l.count(1))          #list: duplicate \n",
    "print(t.count(2.5))        #tuple: diplicate\n",
    "print(s.count(5))           #set:unique\n"
   ]
  },
  {
   "cell_type": "code",
   "execution_count": 28,
   "id": "df7c0acc-d78c-4fbd-867d-474ff725cf8e",
   "metadata": {},
   "outputs": [
    {
     "name": "stdout",
     "output_type": "stream",
     "text": [
      "3\n",
      "9\n",
      "7\n",
      "6\n",
      "20.5\n",
      "19\n",
      "1\n",
      "1\n",
      "1\n"
     ]
    }
   ],
   "source": [
    "string=\"data science\"\n",
    "l=[1,2,3]\n",
    "t=(1,2.5,8,9)\n",
    "s={7,1,1,5,6}\n",
    "\n",
    "\n",
    "\n",
    "print(max(l))\n",
    "print(max(t))\n",
    "print(max(s))\n",
    "\n",
    "\n",
    "\n",
    "print(sum(l))\n",
    "print(sum(t))\n",
    "print(sum(s))\n",
    "\n",
    "\n",
    "print(min(l))\n",
    "print(min(t))\n",
    "print(min(s))\n",
    "\n",
    "\n"
   ]
  },
  {
   "cell_type": "code",
   "execution_count": 29,
   "id": "397478df-104c-4a5f-9be3-8e7e5047a12a",
   "metadata": {},
   "outputs": [
    {
     "name": "stdout",
     "output_type": "stream",
     "text": [
      "True\n",
      "False\n",
      "False\n",
      "True\n",
      "True\n"
     ]
    }
   ],
   "source": [
    "string=\"data science\"\n",
    "l=[1,2,3]\n",
    "t=(1,2.5,8,9)\n",
    "s={7,1,1,5,6}\n",
    "\n",
    "print(\"d\" in string)\n",
    "print(5 in l)\n",
    "print(2.5 not in t)\n",
    "print(1 in s)\n",
    "print(8 not in s)\n"
   ]
  },
  {
   "cell_type": "code",
   "execution_count": 30,
   "id": "fc789061-2983-42ef-99ef-a6cf0be2bc17",
   "metadata": {},
   "outputs": [
    {
     "name": "stdout",
     "output_type": "stream",
     "text": [
      "True\n",
      "True\n",
      "False\n",
      "True\n",
      "True\n"
     ]
    }
   ],
   "source": [
    "string=\"aniket unde \"\n",
    "l=[1,2,4,5]\n",
    "t=(1,2.5,8,3)\n",
    "s={7,1,5,4}\n",
    "\n",
    "\n",
    "\n",
    "print(\"a\" in string)\n",
    "print(5 in l)\n",
    "print(2.5 not in t)\n",
    "print(1 in s)\n",
    "print(8 not in s)\n",
    "\n"
   ]
  },
  {
   "cell_type": "markdown",
   "id": "1489ec72-33be-4608-be96-fe8605264497",
   "metadata": {},
   "source": [
    "# Set opperators"
   ]
  },
  {
   "cell_type": "markdown",
   "id": "355fc46b-418d-4041-9857-5d94c9ff2405",
   "metadata": {},
   "source": [
    "- union()  OR  | : combine the given sets\n",
    "- intersection() OR & : common elements\n",
    "- difference ()  or -: element present in set1 but not in set2\n",
    "- symmetric_difference() OR ^ ;uncommon elements \n"
   ]
  },
  {
   "cell_type": "code",
   "execution_count": 31,
   "id": "455f6634-b317-4115-9e1c-7d6d802e8ce6",
   "metadata": {},
   "outputs": [],
   "source": [
    "set1={1,1,2,3,4,5,7,67}\n",
    "set2={4,5,8,9,10}"
   ]
  },
  {
   "cell_type": "code",
   "execution_count": 32,
   "id": "5d053f6e-7062-4236-90be-b1c64c20190f",
   "metadata": {},
   "outputs": [
    {
     "data": {
      "text/plain": [
       "{1, 2, 3, 4, 5, 7, 8, 9, 10, 67}"
      ]
     },
     "execution_count": 32,
     "metadata": {},
     "output_type": "execute_result"
    }
   ],
   "source": [
    "set1.union(set2)"
   ]
  },
  {
   "cell_type": "code",
   "execution_count": 33,
   "id": "ef510f1f-fa2f-4035-84b1-f17bf9736695",
   "metadata": {},
   "outputs": [
    {
     "data": {
      "text/plain": [
       "{1, 2, 3, 4, 5, 7, 8, 9, 10, 67}"
      ]
     },
     "execution_count": 33,
     "metadata": {},
     "output_type": "execute_result"
    }
   ],
   "source": [
    "set1|set2"
   ]
  },
  {
   "cell_type": "code",
   "execution_count": 34,
   "id": "bca3194e-f560-4590-9ea5-46b8e91afe6d",
   "metadata": {},
   "outputs": [
    {
     "data": {
      "text/plain": [
       "{4, 5}"
      ]
     },
     "execution_count": 34,
     "metadata": {},
     "output_type": "execute_result"
    }
   ],
   "source": [
    "#intersection\n",
    "set1.intersection(set2)"
   ]
  },
  {
   "cell_type": "code",
   "execution_count": 35,
   "id": "46c24dc8-3b8e-4c5a-94b5-f98d1aa4f022",
   "metadata": {},
   "outputs": [
    {
     "data": {
      "text/plain": [
       "{4, 5}"
      ]
     },
     "execution_count": 35,
     "metadata": {},
     "output_type": "execute_result"
    }
   ],
   "source": [
    "set1&set2"
   ]
  },
  {
   "cell_type": "code",
   "execution_count": 36,
   "id": "5d53a45f-01ff-4f88-8288-07e854bfeae7",
   "metadata": {},
   "outputs": [
    {
     "data": {
      "text/plain": [
       "{1, 2, 3, 7, 67}"
      ]
     },
     "execution_count": 36,
     "metadata": {},
     "output_type": "execute_result"
    }
   ],
   "source": [
    "#difference\n",
    "set1.difference(set2)"
   ]
  },
  {
   "cell_type": "code",
   "execution_count": 37,
   "id": "47fd95b6-8fcf-41bc-a585-1da4ff82d6f6",
   "metadata": {},
   "outputs": [
    {
     "data": {
      "text/plain": [
       "{1, 2, 3, 7, 67}"
      ]
     },
     "execution_count": 37,
     "metadata": {},
     "output_type": "execute_result"
    }
   ],
   "source": [
    "set1-set2"
   ]
  },
  {
   "cell_type": "code",
   "execution_count": 38,
   "id": "e56b1769-4eea-4b98-b912-a00da5a253c0",
   "metadata": {},
   "outputs": [
    {
     "data": {
      "text/plain": [
       "{1, 2, 3, 7, 8, 9, 10, 67}"
      ]
     },
     "execution_count": 38,
     "metadata": {},
     "output_type": "execute_result"
    }
   ],
   "source": [
    "#symmetric_difference\n",
    "set1.symmetric_difference(set2)"
   ]
  },
  {
   "cell_type": "code",
   "execution_count": 39,
   "id": "1d38138f-0a8c-431f-8bcd-e258c3b0fcec",
   "metadata": {},
   "outputs": [
    {
     "data": {
      "text/plain": [
       "{1, 2, 3, 7, 8, 9, 10, 67}"
      ]
     },
     "execution_count": 39,
     "metadata": {},
     "output_type": "execute_result"
    }
   ],
   "source": [
    "set1^set2"
   ]
  },
  {
   "cell_type": "code",
   "execution_count": 40,
   "id": "8a89fea2-a7e7-4574-bf21-733ee2f3546b",
   "metadata": {},
   "outputs": [
    {
     "name": "stdout",
     "output_type": "stream",
     "text": [
      "{9}\n",
      "{5, 9, 12}\n",
      "{8, 7}\n",
      "{5, 7, 8, 9, 12}\n"
     ]
    }
   ],
   "source": [
    "s={7,8,9}\n",
    "s1={12,7,5,8}\n",
    "print(s-s1)\n",
    "print(s^s1)\n",
    "print(s&s1)\n",
    "print(s|s1)"
   ]
  },
  {
   "cell_type": "code",
   "execution_count": 41,
   "id": "0290bb52-ecdc-4086-b6f4-b07cbcae9d49",
   "metadata": {},
   "outputs": [],
   "source": [
    "set1={1,1,2,3,4,5,7,67,65,64}\n",
    "set2={4,5,8,9,10,12,11}"
   ]
  },
  {
   "cell_type": "code",
   "execution_count": 42,
   "id": "adfb31b7-ab94-46fc-8622-9469a3600c5a",
   "metadata": {},
   "outputs": [
    {
     "data": {
      "text/plain": [
       "{1, 2, 3, 4, 5, 7, 8, 9, 10, 11, 12, 64, 65, 67}"
      ]
     },
     "execution_count": 42,
     "metadata": {},
     "output_type": "execute_result"
    }
   ],
   "source": [
    "set1.union(set2)"
   ]
  },
  {
   "cell_type": "code",
   "execution_count": 43,
   "id": "ce0eb98e-be2b-4719-9009-cc94d3593290",
   "metadata": {},
   "outputs": [
    {
     "data": {
      "text/plain": [
       "{1, 2, 3, 7, 8, 9, 10, 11, 12, 64, 65, 67}"
      ]
     },
     "execution_count": 43,
     "metadata": {},
     "output_type": "execute_result"
    }
   ],
   "source": [
    "set1^set2"
   ]
  },
  {
   "cell_type": "code",
   "execution_count": 44,
   "id": "0064ca77-77e8-4058-89a8-2ec7aa12c65e",
   "metadata": {},
   "outputs": [
    {
     "data": {
      "text/plain": [
       "{1, 2, 3, 7, 64, 65, 67}"
      ]
     },
     "execution_count": 44,
     "metadata": {},
     "output_type": "execute_result"
    }
   ],
   "source": [
    "set1-set2"
   ]
  },
  {
   "cell_type": "code",
   "execution_count": 45,
   "id": "834f72f4-f354-4eb3-ba8f-3c69550bff6e",
   "metadata": {},
   "outputs": [
    {
     "data": {
      "text/plain": [
       "{4, 5}"
      ]
     },
     "execution_count": 45,
     "metadata": {},
     "output_type": "execute_result"
    }
   ],
   "source": [
    "set1&set2"
   ]
  },
  {
   "cell_type": "code",
   "execution_count": 46,
   "id": "6cc4564a-06e3-4628-904b-db12b8b072be",
   "metadata": {},
   "outputs": [
    {
     "data": {
      "text/plain": [
       "{4, 5}"
      ]
     },
     "execution_count": 46,
     "metadata": {},
     "output_type": "execute_result"
    }
   ],
   "source": [
    "set1.intersection(set2)"
   ]
  },
  {
   "cell_type": "code",
   "execution_count": 47,
   "id": "5d2fb849-9017-4925-b076-da4a1951db96",
   "metadata": {},
   "outputs": [
    {
     "data": {
      "text/plain": [
       "{1, 2, 3, 7, 64, 65, 67}"
      ]
     },
     "execution_count": 47,
     "metadata": {},
     "output_type": "execute_result"
    }
   ],
   "source": [
    "set1.difference(set2)"
   ]
  },
  {
   "cell_type": "code",
   "execution_count": 48,
   "id": "bc19768d-cad5-483b-adfd-49c7e252a138",
   "metadata": {},
   "outputs": [
    {
     "data": {
      "text/plain": [
       "{1, 2, 3, 7, 8, 9, 10, 11, 12, 64, 65, 67}"
      ]
     },
     "execution_count": 48,
     "metadata": {},
     "output_type": "execute_result"
    }
   ],
   "source": [
    "set1.symmetric_difference(set2)"
   ]
  },
  {
   "cell_type": "code",
   "execution_count": null,
   "id": "d30c2b27-db26-4013-ac10-296434c806d9",
   "metadata": {},
   "outputs": [],
   "source": []
  },
  {
   "cell_type": "code",
   "execution_count": null,
   "id": "6c078b92-0d98-4305-b8b4-9dab8e6244e3",
   "metadata": {},
   "outputs": [],
   "source": []
  },
  {
   "cell_type": "markdown",
   "id": "95676f69-a99b-4081-88d3-9595d8ff644e",
   "metadata": {},
   "source": [
    "- issubset()\n",
    "- issupperset()\n",
    "- isdisjoint()"
   ]
  },
  {
   "cell_type": "markdown",
   "id": "64ec4545-2f84-4bd1-a1a8-a9067488f6a4",
   "metadata": {},
   "source": [
    "# Frozenset()"
   ]
  },
  {
   "cell_type": "markdown",
   "id": "42231d9f-f592-4398-b376-dfbd3f85e19c",
   "metadata": {},
   "source": [
    " - feeeze the data type ===> immutable\n",
    "- it will take properties from tuple(immutable) and set(uniqueness)\n",
    "- it is an immutable version of set "
   ]
  },
  {
   "cell_type": "code",
   "execution_count": 49,
   "id": "cca0d94e-12ff-4b27-8bc9-9c818cc2d13c",
   "metadata": {},
   "outputs": [
    {
     "data": {
      "text/plain": [
       "[1, 2, 3, 1, 1, 32, 4, 5, 61, 1, 1, 2]"
      ]
     },
     "execution_count": 49,
     "metadata": {},
     "output_type": "execute_result"
    }
   ],
   "source": [
    "l=[1,2,3,1,1,32,4,5,61,1,1,2]\n",
    "l"
   ]
  },
  {
   "cell_type": "code",
   "execution_count": 50,
   "id": "026875e8-7e16-41e0-b1c3-e92265013fd9",
   "metadata": {},
   "outputs": [
    {
     "data": {
      "text/plain": [
       "frozenset({1, 2, 3, 4, 5, 32, 61})"
      ]
     },
     "execution_count": 50,
     "metadata": {},
     "output_type": "execute_result"
    }
   ],
   "source": [
    "l_frozenset=frozenset(l)\n",
    "l_frozenset"
   ]
  },
  {
   "cell_type": "code",
   "execution_count": 51,
   "id": "af392916-bd4b-4970-a80c-88617d894af4",
   "metadata": {},
   "outputs": [
    {
     "data": {
      "text/plain": [
       "frozenset({1, 2, 3})"
      ]
     },
     "execution_count": 51,
     "metadata": {},
     "output_type": "execute_result"
    }
   ],
   "source": [
    "t=(1,2,1,1,2,2,3,1,1,1,2,2)\n",
    "t_frozenset=frozenset(t)\n",
    "t_frozenset"
   ]
  },
  {
   "cell_type": "code",
   "execution_count": 52,
   "id": "d83856e8-b541-42fa-be2e-f3eb9645ff53",
   "metadata": {},
   "outputs": [
    {
     "data": {
      "text/plain": [
       "frozenset({1, 2, 3, 5, 6, 34})"
      ]
     },
     "execution_count": 52,
     "metadata": {},
     "output_type": "execute_result"
    }
   ],
   "source": [
    "set1={1,2,3,6,5,6,34}\n",
    "set1_frozenset=frozenset(set1)\n",
    "set1_frozenset"
   ]
  },
  {
   "cell_type": "code",
   "execution_count": 53,
   "id": "2a026a08-e23c-4a52-859d-e53130ff9112",
   "metadata": {},
   "outputs": [
    {
     "ename": "AttributeError",
     "evalue": "'frozenset' object has no attribute 'remove'",
     "output_type": "error",
     "traceback": [
      "\u001b[1;31m---------------------------------------------------------------------------\u001b[0m",
      "\u001b[1;31mAttributeError\u001b[0m                            Traceback (most recent call last)",
      "Cell \u001b[1;32mIn[53], line 1\u001b[0m\n\u001b[1;32m----> 1\u001b[0m set1_frozenset\u001b[38;5;241m.\u001b[39mremove()\n",
      "\u001b[1;31mAttributeError\u001b[0m: 'frozenset' object has no attribute 'remove'"
     ]
    }
   ],
   "source": [
    "set1_frozenset.remove()"
   ]
  },
  {
   "cell_type": "code",
   "execution_count": 60,
   "id": "b284e957-be1f-4b59-ab91-6673a8d764d1",
   "metadata": {},
   "outputs": [],
   "source": []
  },
  {
   "cell_type": "code",
   "execution_count": null,
   "id": "3f965d68-f573-4a4e-a268-8ede474b9bdc",
   "metadata": {},
   "outputs": [],
   "source": []
  },
  {
   "cell_type": "code",
   "execution_count": null,
   "id": "a2f82492-1b9a-484b-9bb5-ed862c5a393e",
   "metadata": {},
   "outputs": [],
   "source": []
  },
  {
   "cell_type": "code",
   "execution_count": null,
   "id": "f1e9a7ed-e4f8-40de-a7f4-06cc4723ab9c",
   "metadata": {},
   "outputs": [],
   "source": []
  },
  {
   "cell_type": "code",
   "execution_count": null,
   "id": "b869c7bc-2805-4554-accd-211617d22a78",
   "metadata": {},
   "outputs": [],
   "source": []
  },
  {
   "cell_type": "code",
   "execution_count": null,
   "id": "0a4ca0b0-ba86-4e7d-886d-91ae9897166f",
   "metadata": {},
   "outputs": [],
   "source": []
  },
  {
   "cell_type": "code",
   "execution_count": null,
   "id": "229dfeda-0064-4081-8162-913e0b229cc8",
   "metadata": {},
   "outputs": [],
   "source": []
  }
 ],
 "metadata": {
  "kernelspec": {
   "display_name": "Python 3 (ipykernel)",
   "language": "python",
   "name": "python3"
  },
  "language_info": {
   "codemirror_mode": {
    "name": "ipython",
    "version": 3
   },
   "file_extension": ".py",
   "mimetype": "text/x-python",
   "name": "python",
   "nbconvert_exporter": "python",
   "pygments_lexer": "ipython3",
   "version": "3.12.7"
  }
 },
 "nbformat": 4,
 "nbformat_minor": 5
}
