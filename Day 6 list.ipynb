{
 "cells": [
  {
   "cell_type": "markdown",
   "id": "94e3ecfc-f573-4948-8a95-91427785ac34",
   "metadata": {},
   "source": [
    "## List"
   ]
  },
  {
   "cell_type": "markdown",
   "id": "8ccf23d1-b34e-42bd-8100-93fa3a43bc5c",
   "metadata": {},
   "source": [
    "### - declare===[]\n",
    "- multiple data types element include(int,float,string,list,tuple,set,dict)\n",
    "- ordered and we can do indexing and slicing \n",
    "- mutable : we can add then chenge and remove\n",
    "- list can allow dublicate elements"
   ]
  },
  {
   "cell_type": "code",
   "execution_count": 168,
   "id": "4180bc17-c139-447c-9eac-33da856b0a55",
   "metadata": {
    "scrolled": true
   },
   "outputs": [],
   "source": [
    "l=[1,1.2,\"aniket\",[2,3,4],(2,3,4),{2,3,4},{\"name\":\"aniket\"},True]"
   ]
  },
  {
   "cell_type": "markdown",
   "id": "b369f02a-a944-464f-8e29-2a27ac8074f8",
   "metadata": {},
   "source": [
    "### adding elements in exisiting list "
   ]
  },
  {
   "cell_type": "code",
   "execution_count": 169,
   "id": "7fda4664-d9ec-487b-b1be-bf64e29c47d3",
   "metadata": {},
   "outputs": [],
   "source": [
    "#add 500 in a list\n",
    "#append: single element\n",
    "l.append(500)"
   ]
  },
  {
   "cell_type": "code",
   "execution_count": 170,
   "id": "bc2b2585-a131-49f5-9185-03ae6fc6fef5",
   "metadata": {
    "scrolled": true
   },
   "outputs": [
    {
     "name": "stdout",
     "output_type": "stream",
     "text": [
      "[1, 1.2, 'aniket', [2, 3, 4], (2, 3, 4), {2, 3, 4}, {'name': 'aniket'}, True, 500]\n"
     ]
    }
   ],
   "source": [
    "print(l)"
   ]
  },
  {
   "cell_type": "code",
   "execution_count": 171,
   "id": "226eed6c-c2e0-45a7-9897-7807c389a953",
   "metadata": {},
   "outputs": [],
   "source": [
    "#extend:multiple elements adding\n",
    "l.extend([1000,2000,3000,\"aniket\"])"
   ]
  },
  {
   "cell_type": "code",
   "execution_count": 172,
   "id": "86ef5911-3b88-49ab-9ccc-4b1d557500b1",
   "metadata": {},
   "outputs": [
    {
     "data": {
      "text/plain": [
       "[1,\n",
       " 1.2,\n",
       " 'aniket',\n",
       " [2, 3, 4],\n",
       " (2, 3, 4),\n",
       " {2, 3, 4},\n",
       " {'name': 'aniket'},\n",
       " True,\n",
       " 500,\n",
       " 1000,\n",
       " 2000,\n",
       " 3000,\n",
       " 'aniket']"
      ]
     },
     "execution_count": 172,
     "metadata": {},
     "output_type": "execute_result"
    }
   ],
   "source": [
    "l"
   ]
  },
  {
   "cell_type": "markdown",
   "id": "ec58131d-e1ce-414f-8b6e-8aa00e6fd0de",
   "metadata": {},
   "source": [
    "### chainging particular element"
   ]
  },
  {
   "cell_type": "code",
   "execution_count": 173,
   "id": "b70f0a70-d17e-4a58-95f5-ad7677167f8c",
   "metadata": {},
   "outputs": [],
   "source": [
    "#bu using index\n",
    "l[11]=\"nikhil\""
   ]
  },
  {
   "cell_type": "code",
   "execution_count": 174,
   "id": "15e4048b-dd64-4bd0-af33-d54a666f0213",
   "metadata": {},
   "outputs": [
    {
     "name": "stdout",
     "output_type": "stream",
     "text": [
      "[1, 1.2, 'aniket', [2, 3, 4], (2, 3, 4), {2, 3, 4}, {'name': 'aniket'}, True, 500, 1000, 2000, 'nikhil', 'aniket']\n"
     ]
    }
   ],
   "source": [
    "print(l)"
   ]
  },
  {
   "cell_type": "code",
   "execution_count": 175,
   "id": "060f3ec3-1917-4736-a820-3c1ba5bbf648",
   "metadata": {},
   "outputs": [
    {
     "name": "stdout",
     "output_type": "stream",
     "text": [
      "[100, 1.2, 'aniket', [2, 3, 4], (2, 3, 4), {2, 3, 4}, {'name': 'aniket'}, True, 500, 1000, 2000, 'nikhil', 'aniket']\n"
     ]
    }
   ],
   "source": [
    "l[0]=100\n",
    "print(l)\n"
   ]
  },
  {
   "cell_type": "code",
   "execution_count": 176,
   "id": "4d24f964-0cdd-47df-b2c8-587f68481018",
   "metadata": {},
   "outputs": [
    {
     "name": "stdout",
     "output_type": "stream",
     "text": [
      "[100, 200, 'aniket', [2, 3, 4], (2, 3, 4), {2, 3, 4}, {'name': 'aniket'}, True, 500, 1000, 2000, 'nikhil', 'aniket']\n"
     ]
    }
   ],
   "source": [
    "l[1]=200\n",
    "print(l)"
   ]
  },
  {
   "cell_type": "markdown",
   "id": "b5cbe9de-572b-433b-be41-d75650eb09bb",
   "metadata": {},
   "source": [
    "# removing elements"
   ]
  },
  {
   "cell_type": "code",
   "execution_count": 177,
   "id": "dc937e52-f323-4b9d-90f4-84536ff14eb0",
   "metadata": {},
   "outputs": [],
   "source": [
    "l.remove(\"aniket\")"
   ]
  },
  {
   "cell_type": "code",
   "execution_count": 178,
   "id": "d03d68f2-884f-48b9-9c56-39a078d84ceb",
   "metadata": {},
   "outputs": [
    {
     "data": {
      "text/plain": [
       "[100,\n",
       " 200,\n",
       " [2, 3, 4],\n",
       " (2, 3, 4),\n",
       " {2, 3, 4},\n",
       " {'name': 'aniket'},\n",
       " True,\n",
       " 500,\n",
       " 1000,\n",
       " 2000,\n",
       " 'nikhil',\n",
       " 'aniket']"
      ]
     },
     "execution_count": 178,
     "metadata": {},
     "output_type": "execute_result"
    }
   ],
   "source": [
    "l"
   ]
  },
  {
   "cell_type": "markdown",
   "id": "1aebcd65-1a70-4431-9002-d448c38279a4",
   "metadata": {},
   "source": [
    "### List functions"
   ]
  },
  {
   "cell_type": "markdown",
   "id": "cc5321e6-7cb1-4061-a42a-273bf987cea6",
   "metadata": {},
   "source": [
    "## python function list\n",
    "- len()\n",
    "- max()\n",
    "- min()\n",
    "- sum()\n",
    "- stored()\n",
    "- list():type casting"
   ]
  },
  {
   "cell_type": "markdown",
   "id": "3569b688-a763-445f-aff6-4e794e29cf8c",
   "metadata": {},
   "source": [
    "### List slicing"
   ]
  },
  {
   "cell_type": "code",
   "execution_count": 179,
   "id": "e0c2fd91-991b-4613-9237-1da851b8beb6",
   "metadata": {},
   "outputs": [],
   "source": [
    "l=[2,3,1,2,10,4,5,5,0,1.2]"
   ]
  },
  {
   "cell_type": "code",
   "execution_count": 180,
   "id": "91294dbc-d714-4b29-91e3-5e6e2433968f",
   "metadata": {},
   "outputs": [
    {
     "data": {
      "text/plain": [
       "10"
      ]
     },
     "execution_count": 180,
     "metadata": {},
     "output_type": "execute_result"
    }
   ],
   "source": [
    "len(l)"
   ]
  },
  {
   "cell_type": "code",
   "execution_count": 181,
   "id": "8cdc35ea-64cb-4b58-8a01-ba39545d3a56",
   "metadata": {},
   "outputs": [
    {
     "data": {
      "text/plain": [
       "10"
      ]
     },
     "execution_count": 181,
     "metadata": {},
     "output_type": "execute_result"
    }
   ],
   "source": [
    "max(l)"
   ]
  },
  {
   "cell_type": "code",
   "execution_count": 182,
   "id": "0686c2c9-92e8-4e80-bcfd-b03fcf141d9a",
   "metadata": {
    "jupyter": {
     "source_hidden": true
    }
   },
   "outputs": [
    {
     "data": {
      "text/plain": [
       "0"
      ]
     },
     "execution_count": 182,
     "metadata": {},
     "output_type": "execute_result"
    }
   ],
   "source": [
    "min(l)"
   ]
  },
  {
   "cell_type": "code",
   "execution_count": 183,
   "id": "0bf17b8a-5ca3-4baf-b9a5-78b27fd12032",
   "metadata": {},
   "outputs": [
    {
     "data": {
      "text/plain": [
       "33.2"
      ]
     },
     "execution_count": 183,
     "metadata": {},
     "output_type": "execute_result"
    }
   ],
   "source": [
    "sum(l)"
   ]
  },
  {
   "cell_type": "code",
   "execution_count": 184,
   "id": "79322752-4a8d-4918-aa8b-ee49b6744dce",
   "metadata": {},
   "outputs": [
    {
     "data": {
      "text/plain": [
       "[0, 1, 1.2, 2, 2, 3, 4, 5, 5, 10]"
      ]
     },
     "execution_count": 184,
     "metadata": {},
     "output_type": "execute_result"
    }
   ],
   "source": [
    "sorted(l )#ass"
   ]
  },
  {
   "cell_type": "code",
   "execution_count": 185,
   "id": "f130d353-7183-4cf8-bc7a-90e8f6aa9940",
   "metadata": {},
   "outputs": [
    {
     "data": {
      "text/plain": [
       "[10, 5, 5, 4, 3, 2, 2, 1.2, 1, 0]"
      ]
     },
     "execution_count": 185,
     "metadata": {},
     "output_type": "execute_result"
    }
   ],
   "source": [
    "sorted(l,reverse=True)  #decending"
   ]
  },
  {
   "cell_type": "code",
   "execution_count": null,
   "id": "2ca613cf-2648-41f4-99c8-a97b155a4e69",
   "metadata": {},
   "outputs": [],
   "source": []
  },
  {
   "cell_type": "markdown",
   "id": "dbc35e8a-856e-4c77-9f83-efe843bcbd59",
   "metadata": {},
   "source": [
    "### list function\n",
    "- append()\n",
    "- extend()\n",
    "- insert()\n",
    "- count()\n",
    "- remove()\n",
    "- pop()\n",
    "- reverse()\n",
    "- index()\n",
    "- copy()\n",
    "- sort()\n"
   ]
  },
  {
   "cell_type": "code",
   "execution_count": 234,
   "id": "5f45e75a-131d-4ab2-bcd8-397dd3953541",
   "metadata": {},
   "outputs": [],
   "source": [
    "l=[2,3,1,2,10,4,5,5,0,1.2]"
   ]
  },
  {
   "cell_type": "code",
   "execution_count": 235,
   "id": "25df8af7-9318-466e-b428-cf93f1d647a0",
   "metadata": {},
   "outputs": [
    {
     "data": {
      "text/plain": [
       "[2, 3, 1, 2, 10, 4, 5, 5, 0, 1.2]"
      ]
     },
     "execution_count": 235,
     "metadata": {},
     "output_type": "execute_result"
    }
   ],
   "source": [
    "l"
   ]
  },
  {
   "cell_type": "code",
   "execution_count": 236,
   "id": "2350cda4-3534-4040-805d-2dfa779e2784",
   "metadata": {},
   "outputs": [
    {
     "data": {
      "text/plain": [
       "[2, 3, 1, 2, 10, 4, 5, 5, 0, 1.2, 500]"
      ]
     },
     "execution_count": 236,
     "metadata": {},
     "output_type": "execute_result"
    }
   ],
   "source": [
    "l.append(500)\n",
    "l"
   ]
  },
  {
   "cell_type": "code",
   "execution_count": 237,
   "id": "1587c88d-0425-462a-8702-9b57a1b3fcb3",
   "metadata": {},
   "outputs": [
    {
     "data": {
      "text/plain": [
       "[2, 3, 1, 2, 10, 4, 5, 5, 0, 1.2, 500, 7, 7, 8]"
      ]
     },
     "execution_count": 237,
     "metadata": {},
     "output_type": "execute_result"
    }
   ],
   "source": [
    "l.extend([7,7,8])\n",
    "l"
   ]
  },
  {
   "cell_type": "code",
   "execution_count": 238,
   "id": "64141f55-5b03-4dbf-bc27-31c37f09c403",
   "metadata": {},
   "outputs": [
    {
     "data": {
      "text/plain": [
       "['aniket', 2, 3, 1, 2, 10, 4, 5, 5, 0, 1.2, 500, 7, 7, 8]"
      ]
     },
     "execution_count": 238,
     "metadata": {},
     "output_type": "execute_result"
    }
   ],
   "source": [
    "#index \n",
    "l.insert(0,\"aniket\")\n",
    "l"
   ]
  },
  {
   "cell_type": "code",
   "execution_count": 239,
   "id": "42358d71-3dbc-40bd-978a-3fa8a165f02c",
   "metadata": {},
   "outputs": [
    {
     "data": {
      "text/plain": [
       "['aniket', 2, 3, 1, 2, 'python', 10, 4, 5, 5, 0, 1.2, 500, 7, 7, 8]"
      ]
     },
     "execution_count": 239,
     "metadata": {},
     "output_type": "execute_result"
    }
   ],
   "source": [
    "l.insert(5,\"python\")\n",
    "l"
   ]
  },
  {
   "cell_type": "code",
   "execution_count": 240,
   "id": "f0337b92-7a2c-4494-a5f2-0330cf408751",
   "metadata": {},
   "outputs": [
    {
     "data": {
      "text/plain": [
       "2"
      ]
     },
     "execution_count": 240,
     "metadata": {},
     "output_type": "execute_result"
    }
   ],
   "source": [
    "l.count(2)"
   ]
  },
  {
   "cell_type": "code",
   "execution_count": 241,
   "id": "e2fae901-782d-4437-8a64-a57158736c13",
   "metadata": {},
   "outputs": [
    {
     "data": {
      "text/plain": [
       "1"
      ]
     },
     "execution_count": 241,
     "metadata": {},
     "output_type": "execute_result"
    }
   ],
   "source": [
    "l.count(10)"
   ]
  },
  {
   "cell_type": "code",
   "execution_count": 242,
   "id": "72de0ed8-387e-4567-8d47-b413f9c35528",
   "metadata": {},
   "outputs": [
    {
     "ename": "ValueError",
     "evalue": "list.remove(x): x not in list",
     "output_type": "error",
     "traceback": [
      "\u001b[1;31m---------------------------------------------------------------------------\u001b[0m",
      "\u001b[1;31mValueError\u001b[0m                                Traceback (most recent call last)",
      "Cell \u001b[1;32mIn[242], line 1\u001b[0m\n\u001b[1;32m----> 1\u001b[0m l\u001b[38;5;241m.\u001b[39mremove(\u001b[38;5;241m1000\u001b[39m)\n",
      "\u001b[1;31mValueError\u001b[0m: list.remove(x): x not in list"
     ]
    }
   ],
   "source": [
    "l.remove(1000)"
   ]
  },
  {
   "cell_type": "code",
   "execution_count": 243,
   "id": "e2e1ae62-e537-4c0b-8761-a485ae26f64f",
   "metadata": {},
   "outputs": [
    {
     "data": {
      "text/plain": [
       "8"
      ]
     },
     "execution_count": 243,
     "metadata": {},
     "output_type": "execute_result"
    }
   ],
   "source": [
    "#pop : last element remove\n",
    "l.pop()"
   ]
  },
  {
   "cell_type": "code",
   "execution_count": 244,
   "id": "126fc3b6-0e2d-44f2-a1af-b4aa3f69ab8a",
   "metadata": {},
   "outputs": [
    {
     "data": {
      "text/plain": [
       "['aniket', 2, 3, 1, 2, 'python', 10, 4, 5, 5, 0, 1.2, 500, 7, 7]"
      ]
     },
     "execution_count": 244,
     "metadata": {},
     "output_type": "execute_result"
    }
   ],
   "source": [
    "l"
   ]
  },
  {
   "cell_type": "code",
   "execution_count": 245,
   "id": "f759738d-1aab-4e2f-928f-91aeceb60a12",
   "metadata": {},
   "outputs": [
    {
     "data": {
      "text/plain": [
       "'aniket'"
      ]
     },
     "execution_count": 245,
     "metadata": {},
     "output_type": "execute_result"
    }
   ],
   "source": [
    "l.pop(0)"
   ]
  },
  {
   "cell_type": "code",
   "execution_count": 246,
   "id": "d5fda8b8-fe0a-437e-9101-87f846d8a67f",
   "metadata": {},
   "outputs": [
    {
     "data": {
      "text/plain": [
       "[2, 3, 1, 2, 'python', 10, 4, 5, 5, 0, 1.2, 500, 7, 7]"
      ]
     },
     "execution_count": 246,
     "metadata": {},
     "output_type": "execute_result"
    }
   ],
   "source": [
    "l"
   ]
  },
  {
   "cell_type": "code",
   "execution_count": 247,
   "id": "2cef82af-b01f-4c50-9803-e84da18eaddf",
   "metadata": {},
   "outputs": [
    {
     "data": {
      "text/plain": [
       "[7, 7, 500, 1.2, 0, 5, 5, 4, 10, 'python', 2, 1, 3, 2]"
      ]
     },
     "execution_count": 247,
     "metadata": {},
     "output_type": "execute_result"
    }
   ],
   "source": [
    "l.reverse()\n",
    "l"
   ]
  },
  {
   "cell_type": "code",
   "execution_count": 248,
   "id": "8b3aa7ed-672f-4f9e-9a16-5b43fd1926d9",
   "metadata": {},
   "outputs": [
    {
     "data": {
      "text/plain": [
       "2"
      ]
     },
     "execution_count": 248,
     "metadata": {},
     "output_type": "execute_result"
    }
   ],
   "source": [
    "l.index(500)"
   ]
  },
  {
   "cell_type": "code",
   "execution_count": 249,
   "id": "acec30a5-489e-4bf0-8bca-6fb183ce469e",
   "metadata": {},
   "outputs": [
    {
     "ename": "AttributeError",
     "evalue": "'list' object has no attribute 'find'",
     "output_type": "error",
     "traceback": [
      "\u001b[1;31m---------------------------------------------------------------------------\u001b[0m",
      "\u001b[1;31mAttributeError\u001b[0m                            Traceback (most recent call last)",
      "Cell \u001b[1;32mIn[249], line 1\u001b[0m\n\u001b[1;32m----> 1\u001b[0m l\u001b[38;5;241m.\u001b[39mfind(\u001b[38;5;241m500\u001b[39m)\n",
      "\u001b[1;31mAttributeError\u001b[0m: 'list' object has no attribute 'find'"
     ]
    }
   ],
   "source": [
    "l.find(500)"
   ]
  },
  {
   "cell_type": "code",
   "execution_count": 250,
   "id": "b35e5535-6c9a-4357-8b99-e13b5c928342",
   "metadata": {},
   "outputs": [
    {
     "ename": "TypeError",
     "evalue": "'<' not supported between instances of 'str' and 'int'",
     "output_type": "error",
     "traceback": [
      "\u001b[1;31m---------------------------------------------------------------------------\u001b[0m",
      "\u001b[1;31mTypeError\u001b[0m                                 Traceback (most recent call last)",
      "Cell \u001b[1;32mIn[250], line 1\u001b[0m\n\u001b[1;32m----> 1\u001b[0m l\u001b[38;5;241m.\u001b[39msort()\n",
      "\u001b[1;31mTypeError\u001b[0m: '<' not supported between instances of 'str' and 'int'"
     ]
    }
   ],
   "source": [
    "l.sort()"
   ]
  },
  {
   "cell_type": "code",
   "execution_count": 251,
   "id": "df5d84b4-c1a9-42e1-89b5-58f9fcf663ec",
   "metadata": {},
   "outputs": [
    {
     "data": {
      "text/plain": [
       "[0, 1.2, 4, 5, 5, 7, 7, 10, 500, 2, 1, 3, 2]"
      ]
     },
     "execution_count": 251,
     "metadata": {},
     "output_type": "execute_result"
    }
   ],
   "source": [
    "l.remove(\"python\")\n",
    "l"
   ]
  },
  {
   "cell_type": "code",
   "execution_count": 252,
   "id": "244b7b67-f98c-496e-8f64-14603f43d5af",
   "metadata": {},
   "outputs": [
    {
     "data": {
      "text/plain": [
       "[0, 1.2, 4, 5, 5, 7, 7, 10, 500, 2, 1, 3, 2]"
      ]
     },
     "execution_count": 252,
     "metadata": {},
     "output_type": "execute_result"
    }
   ],
   "source": [
    "l_copy=l.copy()\n",
    "l"
   ]
  },
  {
   "cell_type": "markdown",
   "id": "7241a554-4dd1-49e5-bf17-91041ceb3107",
   "metadata": {},
   "source": [
    "## list slicing"
   ]
  },
  {
   "cell_type": "code",
   "execution_count": 256,
   "id": "0932789c-f731-488b-9efe-a964b70f78b9",
   "metadata": {},
   "outputs": [],
   "source": [
    "l1=[1,2,3.4,\"python\",[30,40,50],(7,8,9)]"
   ]
  },
  {
   "cell_type": "code",
   "execution_count": 257,
   "id": "110bfd7a-151d-44a1-90f5-aa753a09d7f9",
   "metadata": {},
   "outputs": [
    {
     "data": {
      "text/plain": [
       "1"
      ]
     },
     "execution_count": 257,
     "metadata": {},
     "output_type": "execute_result"
    }
   ],
   "source": [
    "#listname[start: :stop :step]\n",
    "l1[0]\n"
   ]
  },
  {
   "cell_type": "code",
   "execution_count": 258,
   "id": "b49ed317-fb42-44f6-b020-eca677ace157",
   "metadata": {},
   "outputs": [
    {
     "data": {
      "text/plain": [
       "(7, 8, 9)"
      ]
     },
     "execution_count": 258,
     "metadata": {},
     "output_type": "execute_result"
    }
   ],
   "source": [
    "l1[-1]"
   ]
  },
  {
   "cell_type": "code",
   "execution_count": 259,
   "id": "46ab9e9f-8179-45a4-8a8a-30166dcb6cfa",
   "metadata": {},
   "outputs": [
    {
     "data": {
      "text/plain": [
       "[2, 3.4]"
      ]
     },
     "execution_count": 259,
     "metadata": {},
     "output_type": "execute_result"
    }
   ],
   "source": [
    "#listslicing\n",
    "l1[1:3]"
   ]
  },
  {
   "cell_type": "code",
   "execution_count": 260,
   "id": "088063d2-7337-4bf1-ac21-532805ac6e89",
   "metadata": {},
   "outputs": [
    {
     "data": {
      "text/plain": [
       "'python'"
      ]
     },
     "execution_count": 260,
     "metadata": {},
     "output_type": "execute_result"
    }
   ],
   "source": [
    "l1[3]"
   ]
  },
  {
   "cell_type": "code",
   "execution_count": 261,
   "id": "b0a4a123-1b91-4e68-8bc9-0c9cbdc55f3a",
   "metadata": {},
   "outputs": [
    {
     "data": {
      "text/plain": [
       "['python']"
      ]
     },
     "execution_count": 261,
     "metadata": {},
     "output_type": "execute_result"
    }
   ],
   "source": [
    "l1[3:4]\n",
    "#4 position: stop: extra: exculde"
   ]
  },
  {
   "cell_type": "code",
   "execution_count": 262,
   "id": "3ed43237-85a7-4723-9c8d-6e6bde157965",
   "metadata": {},
   "outputs": [
    {
     "data": {
      "text/plain": [
       "['python', [30, 40, 50]]"
      ]
     },
     "execution_count": 262,
     "metadata": {},
     "output_type": "execute_result"
    }
   ],
   "source": [
    "l1[3:5]"
   ]
  },
  {
   "cell_type": "code",
   "execution_count": 263,
   "id": "587f5e4b-a6d5-404e-887b-1035cca5bbe6",
   "metadata": {},
   "outputs": [
    {
     "data": {
      "text/plain": [
       "[1, 2, 3.4, 'python', [30, 40, 50], (7, 8, 9)]"
      ]
     },
     "execution_count": 263,
     "metadata": {},
     "output_type": "execute_result"
    }
   ],
   "source": [
    "l1"
   ]
  },
  {
   "cell_type": "code",
   "execution_count": 264,
   "id": "56a45cf1-d201-4353-af11-fd36f993c416",
   "metadata": {},
   "outputs": [
    {
     "data": {
      "text/plain": [
       "[(7, 8, 9), [30, 40, 50], 'python', 3.4, 2, 1]"
      ]
     },
     "execution_count": 264,
     "metadata": {},
     "output_type": "execute_result"
    }
   ],
   "source": [
    "l1[::-1] #reverse"
   ]
  },
  {
   "cell_type": "code",
   "execution_count": 265,
   "id": "7e288fe7-84b8-4467-91b4-f41024860fd1",
   "metadata": {},
   "outputs": [
    {
     "data": {
      "text/plain": [
       "[1, 2, 3.4, 'python', [30, 40, 50], (7, 8, 9)]"
      ]
     },
     "execution_count": 265,
     "metadata": {},
     "output_type": "execute_result"
    }
   ],
   "source": [
    "l1"
   ]
  },
  {
   "cell_type": "code",
   "execution_count": 266,
   "id": "c3705da8-a62c-4af5-af04-7c8f40718196",
   "metadata": {},
   "outputs": [
    {
     "data": {
      "text/plain": [
       "'hon'"
      ]
     },
     "execution_count": 266,
     "metadata": {},
     "output_type": "execute_result"
    }
   ],
   "source": [
    "l1[3][3:]"
   ]
  },
  {
   "cell_type": "code",
   "execution_count": 267,
   "id": "e70a6451-a9d9-4060-86dc-be4a63f12e63",
   "metadata": {},
   "outputs": [
    {
     "data": {
      "text/plain": [
       "[1, 2, 3.4, 'python', [30, 40, 50], (7, 8, 9)]"
      ]
     },
     "execution_count": 267,
     "metadata": {},
     "output_type": "execute_result"
    }
   ],
   "source": [
    "l1"
   ]
  },
  {
   "cell_type": "code",
   "execution_count": 268,
   "id": "7d87fd2b-1ba0-4370-8d5a-ce52ed1913a4",
   "metadata": {},
   "outputs": [
    {
     "data": {
      "text/plain": [
       "[40, 30]"
      ]
     },
     "execution_count": 268,
     "metadata": {},
     "output_type": "execute_result"
    }
   ],
   "source": [
    "#extract and reverse 30,40\n",
    "l1[4][1::-1]"
   ]
  },
  {
   "cell_type": "code",
   "execution_count": 269,
   "id": "feeb9a78-2a92-4dea-b54c-9fadd381686a",
   "metadata": {},
   "outputs": [
    {
     "data": {
      "text/plain": [
       "[40, 30]"
      ]
     },
     "execution_count": 269,
     "metadata": {},
     "output_type": "execute_result"
    }
   ],
   "source": [
    "l1[-2][1::-1]"
   ]
  },
  {
   "cell_type": "code",
   "execution_count": 270,
   "id": "b1c0cccb-f7e5-4c25-9ae1-6127ae69b8a4",
   "metadata": {},
   "outputs": [],
   "source": [
    "#exercise \n",
    "l2=[1,2,[10,20,[5,6]]]"
   ]
  },
  {
   "cell_type": "code",
   "execution_count": 271,
   "id": "24f8a054-8c09-4828-a32b-9089ec19ef81",
   "metadata": {},
   "outputs": [
    {
     "data": {
      "text/plain": [
       "[1, 2]"
      ]
     },
     "execution_count": 271,
     "metadata": {},
     "output_type": "execute_result"
    }
   ],
   "source": [
    "l2[0:2]"
   ]
  },
  {
   "cell_type": "code",
   "execution_count": 272,
   "id": "ded9a525-4a26-4d24-b2fd-28f18e81e8f9",
   "metadata": {},
   "outputs": [
    {
     "data": {
      "text/plain": [
       "3"
      ]
     },
     "execution_count": 272,
     "metadata": {},
     "output_type": "execute_result"
    }
   ],
   "source": [
    "len(l2)"
   ]
  },
  {
   "cell_type": "code",
   "execution_count": 273,
   "id": "e32d4965-2fdb-468b-bfe2-a43eadd59373",
   "metadata": {},
   "outputs": [
    {
     "data": {
      "text/plain": [
       "[10, 20, [5, 6]]"
      ]
     },
     "execution_count": 273,
     "metadata": {},
     "output_type": "execute_result"
    }
   ],
   "source": [
    "l2[2]"
   ]
  },
  {
   "cell_type": "code",
   "execution_count": 274,
   "id": "6cc54e12-d056-4b20-826b-f2f4589682e0",
   "metadata": {},
   "outputs": [
    {
     "data": {
      "text/plain": [
       "2"
      ]
     },
     "execution_count": 274,
     "metadata": {},
     "output_type": "execute_result"
    }
   ],
   "source": [
    "l2[1]"
   ]
  },
  {
   "cell_type": "code",
   "execution_count": 275,
   "id": "8af08018-94ed-40bb-93d6-2b150649c5cf",
   "metadata": {},
   "outputs": [
    {
     "data": {
      "text/plain": [
       "[5, 6]"
      ]
     },
     "execution_count": 275,
     "metadata": {},
     "output_type": "execute_result"
    }
   ],
   "source": [
    "l2[2][-1]"
   ]
  },
  {
   "cell_type": "code",
   "execution_count": 276,
   "id": "a9c0f0fc-330d-4be8-a0d6-658de55c1648",
   "metadata": {},
   "outputs": [
    {
     "data": {
      "text/plain": [
       "[20, [5, 6]]"
      ]
     },
     "execution_count": 276,
     "metadata": {},
     "output_type": "execute_result"
    }
   ],
   "source": [
    "l2[2][1:]"
   ]
  },
  {
   "cell_type": "code",
   "execution_count": 277,
   "id": "465355a0-2470-4dc8-8c31-439240c16ee1",
   "metadata": {},
   "outputs": [
    {
     "data": {
      "text/plain": [
       "6"
      ]
     },
     "execution_count": 277,
     "metadata": {},
     "output_type": "execute_result"
    }
   ],
   "source": [
    "#extract 6\n",
    "l2[2][2][-1]"
   ]
  },
  {
   "cell_type": "code",
   "execution_count": null,
   "id": "9ed8200b-0a57-46b2-9142-a779761ccd8e",
   "metadata": {},
   "outputs": [],
   "source": []
  },
  {
   "cell_type": "code",
   "execution_count": null,
   "id": "d50b7125-75ce-4e0e-9af2-bec6c979c613",
   "metadata": {},
   "outputs": [],
   "source": []
  },
  {
   "cell_type": "code",
   "execution_count": null,
   "id": "bbb2d38d-5309-434a-aaef-6c21ee8db456",
   "metadata": {},
   "outputs": [],
   "source": []
  },
  {
   "cell_type": "code",
   "execution_count": null,
   "id": "5dbdcff0-c9f7-48d2-9e21-8fcc3def9da4",
   "metadata": {},
   "outputs": [],
   "source": []
  },
  {
   "cell_type": "code",
   "execution_count": null,
   "id": "4a8d0bc5-1ce4-4b13-a916-586b9cc9329c",
   "metadata": {},
   "outputs": [],
   "source": []
  },
  {
   "cell_type": "code",
   "execution_count": null,
   "id": "84d2393e-1726-4389-a0ea-f5fe1584cfb2",
   "metadata": {},
   "outputs": [],
   "source": []
  },
  {
   "cell_type": "code",
   "execution_count": null,
   "id": "ad80377b-f5b3-4d5e-b6d1-6f6f4b7a9dd2",
   "metadata": {},
   "outputs": [],
   "source": []
  },
  {
   "cell_type": "code",
   "execution_count": null,
   "id": "5261d72a-ff7b-422f-9e8a-5d1508f5d132",
   "metadata": {},
   "outputs": [],
   "source": []
  }
 ],
 "metadata": {
  "kernelspec": {
   "display_name": "Python 3 (ipykernel)",
   "language": "python",
   "name": "python3"
  },
  "language_info": {
   "codemirror_mode": {
    "name": "ipython",
    "version": 3
   },
   "file_extension": ".py",
   "mimetype": "text/x-python",
   "name": "python",
   "nbconvert_exporter": "python",
   "pygments_lexer": "ipython3",
   "version": "3.12.7"
  }
 },
 "nbformat": 4,
 "nbformat_minor": 5
}
