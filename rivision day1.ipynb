{
 "cells": [
  {
   "cell_type": "markdown",
   "id": "71422ec6-d108-475b-a562-795cd625fcaa",
   "metadata": {},
   "source": [
    "# History"
   ]
  },
  {
   "cell_type": "markdown",
   "id": "d715c199-d24c-4f5f-abcb-f331643fa13a",
   "metadata": {},
   "source": [
    "### 90' s: gudio van rossam\n",
    "- monty python\n",
    "- version 0.2\n",
    "- 2.0\n",
    "- 3\n",
    "- 3.11\n",
    "- 3.12.5(py3k)\n",
    "- fearures: list compreshion, lamda===>one line====>reduce,map,filter"
   ]
  },
  {
   "cell_type": "code",
   "execution_count": null,
   "id": "94d06d46-6fda-4780-815b-be7dd44d12ad",
   "metadata": {},
   "outputs": [],
   "source": []
  }
 ],
 "metadata": {
  "kernelspec": {
   "display_name": "Python 3 (ipykernel)",
   "language": "python",
   "name": "python3"
  },
  "language_info": {
   "codemirror_mode": {
    "name": "ipython",
    "version": 3
   },
   "file_extension": ".py",
   "mimetype": "text/x-python",
   "name": "python",
   "nbconvert_exporter": "python",
   "pygments_lexer": "ipython3",
   "version": "3.12.7"
  }
 },
 "nbformat": 4,
 "nbformat_minor": 5
}
